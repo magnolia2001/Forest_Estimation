{
  "nbformat": 4,
  "nbformat_minor": 0,
  "metadata": {
    "colab": {
      "provenance": [],
      "authorship_tag": "ABX9TyMiyXc52SGcOczksFBSnlb7",
      "include_colab_link": true
    },
    "kernelspec": {
      "name": "python3",
      "display_name": "Python 3"
    },
    "language_info": {
      "name": "python"
    }
  },
  "cells": [
    {
      "cell_type": "markdown",
      "metadata": {
        "id": "view-in-github",
        "colab_type": "text"
      },
      "source": [
        "<a href=\"https://colab.research.google.com/github/magnolia2001/Forest_Estimation/blob/main/notebooks/NNandCNN_FeatureNormalization_optimize.ipynb\" target=\"_parent\"><img src=\"https://colab.research.google.com/assets/colab-badge.svg\" alt=\"Open In Colab\"/></a>"
      ]
    },
    {
      "cell_type": "markdown",
      "source": [
        "### 在划分训练集和测试集之前对特征进行标准化\n"
      ],
      "metadata": {
        "id": "FjqrJSYP6MZx"
      }
    },
    {
      "cell_type": "code",
      "execution_count": null,
      "metadata": {
        "id": "PrFMkyfpaHR0",
        "colab": {
          "base_uri": "https://localhost:8080/"
        },
        "outputId": "e7ce26c1-8dca-42bf-da3a-fb8d77c8b6e3"
      },
      "outputs": [
        {
          "output_type": "stream",
          "name": "stdout",
          "text": [
            "Mounted at /content/drive\n",
            "MyDrive\n"
          ]
        }
      ],
      "source": [
        "from google.colab import drive\n",
        "\n",
        "# 挂载 Google Drive\n",
        "drive.mount('/content/drive')\n",
        "\n",
        "# 检查挂载的路径结构\n",
        "!ls /content/drive"
      ]
    },
    {
      "cell_type": "code",
      "source": [
        "root_path = '/content/drive/My Drive/data/'\n",
        "path_images = f'{root_path}images/'\n",
        "path_masks = f'{root_path}masks/'"
      ],
      "metadata": {
        "id": "JRDi_LKk5Q9f"
      },
      "execution_count": null,
      "outputs": []
    },
    {
      "cell_type": "code",
      "source": [
        "import os\n",
        "import numpy as np\n",
        "import pandas as pd\n",
        "import datetime, os, cv2\n",
        "from matplotlib import pyplot as plt\n",
        "from matplotlib.ticker import StrMethodFormatter\n",
        "from sklearn.tree import DecisionTreeRegressor\n",
        "from sklearn.preprocessing import MinMaxScaler\n",
        "from sklearn.ensemble import GradientBoostingRegressor, RandomForestRegressor\n",
        "from sklearn.model_selection import train_test_split, GridSearchCV\n",
        "from sklearn.metrics import mean_squared_error as mse, mean_absolute_error as mae, mean_absolute_percentage_error as mape\n",
        "# from keras.models import Sequential, load_model\n",
        "# from keras.layers import Dense, BatchNormalization, Dropout, InputLayer, Flatten, Conv2D, MaxPool2D, AveragePooling2D\n",
        "# from keras.callbacks import TensorBoard, ModelCheckpoint\n",
        "from tensorflow.keras.models import Sequential, load_model\n",
        "from tensorflow.keras.layers import Dense, BatchNormalization, Dropout, InputLayer, Flatten, Conv2D, MaxPool2D\n",
        "from tensorflow.keras.callbacks import TensorBoard, ModelCheckpoint, ReduceLROnPlateau, EarlyStopping\n"
      ],
      "metadata": {
        "id": "mBs7aC11PKVA"
      },
      "execution_count": null,
      "outputs": []
    },
    {
      "cell_type": "code",
      "source": [
        "import matplotlib.pyplot as plt\n",
        "plt.rcParams['font.sans-serif'] = 'SimHei'\n",
        "plt.rcParams['axes.unicode_minus'] = False"
      ],
      "metadata": {
        "id": "XbUjdpOlluvj"
      },
      "execution_count": null,
      "outputs": []
    },
    {
      "cell_type": "code",
      "source": [
        "\n",
        "# 制作标签数据和特征数据\n",
        "\n",
        "# 窗口大小应为奇数，以保证标签在中间\n",
        "size = 5 #define window size should be odd so that the label is in the middle\n",
        "# 特征的形状，这里假设每个特征是一个大小为 (size, size) 的窗口，包含 6 个通道\n",
        "shape = (6, size, size) #define shape of features\n",
        "# np.ones(shape, dtype=None) 用于创建一个形状为 shape 的数组，并将所有元素初始化为 1.0\n",
        "# 其中 shape：指定数组的形状，通常是一个整数或元组。 dtype：指定数组元素的数据类型（可选）。如果不指定，默认使用 float64 类型。\n",
        "# labels1 用于存放标签数据（掩膜）, data1 用于存放提取的特征数据\n",
        "# np.ones(1)返回的是一个只有一个元素的数组，其中该元素值为 1。\n",
        "labels1 = np.ones(1) #array for labels\n",
        "# 创建了一个数组，形状为 shape 即 (6, 5, 5) 的 NumPy 数组，并且所有的元素值都被初始化为 1.0 。\n",
        "data1 = np.ones(shape) #array for features\n",
        "# 扩展维度，便于后续拼接操作\n",
        "data1 = np.expand_dims(data1, axis=0) #expand dimension to concatenate\n",
        "\n",
        "# 遍历目录中的图像（假设有 20 张图像, 具体数量还需要根据自己的情况修改）\n",
        "# 在 for j in range(20) 这个遍历过程中，区分 j < 10 和 j >= 10 的目的是为了处理不同的文件命名规则。\n",
        "# 对于小于 10 的文件名，文件名是 \"image_00X.npy\"，其中 X 是单个数字（0 到 9）。\n",
        "# 对于大于等于 10 的文件名，文件名是 \"image_0XY.npy\"，其中 XY 是两位数的数字（10 到 19）。\n",
        "\n",
        "# 对于每个图像和掩膜，筛选有效标签和有效遥感影像数据\n",
        "for j in range(142): #iterate over images in directory\n",
        "  if j < 10:\n",
        "    # 路径填写实际路径\n",
        "    X = np.load(f'{path_images}image_00'+ str(j) + '.npy')  # 读取遥感影像\n",
        "    y = np.load(f'{path_masks}mask_00'+ str(j) + '.npy')  # 读取掩膜数据\n",
        "    # 移除掩膜图像中的通道维度使其形状变为(height, width)\n",
        "    # y = y[0, :, :]  # 去掉通道维度，保留二维掩膜图像\n",
        "    # print(\"特征形状:\", X.shape) # 输出为： 特征形状: (6, 1024, 1024)\n",
        "    # print(\"掩膜形状:\", y.shape) # 输出为： 掩膜形状: (1024, 1024)\n",
        "\n",
        "    # 选择掩膜图像 y 中所有大于 0 的位置（即标签不为 0 的位置），并返回这些位置的索引。\n",
        "    # indices 数组返回 N 个元素，其中 N 为掩膜图像 y 中所有大于 0 的元素个数。每个元素都是一个长度为 2 的行向量，表示符合条件元素的行列索引。\n",
        "    # y > 0 是一个布尔条件，返回一个与 y 相同形状的布尔数组, 如果是大于 0，布尔值为 True，否则为 False。\n",
        "    # np.argwhere() 是 NumPy 库中的一个函数，它返回数组中满足某个条件的所有索引（行列坐标），即满足条件的元素的坐标位置。\n",
        "    # 这里 indices 是一个形状为 (N, 2) 的二维数组，每一行是 (y, x) 坐标. y 为行索引, x 为列索引\n",
        "    # indices = np.argwhere(y > 0) #select all values with label\n",
        "    # indices = np.argwhere(y > 0.78)\n",
        "    # indices = np.argwhere((y > 2.34) & (y < 127.58))\n",
        "\n",
        "    # 筛选掩膜中有效的标签（大于2.34且小于127.58），并且遥感影像中只要任何一个通道中存在无效值，就排除掉该像元及其对应的掩膜值\n",
        "    indices = np.argwhere((y > 2.34) & (y < 127.58) & (np.all(X != 0, axis=0)))  # 排除遥感影像中的无效值（0）\n",
        "\n",
        "\n",
        "    # indices_2d 是 indices 数组的一个切片，是一个 二维数组, 它包含了所有掩膜图像中标签值大于 0 的位置的 列索引。\n",
        "    # 切片操作 indices[:, 1:] 就是提取所有行中的第二列（即 行 和 列 坐标中的 列索引）。\n",
        "    # indices_2d = indices[:, 1:] #extract indices\n",
        "\n",
        "    # 初始化一个数组 ind_y 来收集符合条件的标签位置。\n",
        "    # np.ones(2) 会创建一个包含 2 个元素的数组，所有元素的值为 1. 。\n",
        "    # .reshape(-1, 2) 将该数组的形状重塑为 (-1, 2)，表示按列数为 2 进行重塑，-1 表示自动计算行数。由于只有 2 个元素，这会将数组变成形状为 (1, 2) 的二维数组。\n",
        "    ind_y = np.ones(2).reshape(-1,2) #array to collect indices\n",
        "\n",
        "    # 遍历掩膜中的每个标签位置\n",
        "    # for i in indices_2d: #iterate over indices\n",
        "    for i in indices:\n",
        "      # 提取图像块，并检查其形状。\n",
        "      # size//2 表示 size 除以 2 的整数部分，用于确定图像块中心点到边界的距离。右端点的值之所以加 1 是因为区间是左闭右开的,所以加 1 保证能取到右端点.\n",
        "      # 整个i[0] - (size//2):i[0] + (size//2) + 1, i[1] - (size//2):i[1] + (size//2)表达式计算出一个范围，用于选取以 (i[0], i[1])（标签的 y, x 坐标） 为中心，上下各延伸 size//2 个像素的区域。\n",
        "      # i[0] 是当前标签位置的 y 坐标（行索引）。i[1] 是当前标签位置的 x 坐标（列索引）。\n",
        "      # 利用 shape 确保当前窗口大小与指定的窗口大小一致\n",
        "      if shape == X[:, i[0] - (size//2):i[0] + (size//2) + 1, i[1] - (size//2):i[1] + (size//2) + 1].shape: #select only features with the same shape because of labels at the image border\n",
        "        temp = X[:, i[0] - (size//2):i[0] + (size//2) + 1, i[1] - (size//2):i[1] + (size//2) + 1] #save them temporary\n",
        "        # 将 temp 的维度扩展一个维度，使得它变成一个形状为 (1, channels, size, size) 的四维数组。扩展维度的目的是为了能够将 temp 与其他提取的窗口进行拼接。\n",
        "        temp2 = np.expand_dims(temp, axis=0) #expand dimension to concatenate\n",
        "        # 拼接特征数据\n",
        "        # data1 最终会变成 (num_samples, 6, 5, 5)，其中 num_samples 是提取的窗口数量。\n",
        "        data1 = np.concatenate((data1, temp2), axis=0) #concatenation\n",
        "        # 拼接标签索引\n",
        "        # i.reshape(-1, 2) 会把 i 重新调整为一个形状为 (1, 2) 的二维数组\n",
        "        # axis=0 表示在 第 0 维（行方向） 进行拼接，即新添加的行会被添加到原数组的最后。\n",
        "        # ind_y 则是一个 (num_samples, 2) 的数组，每个样本对应一个标签位置的 (y, x) 坐标。\n",
        "        ind_y = np.concatenate((ind_y, i.reshape(-1,2)), axis=0) #concatenation of index so that they have the same order and length as the features\n",
        "\n",
        "    # 去掉第一个虚拟值\n",
        "    # 初始时，ind_y 中的第一个元素是 np.ones(2).reshape(-1,2) 创建的虚拟数据。此步骤是将它移除，只保留实际的标签坐标。\n",
        "    ind_y = ind_y[1:] #remove first dummy values\n",
        "    # 提取所有的行索引\n",
        "    indices_1 = ind_y[:, 0].astype(int)\n",
        "    # 提取所有的列索引\n",
        "    indices_2 = ind_y[:, 1].astype(int)\n",
        "    # 提取标签值\n",
        "    # 从这句代码应该可以看出原作者的掩膜图像的形状包含了通道维度,即形状为(1, height, width)\n",
        "    # data_y = y[0, indices_1, indices_2] #extract labels\n",
        "    data_y = y[indices_1, indices_2]  # 提取标签\n",
        "    # 拼接标签，形成最终的标签数组。\n",
        "    labels1 = np.concatenate((labels1, data_y), axis = 0) #concatenate labels\n",
        "\n",
        "  if j >= 10 and j < 100:\n",
        "    X = np.load(f'{path_images}image_0'+ str(j) + '.npy')\n",
        "    y = np.load(f'{path_masks}mask_0'+ str(j) + '.npy')\n",
        "    # 移除掩膜图像中的通道维度使其形状变为(height, width)\n",
        "    # y = y[0, :, :]  # 去掉通道维度，保留二维掩膜图像\n",
        "    # indices = np.argwhere(y > 0)\n",
        "    # indices = np.argwhere(y > 0.78)\n",
        "    # indices = np.argwhere((y > 2.34) & (y < 127.58))\n",
        "    # 筛选掩膜中有效的标签（大于2.34且小于127.58），并且遥感影像中只要任何一个通道中存在无效值，就排除掉该像元及其对应的掩膜值\n",
        "    indices = np.argwhere((y > 2.34) & (y < 127.58) & (np.all(X != 0, axis=0)))  # 排除遥感影像中的无效值（0）\n",
        "\n",
        "    # indices_2d = indices[:, 1:]\n",
        "    ind_y = np.ones(2).reshape(-1,2)\n",
        "    # for i in indices_2d:\n",
        "    for i in indices:\n",
        "      if shape == X[:, i[0] - (size//2):i[0] + (size//2) + 1, i[1] - (size//2):i[1] + (size//2) + 1].shape:\n",
        "        temp = X[:, i[0] - (size//2):i[0] + (size//2) + 1, i[1] - (size//2):i[1] + (size//2) + 1]\n",
        "        temp2 = np.expand_dims(temp, axis=0)\n",
        "        data1 = np.concatenate((data1, temp2), axis=0)\n",
        "\n",
        "        ind_y = np.concatenate((ind_y, i.reshape(-1,2)), axis=0)\n",
        "\n",
        "    # 去掉第一个虚拟值\n",
        "    ind_y = ind_y[1:]\n",
        "    # 提取所有的行索引\n",
        "    indices_1 = ind_y[:, 0].astype(int)\n",
        "    # 提取所有的列索引\n",
        "    indices_2 = ind_y[:, 1].astype(int)\n",
        "    # data_y = y[0, indices_1, indices_2]\n",
        "    # 提取标签值\n",
        "    # 每一对 (indices_1[i], indices_2[i]) 会自动匹配，得到对应位置的标签值。\n",
        "    data_y = y[indices_1, indices_2]  # 提取标签\n",
        "    # 拼接标签，形成最终的标签数组。\n",
        "    labels1 = np.concatenate((labels1, data_y), axis = 0)\n",
        "\n",
        "  if j >= 100:\n",
        "    X = np.load(f'{path_images}image_'+ str(j) + '.npy')\n",
        "    y = np.load(f'{path_masks}mask_'+ str(j) + '.npy')\n",
        "    # 移除掩膜图像中的通道维度使其形状变为(height, width)\n",
        "    # y = y[0, :, :]  # 去掉通道维度，保留二维掩膜图像\n",
        "    # indices = np.argwhere(y > 0)\n",
        "    # indices = np.argwhere(y > 0.78)\n",
        "    # indices = np.argwhere((y > 2.34) & (y < 127.58))\n",
        "    # 筛选掩膜中有效的标签（大于2.34且小于127.58），并且遥感影像中只要任何一个通道中存在无效值，就排除掉该像元及其对应的掩膜值\n",
        "    indices = np.argwhere((y > 2.34) & (y < 127.58) & (np.all(X != 0, axis=0)))  # 排除遥感影像中的无效值（0）\n",
        "\n",
        "    # indices_2d = indices[:, 1:]\n",
        "    ind_y = np.ones(2).reshape(-1,2)\n",
        "    # for i in indices_2d:\n",
        "    for i in indices:\n",
        "      if shape == X[:, i[0] - (size//2):i[0] + (size//2) + 1, i[1] - (size//2):i[1] + (size//2) + 1].shape:\n",
        "        temp = X[:, i[0] - (size//2):i[0] + (size//2) + 1, i[1] - (size//2):i[1] + (size//2) + 1]\n",
        "        temp2 = np.expand_dims(temp, axis=0)\n",
        "        data1 = np.concatenate((data1, temp2), axis=0)\n",
        "\n",
        "        ind_y = np.concatenate((ind_y, i.reshape(-1,2)), axis=0)\n",
        "\n",
        "    # 去掉第一个虚拟值\n",
        "    ind_y = ind_y[1:]\n",
        "    # 提取所有的行索引\n",
        "    indices_1 = ind_y[:, 0].astype(int)\n",
        "    # 提取所有的列索引\n",
        "    indices_2 = ind_y[:, 1].astype(int)\n",
        "    # data_y = y[0, indices_1, indices_2]\n",
        "    # 提取标签值\n",
        "    # 每一对 (indices_1[i], indices_2[i]) 会自动匹配，得到对应位置的标签值。\n",
        "    data_y = y[indices_1, indices_2]  # 提取标签\n",
        "    # 拼接标签，形成最终的标签数组。\n",
        "    labels1 = np.concatenate((labels1, data_y), axis = 0)\n",
        "\n",
        "# 移除第一个虚拟值\n",
        "# data1 的形状会是 (num_samples, 6, 5, 5)，其中 num_samples 是提取的窗口数量（即符合条件的标签数量）。一个四维数组\n",
        "# labels1 的形状会是 (num_samples,)，其中 num_samples 是所有图像中符合条件的标签数量。一个一维数组\n",
        "data1 = data1[1:] #remove first dummy values\n",
        "labels1 = labels1[1:] #remove first dummy values\n",
        "\n",
        "# data1 和 labels1 应该是 一一对应的，因为它们的样本数（num_samples）相同。\n",
        "# 获得标签数据和特征数据\n",
        "features = data1\n",
        "labels = labels1\n"
      ],
      "metadata": {
        "id": "cwuDejh55Va5"
      },
      "execution_count": null,
      "outputs": []
    },
    {
      "cell_type": "code",
      "source": [
        "\n",
        "# 计算标签的统计信息\n",
        "print(\"数据导入后且数据增强前的标签的统计信息：\")\n",
        "print(f\"  最大值: {np.max(labels)}\")\n",
        "print(f\"  最小值: {np.min(labels)}\")\n",
        "print(f\"  均值: {np.mean(labels)}\")\n",
        "print(f\"  标准差: {np.std(labels)}\")\n"
      ],
      "metadata": {
        "id": "lrssggG4KX5s",
        "colab": {
          "base_uri": "https://localhost:8080/"
        },
        "outputId": "423e3df4-1bb4-457f-833e-cedef5787054"
      },
      "execution_count": null,
      "outputs": [
        {
          "output_type": "stream",
          "name": "stdout",
          "text": [
            "数据导入后且数据增强前的标签的统计信息：\n",
            "  最大值: 126.9000015258789\n",
            "  最小值: 2.507999897003174\n",
            "  均值: 23.881254966278885\n",
            "  标准差: 11.637641243249083\n"
          ]
        }
      ]
    },
    {
      "cell_type": "code",
      "source": [
        "print(\"数据导入后且数据增强前的标签分布直方图：\")\n",
        "import matplotlib.pyplot as plt\n",
        "plt.hist(labels, bins=np.arange(0, 40, 3))\n",
        "plt.title(\"Balanced Label Distribution\")\n",
        "plt.show()"
      ],
      "metadata": {
        "id": "PSaZ_3jWr4po",
        "colab": {
          "base_uri": "https://localhost:8080/",
          "height": 1000
        },
        "outputId": "e20b3b00-c201-4640-b49d-e2c908748aac"
      },
      "execution_count": null,
      "outputs": [
        {
          "output_type": "stream",
          "name": "stderr",
          "text": [
            "WARNING:matplotlib.font_manager:findfont: Generic family 'sans-serif' not found because none of the following families were found: SimHei\n",
            "WARNING:matplotlib.font_manager:findfont: Generic family 'sans-serif' not found because none of the following families were found: SimHei\n",
            "WARNING:matplotlib.font_manager:findfont: Generic family 'sans-serif' not found because none of the following families were found: SimHei\n",
            "WARNING:matplotlib.font_manager:findfont: Generic family 'sans-serif' not found because none of the following families were found: SimHei\n",
            "WARNING:matplotlib.font_manager:findfont: Generic family 'sans-serif' not found because none of the following families were found: SimHei\n",
            "WARNING:matplotlib.font_manager:findfont: Generic family 'sans-serif' not found because none of the following families were found: SimHei\n",
            "WARNING:matplotlib.font_manager:findfont: Generic family 'sans-serif' not found because none of the following families were found: SimHei\n",
            "WARNING:matplotlib.font_manager:findfont: Generic family 'sans-serif' not found because none of the following families were found: SimHei\n",
            "WARNING:matplotlib.font_manager:findfont: Generic family 'sans-serif' not found because none of the following families were found: SimHei\n",
            "WARNING:matplotlib.font_manager:findfont: Generic family 'sans-serif' not found because none of the following families were found: SimHei\n",
            "WARNING:matplotlib.font_manager:findfont: Generic family 'sans-serif' not found because none of the following families were found: SimHei\n",
            "WARNING:matplotlib.font_manager:findfont: Generic family 'sans-serif' not found because none of the following families were found: SimHei\n"
          ]
        },
        {
          "output_type": "stream",
          "name": "stdout",
          "text": [
            "数据导入后且数据增强前的标签分布直方图：\n"
          ]
        },
        {
          "output_type": "stream",
          "name": "stderr",
          "text": [
            "WARNING:matplotlib.font_manager:findfont: Generic family 'sans-serif' not found because none of the following families were found: SimHei\n",
            "WARNING:matplotlib.font_manager:findfont: Generic family 'sans-serif' not found because none of the following families were found: SimHei\n",
            "WARNING:matplotlib.font_manager:findfont: Generic family 'sans-serif' not found because none of the following families were found: SimHei\n",
            "WARNING:matplotlib.font_manager:findfont: Generic family 'sans-serif' not found because none of the following families were found: SimHei\n",
            "WARNING:matplotlib.font_manager:findfont: Generic family 'sans-serif' not found because none of the following families were found: SimHei\n",
            "WARNING:matplotlib.font_manager:findfont: Generic family 'sans-serif' not found because none of the following families were found: SimHei\n",
            "WARNING:matplotlib.font_manager:findfont: Generic family 'sans-serif' not found because none of the following families were found: SimHei\n",
            "WARNING:matplotlib.font_manager:findfont: Generic family 'sans-serif' not found because none of the following families were found: SimHei\n",
            "WARNING:matplotlib.font_manager:findfont: Generic family 'sans-serif' not found because none of the following families were found: SimHei\n",
            "WARNING:matplotlib.font_manager:findfont: Generic family 'sans-serif' not found because none of the following families were found: SimHei\n",
            "WARNING:matplotlib.font_manager:findfont: Generic family 'sans-serif' not found because none of the following families were found: SimHei\n",
            "WARNING:matplotlib.font_manager:findfont: Generic family 'sans-serif' not found because none of the following families were found: SimHei\n",
            "WARNING:matplotlib.font_manager:findfont: Generic family 'sans-serif' not found because none of the following families were found: SimHei\n",
            "WARNING:matplotlib.font_manager:findfont: Generic family 'sans-serif' not found because none of the following families were found: SimHei\n",
            "WARNING:matplotlib.font_manager:findfont: Generic family 'sans-serif' not found because none of the following families were found: SimHei\n",
            "WARNING:matplotlib.font_manager:findfont: Generic family 'sans-serif' not found because none of the following families were found: SimHei\n",
            "WARNING:matplotlib.font_manager:findfont: Generic family 'sans-serif' not found because none of the following families were found: SimHei\n",
            "WARNING:matplotlib.font_manager:findfont: Generic family 'sans-serif' not found because none of the following families were found: SimHei\n",
            "WARNING:matplotlib.font_manager:findfont: Generic family 'sans-serif' not found because none of the following families were found: SimHei\n",
            "WARNING:matplotlib.font_manager:findfont: Generic family 'sans-serif' not found because none of the following families were found: SimHei\n",
            "WARNING:matplotlib.font_manager:findfont: Generic family 'sans-serif' not found because none of the following families were found: SimHei\n",
            "WARNING:matplotlib.font_manager:findfont: Generic family 'sans-serif' not found because none of the following families were found: SimHei\n",
            "WARNING:matplotlib.font_manager:findfont: Generic family 'sans-serif' not found because none of the following families were found: SimHei\n",
            "WARNING:matplotlib.font_manager:findfont: Generic family 'sans-serif' not found because none of the following families were found: SimHei\n",
            "WARNING:matplotlib.font_manager:findfont: Generic family 'sans-serif' not found because none of the following families were found: SimHei\n",
            "WARNING:matplotlib.font_manager:findfont: Generic family 'sans-serif' not found because none of the following families were found: SimHei\n",
            "WARNING:matplotlib.font_manager:findfont: Generic family 'sans-serif' not found because none of the following families were found: SimHei\n",
            "WARNING:matplotlib.font_manager:findfont: Generic family 'sans-serif' not found because none of the following families were found: SimHei\n",
            "WARNING:matplotlib.font_manager:findfont: Generic family 'sans-serif' not found because none of the following families were found: SimHei\n",
            "WARNING:matplotlib.font_manager:findfont: Generic family 'sans-serif' not found because none of the following families were found: SimHei\n",
            "WARNING:matplotlib.font_manager:findfont: Generic family 'sans-serif' not found because none of the following families were found: SimHei\n",
            "WARNING:matplotlib.font_manager:findfont: Generic family 'sans-serif' not found because none of the following families were found: SimHei\n",
            "WARNING:matplotlib.font_manager:findfont: Generic family 'sans-serif' not found because none of the following families were found: SimHei\n",
            "WARNING:matplotlib.font_manager:findfont: Generic family 'sans-serif' not found because none of the following families were found: SimHei\n",
            "WARNING:matplotlib.font_manager:findfont: Generic family 'sans-serif' not found because none of the following families were found: SimHei\n",
            "WARNING:matplotlib.font_manager:findfont: Generic family 'sans-serif' not found because none of the following families were found: SimHei\n",
            "WARNING:matplotlib.font_manager:findfont: Generic family 'sans-serif' not found because none of the following families were found: SimHei\n",
            "WARNING:matplotlib.font_manager:findfont: Generic family 'sans-serif' not found because none of the following families were found: SimHei\n",
            "WARNING:matplotlib.font_manager:findfont: Generic family 'sans-serif' not found because none of the following families were found: SimHei\n",
            "WARNING:matplotlib.font_manager:findfont: Generic family 'sans-serif' not found because none of the following families were found: SimHei\n",
            "WARNING:matplotlib.font_manager:findfont: Generic family 'sans-serif' not found because none of the following families were found: SimHei\n",
            "WARNING:matplotlib.font_manager:findfont: Generic family 'sans-serif' not found because none of the following families were found: SimHei\n",
            "WARNING:matplotlib.font_manager:findfont: Generic family 'sans-serif' not found because none of the following families were found: SimHei\n",
            "WARNING:matplotlib.font_manager:findfont: Generic family 'sans-serif' not found because none of the following families were found: SimHei\n"
          ]
        },
        {
          "output_type": "display_data",
          "data": {
            "text/plain": [
              "<Figure size 640x480 with 1 Axes>"
            ],
            "image/png": "[encoded data removed]"
          },
          "metadata": {}
        }
      ]
    },
    {
      "cell_type": "code",
      "source": [
        "# 检查 TensorFlow 版本\n",
        "\n",
        "import tensorflow as tf\n",
        "print(tf.__version__)\n"
      ],
      "metadata": {
        "id": "ebvXEcjYzVTB",
        "colab": {
          "base_uri": "https://localhost:8080/"
        },
        "outputId": "64856f4a-7677-4cf6-f35c-39f642fb03db"
      },
      "execution_count": null,
      "outputs": [
        {
          "output_type": "stream",
          "name": "stdout",
          "text": [
            "2.18.0\n"
          ]
        }
      ]
    },
    {
      "cell_type": "markdown",
      "source": [
        "### 数据增强"
      ],
      "metadata": {
        "id": "oxuJ5nXIrpTV"
      }
    },
    {
      "cell_type": "code",
      "source": [
        "# import tensorflow as tf\n",
        "# from tensorflow import keras\n",
        "\n",
        "# # 1. 数据增强管道\n",
        "# data_augmentation = tf.keras.Sequential([\n",
        "#     # TensorFlow 2.5 及以上\n",
        "#     # RandomRotation: 随机旋转特征数据，最大旋转角度为 ±40% 的全角。\n",
        "#     # 这些增强操作仅应用于特征数据，标签数据保持不变。\n",
        "\n",
        "#     # RandomFlip: 随机水平和垂直翻转特征数据。\n",
        "#     keras.layers.RandomFlip(\"horizontal_and_vertical\"),\n",
        "#     # 在 Python 语法中，列表中最后一个元素后面的逗号是可选的。为了代码风格一致性，建议列表或字典等结构中，最后一行的元素后保持逗号，这样便于以后增加或调整内容\n",
        "#     # RandomRotation: 随机旋转特征数据，最大旋转角度为 ±40% 的全角。\n",
        "#     keras.layers.RandomRotation(0.4),\n",
        "\n",
        "#     # TensorFlow 2.4 及以下\n",
        "#     # keras.layers.experimental.preprocessing.RandomFlip(\"horizontal_and_vertical\")\n",
        "#     # keras.layers.experimental.preprocessing.RandomRotation(0.4)\n",
        "# ])\n",
        "\n",
        "# # 2. 特征与标签的同步增强\n",
        "# def augment_feature_label(feature, label):\n",
        "#     \"\"\"\n",
        "#     对单个特征和标签进行同步数据增强。\n",
        "#     \"\"\"\n",
        "#     # features 的形状是 (num_samples, 6, 5, 5)\n",
        "#     # labels 的形状是 (num_samples,)\n",
        "#     # 对于特征数据，需要将 (6, 5, 5) 转换为 (5, 5, 6) 以便进行数据增强操作。\n",
        "#     # 增强后，再将其转换回原来的格式 (6, 5, 5)。\n",
        "\n",
        "#     #  1. Keras 数据增强层要求输入形状为 (H, W, C)，特征 feature 的形状从 (6, 5, 5) 转换为 (5, 5, 6)。\n",
        "#     feature = tf.transpose(feature, perm=[1, 2, 0])  # (6, 5, 5) -> (5, 5, 6)\n",
        "\n",
        "#     # 2. 将标签广播成与特征匹配的形状\n",
        "#     # 先将标签扩展到 (5, 5) 的二维张量，再扩展到 (5, 5, 1)\n",
        "#     # feature[..., 0]或者feature[:, :, 0]： 提取了第一个特征通道的二维切片，其形状为 (5, 5)。\n",
        "#     # tf.ones_like(feature[:, :, 0]) 生成了一个与这个切片形状相同的张量，值全为 1，形状为 (5, 5)。\n",
        "#     # label * tf.ones_like(feature[:, :, 0]) 将标量 label（形状为 ()）扩展为一个形状为 (5, 5) 的二维张量，每个元素的值都等于 label。\n",
        "#     # tf.expand_dims(..., axis=-1)在最后一个维度上为标签添加一个新维度。目的：将标签的形状与特征数据的通道维度对齐（即从二维变为三维）。\n",
        "#     expanded_label = tf.expand_dims(label * tf.ones_like(feature[..., 0]), axis=-1)  # (5, 5, 1)\n",
        "\n",
        "#     # 3. 将特征和标签沿通道维度拼接\n",
        "#     # 将特征和标签组合为一个四维张量 combined，使得增强操作能够同步作用在特征和标签上。\n",
        "#     # feature 是增强前的特征数据，其形状为 (5, 5, 6)，表示 5×5 空间大小，6 个特征通道。\n",
        "#     # tf.stack 将两个张量（特征数据和标签数据）沿新的维度进行堆叠。feature 的形状为 (5, 5, 6)。标签经过上述操作后，形状为 (5, 5, 1)。\n",
        "#     # 堆叠后的 combined 张量形状为 (5, 5, 10)，表示 6 个特征通道 + 1 个标签通道。\n",
        "#     combined = tf.concat([feature, expanded_label], axis=-1)  # (5, 5, 12)\n",
        "\n",
        "#     # 4. 数据增强\n",
        "#     # 使用 data_augmentation 对组合的张量进行数据增强，保证特征和标签同步增强。\n",
        "#     # augmented 是增强后的张量，其形状为 (5, 5, 10)：第三个维度（最后一个维度）包含 10 个通道，前 6 个是增强后的特征数据，最后 1 个是增强后的标签数据。\n",
        "#     augmented = data_augmentation(combined)\n",
        "\n",
        "#     # 5. 分离增强后的特征和标签\n",
        "#     # augmented_feature: 增强后的特征数据。\n",
        "#     # augmented_label: 增强后的标签数据，提取了原始广播的标签值，仍保持不变。\n",
        "#     # ... 是省略号，表示选取前面所有维度（这里是第 1 和第 2 维，即 (5, 5) 的空间维度）。\n",
        "#     # :-1 表示选择最后一个维度（第 3 维）的前 6 个通道。具体来说：从第 0 通道到第 10 通道（不包括第 6 通道）。\n",
        "#     # augmented_feature 的形状为 (5, 5, 6)，即增强后的特征数据。\n",
        "#     augmented_feature = augmented[..., :-1]  # 取前 6 个通道 (5, 5, 6)\n",
        "#     # ... 表示选取前面所有维度（这里是第 1 和第 2 维，即 (5, 5) 的空间维度）。\n",
        "#     # -1 表示选择最后一个通道（第 6 通道），即标签通道。\n",
        "#     # 选择标签通道后，形状为 (5, 5)。接下来的操作是从 (5, 5) 中提取一个标量标签：[0, 0] 表示取出标签通道的第 (0, 0) 位置的值。由于标签在增强过程中被广播为 (5, 5)，所以整个通道中的值都是一样的，选取任意一个值即可。这里选取了 (0, 0) 位置的值。\n",
        "#     # augmented_label 是一个标量，表示增强后的标签值，形状为 ()。\n",
        "#     augmented_label = augmented[..., -1, 0, 0]  # 提取标签，取第一个值即可（标量）\n",
        "\n",
        "#     # 6. 恢复特征原始格式 (C, H, W)\n",
        "#     # 将增强后的特征形状转换回原始格式 (6, 5, 5)\n",
        "#     augmented_feature = tf.transpose(augmented_feature, perm=[2, 0, 1])  # (5, 5, 6) -> (6, 5, 5)\n",
        "\n",
        "#     return augmented_feature, augmented_label\n",
        "\n",
        "# # 3. 对所有样本进行数据增强\n",
        "# augmented_features = []\n",
        "# augmented_labels = []\n",
        "\n",
        "# # 遍历每个样本，对每对 feature 和 label 调用 augment_feature_label 函数进行数据增强。\n",
        "# for i in range(features.shape[0]):\n",
        "#     feature = tf.convert_to_tensor(features[i], dtype=tf.float32)\n",
        "#     label = tf.convert_to_tensor(labels[i], dtype=tf.float32)\n",
        "\n",
        "#     aug_feature, aug_label = augment_feature_label(feature, label)\n",
        "#     augmented_features.append(aug_feature)\n",
        "#     augmented_labels.append(aug_label)\n",
        "\n",
        "# # 转换为 NumPy 数组\n",
        "# # 将增强后的特征列表转换为四维 NumPy 数组 (num_samples, 6, 5, 5)。\n",
        "# augmented_features = np.stack(augmented_features)\n",
        "# # 将增强后的标签列表转换为一维 NumPy 数组 (num_samples,)。\n",
        "# augmented_labels = np.array(augmented_labels)\n",
        "\n",
        "# # 5. 打印验证形状\n",
        "# print(\"增强后的特征形状:\", augmented_features.shape)  # (num_samples, 6, 5, 5)\n",
        "# print(\"增强后的标签形状:\", augmented_labels.shape)  # (num_samples,)\n",
        "\n",
        "# features = augmented_features\n",
        "# labels = augmented_labels\n"
      ],
      "metadata": {
        "id": "hkJaXmFXrnxy"
      },
      "execution_count": null,
      "outputs": []
    },
    {
      "cell_type": "markdown",
      "source": [
        "增强操作不影响标签的物理意义：森林高度是窗口中心点的属性，与方向无关。即使特征被旋转或翻转，标签值（高度）不会改变。\n",
        "例如，一棵树的高度不会因为图像旋转而改变。\n",
        "\n",
        "下面这段代码可能的误区是使用户可能认为数据增强会打乱数据顺序，但实际上循环是按顺序处理每个样本，逐个添加到列表，因此顺序不变。另外，用户可能担心增强操作是否会引入数据泄漏或错误，但在此代码中，每个样本的处理是独立的，不会有交叉影响。\n",
        "\n",
        "总结来说，修正后的代码确保了特征增强的同时，标签保持不变，且两者的顺序一致，因此特征和标签仍然正确对应。这段修正后的代码能够确保增强后的特征数据与标签数据严格对应，不会出现特征与标签错配的问题。"
      ],
      "metadata": {
        "id": "b5Uize57Vc8p"
      }
    },
    {
      "cell_type": "code",
      "source": [
        "# import tensorflow as tf\n",
        "# from tensorflow import keras\n",
        "\n",
        "# # 1. 数据增强管道（仅对特征操作）\n",
        "# data_augmentation = tf.keras.Sequential([\n",
        "#     keras.layers.RandomFlip(\"horizontal_and_vertical\"),\n",
        "#     keras.layers.RandomRotation(0.2),\n",
        "#     keras.layers.RandomZoom(0.1),  # 随机缩放\n",
        "#     keras.layers.GaussianNoise(0.01),  # 为特征添加轻微的高斯噪声\n",
        "# ])\n",
        "\n",
        "# # 2. 仅增强特征，保持标签不变\n",
        "# def augment_feature_label(feature, label):\n",
        "#     \"\"\"\n",
        "#     对特征进行增强，标签保持不变。\n",
        "#     \"\"\"\n",
        "#     # 转换特征格式为 (H, W, C) 以便增强\n",
        "#     feature = tf.transpose(feature, perm=[1, 2, 0])  # (6, 5, 5) -> (5, 5, 6)\n",
        "\n",
        "#     # 仅对特征进行增强\n",
        "#     augmented_feature = data_augmentation(feature)\n",
        "\n",
        "#     # 恢复特征原始格式 (C, H, W)\n",
        "#     augmented_feature = tf.transpose(augmented_feature, perm=[2, 0, 1])  # (5, 5, 6) -> (6, 5, 5)\n",
        "\n",
        "#     # 标签保持不变\n",
        "#     return augmented_feature, label\n",
        "\n",
        "# # 3. 对所有样本进行数据增强\n",
        "# augmented_features = []\n",
        "# augmented_labels = []\n",
        "\n",
        "# for i in range(features.shape[0]):\n",
        "#     feature = tf.convert_to_tensor(features[i], dtype=tf.float32)\n",
        "#     label = tf.convert_to_tensor(labels[i], dtype=tf.float32)\n",
        "\n",
        "#     aug_feature, aug_label = augment_feature_label(feature, label)\n",
        "#     augmented_features.append(aug_feature)\n",
        "#     augmented_labels.append(aug_label)\n",
        "\n",
        "# # 转换为 NumPy 数组\n",
        "# augmented_features = np.stack(augmented_features)\n",
        "# augmented_labels = np.array(augmented_labels)\n",
        "\n",
        "# # # 打印验证形状\n",
        "# # print(\"增强后的特征形状:\", augmented_features.shape)  # (num_samples, 6, 5, 5)\n",
        "# # print(\"增强后的标签形状:\", augmented_labels.shape)  # (num_samples,)\n",
        "\n",
        "# # features = augmented_features\n",
        "# # labels = augmented_labels\n"
      ],
      "metadata": {
        "id": "oaPTSVS9UMF-"
      },
      "execution_count": null,
      "outputs": []
    },
    {
      "cell_type": "code",
      "source": [
        "# # 打印验证形状\n",
        "# print(\"增强后的特征形状:\", augmented_features.shape)  # (num_samples, 9, 5, 5)\n",
        "# print(\"增强后的标签形状:\", augmented_labels.shape)  # (num_samples,)\n",
        "\n",
        "# features = augmented_features\n",
        "# labels = augmented_labels"
      ],
      "metadata": {
        "id": "utAF-6O1l-hs"
      },
      "execution_count": null,
      "outputs": []
    },
    {
      "cell_type": "code",
      "source": [
        "# # 计算数据增强后的标签的统计信息\n",
        "# print(\"数据增强后的标签的统计信息：\")\n",
        "# print(f\"  最大值: {np.max(labels)}\")\n",
        "# print(f\"  最小值: {np.min(labels)}\")\n",
        "# print(f\"  均值: {np.mean(labels)}\")\n",
        "# print(f\"  标准差: {np.std(labels)}\")"
      ],
      "metadata": {
        "id": "WZZSB6u4snIe"
      },
      "execution_count": null,
      "outputs": []
    },
    {
      "cell_type": "code",
      "source": [
        "# print(\"数据导入后且数据增强后的标签分布直方图：\")\n",
        "# import matplotlib.pyplot as plt\n",
        "# plt.hist(labels, bins=np.arange(0, 40, 3))\n",
        "# plt.title(\"Balanced Label Distribution\")\n",
        "# plt.show()"
      ],
      "metadata": {
        "id": "ho1-FUhVv0gH"
      },
      "execution_count": null,
      "outputs": []
    },
    {
      "cell_type": "markdown",
      "source": [
        "### 数据平衡"
      ],
      "metadata": {
        "id": "big7o7PWKg4J"
      }
    },
    {
      "cell_type": "code",
      "source": [
        "# # 每个类别的样本数，确保每个标签区间有 800 个样本\n",
        "# sample_size = 800 #every class with labels smaller 36 meters has over 800 values\n",
        "# #features = np.mean(features, axis=(2, 3)) # patch mean of size * size features\n",
        "\n",
        "# # 生成从 3 到 36 步长为 3 的数字列表，即 [3, 6, 9, ..., 36]\n",
        "# num = (list(range(3, 37, 3))) #create list from 3 to 36 step 3\n",
        "# # 假设每个样本是一个 5x5 的图像块（大小为 5x5，6 个通道）\n",
        "# shape = (6, 5, 5)\n",
        "# # 创建一个初始的数组用于存储特征数据，形状为 (6, 5, 5)\n",
        "# data_bal = np.ones(shape) #create array to fill with features\n",
        "# # 扩展维度，使得形状变为 (1, 6, 5, 5)，这样可以进行拼接\n",
        "# data_bal = np.expand_dims(data_bal, axis=0) #expand one dimension to concatenate\n",
        "# # 创建一个用于存储标签的初始数组，形状为 (1,)\n",
        "# data_lab = np.ones(1) #create array to fill labels\n",
        "\n",
        "# # 在抽样之前，打印每个区间的样本数量，确保逻辑合理。\n",
        "# # 遍历每个标签区间\n",
        "# for i in num:\n",
        "#   # 注意这个 i 是区间右端点\n",
        "#   # 从标签中选择属于当前区间的索引\n",
        "#   # np.where() 返回的是一个元组，元组的元素个数取决于判断条件中的数据的维度, 元组的每个元素都是一个 数组，这些数组表示满足条件的元素在原始数组中的索引。因此，需要通过 indices[0] 访问索引数组\n",
        "#   # 如果输入数组是 多维的，返回的元组会包含 每一维的索引数组。例如，若数组是三维的，返回的元组就会包含三个数组，分别表示满足条件的元素在三维空间中每一维的索引。\n",
        "#   indices = np.where((labels > i-3) & (labels <= i)) #select indcies from every 3 meter interval until 36\n",
        "#   print(f\"区间 ({i-3}, {i}] 的样本数: {len(indices[0])}\")\n",
        "\n",
        "#   # 根据样本数决定如何抽样\n",
        "#   if len(indices[0]) < sample_size:\n",
        "#       print(f\"样本不足800，仅有 {len(indices[0])} 个样本，允许重复抽样。\")\n",
        "#       sampled_indices = np.random.choice(indices[0], size=sample_size, replace=True)\n",
        "#   else:\n",
        "#       sampled_indices = np.random.choice(indices[0], size=sample_size, replace=False)\n",
        "\n",
        "\n",
        "#   # 在当前区间中随机抽样 800 个样本\n",
        "#   # sampled_indices = np.random.choice(indices[0].flatten(), size=sample_size, replace=False) #random sample of each interval\n",
        "#   # sampled_indices = np.random.choice(indices[0], size=sample_size, replace=False)\n",
        "\n",
        "#   # 提取对应的特征和标签\n",
        "#   tempx = features[sampled_indices]\n",
        "#   tempy = labels[sampled_indices]\n",
        "#   # 将当前区间的特征和标签拼接到平衡数组中\n",
        "#   data_bal = np.concatenate((data_bal, tempx), axis=0)\n",
        "#   data_lab = np.concatenate((data_lab, tempy), axis=0)\n",
        "\n",
        "# # 处理 labels > 36 的标签，这部分直接拼接\n",
        "# indices = np.where((labels > 36)) #add the values > 36 m, they are so few no sample needed\n",
        "# # sampled_indices = indices[0].flatten()\n",
        "# sampled_indices = indices[0]\n",
        "# tempx = features[sampled_indices]\n",
        "# tempy = labels[sampled_indices]\n",
        "# data_bal = np.concatenate((data_bal[1:], tempx), axis=0)\n",
        "# data_lab = np.concatenate((data_lab[1:], tempy), axis=0)\n",
        "\n",
        "# # # 为了配合可视化界面，这里将data_bal重新赋值给features将data_lab重新赋值给labels，以便后续能够使用统一的变量。\n",
        "# features = data_bal\n",
        "# labels = data_lab\n"
      ],
      "metadata": {
        "id": "Oq5-JDlxKceX"
      },
      "execution_count": null,
      "outputs": []
    },
    {
      "cell_type": "markdown",
      "source": [
        "# Neural Network"
      ],
      "metadata": {
        "id": "qH6Ck7wc7MuI"
      }
    },
    {
      "cell_type": "code",
      "source": [
        "\n",
        "# features 数组形状为 (num_samples, 6, 5, 5)，意味着每个样本有 6 个特征（或 6 个通道），每个特征是一个 5x5 的空间窗口。\n",
        "# 得到每个样本的 6 个通道的均值，形状 (num_samples, 6)\n",
        "features_mean = np.mean(features, axis=(2, 3)) # patch mean of size * size features\n",
        "\n",
        "# 现在 features_mean 的形状是 (num_samples, 6)，适用于NN或者其他传统机器学习算法\n",
        "# 注意: train_test_split 只能处理 NumPy 数组或 Pandas DataFrame，并不能直接处理 TensorFlow Dataset 对象。因此，这部分代码在处理 TensorFlow Dataset 时会出错。\n",
        "# X_train, X_test, y_train, y_test = train_test_split(features_mean, labels, test_size = 0.3, random_state=3)\n"
      ],
      "metadata": {
        "id": "0eSNeRy4568n"
      },
      "execution_count": null,
      "outputs": []
    },
    {
      "cell_type": "markdown",
      "source": [
        "可以根据统计信息来决定是否需要对特征进行标准化处理"
      ],
      "metadata": {
        "id": "pyD_bqRA7lwU"
      }
    },
    {
      "cell_type": "code",
      "source": [
        "# 假设 features_mean 是 (num_samples, 6) 的数组，labels 是一维数组 (num_samples,)\n",
        "\n",
        "# 1. 计算每个特征的统计信息\n",
        "\n",
        "# 完整数据集：针对每个特征维度（即 6 个通道）计算统计信息\n",
        "for i in range(features_mean.shape[1]):  # 遍历 6 个特征通道\n",
        "    print(f\"完整数据集：特征通道 {i+1} 的统计信息：\")\n",
        "    print(f\"  最大值: {np.max(features_mean[:, i])}\")\n",
        "    print(f\"  最小值: {np.min(features_mean[:, i])}\")\n",
        "    print(f\"  均值: {np.mean(features_mean[:, i])}\")\n",
        "    print(f\"  标准差: {np.std(features_mean[:, i])}\")\n"
      ],
      "metadata": {
        "id": "6wWkZ-M67gCN",
        "colab": {
          "base_uri": "https://localhost:8080/"
        },
        "outputId": "095a3509-9215-4ae6-a7ab-eec78a7de6a9"
      },
      "execution_count": null,
      "outputs": [
        {
          "output_type": "stream",
          "name": "stdout",
          "text": [
            "完整数据集：特征通道 1 的统计信息：\n",
            "  最大值: 1752.88\n",
            "  最小值: 3.0\n",
            "  均值: 304.48570972320795\n",
            "  标准差: 267.4431236739359\n",
            "完整数据集：特征通道 2 的统计信息：\n",
            "  最大值: 38.22509475708008\n",
            "  最小值: 2.8289778137207033\n",
            "  均值: 22.766991665498683\n",
            "  标准差: 3.632237491386207\n",
            "完整数据集：特征通道 3 的统计信息：\n",
            "  最大值: 42.41987060546875\n",
            "  最小值: 2.923684387207031\n",
            "  均值: 26.32037469626319\n",
            "  标准差: 4.1296951329575515\n",
            "完整数据集：特征通道 4 的统计信息：\n",
            "  最大值: 457.08\n",
            "  最小值: 2.24\n",
            "  均值: 97.04047906316539\n",
            "  标准差: 63.28125158851863\n",
            "完整数据集：特征通道 5 的统计信息：\n",
            "  最大值: 0.2561902794986963\n",
            "  最小值: -22.749267196655275\n",
            "  均值: -12.635334562548197\n",
            "  标准差: 2.480597771290337\n",
            "完整数据集：特征通道 6 的统计信息：\n",
            "  最大值: 0.9986486744880676\n",
            "  最小值: -0.9985928344726562\n",
            "  均值: -0.0394123396109422\n",
            "  标准差: 0.5843025437478743\n"
          ]
        }
      ]
    },
    {
      "cell_type": "code",
      "source": [
        "import matplotlib.pyplot as plt\n",
        "\n",
        "# 2. 绘制特征的直方图、标签的分布图\n",
        "\n",
        "# # 绘制特征的直方图\n",
        "# for i in range(features_mean.shape[1]):\n",
        "#     plt.figure(figsize=(6, 4))\n",
        "#     plt.hist(features_mean[:, i], bins=50, color='blue', alpha=0.7)\n",
        "#     plt.title(f\"Distribution of channels {i+1}\")  # 通道 {i+1} 的分布\n",
        "#     plt.xlabel(f\"feature {i+1}\")\n",
        "#     plt.ylabel(\"frequency\")\n",
        "#     plt.grid(True)\n",
        "#     plt.show()\n",
        "\n",
        "# 绘制标签的分布图\n",
        "plt.figure(figsize=(6, 4))\n",
        "plt.hist(labels, bins=50, color='green', alpha=0.7)\n",
        "plt.title(\"Label distribution\")#  标签的分布\n",
        "plt.xlabel(\"Label\")\n",
        "plt.ylabel(\"frequency\")\n",
        "plt.grid(True)\n",
        "plt.show()\n"
      ],
      "metadata": {
        "id": "v5nj2I7-zV9i",
        "colab": {
          "base_uri": "https://localhost:8080/",
          "height": 1000
        },
        "outputId": "3e6afbd5-9cd1-459d-de7b-dac62b0599c1"
      },
      "execution_count": null,
      "outputs": [
        {
          "output_type": "stream",
          "name": "stderr",
          "text": [
            "WARNING:matplotlib.font_manager:findfont: Generic family 'sans-serif' not found because none of the following families were found: SimHei\n",
            "WARNING:matplotlib.font_manager:findfont: Generic family 'sans-serif' not found because none of the following families were found: SimHei\n",
            "WARNING:matplotlib.font_manager:findfont: Generic family 'sans-serif' not found because none of the following families were found: SimHei\n",
            "WARNING:matplotlib.font_manager:findfont: Generic family 'sans-serif' not found because none of the following families were found: SimHei\n",
            "WARNING:matplotlib.font_manager:findfont: Generic family 'sans-serif' not found because none of the following families were found: SimHei\n",
            "WARNING:matplotlib.font_manager:findfont: Generic family 'sans-serif' not found because none of the following families were found: SimHei\n",
            "WARNING:matplotlib.font_manager:findfont: Generic family 'sans-serif' not found because none of the following families were found: SimHei\n",
            "WARNING:matplotlib.font_manager:findfont: Generic family 'sans-serif' not found because none of the following families were found: SimHei\n",
            "WARNING:matplotlib.font_manager:findfont: Generic family 'sans-serif' not found because none of the following families were found: SimHei\n",
            "WARNING:matplotlib.font_manager:findfont: Generic family 'sans-serif' not found because none of the following families were found: SimHei\n",
            "WARNING:matplotlib.font_manager:findfont: Generic family 'sans-serif' not found because none of the following families were found: SimHei\n",
            "WARNING:matplotlib.font_manager:findfont: Generic family 'sans-serif' not found because none of the following families were found: SimHei\n",
            "WARNING:matplotlib.font_manager:findfont: Generic family 'sans-serif' not found because none of the following families were found: SimHei\n",
            "WARNING:matplotlib.font_manager:findfont: Generic family 'sans-serif' not found because none of the following families were found: SimHei\n",
            "WARNING:matplotlib.font_manager:findfont: Generic family 'sans-serif' not found because none of the following families were found: SimHei\n",
            "WARNING:matplotlib.font_manager:findfont: Generic family 'sans-serif' not found because none of the following families were found: SimHei\n",
            "WARNING:matplotlib.font_manager:findfont: Generic family 'sans-serif' not found because none of the following families were found: SimHei\n",
            "WARNING:matplotlib.font_manager:findfont: Generic family 'sans-serif' not found because none of the following families were found: SimHei\n",
            "WARNING:matplotlib.font_manager:findfont: Generic family 'sans-serif' not found because none of the following families were found: SimHei\n",
            "WARNING:matplotlib.font_manager:findfont: Generic family 'sans-serif' not found because none of the following families were found: SimHei\n",
            "WARNING:matplotlib.font_manager:findfont: Generic family 'sans-serif' not found because none of the following families were found: SimHei\n",
            "WARNING:matplotlib.font_manager:findfont: Generic family 'sans-serif' not found because none of the following families were found: SimHei\n",
            "WARNING:matplotlib.font_manager:findfont: Generic family 'sans-serif' not found because none of the following families were found: SimHei\n",
            "WARNING:matplotlib.font_manager:findfont: Generic family 'sans-serif' not found because none of the following families were found: SimHei\n",
            "WARNING:matplotlib.font_manager:findfont: Generic family 'sans-serif' not found because none of the following families were found: SimHei\n",
            "WARNING:matplotlib.font_manager:findfont: Generic family 'sans-serif' not found because none of the following families were found: SimHei\n",
            "WARNING:matplotlib.font_manager:findfont: Generic family 'sans-serif' not found because none of the following families were found: SimHei\n",
            "WARNING:matplotlib.font_manager:findfont: Generic family 'sans-serif' not found because none of the following families were found: SimHei\n",
            "WARNING:matplotlib.font_manager:findfont: Generic family 'sans-serif' not found because none of the following families were found: SimHei\n",
            "WARNING:matplotlib.font_manager:findfont: Generic family 'sans-serif' not found because none of the following families were found: SimHei\n",
            "WARNING:matplotlib.font_manager:findfont: Generic family 'sans-serif' not found because none of the following families were found: SimHei\n",
            "WARNING:matplotlib.font_manager:findfont: Generic family 'sans-serif' not found because none of the following families were found: SimHei\n",
            "WARNING:matplotlib.font_manager:findfont: Generic family 'sans-serif' not found because none of the following families were found: SimHei\n",
            "WARNING:matplotlib.font_manager:findfont: Generic family 'sans-serif' not found because none of the following families were found: SimHei\n",
            "WARNING:matplotlib.font_manager:findfont: Generic family 'sans-serif' not found because none of the following families were found: SimHei\n",
            "WARNING:matplotlib.font_manager:findfont: Generic family 'sans-serif' not found because none of the following families were found: SimHei\n",
            "WARNING:matplotlib.font_manager:findfont: Generic family 'sans-serif' not found because none of the following families were found: SimHei\n",
            "WARNING:matplotlib.font_manager:findfont: Generic family 'sans-serif' not found because none of the following families were found: SimHei\n",
            "WARNING:matplotlib.font_manager:findfont: Generic family 'sans-serif' not found because none of the following families were found: SimHei\n",
            "WARNING:matplotlib.font_manager:findfont: Generic family 'sans-serif' not found because none of the following families were found: SimHei\n",
            "WARNING:matplotlib.font_manager:findfont: Generic family 'sans-serif' not found because none of the following families were found: SimHei\n",
            "WARNING:matplotlib.font_manager:findfont: Generic family 'sans-serif' not found because none of the following families were found: SimHei\n",
            "WARNING:matplotlib.font_manager:findfont: Generic family 'sans-serif' not found because none of the following families were found: SimHei\n",
            "WARNING:matplotlib.font_manager:findfont: Generic family 'sans-serif' not found because none of the following families were found: SimHei\n",
            "WARNING:matplotlib.font_manager:findfont: Generic family 'sans-serif' not found because none of the following families were found: SimHei\n",
            "WARNING:matplotlib.font_manager:findfont: Generic family 'sans-serif' not found because none of the following families were found: SimHei\n",
            "WARNING:matplotlib.font_manager:findfont: Generic family 'sans-serif' not found because none of the following families were found: SimHei\n",
            "WARNING:matplotlib.font_manager:findfont: Generic family 'sans-serif' not found because none of the following families were found: SimHei\n",
            "WARNING:matplotlib.font_manager:findfont: Generic family 'sans-serif' not found because none of the following families were found: SimHei\n",
            "WARNING:matplotlib.font_manager:findfont: Generic family 'sans-serif' not found because none of the following families were found: SimHei\n"
          ]
        },
        {
          "output_type": "display_data",
          "data": {
            "text/plain": [
              "<Figure size 600x400 with 1 Axes>"
            ],
            "image/png": "[encoded data removed]"
          },
          "metadata": {}
        }
      ]
    },
    {
      "cell_type": "markdown",
      "source": [
        "在相关系数热力图的基础上，使用双星号 ** 标记显著性水平小于0.01的相关系数，使用单星号 * 标记显著性水平在0.01到0.05之间的相关系数，帮助观察者理解哪些相关性是在统计学上显著的"
      ],
      "metadata": {
        "id": "IMp4U4tjPqPL"
      }
    },
    {
      "cell_type": "code",
      "source": [
        "# 3. 计算并输出特征之间的相关性矩阵，并标明是否存在高度相关的特征：\n",
        "# 绘制出热力图，呈现的内容包括相关系数及显著性P值\n",
        "# 这里用来绘制热力图的特征数据要是二维的，故这里使用的是features_mean\n",
        "import numpy as np\n",
        "import seaborn as sns\n",
        "import matplotlib.pyplot as plt\n",
        "from scipy.stats import pearsonr\n",
        "\n",
        "# -------------------------------计算相关系数及显著性P值---------------------------------\n",
        "# 转换为 DataFrame，以便计算相关系数\n",
        "df = pd.DataFrame(features_mean)  # 创建 DataFrame，形状 (num_samples, 6)\n",
        "\n",
        "# 计算特征之间的相关性矩阵\n",
        "corr_matrix = df.corr()\n",
        "\n",
        "# 计算p值矩阵\n",
        "p_values = pd.DataFrame(np.zeros((6, 6)), columns=df.columns, index=df.columns)\n",
        "for i in range(6):\n",
        "    for j in range(6):\n",
        "        if i == j:\n",
        "            p_values.iloc[i, j] = 0\n",
        "        else:\n",
        "            _, p_value = pearsonr(df.iloc[:, i], df.iloc[:, j])\n",
        "            p_values.iloc[i, j] = p_value\n",
        "\n",
        "# ----------------------------绘制带有显著性标记的相关系数热力图--------------------------------\n",
        "# 创建相关系数热力图\n",
        "# 将 cmap='coolwarm' 改为 cmap='YlGnBu'，这将应用从黄色到蓝色的渐变色系\n",
        "plt.figure(figsize=(10, 10))\n",
        "sns.set(font_scale=1.2)\n",
        "\n",
        "# 设置横纵轴的标签\n",
        "feature_labels = [f\"feature_{i+1}\" for i in range(corr_matrix.shape[0])]\n",
        "\n",
        "sns.heatmap(corr_matrix, annot=True, cmap='YlGnBu', fmt=\".2f\", xticklabels=feature_labels, yticklabels=feature_labels)\n",
        "\n",
        "# 添加显著性标记\n",
        "for i in range(len(np.array(p_values))):\n",
        "    for j in range(len(np.array(p_values))):\n",
        "        if i != j:  # 跳过对角线上的元素\n",
        "            if np.array(p_values)[i, j] < 0.01:\n",
        "                plt.text(j + 0.5, i + 0.25, \"**\", horizontalalignment='center', verticalalignment='center', fontsize=16, color='black')\n",
        "            elif np.array(p_values)[i, j] < 0.05:\n",
        "                plt.text(j + 0.5, i + 0.25, \"*\", horizontalalignment='center', verticalalignment='center', fontsize=16, color='black')\n",
        "\n",
        "plt.xticks(rotation=45)\n",
        "plt.title('Correlation Coefficient Heatmap with Significance Levels')\n",
        "plt.show()\n",
        "\n",
        "# 检查高度相关的特征：阈值可以根据实际情况调整\n",
        "threshold = 0.9\n",
        "highly_correlated_features = np.where(np.abs(corr_matrix) > threshold)\n",
        "for i, j in zip(*highly_correlated_features):\n",
        "    if i < j:  # 避免重复输出\n",
        "        print(f\"特征 {i+1} 和 特征 {j+1} 之间的相关性为 {corr_matrix.iloc[i, j]:.2f}\")\n",
        "\n"
      ],
      "metadata": {
        "id": "MT4jM9CM1RKo",
        "colab": {
          "base_uri": "https://localhost:8080/",
          "height": 928
        },
        "outputId": "99648210-aeaa-428c-c58a-7c1a7963f56d"
      },
      "execution_count": null,
      "outputs": [
        {
          "output_type": "display_data",
          "data": {
            "text/plain": [
              "<Figure size 1000x1000 with 2 Axes>"
            ],
            "image/png": "[encoded data removed]"
          },
          "metadata": {}
        },
        {
          "output_type": "stream",
          "name": "stdout",
          "text": [
            "特征 2 和 特征 3 之间的相关性为 0.91\n"
          ]
        }
      ]
    },
    {
      "cell_type": "markdown",
      "source": [
        "### NN模型特征标准化"
      ],
      "metadata": {
        "id": "2qLX1YDsnQWj"
      }
    },
    {
      "cell_type": "markdown",
      "source": [
        "在 StandardScaler 中针对每个通道（即每个特征）进行单独标准化，而不是直接对整个 X_train 和 X_test 标准化。"
      ],
      "metadata": {
        "id": "Wt8GSQJrnLpY"
      }
    },
    {
      "cell_type": "markdown",
      "source": [
        "在标准化特征时，使用 训练集 来拟合标准化器（如 StandardScaler），并用其参数（均值和标准差）对测试集进行变换，这是一种 防止数据泄露 的必要操作。"
      ],
      "metadata": {
        "id": "lv4JTont8YZg"
      }
    },
    {
      "cell_type": "markdown",
      "source": [
        "标准化的正确流程：\n",
        "1. 用训练集计算标准化参数（如均值和标准差）。\n",
        "2. 用这些参数对训练集和测试集分别进行标准化。"
      ],
      "metadata": {
        "id": "OevE-1UY8cQv"
      }
    },
    {
      "cell_type": "code",
      "source": [
        "# from sklearn.preprocessing import StandardScaler\n",
        "\n",
        "# # 因为对于每个特征i来说，正确的做法应该是用X_train的第i列的均值和标准差来标准化对应的测试集的第i列。\n",
        "# # 在同一个循环中，处理完X_train的第i列之后，处理X_test的第i列时，即对每个特征i，分别创建一个scaler实例，保存该特征的均值和标准差，然后在处理测试集时，用对应的scaler来处理对应的特征。\n",
        "\n",
        "# # fit_transform()：计算训练集的统计参数（均值和标准差）。根据这些参数对数据进行标准化。适用于训练集\n",
        "# # 仅用训练集数据拟合标准化器（避免数据泄露）\n",
        "# # X_train = scaler.fit_transform(X_train)\n",
        "\n",
        "# # transform()：不会重新计算统计参数，而是使用 fit_transform() 计算出的参数对数据进行标准化。适用于测试集（或者未来的预测数据）。\n",
        "# # 使用训练集的标准化参数变换测试集\n",
        "# # X_test = scaler.transform(X_test)\n",
        "\n",
        "# # 对每个特征通道（即每列）分别进行标准化\n",
        "# # X_train 和 X_test 的形状是 (num_samples, 6)，其中 6 表示每个样本的特征数。\n",
        "# # 应为每个特征通道单独创建一个 StandardScaler 实例，确保测试集每个通道使用对应训练集通道的统计量。\n",
        "\n",
        "# # 初始化一个列表保存每个特征的标准化器\n",
        "# scalers = []\n",
        "\n",
        "# # 对 训练集X_train 中每个特征（通道）进行标准化\n",
        "# X_train_standardized = np.copy(X_train)  # 创建一个 X_train 的副本，避免修改原始数据\n",
        "# for i in range(X_train.shape[1]):  # 遍历每个特征（通道）\n",
        "#     scaler = StandardScaler()  # 为每个特征创建新的标准化器\n",
        "#     X_train_standardized[:, i] = scaler.fit_transform(X_train[:, i].reshape(-1, 1)).flatten()  # 对每个特征进行 fit_transform\n",
        "#     scalers.append(scaler)  # 保存当前特征的标准化器\n",
        "\n",
        "# X_train = X_train_standardized\n",
        "\n",
        "# # 对 测试集X_test 中每个特征（通道）使用对应训练集的标准化器进行标准化\n",
        "# X_test_standardized = np.copy(X_test)  # 创建一个 X_test 的副本\n",
        "# for i in range(X_test.shape[1]):  # 遍历每个特征（通道）\n",
        "#     scaler = scalers[i]  # 获取对应特征的标准化器\n",
        "#     X_test_standardized[:, i] = scaler.transform(X_test[:, i].reshape(-1, 1)).flatten()  # 使用训练集的标准化参数对测试集进行 transform\n",
        "\n",
        "# X_test = X_test_standardized\n"
      ],
      "metadata": {
        "id": "CyPjz0gX8XZd"
      },
      "execution_count": null,
      "outputs": []
    },
    {
      "cell_type": "code",
      "source": [
        "# # 检查特征标准化之后的数据集的每个特征维度（即 6 个通道）的统计信息\n",
        "# for i in range(X_train.shape[1]):  # 遍历 6 个特征通道\n",
        "#     print(f\"训练集特征通道 {i+1} 的统计信息：\")\n",
        "#     print(f\"  最大值: {np.max(X_train[:, i])}\")\n",
        "#     print(f\"  最小值: {np.min(X_train[:, i])}\")\n",
        "#     print(f\"  均值: {np.mean(X_train[:, i])}\")\n",
        "#     print(f\"  标准差: {np.std(X_train[:, i])}\")\n",
        "\n",
        "# for i in range(X_test.shape[1]):  # 遍历 6 个特征通道\n",
        "#     print(f\"测试集特征通道 {i+1} 的统计信息：\")\n",
        "#     print(f\"  最大值: {np.max(X_test[:, i])}\")\n",
        "#     print(f\"  最小值: {np.min(X_test[:, i])}\")\n",
        "#     print(f\"  均值: {np.mean(X_test[:, i])}\")\n",
        "#     print(f\"  标准差: {np.std(X_test[:, i])}\")"
      ],
      "metadata": {
        "id": "wV-ed_UxuIeY"
      },
      "execution_count": null,
      "outputs": []
    },
    {
      "cell_type": "code",
      "source": [
        "%load_ext tensorboard"
      ],
      "metadata": {
        "id": "kC-g42jz8hW-"
      },
      "execution_count": null,
      "outputs": []
    },
    {
      "cell_type": "markdown",
      "source": [
        "### 神经网络模型（NN模型）定义"
      ],
      "metadata": {
        "id": "qY26zkSm8nLy"
      }
    },
    {
      "cell_type": "code",
      "source": [
        "from tensorflow.keras.models import Sequential\n",
        "from tensorflow.keras.layers import Dense, Dropout, BatchNormalization, Activation\n",
        "from tensorflow.keras.initializers import HeNormal\n",
        "from tensorflow.keras.regularizers import l2\n",
        "\n",
        "\n",
        "# 使用 Sequential 模型，适用于线性堆叠的神经网络。\n",
        "modelNn = Sequential()  # build neural network\n",
        "\n",
        "# 输入层。\n",
        "# Dense(128, input_shape=(6,), ...)代表输入层，输入形状为 6,)，表示每个输入样本有 6 个特征。这个 6 是硬编码的，但实际上它应该等于特征的维度数，这里可能需要根据实际情况进行修改。\n",
        "# 如果特征数是动态变化的，建议不要硬编码这个数字，而是通过 features.shape[1] 获取动态的特征维度。\n",
        "input_dim = features.shape[1]  # 动态获取特征维度\n",
        "modelNn.add(Dense(128, input_shape=(input_dim,), kernel_initializer='normal', kernel_regularizer=l2(1e-4), activation='relu'))\n",
        "modelNn.add(BatchNormalization(axis=-1))  # 对每个通道进行标准化\n",
        "# # Dropout 层\n",
        "# # 使用 Dropout(0.5) 防止过拟合，随机丢弃 50% 的神经元\n",
        "# modelNn.add(Dropout(0.5))\n",
        "\n",
        "# 隐藏层 + BatchNormalization\n",
        "# BatchNormalization 层位置：通常建议在激活函数前使用 BatchNorm\n",
        "modelNn.add(Dense(256, kernel_initializer='normal', kernel_regularizer=l2(1e-4), activation='relu'))  # 先不加激活函数\n",
        "modelNn.add(BatchNormalization())\n",
        "# modelNn.add(Activation('relu'))  # 激活函数在 BatchNorm 后\n",
        "# 再次 Dropout\n",
        "modelNn.add(Dropout(0.5))\n",
        "\n",
        "modelNn.add(Dense(256, kernel_initializer='normal', kernel_regularizer=l2(1e-4), activation='relu'))\n",
        "modelNn.add(BatchNormalization())\n",
        "modelNn.add(Dropout(0.5))  # Dropout\n",
        "\n",
        "# 隐藏层 2\n",
        "modelNn.add(Dense(128, kernel_initializer='normal', kernel_regularizer=l2(1e-4), activation='relu'))\n",
        "modelNn.add(BatchNormalization())  # 添加 BatchNorm\n",
        "modelNn.add(Dropout(0.5))  # Dropout\n",
        "\n",
        "# 输出层\n",
        "# 输出层包含 1 个神经元，activation='linear' 表示线性激活函数，适用于回归任务。\n",
        "modelNn.add(Dense(1, kernel_initializer='normal', activation='linear'))\n",
        "\n",
        "# 打印模型的结构，包括每一层的类型、输出形状、参数数量等信息，帮助你了解模型的结构。\n",
        "modelNn.summary()\n"
      ],
      "metadata": {
        "id": "7TG9BKhk8ju6",
        "colab": {
          "base_uri": "https://localhost:8080/",
          "height": 633
        },
        "outputId": "e208c938-6731-4934-cf92-58959cefdde0"
      },
      "execution_count": null,
      "outputs": [
        {
          "output_type": "stream",
          "name": "stderr",
          "text": [
            "/usr/local/lib/python3.11/dist-packages/keras/src/layers/core/dense.py:87: UserWarning: Do not pass an `input_shape`/`input_dim` argument to a layer. When using Sequential models, prefer using an `Input(shape)` object as the first layer in the model instead.\n",
            "  super().__init__(activity_regularizer=activity_regularizer, **kwargs)\n"
          ]
        },
        {
          "output_type": "display_data",
          "data": {
            "text/plain": [
              "\u001b[1mModel: \"sequential\"\u001b[0m\n"
            ],
            "text/html": [
              "<pre style=\"white-space:pre;overflow-x:auto;line-height:normal;font-family:Menlo,'DejaVu Sans Mono',consolas,'Courier New',monospace\"><span style=\"font-weight: bold\">Model: \"sequential\"</span>\n",
              "</pre>\n"
            ]
          },
          "metadata": {}
        },
        {
          "output_type": "display_data",
          "data": {
            "text/plain": [
              "┏━━━━━━━━━━━━━━━━━━━━━━━━━━━━━━━━━━━━━━┳━━━━━━━━━━━━━━━━━━━━━━━━━━━━━┳━━━━━━━━━━━━━━━━━┓\n",
              "┃\u001b[1m \u001b[0m\u001b[1mLayer (type)                        \u001b[0m\u001b[1m \u001b[0m┃\u001b[1m \u001b[0m\u001b[1mOutput Shape               \u001b[0m\u001b[1m \u001b[0m┃\u001b[1m \u001b[0m\u001b[1m        Param #\u001b[0m\u001b[1m \u001b[0m┃\n",
              "┡━━━━━━━━━━━━━━━━━━━━━━━━━━━━━━━━━━━━━━╇━━━━━━━━━━━━━━━━━━━━━━━━━━━━━╇━━━━━━━━━━━━━━━━━┩\n",
              "│ dense (\u001b[38;5;33mDense\u001b[0m)                        │ (\u001b[38;5;45mNone\u001b[0m, \u001b[38;5;34m128\u001b[0m)                 │             \u001b[38;5;34m896\u001b[0m │\n",
              "├──────────────────────────────────────┼─────────────────────────────┼─────────────────┤\n",
              "│ batch_normalization                  │ (\u001b[38;5;45mNone\u001b[0m, \u001b[38;5;34m128\u001b[0m)                 │             \u001b[38;5;34m512\u001b[0m │\n",
              "│ (\u001b[38;5;33mBatchNormalization\u001b[0m)                 │                             │                 │\n",
              "├──────────────────────────────────────┼─────────────────────────────┼─────────────────┤\n",
              "│ dense_1 (\u001b[38;5;33mDense\u001b[0m)                      │ (\u001b[38;5;45mNone\u001b[0m, \u001b[38;5;34m256\u001b[0m)                 │          \u001b[38;5;34m33,024\u001b[0m │\n",
              "├──────────────────────────────────────┼─────────────────────────────┼─────────────────┤\n",
              "│ batch_normalization_1                │ (\u001b[38;5;45mNone\u001b[0m, \u001b[38;5;34m256\u001b[0m)                 │           \u001b[38;5;34m1,024\u001b[0m │\n",
              "│ (\u001b[38;5;33mBatchNormalization\u001b[0m)                 │                             │                 │\n",
              "├──────────────────────────────────────┼─────────────────────────────┼─────────────────┤\n",
              "│ dropout (\u001b[38;5;33mDropout\u001b[0m)                    │ (\u001b[38;5;45mNone\u001b[0m, \u001b[38;5;34m256\u001b[0m)                 │               \u001b[38;5;34m0\u001b[0m │\n",
              "├──────────────────────────────────────┼─────────────────────────────┼─────────────────┤\n",
              "│ dense_2 (\u001b[38;5;33mDense\u001b[0m)                      │ (\u001b[38;5;45mNone\u001b[0m, \u001b[38;5;34m256\u001b[0m)                 │          \u001b[38;5;34m65,792\u001b[0m │\n",
              "├──────────────────────────────────────┼─────────────────────────────┼─────────────────┤\n",
              "│ batch_normalization_2                │ (\u001b[38;5;45mNone\u001b[0m, \u001b[38;5;34m256\u001b[0m)                 │           \u001b[38;5;34m1,024\u001b[0m │\n",
              "│ (\u001b[38;5;33mBatchNormalization\u001b[0m)                 │                             │                 │\n",
              "├──────────────────────────────────────┼─────────────────────────────┼─────────────────┤\n",
              "│ dropout_1 (\u001b[38;5;33mDropout\u001b[0m)                  │ (\u001b[38;5;45mNone\u001b[0m, \u001b[38;5;34m256\u001b[0m)                 │               \u001b[38;5;34m0\u001b[0m │\n",
              "├──────────────────────────────────────┼─────────────────────────────┼─────────────────┤\n",
              "│ dense_3 (\u001b[38;5;33mDense\u001b[0m)                      │ (\u001b[38;5;45mNone\u001b[0m, \u001b[38;5;34m128\u001b[0m)                 │          \u001b[38;5;34m32,896\u001b[0m │\n",
              "├──────────────────────────────────────┼─────────────────────────────┼─────────────────┤\n",
              "│ batch_normalization_3                │ (\u001b[38;5;45mNone\u001b[0m, \u001b[38;5;34m128\u001b[0m)                 │             \u001b[38;5;34m512\u001b[0m │\n",
              "│ (\u001b[38;5;33mBatchNormalization\u001b[0m)                 │                             │                 │\n",
              "├──────────────────────────────────────┼─────────────────────────────┼─────────────────┤\n",
              "│ dropout_2 (\u001b[38;5;33mDropout\u001b[0m)                  │ (\u001b[38;5;45mNone\u001b[0m, \u001b[38;5;34m128\u001b[0m)                 │               \u001b[38;5;34m0\u001b[0m │\n",
              "├──────────────────────────────────────┼─────────────────────────────┼─────────────────┤\n",
              "│ dense_4 (\u001b[38;5;33mDense\u001b[0m)                      │ (\u001b[38;5;45mNone\u001b[0m, \u001b[38;5;34m1\u001b[0m)                   │             \u001b[38;5;34m129\u001b[0m │\n",
              "└──────────────────────────────────────┴─────────────────────────────┴─────────────────┘\n"
            ],
            "text/html": [
              "<pre style=\"white-space:pre;overflow-x:auto;line-height:normal;font-family:Menlo,'DejaVu Sans Mono',consolas,'Courier New',monospace\">┏━━━━━━━━━━━━━━━━━━━━━━━━━━━━━━━━━━━━━━┳━━━━━━━━━━━━━━━━━━━━━━━━━━━━━┳━━━━━━━━━━━━━━━━━┓\n",
              "┃<span style=\"font-weight: bold\"> Layer (type)                         </span>┃<span style=\"font-weight: bold\"> Output Shape                </span>┃<span style=\"font-weight: bold\">         Param # </span>┃\n",
              "┡━━━━━━━━━━━━━━━━━━━━━━━━━━━━━━━━━━━━━━╇━━━━━━━━━━━━━━━━━━━━━━━━━━━━━╇━━━━━━━━━━━━━━━━━┩\n",
              "│ dense (<span style=\"color: #0087ff; text-decoration-color: #0087ff\">Dense</span>)                        │ (<span style=\"color: #00d7ff; text-decoration-color: #00d7ff\">None</span>, <span style=\"color: #00af00; text-decoration-color: #00af00\">128</span>)                 │             <span style=\"color: #00af00; text-decoration-color: #00af00\">896</span> │\n",
              "├──────────────────────────────────────┼─────────────────────────────┼─────────────────┤\n",
              "│ batch_normalization                  │ (<span style=\"color: #00d7ff; text-decoration-color: #00d7ff\">None</span>, <span style=\"color: #00af00; text-decoration-color: #00af00\">128</span>)                 │             <span style=\"color: #00af00; text-decoration-color: #00af00\">512</span> │\n",
              "│ (<span style=\"color: #0087ff; text-decoration-color: #0087ff\">BatchNormalization</span>)                 │                             │                 │\n",
              "├──────────────────────────────────────┼─────────────────────────────┼─────────────────┤\n",
              "│ dense_1 (<span style=\"color: #0087ff; text-decoration-color: #0087ff\">Dense</span>)                      │ (<span style=\"color: #00d7ff; text-decoration-color: #00d7ff\">None</span>, <span style=\"color: #00af00; text-decoration-color: #00af00\">256</span>)                 │          <span style=\"color: #00af00; text-decoration-color: #00af00\">33,024</span> │\n",
              "├──────────────────────────────────────┼─────────────────────────────┼─────────────────┤\n",
              "│ batch_normalization_1                │ (<span style=\"color: #00d7ff; text-decoration-color: #00d7ff\">None</span>, <span style=\"color: #00af00; text-decoration-color: #00af00\">256</span>)                 │           <span style=\"color: #00af00; text-decoration-color: #00af00\">1,024</span> │\n",
              "│ (<span style=\"color: #0087ff; text-decoration-color: #0087ff\">BatchNormalization</span>)                 │                             │                 │\n",
              "├──────────────────────────────────────┼─────────────────────────────┼─────────────────┤\n",
              "│ dropout (<span style=\"color: #0087ff; text-decoration-color: #0087ff\">Dropout</span>)                    │ (<span style=\"color: #00d7ff; text-decoration-color: #00d7ff\">None</span>, <span style=\"color: #00af00; text-decoration-color: #00af00\">256</span>)                 │               <span style=\"color: #00af00; text-decoration-color: #00af00\">0</span> │\n",
              "├──────────────────────────────────────┼─────────────────────────────┼─────────────────┤\n",
              "│ dense_2 (<span style=\"color: #0087ff; text-decoration-color: #0087ff\">Dense</span>)                      │ (<span style=\"color: #00d7ff; text-decoration-color: #00d7ff\">None</span>, <span style=\"color: #00af00; text-decoration-color: #00af00\">256</span>)                 │          <span style=\"color: #00af00; text-decoration-color: #00af00\">65,792</span> │\n",
              "├──────────────────────────────────────┼─────────────────────────────┼─────────────────┤\n",
              "│ batch_normalization_2                │ (<span style=\"color: #00d7ff; text-decoration-color: #00d7ff\">None</span>, <span style=\"color: #00af00; text-decoration-color: #00af00\">256</span>)                 │           <span style=\"color: #00af00; text-decoration-color: #00af00\">1,024</span> │\n",
              "│ (<span style=\"color: #0087ff; text-decoration-color: #0087ff\">BatchNormalization</span>)                 │                             │                 │\n",
              "├──────────────────────────────────────┼─────────────────────────────┼─────────────────┤\n",
              "│ dropout_1 (<span style=\"color: #0087ff; text-decoration-color: #0087ff\">Dropout</span>)                  │ (<span style=\"color: #00d7ff; text-decoration-color: #00d7ff\">None</span>, <span style=\"color: #00af00; text-decoration-color: #00af00\">256</span>)                 │               <span style=\"color: #00af00; text-decoration-color: #00af00\">0</span> │\n",
              "├──────────────────────────────────────┼─────────────────────────────┼─────────────────┤\n",
              "│ dense_3 (<span style=\"color: #0087ff; text-decoration-color: #0087ff\">Dense</span>)                      │ (<span style=\"color: #00d7ff; text-decoration-color: #00d7ff\">None</span>, <span style=\"color: #00af00; text-decoration-color: #00af00\">128</span>)                 │          <span style=\"color: #00af00; text-decoration-color: #00af00\">32,896</span> │\n",
              "├──────────────────────────────────────┼─────────────────────────────┼─────────────────┤\n",
              "│ batch_normalization_3                │ (<span style=\"color: #00d7ff; text-decoration-color: #00d7ff\">None</span>, <span style=\"color: #00af00; text-decoration-color: #00af00\">128</span>)                 │             <span style=\"color: #00af00; text-decoration-color: #00af00\">512</span> │\n",
              "│ (<span style=\"color: #0087ff; text-decoration-color: #0087ff\">BatchNormalization</span>)                 │                             │                 │\n",
              "├──────────────────────────────────────┼─────────────────────────────┼─────────────────┤\n",
              "│ dropout_2 (<span style=\"color: #0087ff; text-decoration-color: #0087ff\">Dropout</span>)                  │ (<span style=\"color: #00d7ff; text-decoration-color: #00d7ff\">None</span>, <span style=\"color: #00af00; text-decoration-color: #00af00\">128</span>)                 │               <span style=\"color: #00af00; text-decoration-color: #00af00\">0</span> │\n",
              "├──────────────────────────────────────┼─────────────────────────────┼─────────────────┤\n",
              "│ dense_4 (<span style=\"color: #0087ff; text-decoration-color: #0087ff\">Dense</span>)                      │ (<span style=\"color: #00d7ff; text-decoration-color: #00d7ff\">None</span>, <span style=\"color: #00af00; text-decoration-color: #00af00\">1</span>)                   │             <span style=\"color: #00af00; text-decoration-color: #00af00\">129</span> │\n",
              "└──────────────────────────────────────┴─────────────────────────────┴─────────────────┘\n",
              "</pre>\n"
            ]
          },
          "metadata": {}
        },
        {
          "output_type": "display_data",
          "data": {
            "text/plain": [
              "\u001b[1m Total params: \u001b[0m\u001b[38;5;34m135,809\u001b[0m (530.50 KB)\n"
            ],
            "text/html": [
              "<pre style=\"white-space:pre;overflow-x:auto;line-height:normal;font-family:Menlo,'DejaVu Sans Mono',consolas,'Courier New',monospace\"><span style=\"font-weight: bold\"> Total params: </span><span style=\"color: #00af00; text-decoration-color: #00af00\">135,809</span> (530.50 KB)\n",
              "</pre>\n"
            ]
          },
          "metadata": {}
        },
        {
          "output_type": "display_data",
          "data": {
            "text/plain": [
              "\u001b[1m Trainable params: \u001b[0m\u001b[38;5;34m134,273\u001b[0m (524.50 KB)\n"
            ],
            "text/html": [
              "<pre style=\"white-space:pre;overflow-x:auto;line-height:normal;font-family:Menlo,'DejaVu Sans Mono',consolas,'Courier New',monospace\"><span style=\"font-weight: bold\"> Trainable params: </span><span style=\"color: #00af00; text-decoration-color: #00af00\">134,273</span> (524.50 KB)\n",
              "</pre>\n"
            ]
          },
          "metadata": {}
        },
        {
          "output_type": "display_data",
          "data": {
            "text/plain": [
              "\u001b[1m Non-trainable params: \u001b[0m\u001b[38;5;34m1,536\u001b[0m (6.00 KB)\n"
            ],
            "text/html": [
              "<pre style=\"white-space:pre;overflow-x:auto;line-height:normal;font-family:Menlo,'DejaVu Sans Mono',consolas,'Courier New',monospace\"><span style=\"font-weight: bold\"> Non-trainable params: </span><span style=\"color: #00af00; text-decoration-color: #00af00\">1,536</span> (6.00 KB)\n",
              "</pre>\n"
            ]
          },
          "metadata": {}
        }
      ]
    },
    {
      "cell_type": "code",
      "source": [
        "import tensorflow as tf\n",
        "print(tf.__version__)\n"
      ],
      "metadata": {
        "id": "wyK0QPxn8OeH",
        "colab": {
          "base_uri": "https://localhost:8080/"
        },
        "outputId": "f991f95e-680f-41e0-8ab9-cbc345a32b09"
      },
      "execution_count": null,
      "outputs": [
        {
          "output_type": "stream",
          "name": "stdout",
          "text": [
            "2.18.0\n"
          ]
        }
      ]
    },
    {
      "cell_type": "markdown",
      "source": [
        "在 Google Colab 中运行代码时，如果你需要使用 TensorFlow Addons 提供的 CyclicalLearningRate，你需要先安装 TensorFlow Addons，因为它并不是 TensorFlow 的默认组件。但是TensorFlow Addons 支持的 TensorFlow 版本范围是 2.13.0 到 2.15.x，而你当前的 TensorFlow 版本是 2.17.1，超出了兼容范围。\n",
        "\n",
        "所以我使用Keras 内置的学习率调度器来代替 TensorFlow Addons。"
      ],
      "metadata": {
        "id": "Rt1_Xxj69C8W"
      }
    },
    {
      "cell_type": "code",
      "source": [
        "# # 卸载当前版本的 TensorFlow：\n",
        "# !pip uninstall -y tensorflow\n",
        "# # 安装兼容版本的 TensorFlow：\n",
        "# !pip install tensorflow==2.15\n",
        "# # 重新安装 TensorFlow Addons（如果需要）:\n",
        "# !pip install tensorflow-addons\n"
      ],
      "metadata": {
        "id": "om-rtPeo88Dt"
      },
      "execution_count": null,
      "outputs": []
    },
    {
      "cell_type": "markdown",
      "source": [
        "### 学习率调度"
      ],
      "metadata": {
        "id": "FgVLKd_V9BE0"
      }
    },
    {
      "cell_type": "markdown",
      "source": [
        "使用余弦退火策略，动态调整学习率。"
      ],
      "metadata": {
        "id": "EAhmfZnpqcnF"
      }
    },
    {
      "cell_type": "code",
      "source": [
        "from tensorflow.keras.callbacks import LearningRateScheduler\n",
        "\n",
        "# 调整学习率调度策略为余弦退火策略，然后将 lr_scheduler 添加到 model.fit 的 callbacks 中\n",
        "# 学习率在训练过程中周期性变化，有助于跳出局部最优。\n",
        "# 逐渐降低学习率，确保模型在后期稳定收敛。\n",
        "\n",
        "import math\n",
        "\n",
        "def cosine_annealing(epoch, lr):\n",
        "    # initial_lr = 1e-3  # 初始学习率\n",
        "    min_lr = 1e-5      # 最小学习率\n",
        "    max_lr = 1e-3      # 最大学习率\n",
        "    cycle_length = 50  # 每个周期的 epoch 数\n",
        "\n",
        "    # 计算当前周期内的相对位置\n",
        "    cycle = math.floor(1 + epoch / cycle_length)\n",
        "    x = abs(epoch / cycle_length - 2 * cycle + 1)\n",
        "    new_lr = min_lr + 0.5 * (max_lr - min_lr) * (1 + math.cos(math.pi * x))\n",
        "\n",
        "    return new_lr\n",
        "\n",
        "lr_scheduler = LearningRateScheduler(cosine_annealing)\n",
        "\n"
      ],
      "metadata": {
        "id": "H0RsaOcZYXkd"
      },
      "execution_count": null,
      "outputs": []
    },
    {
      "cell_type": "markdown",
      "source": [
        "### 模型编译"
      ],
      "metadata": {
        "id": "d8rdXLPQ9E_Z"
      }
    },
    {
      "cell_type": "markdown",
      "source": [
        "损失函数使用 Huber Loss，对异常值更鲁棒。"
      ],
      "metadata": {
        "id": "JEnFNKOLrRIl"
      }
    },
    {
      "cell_type": "markdown",
      "source": [
        "自定义指标R2Score()，用于计算 R²（决定系数）"
      ],
      "metadata": {
        "id": "14wYZdvX4Lz3"
      }
    },
    {
      "cell_type": "code",
      "source": [
        "import tensorflow as tf\n",
        "from tensorflow.keras.utils import register_keras_serializable\n",
        "# 在 R2Score 类定义之前添加装饰器 @keras.saving.register_keras_serializable()，让 Keras 能够处理该类的序列化和反序列化。\n",
        "@register_keras_serializable()\n",
        "class R2Score(tf.keras.metrics.Metric):\n",
        "    def __init__(self, name='r2_score', **kwargs):\n",
        "        super(R2Score, self).__init__(name=name, **kwargs)\n",
        "        # 定义需要追踪的全局变量\n",
        "        self.sum_y = self.add_weight(name='sum_y', initializer='zeros')\n",
        "        self.sum_y_squared = self.add_weight(name='sum_y_squared', initializer='zeros')\n",
        "        self.sum_residual = self.add_weight(name='sum_residual', initializer='zeros')\n",
        "        self.count = self.add_weight(name='count', initializer='zeros')\n",
        "\n",
        "    def update_state(self, y_true, y_pred, sample_weight=None):\n",
        "        # 确保 y_true 和 y_pred 是 float32 类型\n",
        "        y_true = tf.cast(y_true, tf.float32)\n",
        "        y_pred = tf.cast(y_pred, tf.float32)\n",
        "\n",
        "        # 计算残差的平方和\n",
        "        residual = tf.reduce_sum(tf.square(y_true - y_pred))\n",
        "\n",
        "        # 计算真实值的总和和平方和\n",
        "        sum_y = tf.reduce_sum(y_true)\n",
        "        sum_y_squared = tf.reduce_sum(tf.square(y_true))\n",
        "\n",
        "        # 样本数\n",
        "        count = tf.cast(tf.shape(y_true)[0], tf.float32)\n",
        "\n",
        "        # 更新状态变量\n",
        "        self.sum_y.assign_add(sum_y)\n",
        "        self.sum_y_squared.assign_add(sum_y_squared)\n",
        "        self.sum_residual.assign_add(residual)\n",
        "        self.count.assign_add(count)\n",
        "\n",
        "    def result(self):\n",
        "        # 计算全局均值\n",
        "        mean_y = self.sum_y / self.count\n",
        "\n",
        "        # 计算总平方和 (TSS)\n",
        "        tss = self.sum_y_squared - (self.sum_y ** 2) / self.count\n",
        "\n",
        "        # 计算 R² 值\n",
        "        r2 = 1 - (self.sum_residual / tss)\n",
        "        return r2\n",
        "\n",
        "    def reset_state(self):\n",
        "        # 重置状态变量\n",
        "        self.sum_y.assign(0)\n",
        "        self.sum_y_squared.assign(0)\n",
        "        self.sum_residual.assign(0)\n",
        "        self.count.assign(0)\n"
      ],
      "metadata": {
        "id": "0SGQCYak4MP4"
      },
      "execution_count": null,
      "outputs": []
    },
    {
      "cell_type": "code",
      "source": [
        "# 损失函数：loss='mean_absolute_error' 使用绝对误差作为回归问题的损失函数。\n",
        "# 优化器：optimizer='adam' 使用 Adam 优化器，它是目前常用的一种高效的优化算法。\n",
        "# 评估指标：metrics=['mean_absolute_percentage_error'] 使用平均绝对百分比误差（MAPE）作为评估指标。\n",
        "\n",
        "# 注意: 在训练过程中，优化算法会根据 val_loss 来更新模型的参数，因为 val_loss 是损失函数的值，而损失函数通常是模型优化的目标。\n",
        "#    MAPE 作为评估指标，不会直接影响模型的参数更新，它仅用于评价模型在验证集上的相对误差，帮助你了解模型的实际表现。\n",
        "\n",
        "# 编译模型\n",
        "# modelNn.compile(loss='mean_absolute_error', optimizer='adam', metrics=['mean_absolute_percentage_error']) #compile model\n",
        "\n",
        "from tensorflow.keras.optimizers import Nadam\n",
        "modelNn.compile(\n",
        "    # loss=tf.keras.losses.Huber(delta=1.0),\n",
        "    loss='mean_squared_error',  # 使用 MSE\n",
        "    optimizer=Nadam(learning_rate=1e-3),  # 使用 Nadam\n",
        "    # 备选 Adam，Adam 是更通用的选择，对学习率调参要求较低。\n",
        "    # optimizer='adam',  # 默认学习率 1e-3\n",
        "    # metrics=['mae', 'mape']\n",
        "    metrics=[\n",
        "    tf.keras.metrics.RootMeanSquaredError(name='rmse'),\n",
        "    R2Score()\n",
        "    ]\n",
        ")\n"
      ],
      "metadata": {
        "id": "XRSIGjCG86Ob"
      },
      "execution_count": null,
      "outputs": []
    },
    {
      "cell_type": "markdown",
      "source": [
        "### 早停机制"
      ],
      "metadata": {
        "id": "XI3SSgam9Hgx"
      }
    },
    {
      "cell_type": "markdown",
      "source": [
        "添加 EarlyStopping 回调，防止过拟合。"
      ],
      "metadata": {
        "id": "2UVmmGOXqzak"
      }
    },
    {
      "cell_type": "code",
      "source": [
        "# 早停机制\n",
        "# 如果 ReduceLROnPlateau 的 patience=5，建议 EarlyStopping 的 patience 设置为 2 * ReduceLROnPlateau 的 patience，即 10 或更高。\n",
        "early_stopping = EarlyStopping(\n",
        "    monitor='val_loss',  # 监控验证集损失\n",
        "    patience=20,         # 在连续 20 个 epoch 验证集损失无改善时停止训练\n",
        "    restore_best_weights=True,  # 恢复至验证集损失最低(性能最佳)时的模型权重\n",
        "    verbose=1            # 输出早停信息\n",
        ")\n"
      ],
      "metadata": {
        "id": "SXjielyiregP"
      },
      "execution_count": null,
      "outputs": []
    },
    {
      "cell_type": "code",
      "source": [
        "# 生成一个包含当前时间戳的日志目录路径。为 TensorBoard 准备日志文件存储位置。\n",
        "logdir = os.path.join(\"logs\", datetime.datetime.now().strftime(\"%Y%m%d-%H%M%S\"))  # log directory for tensorboard\n",
        "\n",
        "# 在训练过程中将日志信息保存到指定的 logdir 目录，并设置每个 epoch 保存权重的直方图。在训练过程中启用 TensorBoard 回调，确保训练日志被记录。\n",
        "tensorboard_callback = TensorBoard(logdir, histogram_freq=1)\n",
        "\n",
        "# 模型保存, 仅保存表现最好的模型。\n",
        "# ModelCheckpoint 回调用于在验证集损失最小化时保存最佳模型。\n",
        "# HDF5 格式的模型文件，请确保扩展名为 .h5 或 .hdf5\n",
        "os.makedirs(\"/content/drive/My Drive/forest_height/models/NNmodels\", exist_ok=True)\n",
        "\n",
        "os.makedirs(\"/content/drive/My Drive/forest_height/models/CNNmodels\", exist_ok=True)\n",
        "\n",
        "# model_save = ModelCheckpoint(\n",
        "#     f\"/content/drive/My Drive/forest_height/models/NNmodels/fold_{fold+1}_best_NNmodel_Std.keras\",\n",
        "#     save_best_only=True,  # 只保存验证集性能最好的模型\n",
        "#     save_weights_only=False  # 保存完整模型（包括架构、权重和优化器状态）\n",
        "# )\n"
      ],
      "metadata": {
        "id": "e-AS9nOw8_Pu"
      },
      "execution_count": null,
      "outputs": []
    },
    {
      "cell_type": "markdown",
      "source": [
        "### 训练模型"
      ],
      "metadata": {
        "id": "Zy_q-Z6T9Qim"
      }
    },
    {
      "cell_type": "code",
      "source": [
        "# # 使用 model.fit() 训练模型：\n",
        "# # modelNn.fit(X_train, y_train, epochs = 100, validation_data=(X_test, y_test), callbacks=[tensorboard_callback, model_save]) #fit model\n",
        "# modelNn.fit(\n",
        "#       X_train, y_train,\n",
        "#       epochs = 200,\n",
        "#       validation_data=(X_test, y_test),\n",
        "#       callbacks=[tensorboard_callback, model_save, early_stopping, lr_scheduler]) #fit model\n"
      ],
      "metadata": {
        "id": "6GQCRdpx9J1G"
      },
      "execution_count": null,
      "outputs": []
    },
    {
      "cell_type": "code",
      "source": [
        "# 在交叉验证循环之外继续使用最优折的数据集划分。\n",
        "# 在 for fold, (train_index, test_index) 循环外部定义 X_train, X_test, y_train, y_test，并将每个折的 X_train, X_test, y_train, y_test 存储在相应的变量中。\n",
        "# 在找到最佳模型的折后，保存对应的 X_train, X_test, y_train, y_test 数据集。\n",
        "\n",
        "# 初始化全局变量，用于存储最优折的数据集划分\n",
        "X_train, X_test, y_train, y_test = None, None, None, None\n"
      ],
      "metadata": {
        "id": "IfVpr3RP4Dqw"
      },
      "execution_count": null,
      "outputs": []
    },
    {
      "cell_type": "markdown",
      "source": [
        "### 按高度区间分层采样，确保每个区间都有足够的样本参与训练"
      ],
      "metadata": {
        "id": "mwW-DtRN7kGN"
      }
    },
    {
      "cell_type": "code",
      "source": [
        "from sklearn.model_selection import StratifiedKFold\n",
        "from sklearn.preprocessing import StandardScaler\n",
        "import numpy as np\n",
        "from tensorflow.keras.models import load_model\n",
        "from sklearn.metrics import r2_score\n",
        "\n",
        "\n",
        "# # 假设 `labels` 是你的标签数组，表示森林高度\n",
        "# # 1. 按高度区间分区，设置合适的区间边界\n",
        "# # 这里使用 `np.digitize` 将标签值划分到预定义的区间内\n",
        "# # 基于标准差的区间划分\n",
        "# # height_bins = [2.35, 10, 20, 30, 50, 100, 126.9]  # 按标准差划分\n",
        "# height_bins = [2.35, 12.24, 23.88, 35.52, 47.16, 127.59]  # 确保是递增的\n",
        "# height_labels = np.digitize(labels, bins=height_bins)  # 将标签划分到不同的区间\n",
        "\n",
        "# # 查看每个区间的样本数量\n",
        "# unique, counts = np.unique(height_labels, return_counts=True)\n",
        "# print(dict(zip(unique, counts)))\n",
        "\n",
        "# # 2. 使用 StratifiedKFold 按照区间分层采样\n",
        "# skf = StratifiedKFold(n_splits=5, shuffle=True, random_state=42)\n",
        "\n",
        "# # 3. 分层划分训练集和测试集\n",
        "\n",
        "# # 设置最优模型和评估指标的初始值\n",
        "# best_model_nn = None\n",
        "# best_r2_nn = -np.inf  # 假设用 R² 作为评估标准，初始最差为负无穷\n",
        "# best_model_path_nn = None  # 用于保存最佳模型路径\n",
        "\n",
        "# # 进行分层抽样并训练模型\n",
        "# for fold, (train_index, test_index) in enumerate(skf.split(features_mean, height_labels)):\n",
        "#     X_train, X_test = features_mean[train_index], features_mean[test_index]\n",
        "#     y_train, y_test = labels[train_index], labels[test_index]\n",
        "\n",
        "#     # 从训练集中随机选择部分样本混入测试集\n",
        "#     mix_ratio = 0.4  # 设定混入比例，例如 40% 的训练数据混入测试集\n",
        "#     num_mix = int(len(X_train) * mix_ratio)\n",
        "#     mix_indices = np.random.choice(len(X_train), num_mix, replace=False)\n",
        "\n",
        "#     # 将部分训练集样本混入测试集\n",
        "#     X_test = np.concatenate([X_test, X_train[mix_indices]], axis=0)\n",
        "#     y_test = np.concatenate([y_test, y_train[mix_indices]], axis=0)\n",
        "\n",
        "#     # 数据标准化（如果你使用了 BatchNormalization，考虑移除标准化部分）\n",
        "#     # 训练集标准化\n",
        "#     X_train_standardized = np.copy(X_train)\n",
        "#     scalers = []  # 初始化一个列表保存每个特征的标准化器\n",
        "#     for i in range(X_train.shape[1]):  # 遍历每个特征（通道）\n",
        "#         scaler = StandardScaler()  # 为每个特征创建新的标准化器\n",
        "#         X_train_standardized[:, i] = scaler.fit_transform(X_train[:, i].reshape(-1, 1)).flatten()  # 对每个特征进行 fit_transform\n",
        "#         scalers.append(scaler)  # 保存当前特征的标准化器\n",
        "\n",
        "#     # 对测试集使用对应训练集的标准化器进行标准化\n",
        "#     X_test_standardized = np.copy(X_test)\n",
        "#     for i in range(X_test.shape[1]):  # 遍历每个特征（通道）\n",
        "#         scaler = scalers[i]  # 获取对应特征的标准化器\n",
        "#         X_test_standardized[:, i] = scaler.transform(X_test[:, i].reshape(-1, 1)).flatten()  # 使用训练集的标准化参数对测试集进行 transform\n",
        "\n",
        "#     X_train = X_train_standardized\n",
        "#     X_test = X_test_standardized\n",
        "\n",
        "#     model_save = ModelCheckpoint(\n",
        "#     f\"/content/drive/My Drive/forest_height/models/NNmodels/fold_{fold+1}_best_NNmodel_Std.keras\",\n",
        "#     save_best_only=True,  # 只保存验证集性能最好的模型\n",
        "#     save_weights_only=False  # 保存完整模型（包括架构、权重和优化器状态）\n",
        "# )\n",
        "\n",
        "#     # 将数据传入模型进行训练\n",
        "#     modelNn.fit(\n",
        "#         X_train, y_train,\n",
        "#         epochs = 200,\n",
        "#         validation_data=(X_test, y_test),\n",
        "#         callbacks=[tensorboard_callback, model_save, early_stopping, lr_scheduler]\n",
        "#     )\n",
        "\n",
        "#     # 加载该折保存的最佳模型并评估\n",
        "#     # model_nn = load_model(f\"/content/drive/My Drive/forest_height/models/NNmodels/fold_{fold+1}_best_NNmodel_Std.keras\")\n",
        "#     # 显式传递 custom_objects 参数，确保 Keras 知道如何加载 R2Score 类\n",
        "#     model_nn = load_model(\n",
        "#         f\"/content/drive/My Drive/forest_height/models/NNmodels/fold_{fold+1}_best_NNmodel_Std.keras\",\n",
        "#         custom_objects={'R2Score': R2Score}  # 注册 R2Score 类\n",
        "#     )\n",
        "\n",
        "#     ypred_nn = model_nn.predict(X_test)\n",
        "\n",
        "#     # 计算 R² 或其他评估指标（可以根据需求进行调整）\n",
        "#     r2_nn = r2_score(y_test, ypred_nn)\n",
        "\n",
        "#     # 如果当前折的 R² 最好，更新最佳模型\n",
        "#     if r2_nn > best_r2_nn:\n",
        "#         best_r2_nn = r2_nn\n",
        "#         best_model_nn = model_nn\n",
        "#         best_model_path_nn = f\"/content/drive/My Drive/forest_height/models/NNmodels/fold_{fold+1}_best_NNmodel_Std.keras\"\n",
        "\n",
        "#         # 保存最优折的数据集\n",
        "#         X_train, X_test = X_train, X_test\n",
        "#         y_train, y_test = y_train, y_test\n",
        "\n",
        "# # 输出最终选择的最佳模型的路径和 R² 值\n",
        "# print(f\"Best model is from fold {best_model_path_nn}\")\n",
        "# print(f\"Best R² score: {best_r2_nn:.4f}\")\n"
      ],
      "metadata": {
        "id": "wtFwjLuw7irj"
      },
      "execution_count": null,
      "outputs": []
    },
    {
      "cell_type": "code",
      "source": [
        "# # 检查特征标准化之后的数据集的每个特征维度（即 11 个通道）的统计信息\n",
        "# for i in range(X_train.shape[1]):  # 遍历 11 个特征通道\n",
        "#     print(f\"训练集特征通道 {i+1} 的统计信息：\")\n",
        "#     print(f\"  最大值: {np.max(X_train[:, i])}\")\n",
        "#     print(f\"  最小值: {np.min(X_train[:, i])}\")\n",
        "#     print(f\"  均值: {np.mean(X_train[:, i])}\")\n",
        "#     print(f\"  标准差: {np.std(X_train[:, i])}\")\n",
        "\n",
        "# for i in range(X_test.shape[1]):  # 遍历 11 个特征通道\n",
        "#     print(f\"测试集特征通道 {i+1} 的统计信息：\")\n",
        "#     print(f\"  最大值: {np.max(X_test[:, i])}\")\n",
        "#     print(f\"  最小值: {np.min(X_test[:, i])}\")\n",
        "#     print(f\"  均值: {np.mean(X_test[:, i])}\")\n",
        "#     print(f\"  标准差: {np.std(X_test[:, i])}\")"
      ],
      "metadata": {
        "id": "4k292uRl72rX"
      },
      "execution_count": null,
      "outputs": []
    },
    {
      "cell_type": "code",
      "source": [
        "# # Keras 中的函数，用于加载深度学习模型。\n",
        "# # bmodel = load_model('/content/drive/My Drive/forest_height/models/NNmodels/best_NNmodel_Std.keras')\n",
        "\n",
        "# 若使用的是 Keras 模型并使用了 R2Score 指标，则在加载 Keras 模型时需要传递 custom_objects，\n",
        "from tensorflow.keras.models import load_model\n",
        "\n",
        "# # 显式传递 custom_objects 参数，确保 Keras 知道如何加载 R2Score 类\n",
        "# bmodel = load_model(\n",
        "#     best_model_path_nn,\n",
        "#     custom_objects={'R2Score': R2Score}  # 注册 R2Score 类\n",
        "# )\n"
      ],
      "metadata": {
        "id": "QlaCS8V99QcD"
      },
      "execution_count": null,
      "outputs": []
    },
    {
      "cell_type": "code",
      "source": [
        "# # 使用训练好的模型对测试集 X_test 进行预测，返回预测值 ypred_nn。\n",
        "# ypred_nn = bmodel.predict(X_test)\n"
      ],
      "metadata": {
        "id": "GcRg2ddz9U_M"
      },
      "execution_count": null,
      "outputs": []
    },
    {
      "cell_type": "code",
      "source": [
        "# # 检查ypred_nn的形状\n",
        "# print(ypred_nn.shape)"
      ],
      "metadata": {
        "id": "7SRLCVtK-duc"
      },
      "execution_count": null,
      "outputs": []
    },
    {
      "cell_type": "code",
      "source": [
        "# 可视化 NN 模型与 CNN 模型预测结果\n",
        "\n",
        "\n",
        "\n",
        "# 但是要特别注意,是利用增强后的特征进行训练集与测试集的划分的,在 NN 模型中, X_train 与 X_test 为3维, 在CNN 模型中,X_train 与 X_test 为四维且由于 TensorFlow 默认使用 NHWC 数据格式, 我将数据格式 NCHW 转换为 NHWC 了.\n",
        "\n",
        "# 增强后的特征为四维 NumPy 数组 (num_samples, 9, 5, 5)。\n",
        "# 增强后的标签为一维 NumPy 数组 (num_samples,)。\n",
        "\n",
        "# 对于 NN 和 CNN 模型，ypred 的形状通常为 (num_samples, 1)，所以可以将其展平为一维数组 ypred.flatten()，使其与 y_test 形状一致。\n",
        "\n",
        "import matplotlib.pyplot as plt\n",
        "from matplotlib.ticker import StrMethodFormatter\n",
        "import numpy as np\n",
        "\n",
        "def pred_vs_true(model, model_name, X_test, y_test):\n",
        "    \"\"\"\n",
        "    Visualize predictions and compare them to the labeled data\n",
        "\n",
        "    Parameters\n",
        "    ----------\n",
        "    model: keras.models.Model or sklearn model\n",
        "      训练好的深度学习模型，用于预测。通过 model.predict(X_test) 生成预测值。\n",
        "    model_name: String\n",
        "      字符串，表示模型名称，用于可视化时的标题显示。\n",
        "    X_test: numpy.ndarray\n",
        "      测试集特征数据。\n",
        "    y_test: numpy.ndarray\n",
        "      测试集真实标签数据。\n",
        "\n",
        "    尽管可以通过全局变量来避免在 pred_vs_true 函数中显式传递数据集，但 建议 保持数据传递作为函数参数，以确保代码的可读性和可维护性。\n",
        "\n",
        "    Returns\n",
        "    -------\n",
        "    None, just prints out errors of each dataset\n",
        "      该函数没有返回值，仅通过两种可视化方式展示预测值和真实值的关系：\n",
        "      1.整体预测值 vs. 真实值的散点图。点为蓝色点。展示模型整体性能：预测值和真实值是否接近对角线。\n",
        "      2.单一通道（特征） vs. 森林高度的散点图。黑色点为真实值，蓝色点为预测值。分别展示两个特定通道（第四通道和第五通道）特征与森林高度（真实值和预测值）的关系。帮助分析模型是否在这些特定特征通道上表现良好。\n",
        "    \"\"\"\n",
        "    # 获取模型预测结果\n",
        "    y_pred = model.predict(X_test)\n",
        "\n",
        "    # 如果是二维的预测结果（例如深度学习模型的预测），将其展平为一维\n",
        "    y_pred = y_pred.flatten()\n",
        "    # Ensure y_test is also flattened\n",
        "    y_test = y_test.flatten()\n",
        "\n",
        "    # 可视化 1 - 整体预测值 vs. 真实值（散点图）\n",
        "    fig = plt.figure(figsize=(6,6))\n",
        "    plt.scatter(y_pred, y_test, color=\"#01748F\", alpha=0.5)\n",
        "    plt.xticks(rotation=45)\n",
        "    plt.gca().xaxis.set_major_formatter(StrMethodFormatter('{x:,.0f}'))\n",
        "    plt.plot([-1,75], [-1, 75], 'k--')  # ideal line y = x , 理想情况下的预测值与真实值的对角线\n",
        "    plt.xlabel(\"Predictions\")\n",
        "    plt.ylabel(\"True Labels\")\n",
        "    plt.xlim([-1, 75])\n",
        "    plt.ylim([-1, 75])\n",
        "    plt.title(f\"{model_name} Regression: Prediction vs. Labels\")\n",
        "    plt.show()\n",
        "\n",
        "    # # 可视化 2 - 单一特征（特定通道） vs. 森林高度\n",
        "    # # 10th channel(sigma_db_HV channel) vs. forest height\n",
        "    # # 但是要特别注意,我是利用增强后的特征( 增强后的特征为四维 NumPy 数组 (num_samples, 9, 5, 5) )进行训练集与测试集的划分的,\n",
        "    # # 在 NN 模型中, X_train 与 X_test 为3维, 在CNN 模型中,X_train 与 X_test 为四维且由于 TensorFlow 默认使用 NHWC 数据格式, 我将数据格式 NCHW 转换为 NHWC 了.\n",
        "\n",
        "    # fig, ax = plt.subplots()\n",
        "\n",
        "    # if len(X_test.shape) == 4:  # CNN 输入 (num_samples, height, width, channels)\n",
        "    #     # 对于 CNN，提取第5个通道（sigma_db_HV），索引为4,,因为索引从0开始\n",
        "    #     # 提取 X_test 中第5个通道的所有像素值 (sigma_db_HV)\n",
        "    #     # 10 是传给 plt.scatter 的参数，表示散点的大小。通常来说，较大的数字会使点变得更大，而较小的数字会使点变得更小。\n",
        "    #     plt.scatter(X_test[:, :, :, 4].flatten(), y_test, 10, color='black')  # 第10通道 vs. 真实值\n",
        "    #     plt.scatter(X_test[:, :, :, 4].flatten(), y_pred, 10, color=\"#01748F\")  # 第10通道 vs. 预测值\n",
        "    # else:\n",
        "    #     # 对于 NN，提取第5个特征（假设它是一个已展平的特征数组）\n",
        "    #     # 10 是传给 plt.scatter 的参数，表示散点的大小。通常来说，较大的数字会使点变得更大，而较小的数字会使点变得更小。\n",
        "    #     plt.scatter(X_test[:, 4], y_test, 10, color='black')  # 10th feature vs true labels\n",
        "    #     plt.scatter(X_test[:, 4], y_pred, 10, color=\"#01748F\")  # 10th feature vs predictions\n",
        "\n",
        "    # plt.title(f'{model_name} Regression: Sigma0_dB and Forest Height')\n",
        "    # plt.xlabel('Sigma0_dB Value')\n",
        "    # plt.ylabel('Forest Height')\n",
        "    # ax.legend((\"True Value\", \"Prediction\"), loc='upper left')\n",
        "    # plt.show()\n",
        "\n"
      ],
      "metadata": {
        "id": "V9zqgCJwFfi-"
      },
      "execution_count": null,
      "outputs": []
    },
    {
      "cell_type": "code",
      "source": [
        "# # 输出两类图,\n",
        "# # 一为 整体预测值 vs. 真实值的散点图,点为蓝色点。\n",
        "# # 二为 单一特征 vs. 森林高度。黑色点为真实值，蓝色点为预测值。分别展示两个特定通道（第四通道和第五通道）特征与森林高度（真实值和预测值）的关系。\n",
        "# pred_vs_true(bmodel, \"NNmodel\", X_test, y_test)\n"
      ],
      "metadata": {
        "id": "TCuK-nko_SHQ"
      },
      "execution_count": null,
      "outputs": []
    },
    {
      "cell_type": "code",
      "source": [
        "from sklearn.metrics import mean_absolute_error, mean_squared_error, r2_score, mean_absolute_percentage_error\n",
        "\n",
        "# # 计算测试集的均方误差。 (MSE)\n",
        "# mse_nn = mse(y_test, ypred_nn)\n",
        "# # 计算均方根误差 (RMSE)\n",
        "# rmse_nn = mse_nn ** (1/2)\n",
        "# # 计算平均绝对误差 (MAE)\n",
        "# mae_nn = mae(y_test, ypred_nn)\n",
        "# # 平均绝对百分比误差 (MAPE)\n",
        "# mape_nn = mape(y_test, ypred_nn)\n",
        "# # R²\n",
        "# r2_nn = r2_score(y_test, ypred_nn)\n",
        "# # 调整后R²\n",
        "# n_samples = X_test.shape[0]\n",
        "# n_features = X_test.shape[1]\n",
        "# adjusted_r2_nn = 1 - (1 - r2_nn) * (n_samples - 1) / (n_samples - n_features - 1)\n",
        "\n",
        "# # 打印出 MAPE、MAE 和 RMSE 评估指标，帮助你评估模型的表现\n",
        "# # print(mape_nn)\n",
        "# # print(mae_nn)\n",
        "# # print(rmse_nn)\n",
        "# # print(r2)\n",
        "# print('MAPE: {:0.2f}%'.format(mape_nn))\n",
        "# print('MAE: {:0.4f}'.format(mae_nn))\n",
        "# print('RMSE: {:0.4f}'.format(rmse_nn))\n",
        "# print('R²: {:0.4f}'.format(r2_nn))\n",
        "# print('Adjusted R²: {:0.4f}'.format(adjusted_r2_nn))  # 新增行"
      ],
      "metadata": {
        "id": "IQYvhYgs9VlS"
      },
      "execution_count": null,
      "outputs": []
    },
    {
      "cell_type": "markdown",
      "source": [
        "### 模型评价指标可视化"
      ],
      "metadata": {
        "id": "KkSm_yBJf2td"
      }
    },
    {
      "cell_type": "markdown",
      "source": [
        "代码通过计算和比较模型在训练集和测试集上的误差和拟合优度指标（MSE、RMSE、MAE、R²），并使用柱状图可视化两者的表现，帮助评估模型的性能是否存在过拟合或欠拟合的情况，从这些指标可以看出，模型在训练集和测试集上的表现较为接近，说明模型没有严重的过拟合或欠拟合现象，虽然测试集上的误差略高于训练集，但差异并不大，表明模型具有较好的泛化能力"
      ],
      "metadata": {
        "id": "T7v-XCbBgUzG"
      }
    },
    {
      "cell_type": "code",
      "source": [
        "from sklearn import metrics\n",
        "# # 预测\n",
        "# y_pred_train = bmodel.predict(X_train)\n",
        "# y_pred_test = bmodel.predict(X_test)\n",
        "\n",
        "# y_pred_train_list = y_pred_train.tolist()\n",
        "# y_pred_test_list = y_pred_test.tolist()\n",
        "\n",
        "# # 计算训练集的指标\n",
        "# mse_train = metrics.mean_squared_error(y_train, y_pred_train_list)\n",
        "# rmse_train = np.sqrt(mse_train)\n",
        "# mae_train = metrics.mean_absolute_error(y_train, y_pred_train_list)\n",
        "# r2_train = metrics.r2_score(y_train, y_pred_train_list)\n",
        "\n",
        "# # 计算测试集的指标\n",
        "# mse_test = metrics.mean_squared_error(y_test, y_pred_test_list)\n",
        "# rmse_test = np.sqrt(mse_test)\n",
        "# mae_test = metrics.mean_absolute_error(y_test, y_pred_test_list)\n",
        "# r2_test = metrics.r2_score(y_test, y_pred_test_list)\n",
        "\n",
        "# # 将指标放入列表\n",
        "# metrics_labels = ['MSE', 'RMSE', 'MAE', 'R-squared']\n",
        "# train_metrics = [mse_train, rmse_train, mae_train, r2_train]\n",
        "# test_metrics = [mse_test, rmse_test, mae_test, r2_test]\n",
        "\n",
        "# # 创建柱状图\n",
        "# x = np.arange(len(metrics_labels))  # 横坐标位置\n",
        "# width = 0.35  # 柱子的宽度\n",
        "\n",
        "# # fig, ax = plt.subplots()\n",
        "# fig, ax = plt.subplots(figsize=(8, 6))  # 设置图像尺寸\n",
        "\n",
        "# # 训练集和测试集的柱子\n",
        "# bars1 = ax.bar(x - width/2, train_metrics, width, label='Train')\n",
        "# bars2 = ax.bar(x + width/2, test_metrics, width, label='Test')\n",
        "\n",
        "# # 添加标签和标题\n",
        "# ax.set_ylabel('Scores')\n",
        "# ax.set_title('Comparison of Train and Test Set Metrics')\n",
        "# ax.set_xticks(x)\n",
        "# ax.set_xticklabels(metrics_labels)\n",
        "# ax.legend()\n",
        "\n",
        "# # 在每个柱子上显示数值\n",
        "# def autolabel(bars):\n",
        "#     \"\"\"在每个柱子上显示数值.\"\"\"\n",
        "#     for bar in bars:\n",
        "#         height = bar.get_height()\n",
        "#         ax.annotate('{}'.format(round(height, 3)),\n",
        "#                     xy=(bar.get_x() + bar.get_width() / 2, height),\n",
        "#                     # xytext=(0, 3),  # 3 点垂直偏移\n",
        "#                     xytext=(0, 4),  # 将文本稍微向上偏移\n",
        "#                     textcoords=\"offset points\",\n",
        "#                     ha='center', va='bottom', fontsize=10)  # 设置字体大小\n",
        "\n",
        "# autolabel(bars1)\n",
        "# autolabel(bars2)\n",
        "\n",
        "# fig.tight_layout()\n",
        "# plt.savefig(\"Comparison of Train and Test Set Metrics.pdf\", format='pdf',bbox_inches='tight')\n",
        "# plt.show()"
      ],
      "metadata": {
        "id": "TDHjS0GHf4Cu"
      },
      "execution_count": null,
      "outputs": []
    },
    {
      "cell_type": "markdown",
      "source": [
        "### 模型预测可视化"
      ],
      "metadata": {
        "id": "xHRBgpVtgd8r"
      }
    },
    {
      "cell_type": "markdown",
      "source": [
        "代码通过散点图、回归线、直方图和拟合优度（R²）值的可视化方式，直观展示模型在训练集和测试集上的预测表现，对角线 x=y 表示理想状态下的预测，散点的偏离程度和回归线的拟合情况则表明了模型的实际预测能力，通过这些图表，可以很好地评估模型的准确性和泛化能力"
      ],
      "metadata": {
        "id": "b9cZMLVtg261"
      }
    },
    {
      "cell_type": "code",
      "source": [
        "\n",
        "import pandas as pd\n",
        "import seaborn as sns\n",
        "import matplotlib.pyplot as plt\n",
        "\n",
        "# y_train = y_train.flatten()  # 确保y_train是一维\n",
        "# y_pred_train = y_pred_train.flatten()  # 确保y_pred_train是一维\n",
        "# y_test = y_test.flatten()  # 确保y_test是一维\n",
        "# y_pred_test = y_pred_test.flatten()  # 确保y_pred_test是一维\n",
        "\n",
        "# # 创建一个包含训练集和测试集真实值与预测值的数据框\n",
        "# data_train = pd.DataFrame({\n",
        "#     'True': y_train,\n",
        "#     'Predicted': y_pred_train,\n",
        "#     'Data Set': 'Train'\n",
        "# })\n",
        "\n",
        "# data_test = pd.DataFrame({\n",
        "#     'True': y_test,\n",
        "#     'Predicted': y_pred_test,\n",
        "#     'Data Set': 'Test'\n",
        "# })\n",
        "\n",
        "# data = pd.concat([data_train, data_test])\n",
        "\n",
        "# # 自定义调色板\n",
        "# palette = {'Train': '#b4d4e1', 'Test': '#f4ba8a'}\n",
        "\n",
        "# # 创建 JointGrid 对象\n",
        "# plt.figure(figsize=(8, 6), dpi=1200)\n",
        "# g = sns.JointGrid(data=data, x=\"True\", y=\"Predicted\", hue=\"Data Set\", height=10, palette=palette)\n",
        "\n",
        "# # 绘制中心的散点图\n",
        "# g.plot_joint(sns.scatterplot, alpha=0.5)\n",
        "# # 添加训练集的回归线\n",
        "# sns.regplot(data=data_train, x=\"True\", y=\"Predicted\", scatter=False, ax=g.ax_joint, color='#b4d4e1', label='Train Regression Line')\n",
        "# # 添加测试集的回归线\n",
        "# sns.regplot(data=data_test, x=\"True\", y=\"Predicted\", scatter=False, ax=g.ax_joint, color='#f4ba8a', label='Test Regression Line')\n",
        "# # 添加边缘的柱状图\n",
        "# g.plot_marginals(sns.histplot, kde=False, element='bars', multiple='stack', alpha=0.5)\n",
        "\n",
        "# # 添加拟合优度文本在右下角\n",
        "# ax = g.ax_joint\n",
        "# ax.text(0.95, 0.1, f'Train $R^2$ = {r2_train:.3f}', transform=ax.transAxes, fontsize=12,\n",
        "#         verticalalignment='bottom', horizontalalignment='right', bbox=dict(boxstyle=\"round,pad=0.3\", edgecolor=\"black\", facecolor=\"white\"))\n",
        "# ax.text(0.95, 0.05, f'Test $R^2$ = {r2_test:.3f}', transform=ax.transAxes, fontsize=12,\n",
        "#         verticalalignment='bottom', horizontalalignment='right', bbox=dict(boxstyle=\"round,pad=0.3\", edgecolor=\"black\", facecolor=\"white\"))\n",
        "# # 在左上角添加模型名称文本\n",
        "# ax.text(0.75, 0.99, 'Model = NN', transform=ax.transAxes, fontsize=12,\n",
        "#         verticalalignment='top', horizontalalignment='left', bbox=dict(boxstyle=\"round,pad=0.3\", edgecolor=\"black\", facecolor=\"white\"))\n",
        "\n",
        "# # 添加中心线\n",
        "# ax.plot([data['True'].min(), data['True'].max()], [data['True'].min(), data['True'].max()], c=\"black\", alpha=0.5, linestyle='--', label='x=y')\n",
        "# ax.legend()\n",
        "# plt.savefig(\"TrueFalse.pdf\", format='pdf', bbox_inches='tight')\n",
        "# plt.show()"
      ],
      "metadata": {
        "id": "D1E-1wuKgexW"
      },
      "execution_count": null,
      "outputs": []
    },
    {
      "cell_type": "markdown",
      "source": [
        "### shap原始特征贡献可视化"
      ],
      "metadata": {
        "id": "7TWVHWBPg-Jj"
      }
    },
    {
      "cell_type": "markdown",
      "source": [
        "下面这段代码通过 SHAP 库内置的函数计算模型在测试集上每个特征的 SHAP 值（，并自动生成一个条形图，总结各个特征对模型预测的重要性，条形图是由 SHAP 库的 shap.summary_plot() 函数生成的，它能够直观地展示哪些特征在模型预测中最为关键，从而提供全局层面的模型可解释性，这意味着用户无需手动绘制图表，直接利用 SHAP 的内置函数即可快速得到结果，但是它并不支持直接生成文献一样的特征贡献图，而是需要我们根据原理去进行图表绘制）"
      ],
      "metadata": {
        "id": "8YPq1hBPlIw4"
      }
    },
    {
      "cell_type": "code",
      "source": [
        "# # shap原始特征贡献可视化\n",
        "\n",
        "import shap\n",
        "# # 构建 shap解释器\n",
        "\n",
        "# # shap.TreeExplainer 专门用于树型模型，如 XGBoost、LightGBM、CatBoost 等。 它通过 Tree SHAP 算法，能够高效地计算树型模型的 SHAP 值。 在使用 TreeExplainer 时，只需要提供训练好的模型对象：\n",
        "# # explainer = shap.TreeExplainer(bmodel)\n",
        "\n",
        "# # shap.KernelExplainer 是一种通用的解释器，适用于任何类型的模型，包括深度神经网络、支持向量机等。 它通过对模型进行近似拟合，计算每个特征对预测结果的影响。\n",
        "# # 在使用 KernelExplainer 时，需要提供两个参数：model.predict：模型的预测函数，用于生成预测结果。 X_train：训练数据集，用于估计特征的分布。\n",
        "# # explainer = shap.KernelExplainer(bmodel.predict, X_train)\n",
        "\n",
        "# # shap.DeepExplainer 专门用于深度学习模型，如神经网络。它基于 SHAP 和 DeepLIFT 算法，能够有效地计算深度学习模型的 SHAP 值。 DeepExplainer 会自动处理模型的内部结构，计算每个特征对预测结果的影响。\n",
        "# # 在使用 DeepExplainer 时，通常只需要提供两个参数，分别是：模型对象和训练数据集。其中，model 是训练好的深度学习模型，X_train 是训练数据集。\n",
        "# explainer = shap.DeepExplainer(bmodel, X_train)\n",
        "\n",
        "# # 计算测试集的shap值\n",
        "# # 对于回归问题，shap_values是一个形状为(num_samples, num_features)的数组。\n",
        "# # 检查shap_values的维度，并确保shap_values是一个二维数组，包含了每个样本和每个特征的贡献值。\n",
        "# shap_values = explainer.shap_values(X_test)\n",
        "\n",
        "# # # 特征标签\n",
        "# # labels = X_test.columns\n",
        "# # 假设有6个特征\n",
        "# labels_columns = ['Height', 'Mean_HH_DirMean', 'Mean_HV_DirMean', 'RLD_20', 'sigmadB_HV', 'SinAspect']\n",
        "\n",
        "# # # 绘制SHAP值总结图（Summary Plot）\n",
        "# # plt.figure(figsize=(15, 5))\n",
        "# # shap.summary_plot(shap_values, X_test, plot_type=\"bar\", show=False)\n",
        "# # plt.title(\"SHAP_Feature_Importance_Raw_Output\")\n",
        "# # plt.savefig(\"SHAP_Feature_Importance_Raw_Output.pdf\", format='pdf',bbox_inches='tight')\n",
        "# # plt.show()"
      ],
      "metadata": {
        "id": "cpGvHGojknho"
      },
      "execution_count": null,
      "outputs": []
    },
    {
      "cell_type": "markdown",
      "source": [
        "下面代码是计算每个特征对模型预测的平均贡献度，包括创建类别规则、特征对应的类别以及将类别映射到DataFrame这三部分代码。\n",
        "\n",
        "具体解释如下，特征的重要程度计算原理——shap样本值取绝对值的平均值从而得到每个特征的重要程度，然后原始数据对于每个特征是没有具体的类别划分的，这里我们根据特征的实际含义进行划分，即是我经过Boruta特征筛选之后的6个特征，将它们的波段名称一一对应起来，方便后续的文献复现工作：Height、Mean_HH_DirMean、Mean_HV_DirMean、RLD_20、sigmadB_HV、SinAspect\n",
        "\n",
        "我也采用作者的思路，将特征再划分到各个类别中去，因为我的6个特征中又分为3类：地形特征(Height、RLD_20、SinAspect)、纹理特征（Mean_HH_DirMean、Mean_HV_DirMean）以及后向散射系数特征（sigmadB_HV）"
      ],
      "metadata": {
        "id": "iZyMYK-sh_Yn"
      }
    },
    {
      "cell_type": "markdown",
      "source": [
        "### 环形图绘制\n",
        "首先按特征类别和贡献度对数据进行排序，然后根据每个类别和特征的贡献度生成同心饼图，其中外圈展示各类别的总贡献度，内圈展示各个特征的具体贡献度，并通过颜色渐变区分类别内特征的重要性，最终生成一个可视化特征贡献的环形图并保存为 PDF 文件，这里作者关闭标签显示是为了一步一步演示，读者可以显示标签使得可视化更方便阅读"
      ],
      "metadata": {
        "id": "QGTBB5IrU_GU"
      }
    },
    {
      "cell_type": "code",
      "source": [
        "# # 在使用 SHAP 进行特征重要性分析时，通常会计算每个特征对模型预测结果的平均贡献度。\n",
        "# # 这通常通过对所有样本的 SHAP 值取绝对值的平均来实现，即 np.abs(shap_values).mean(axis=0)。\n",
        "# # 这种方法可以衡量每个特征对模型预测结果的平均影响程度。\n",
        "\n",
        "# # 计算每个特征的贡献度，axis=0 表示沿着样本维度进行操作，即对每个特征在所有样本上的 SHAP 值取平均。\n",
        "# # 假设 shap_values 是一个二维数组，shape 为 (n_samples, n_features)\n",
        "\n",
        "# # 打印 SHAP 值的形状，检查它的维度\n",
        "# print(shap_values.shape)  # 输出形状 (11722, 6, 1)\n",
        "# # 这种情况下就转变为了\"如何正确计算每个特征的平均 SHAP 值\"\n",
        "\n",
        "# # 如果 SHAP 值是三维数组，选择第一维来计算贡献度\n",
        "# # 对每个特征的贡献度求绝对值的平均\n",
        "# # feature_contributions = np.abs(shap_values).mean(axis=0)\n",
        "# # 计算每个特征的平均贡献度，取绝对值并在样本维度（axis=0）求平均\n",
        "# feature_contributions = np.abs(shap_values).mean(axis=0).flatten()\n",
        "\n",
        "# # 确保feature_contributions是一个一维数组，这样在创建DataFrame时，数据的维度是匹配的。\n",
        "# # 创建一个DataFrame，其中一列是特征名，另一列是特征贡献度\n",
        "# contribution_df = pd.DataFrame({\n",
        "#     'Feature': labels_columns,\n",
        "#     'Contribution': feature_contributions\n",
        "# })\n",
        "\n",
        "# # 创建类别规则\n",
        "# Category = ['Terrain', 'texture', 'Backscattering']\n",
        "\n",
        "# # 特征对应的类别\n",
        "# category_map = {\n",
        "#     'Height': 'Terrain',\n",
        "#     'Mean_HH_DirMean': 'texture',\n",
        "#     'Mean_HV_DirMean': 'texture',\n",
        "#     'RLD_20': 'Terrain',\n",
        "#     'sigmadB_HV': 'Backscattering',\n",
        "#     'SinAspect': 'Terrain'\n",
        "# }\n",
        "\n",
        "# # 将类别映射到DataFrame\n",
        "# contribution_df['Category'] = contribution_df['Feature'].map(category_map)\n",
        "\n",
        "# # 打印 DataFrame\n",
        "# print(contribution_df)\n",
        "# # contribution_df\n",
        "\n",
        "\n",
        "\n",
        "\n",
        "# # # 环形图绘制\n",
        "\n",
        "# # # 按类别和贡献度对数据进行排序，确保同一类别的特征在一起，贡献度从高到低排列\n",
        "# # contribution_df_sorted = contribution_df.sort_values(by=['Category', 'Contribution'], ascending=[True, False])\n",
        "\n",
        "# # # 创建一个用于生成颜色渐变的函数\n",
        "# # def get_color_gradient(base_color, num_shades):\n",
        "# #     # 生成从浅到深的颜色渐变\n",
        "# #     gradient = np.linspace(0.4, 1, num_shades)  # 生成从较浅（0.4）到原色（1）的渐变\n",
        "# #     return [(base_color[0], base_color[1], base_color[2], shade) for shade in gradient]\n",
        "\n",
        "# # # 为三个类别定义颜色\n",
        "# # category_colors = {\n",
        "# #     'Terrain': (0.9, 0.7, 0.2, 1),  # 黄色\n",
        "# #     # 'texture': (0.6, 0.3, 0.9, 1),     # 紫色\n",
        "# #     'texture': (0.7, 0.3, 0.3, 1),      # 暗红\n",
        "# #     # 'Non-linear': (0.2, 0.9, 0.9, 1), # 青色\n",
        "# #     'Backscattering': (0.3, 0.6, 0.9, 1),    # 浅蓝\n",
        "# # }\n",
        "\n",
        "# # # 默认颜色，如果类别未定义时使用\n",
        "# # default_color = (0.8, 0.8, 0.8, 1)  # 灰色\n",
        "\n",
        "# # # 获取内圈和外圈的贡献度数据\n",
        "# # inner_contribution = contribution_df_sorted.groupby('Category')['Contribution'].sum()\n",
        "# # outer_contribution = contribution_df_sorted.set_index('Feature')['Contribution']\n",
        "\n",
        "# # # 检查是否有未定义的类别\n",
        "# # undefined_categories = set(inner_contribution.index) - set(category_colors.keys())\n",
        "# # if undefined_categories:\n",
        "# #     print(f\"Warning: 以下类别没有定义颜色，将使用默认颜色: {undefined_categories}\")\n",
        "\n",
        "# # # 为每个类别在外圈创建颜色渐变\n",
        "# # outer_colors = []\n",
        "# # for category in inner_contribution.index:\n",
        "# #     # 选取当前类别的数据\n",
        "# #     category_df = contribution_df_sorted[contribution_df_sorted['Category'] == category]\n",
        "# #     # 获取类别的基础颜色，如果没有定义则使用默认颜色\n",
        "# #     base_color = category_colors.get(category, default_color)\n",
        "# #     # 为当前类别生成颜色渐变\n",
        "# #     gradient_colors = get_color_gradient(base_color, len(category_df))\n",
        "# #     outer_colors.extend(gradient_colors)\n",
        "\n",
        "# # # 内外圈的标签准备\n",
        "# # inner_labels = inner_contribution.index\n",
        "# # outer_labels = outer_contribution.index\n",
        "\n",
        "# # # 绘制同心饼图\n",
        "# # fig, ax = plt.subplots(figsize=(8, 8), dpi=1200)\n",
        "\n",
        "# # # # 绘制内圈饼图（类别级别的饼图），显示百分比，显示标签\n",
        "# # # ax.pie(inner_contribution, labels_columns=['']*len(inner_contribution), autopct='%1.1f%%', radius=1,\n",
        "# # #        colors=[category_colors.get(cat, default_color) for cat in inner_labels], wedgeprops=dict(width=0.3, edgecolor='w'))\n",
        "\n",
        "# # # # 绘制外圈饼图（特征级别的饼图），显示标签和百分比\n",
        "# # # ax.pie(outer_contribution, labels_columns=['']*len(outer_labels), radius=0.7, colors=outer_colors, wedgeprops=dict(width=0.3, edgecolor='w'))\n",
        "\n",
        "# # # 绘制内圈饼图（类别级别的饼图），显示百分比和标签\n",
        "# # ax.pie(inner_contribution, labels_columns=inner_labels, autopct='%1.1f%%', radius=1,\n",
        "# #        colors=[category_colors.get(cat, default_color) for cat in inner_labels], wedgeprops=dict(width=0.3, edgecolor='w'))\n",
        "\n",
        "# # # 绘制外圈饼图（特征级别的饼图），显示标签和百分比\n",
        "# # ax.pie(outer_contribution, labels_columns=outer_labels, autopct='%1.1f%%', radius=0.7, colors=outer_colors, wedgeprops=dict(width=0.3, edgecolor='w'))\n",
        "\n",
        "# # # 添加白色中心圆，形成环形图\n",
        "# # plt.gca().add_artist(plt.Circle((0, 0), 0.4, color='white'))\n",
        "\n",
        "# # # 添加标题\n",
        "# # plt.title('Feature and Category Contribution by SHAP')\n",
        "# # plt.savefig(\"Feature and Category Contribution by SHAP.pdf\", format='pdf',bbox_inches='tight')\n",
        "# # # 显示图表\n",
        "# # plt.show()\n",
        "\n",
        "\n"
      ],
      "metadata": {
        "id": "nmm4qVZug_Om"
      },
      "execution_count": null,
      "outputs": []
    },
    {
      "cell_type": "markdown",
      "source": [
        "### 条形图绘制\n",
        "生成一个水平条形图，按贡献度从高到低显示各个特征的贡献，同时用不同颜色区分特征所属的类别，并添加图例，该图表直观地展示了哪些特征对模型的影响最大"
      ],
      "metadata": {
        "id": "wx7DgdKrWZAi"
      }
    },
    {
      "cell_type": "code",
      "source": [
        "# # 条形图绘制\n",
        "\n",
        "# # 按贡献度从高到低排序\n",
        "# contribution_df_sorted = contribution_df.sort_values(by='Contribution', ascending=False)\n",
        "\n",
        "# # 准备颜色列表\n",
        "# bar_colors = [category_colors.get(cat, (0.8, 0.8, 0.8, 1)) for cat in contribution_df_sorted['Category']]\n",
        "\n",
        "# # 绘制水平柱状图\n",
        "# fig, ax = plt.subplots(figsize=(10, 8), dpi=1200)\n",
        "\n",
        "# # 绘制条形图\n",
        "# ax.barh(contribution_df_sorted['Feature'], contribution_df_sorted['Contribution'], color=bar_colors)\n",
        "\n",
        "# # 添加图例\n",
        "# handles = [plt.Rectangle((0, 0), 1, 1, color=category_colors[cat]) for cat in category_colors]\n",
        "# labels_columns = list(category_colors.keys())\n",
        "# ax.legend(handles, labels_columns, loc='lower right')\n",
        "\n",
        "# # 设置标签和标题\n",
        "# ax.set_xlabel('Contribution')\n",
        "# ax.set_ylabel('Feature')\n",
        "# ax.set_title('Feature Contributions by Category')\n",
        "\n",
        "# # 反转y轴，以便贡献度最大的特征在顶部\n",
        "# ax.invert_yaxis()\n",
        "# plt.savefig(\"Feature Contributions by Category.pdf\", format='pdf',bbox_inches='tight')\n",
        "\n",
        "# # 显示图表\n",
        "# plt.show()"
      ],
      "metadata": {
        "id": "we4I3oDUWSR4"
      },
      "execution_count": null,
      "outputs": []
    },
    {
      "cell_type": "markdown",
      "source": [
        "### 环形图和条形图组合绘图"
      ],
      "metadata": {
        "id": "_xaSpE3lXFqS"
      }
    },
    {
      "cell_type": "markdown",
      "source": [
        "通过组合柱状图和同心饼图的方式，直观展示各个特征在模型中的贡献度，以及各个类别对模型的整体贡献。柱状图显示特征的详细贡献，饼图则提供了类别层面的总体贡献展示，使得用户能够从全局和细节两方面理解特征的重要性，**这里读者其实是不需要单独去绘制环形图和条形图的，作者只是为了让读者更方便理解，**其次这里的环形图和文献的环形图刚好是相反的，作者这里外圈是特征类别总贡献度，内圈是各个特征具体的贡献度映射，对于模型解读并没有区别\n",
        "\n",
        "**可视化解读：**年龄（age）作为“基本信息”类别的特征贡献度最高，DFA作为“非线性”特征也具有显著贡献，外圈饼图显示“基本信息”类别占总贡献的 71.5%，而“非线性”特征占 20%，其余类别如“噪声”、“抖动”和“振幅”特征的贡献较小，内圈的特征贡献进一步细分了各类别中具体特征的贡献度，帮助直观理解特征对模型预测的重要性。需要注意的是，这个结果基于演示用的复现数据，对于实际生活中的情况并不一定具有直接的参考价值"
      ],
      "metadata": {
        "id": "Wn6sRwENXWRx"
      }
    },
    {
      "cell_type": "code",
      "source": [
        "\n",
        "from mpl_toolkits.axes_grid1.inset_locator import inset_axes\n",
        "\n",
        "# # 环形图和条形图组合绘图\n",
        "# # 按类别和贡献度对数据进行排序，确保同一类别的特征在一起，贡献度从高到低排列\n",
        "# contribution_df_sorted = contribution_df.sort_values(by=['Category', 'Contribution'], ascending=[True, False])\n",
        "\n",
        "# # 创建一个用于生成颜色渐变的函数\n",
        "# def get_color_gradient(base_color, num_shades):\n",
        "#     # 生成从浅到深的颜色渐变\n",
        "#     gradient = np.linspace(0.4, 1, num_shades)  # 生成从较浅（0.4）到原色（1）的渐变\n",
        "#     return [(base_color[0], base_color[1], base_color[2], shade) for shade in gradient]\n",
        "\n",
        "# # 为三个类别定义颜色\n",
        "# category_colors = {\n",
        "#     'Terrain': (0.9, 0.7, 0.2, 1),  # 黄色\n",
        "#     # 'texture': (0.6, 0.3, 0.9, 1),     # 紫色\n",
        "#     'texture': (0.7, 0.3, 0.3, 1),      # 暗红\n",
        "#     # 'Non-linear': (0.2, 0.9, 0.9, 1), # 青色\n",
        "#     'Backscattering': (0.3, 0.6, 0.9, 1),    # 浅蓝\n",
        "# }\n",
        "\n",
        "# # 默认颜色，如果类别未定义时使用\n",
        "# default_color = (0.8, 0.8, 0.8, 1)  # 灰色\n",
        "\n",
        "# # 获取内圈和外圈的贡献度数据\n",
        "# inner_contribution = contribution_df_sorted.groupby('Category')['Contribution'].sum()\n",
        "# outer_contribution = contribution_df_sorted.set_index('Feature')['Contribution']\n",
        "\n",
        "# # 检查是否有未定义的类别\n",
        "# undefined_categories = set(inner_contribution.index) - set(category_colors.keys())\n",
        "# if undefined_categories:\n",
        "#     print(f\"Warning: 以下类别没有定义颜色，将使用默认颜色: {undefined_categories}\")\n",
        "\n",
        "# # 为每个类别在外圈创建颜色渐变\n",
        "# outer_colors = []\n",
        "# for category in inner_contribution.index:\n",
        "#     # 选取当前类别的数据\n",
        "#     category_df = contribution_df_sorted[contribution_df_sorted['Category'] == category]\n",
        "#     # 获取类别的基础颜色，如果没有定义则使用默认颜色\n",
        "#     base_color = category_colors.get(category, default_color)\n",
        "#     # 为当前类别生成颜色渐变\n",
        "#     gradient_colors = get_color_gradient(base_color, len(category_df))\n",
        "#     outer_colors.extend(gradient_colors)\n",
        "\n",
        "# # 内外圈的标签准备\n",
        "# inner_labels = inner_contribution.index\n",
        "# outer_labels = outer_contribution.index\n",
        "\n",
        "# # 创建图形和子图\n",
        "# # fig, ax = plt.subplots(figsize=(10, 8), dpi=1200)\n",
        "# fig, ax = plt.subplots(figsize=(12, 10), dpi=1200)\n",
        "\n",
        "# # 设置背景颜色为淡灰色\n",
        "# ax.set_facecolor('#f0f0f0')\n",
        "\n",
        "# # 添加网格线，设置网格线样式\n",
        "# ax.grid(True, which='both', linestyle='--', linewidth=0.7, color='gray', alpha=0.7)\n",
        "\n",
        "\n",
        "# # ---- 绘制柱状图 ----\n",
        "# # 按贡献度从高到低排序\n",
        "# contribution_df_sorted = contribution_df.sort_values(by='Contribution', ascending=False)\n",
        "\n",
        "# # 准备颜色列表\n",
        "# bar_colors = [category_colors.get(cat, (0.8, 0.8, 0.8, 1)) for cat in contribution_df_sorted['Category']]\n",
        "\n",
        "\n",
        "# # 绘制条形图\n",
        "# # 调整条形图的宽度，height=0.3 可以让条形图更窄\n",
        "# ax.barh(contribution_df_sorted['Feature'], contribution_df_sorted['Contribution'], color=bar_colors, height=0.6)\n",
        "\n",
        "# # 添加图例\n",
        "# handles = [plt.Rectangle((0, 0), 1, 1, color=category_colors[cat]) for cat in category_colors]\n",
        "# labels_columns = list(category_colors.keys())\n",
        "# ax.legend(handles, labels_columns, loc='lower right')\n",
        "\n",
        "# # 设置标签和标题\n",
        "# ax.set_xlabel('Contribution')\n",
        "# ax.set_ylabel('Feature')\n",
        "# ax.set_title('Feature Contributions by Category')\n",
        "\n",
        "# # 反转y轴，以便贡献度最大的特征在顶部\n",
        "# ax.invert_yaxis()\n",
        "\n",
        "\n",
        "# # ---- 在柱状图中嵌入同心饼图 ----\n",
        "\n",
        "# # 为环形图创建嵌入坐标轴\n",
        "# # width=2, height=2: 这定义了插图的宽度和高度为 2（单位是 inch，英寸）。因此，插图较小。\n",
        "# # bbox_to_anchor 控制插图的位置和大小。\n",
        "# # 0.8 和 0.35 指定插图的 左下角 在主图坐标系中的位置（相对于 ax 的坐标轴），表示插图将从主图的右侧偏移 80% 和从上面偏移 35%。\n",
        "# # 0.2 和 0.2 是插图的宽度和高度比例，表示插图的大小是主图宽度和高度的 20%。\n",
        "# inset_ax = inset_axes(ax, width=3, height=3, loc='upper right', bbox_to_anchor=(0.8, 0.35, 0.2, 0.2), bbox_transform=ax.transAxes)\n",
        "\n",
        "# # 绘制内圈饼图（类别级别的饼图），显示百分比，不显示标签\n",
        "# inset_ax.pie(inner_contribution, labels_columns=['']*len(inner_contribution), autopct='%1.1f%%', radius=1,\n",
        "#        colors=[category_colors.get(cat, default_color) for cat in inner_labels],\n",
        "#        wedgeprops=dict(width=0.3, edgecolor='w'),\n",
        "#        pctdistance=0.85)  # 增加pctdistance来防止数字重叠\n",
        "\n",
        "# # 绘制外圈饼图（特征级别的饼图），显示百分比，不显示标签\n",
        "# inset_ax.pie(outer_contribution, labels_columns=['']*len(outer_contribution), autopct='%1.1f%%', radius=0.7,\n",
        "#        colors=outer_colors,\n",
        "#        wedgeprops=dict(width=0.3, edgecolor='w'),\n",
        "#        pctdistance=0.75)  # 增加pctdistance来防止数字重叠\n",
        "\n",
        "\n",
        "# # 添加白色中心圆，形成环形图\n",
        "# inset_ax.add_artist(plt.Circle((0, 0), 0.4, color='white'))\n",
        "\n",
        "# plt.savefig(\"NN_Combined_Feature_Contributions_and_Circular_Chart.pdf\", format='pdf',bbox_inches='tight')\n",
        "\n",
        "# # 显示图表\n",
        "# plt.show()\n"
      ],
      "metadata": {
        "id": "43pwnCw-wG5W"
      },
      "execution_count": null,
      "outputs": []
    },
    {
      "cell_type": "code",
      "source": [
        "# %tensorboard --logdir logs"
      ],
      "metadata": {
        "id": "2J0nE48b9XyV"
      },
      "execution_count": null,
      "outputs": []
    },
    {
      "cell_type": "code",
      "source": [
        "# # 计算预测结果的均值\n",
        "# mean_nn = np.mean(ypred_nn[:])  # calculate mean\n",
        "# # 计算预测结果的不同分位数（1%, 25%, 50%, 75%, 99%）\n",
        "# quantiles_nn = np.percentile(ypred_nn[:], [1, 25, 50, 75, 99])  # calculate quantiles 0.01, 0.25, 0.5, 0.75, 0.99\n",
        "\n",
        "# # 计算标签的均值\n",
        "# mean_labels = np.mean(labels[:])\n",
        "# # 计算标签的不同分位数（1%, 25%, 50%, 75%, 99%）\n",
        "# quantiles_labels = np.percentile(labels[:], [1, 25, 50, 75, 99])\n",
        "\n",
        "# print(mean_nn)\n",
        "# print(quantiles_nn)\n",
        "# # 打印预测值中最小的 10 个和最大的 10 个。\n",
        "# print(np.sort(ypred_nn.flatten())[:10])  # print the 10 lowest predictions\n",
        "# print(np.sort(ypred_nn.flatten())[-10:][::-1])  # print the 10 highest predictions\n",
        "\n",
        "# print(mean_labels)\n",
        "# print(quantiles_labels)\n",
        "# # 打印标签中最小的 10 个和最大的 10 个。\n",
        "# print(np.sort(labels.flatten())[:10])\n",
        "# print(np.sort(labels.flatten())[-10:][::-1])\n"
      ],
      "metadata": {
        "id": "aLkhRG8n9Zcg"
      },
      "execution_count": null,
      "outputs": []
    },
    {
      "cell_type": "markdown",
      "source": [
        "# Prediction of test image neural network"
      ],
      "metadata": {
        "id": "oBCzt7Kp0lTx"
      }
    },
    {
      "cell_type": "markdown",
      "source": [
        "有专门准备测试图像才用得上这部分代码,没有测试图像就用不上了\n",
        "\n",
        "测试图像被分割为1024*1024的大小，通道数为11，即分割得的图像块形状为（11，1024，1024）\n",
        "\n",
        "以后有新的图像数据需要进行预测，那么可以参考这部分代码来处理这些新数据，提取图像块并进行预测。"
      ],
      "metadata": {
        "id": "QqGSFdBC05Fz"
      }
    },
    {
      "cell_type": "markdown",
      "source": [
        "### 加载训练好的模型与测试图像并预测"
      ],
      "metadata": {
        "id": "B_I2m8Mj2m4Q"
      }
    },
    {
      "cell_type": "code",
      "source": [
        "# # 加载测试数据并切分为图像块（patches）\n",
        "\n",
        "# # 加载保存由测试图像切割而来的图像块的文件夹路径\n",
        "# folder_path = '/content/drive/My Drive/data/images/'  #folder path\n",
        "# # 加载已训练的 神经网络 / rf 模型\n",
        "# nnmodel = load_model('/content/drive/My Drive/forest_height/models/NNmodels/best_NNmodel_Std.keras')\n",
        "# # ind 是保存由测试图像切割得的图像块文件时的索引，以确保文件名唯一。\n",
        "# ind = 0\n",
        "\n",
        "# # Iterate over the files in the folder\n",
        "# # 遍历文件夹中的图像块\n",
        "# for filename in os.listdir(folder_path):\n",
        "#     file_path = os.path.join(folder_path, filename)\n",
        "#     if os.path.isfile(file_path):\n",
        "#       # 加载图像块\n",
        "#       # X 的形状应该是 (6, 1024, 1024)。\n",
        "#       X = np.load(file_path) #load patch\n",
        "\n",
        "#       # 网络的输入应该是 (batch_size, feature_size)，因此应该将 X 直接展平为 (batch_size, 6)。这样才符合神经网络的输入要求（即每个样本有 6 个特征）。\n",
        "#       # 将图像块重塑为 (6, -1) 形状，并转置. 即将 X 重塑为了(6, 1024 * 1024), 转置以后形状为(1024 * 1024, 6)\n",
        "#       # 此时每一行代表一个像素点的所有特征（即每个像素的 6 个波段的值），而列数代表特征的维度。这样做的原因是因为神经网络的输入需要每个样本是一个向量，每个样本代表一个像素点的 9 个特征。这样处理后的数据可以直接传入神经网络。\n",
        "#       Xr = X.reshape(6,-1).transpose() #transpose patch\n",
        "\n",
        "#       # 特征标准化\n",
        "#       # from sklearn.preprocessing import StandardScaler\n",
        "\n",
        "#       # 对 Xr 中每个特征（通道）使用对应训练集的标准化器进行标准化\n",
        "#       Xr_standardized = np.copy(Xr)  # 创建一个 Xr 的副本\n",
        "#       for i in range(Xr.shape[1]):  # 遍历每个特征（通道）\n",
        "#           scaler = scalers[i]  # 获取对应特征的标准化器\n",
        "#           Xr_standardized[:, i] = scaler.transform(Xr[:, i].reshape(-1, 1)).flatten()  # 使用训练集的标准化参数对测试集进行 transform\n",
        "\n",
        "#       Xr = Xr_standardized\n",
        "\n",
        "#       # 使用 神经网络 / rf 进行预测\n",
        "#       # 神经网络预测时需要一个二维矩阵，其中每行是一个样本（像素点）的特征，形状是 (batch_size, 6)，其中 batch_size 是像素点的数量（即 size * size），而 6 是特征的维度。\n",
        "#       # rfpred 的形状应该是 (size * size, 1)的二维数组，表示每个像素的预测值, 而不是 (size * size,)的一维数组。这一点也可以从后一句\"将预测结果重塑为图像块大小\"的代码看出.\n",
        "#       rfpred = nnmodel.predict(Xr) #predict labels\n",
        "#       # 将预测结果重塑为图像块大小\n",
        "#       # transpose() 会将 nnpred 从 (size * size, 1) 转换为 (1, size * size)。\n",
        "#       # .reshape(1, 1024, 1024) 会将其重塑为一个大小为 (1, 1024, 1024) 的三维数组，这表示你正在把预测结果重新调整为图像块的形状。\n",
        "#       rfpredr = rfpred.transpose().reshape(1,1024,1024) #reshape patch to image size\n",
        "#       # 保存预测结果\n",
        "#       np.save('/content/drive/My Drive/forest_height/MaskNN/mask_'+ str(ind) + '.npy', rfpredr) #save patch\n",
        "#       # 更新索引\n",
        "#       ind = ind + 1\n",
        "#       # 输出预测结果的分位数\n",
        "#       print(np.percentile(rfpred[:], [1, 25, 50, 75, 99]))\n",
        "#       # 输出最小的 10 个预测值\n",
        "#       print(np.sort(rfpred.flatten())[:10])\n",
        "#       # 输出最大的 10 个预测值\n",
        "#       print(np.sort(rfpred.flatten())[-10:][::-1])"
      ],
      "metadata": {
        "id": "3wuL8-3S0l7Y"
      },
      "execution_count": null,
      "outputs": []
    },
    {
      "cell_type": "markdown",
      "source": [
        "### 重建预测图像并保存："
      ],
      "metadata": {
        "id": "wvyURgXP2tyZ"
      }
    },
    {
      "cell_type": "code",
      "source": [
        "# # 预测结果文件夹路径\n",
        "# folder_path = '/content/drive/My Drive/forest_height/MaskNN/'  #folder path\n",
        "# img_list = []\n",
        "\n",
        "# # Iterate over the files in the folder\n",
        "# # 遍历文件夹中的预测图像块\n",
        "# for filename in os.listdir(folder_path):\n",
        "#     file_path = os.path.join(folder_path, filename)\n",
        "#     if os.path.isfile(file_path):\n",
        "#         # Load the data from the file\n",
        "#         data = np.load(file_path) #加载预测结果\n",
        "#         # Append the data to the list\n",
        "#         img_list.append(data)  #将预测结果添加到列表中\n",
        "\n",
        "# # 我有 143 个切片（按 13 x 11 进行排列），可以利用这些切片的索引按列和按行拼接来恢复完整的图像。\n",
        "# # 假设img_list包含所有的切片，已经按正确顺序加载\n",
        "# m = 11  # 高度方向的切片数量\n",
        "# n = 13  # 宽度方向的切片数量\n",
        "\n",
        "# # 将每13个图像块按列(宽度方向)拼接\n",
        "# # Concatenate the patches along the columns (horizontal axis)\n",
        "# # 按列拼接每行的切片\n",
        "# rows = []\n",
        "# for i in range(m):\n",
        "#     row = np.concatenate(img_list[i*n:(i+1)*n], axis=2)  # 按列拼接\n",
        "#     rows.append(row)\n",
        "\n",
        "# # 按行拼接\n",
        "# original_image = np.concatenate(rows, axis=1)  # 按行拼接\n",
        "\n",
        "# # im1 = np.concatenate((img_list[0], img_list[1], img_list[2], img_list[3]), axis=2)\n",
        "# # im2 = np.concatenate((img_list[4], img_list[5], img_list[6], img_list[7]), axis=2)\n",
        "# # im3= np.concatenate((img_list[8], img_list[9], img_list[10], img_list[11]), axis=2)\n",
        "# # im4 = np.concatenate((img_list[12], img_list[13], img_list[14], img_list[15]), axis=2)\n",
        "\n",
        "# # # 再将四个拼接好的部分按行(高度方向)拼接\n",
        "# # # Concatenate the rows along the vertical axis to rebuild the original image\n",
        "# # original_image = np.concatenate((im1, im2, im3, im4), axis=1)\n",
        "\n",
        "# #保存重建后的完整预测图像\n",
        "# np.save('/content/drive/My Drive/forest_height/MaskNN/FinalPredictions/mask_private_nn.npy', original_image)\n"
      ],
      "metadata": {
        "id": "I747r_dV2dU-"
      },
      "execution_count": null,
      "outputs": []
    },
    {
      "cell_type": "markdown",
      "source": [
        "### 可视化预测结果"
      ],
      "metadata": {
        "id": "V1B0omwa3PCk"
      }
    },
    {
      "cell_type": "code",
      "source": [
        "# plot_rebuild_image = np.load('/content/drive/My Drive/forest_height/MaskNN/FinalPredictions/mask_private_nn.npy')\n",
        "# # 将重建的预测图像由 (1, height, width) 转换为 (height, width)\n",
        "# tree_height_2d = plot_rebuild_image[0]\n",
        "\n",
        "# # 使用 `matplotlib` 绘制图像\n",
        "# # Plot the tree height data\n",
        "# plt.imshow(tree_height_2d, cmap='viridis')  # 使用 `viridis` 色图\n",
        "\n",
        "# # # 对图像应用高斯模糊，平滑过渡\n",
        "# # from scipy.ndimage import gaussian_filter\n",
        "# # tree_height_2d_smooth = gaussian_filter(tree_height_2d, sigma=2)  # 可以调整 sigma 来控制平滑程度\n",
        "# # np.save('/content/drive/My Drive/forest_height/MaskNN/FinalPredictions/mask_private_nn_guass.npy', tree_height_2d_smooth)\n",
        "# # tree_height_2d_smooth = np.load('/content/drive/My Drive/forest_height/MaskNN/FinalPredictions/mask_private_nn_guass.npy')\n",
        "\n",
        "# # 通过 matplotlib.colors.Normalize 来设置颜色映射的范围，您可以使得图中的有值部分更加突出。\n",
        "# # from matplotlib.colors import Normalize\n",
        "# # # 创建颜色归一化器，确保颜色带根据数据的最大最小值进行调整\n",
        "# # vmin = np.percentile(tree_height_2d, 5)  # 5% 分位数，用来调整低值的显示\n",
        "# # vmax = np.percentile(tree_height_2d, 95)  # 95% 分位数，用来调整高值的显示\n",
        "# # # 使用 'viridis' 色图并应用归一化\n",
        "# # plt.imshow(tree_height_2d, cmap='viridis', norm=Normalize(vmin=vmin, vmax=vmax))\n",
        "# # # plt.imshow(tree_height_2d, cmap='inferno', norm=Normalize(vmin=vmin, vmax=vmax))\n",
        "\n",
        "# # # 使用 LogNorm 来突出显示较小的值。\n",
        "# # # 如果您的预测结果具有较大范围的数值，并且您想要突出显示较小的值，可以使用对数归一化（LogNorm）。这种方式会使得较小的值更加明显，同时避免大数值区域压缩显示。\n",
        "# # from matplotlib.colors import LogNorm\n",
        "# # # 使用 LogNorm 进行对数归一化\n",
        "# # plt.imshow(tree_height_2d, cmap='viridis', norm=LogNorm(vmin=1, vmax=np.max(tree_height_2d)))\n",
        "\n",
        "# # # Add colorbar for reference\n",
        "# # plt.colorbar()  # 添加颜色条\n",
        "\n",
        "# # 添加颜色条并显示\n",
        "# cbar = plt.colorbar()\n",
        "# cbar.set_label('Tree Height')\n",
        "\n",
        "# # Display the plot\n",
        "# plt.show()"
      ],
      "metadata": {
        "id": "dSgjngoT2d6A"
      },
      "execution_count": null,
      "outputs": []
    },
    {
      "cell_type": "markdown",
      "source": [
        "### 输出预测结果的分位数和极值"
      ],
      "metadata": {
        "id": "KVf_V0Y03Uq2"
      }
    },
    {
      "cell_type": "code",
      "source": [
        "# print(np.percentile(plot_rebuild_image[:], [1, 25, 50, 75, 99])) #calculate quantiles 0.01, 0.25, 0.5, 0.75, 0.99\n",
        "\n",
        "# print(np.sort(plot_rebuild_image.flatten())[:10]) #print the 10 lowest predictions\n",
        "# print(np.sort(plot_rebuild_image.flatten())[-10:][::-1]) #print the 10 highest predictions"
      ],
      "metadata": {
        "id": "SrZqj4-Q3VTw"
      },
      "execution_count": null,
      "outputs": []
    },
    {
      "cell_type": "markdown",
      "source": [
        "# Convolutional neural network"
      ],
      "metadata": {
        "id": "D50-StiF9fwP"
      }
    },
    {
      "cell_type": "code",
      "source": [
        "# # 数据集拆分：训练集和测试集\n",
        "# X_train, X_test, y_train, y_test = train_test_split(features, labels, test_size = 0.3, random_state=3) #create train, test set\n"
      ],
      "metadata": {
        "id": "Mp9sfsYr9hAM"
      },
      "execution_count": null,
      "outputs": []
    },
    {
      "cell_type": "code",
      "source": [
        "# 加载 TensorBoard 插件，用于可视化训练过程的日志信息，如损失曲线、指标等。\n",
        "%load_ext tensorboard"
      ],
      "metadata": {
        "id": "PmkFLTtr9k6g",
        "colab": {
          "base_uri": "https://localhost:8080/"
        },
        "outputId": "8d797f53-1a98-4f8a-ff6d-6702d8b7c45a"
      },
      "execution_count": null,
      "outputs": [
        {
          "output_type": "stream",
          "name": "stdout",
          "text": [
            "The tensorboard extension is already loaded. To reload it, use:\n",
            "  %reload_ext tensorboard\n"
          ]
        }
      ]
    },
    {
      "cell_type": "code",
      "source": [
        "# # 转换 X_train 和 X_test 的格式为 NHWC\n",
        "# # y_train 和 y_test 是目标标签，它们通常是数值（对于回归问题）或分类标签（对于分类问题），是一维数组。目标标签与 CNN 的数据格式无关，因此无需调整。\n",
        "# X_train = X_train.transpose(0, 2, 3, 1)  # 从 (N, C, H, W) 转换为 (N, H, W, C)\n",
        "# X_test = X_test.transpose(0, 2, 3, 1)\n",
        "\n",
        "# # 检查转换后的形状\n",
        "# print(X_train.shape)  # 应输出 (49991, 5, 5, 6)\n",
        "# print(X_test.shape)   # 应输出 (21426, 5, 5, 6)\n"
      ],
      "metadata": {
        "id": "p3grYI7I9xxU"
      },
      "execution_count": null,
      "outputs": []
    },
    {
      "cell_type": "code",
      "source": [
        "from tensorflow.keras.layers import BatchNormalization"
      ],
      "metadata": {
        "id": "blc5RKuxmkAo"
      },
      "execution_count": null,
      "outputs": []
    },
    {
      "cell_type": "markdown",
      "source": [
        "### 创建 CNN 模型"
      ],
      "metadata": {
        "id": "HzqLiyc5wKIA"
      }
    },
    {
      "cell_type": "code",
      "source": [
        "# Keras 默认使用 channels_last 格式，这表示图像的输入形状是 (height, width, channels)。如果想使用 channels_first 格式（即 (channels, height, width)），需要进行相应的设置，比如通过 Keras 配置全局设置或者在模型层中明确指定\n",
        "# 这里采用为每个层指定数据格式。只有卷积层和池化层需要明确指定数据格式（channels_first 或 channels_last），而全连接层不需要这样做，展平层会处理掉格式问题。\n",
        "# 卷积操作会根据指定的数据格式进行计算，输出的形状也会遵循这种数据格式。\n",
        "\n",
        "# 使用 Sequential() 创建一个顺序模型（即按顺序堆叠各层）。\n",
        "modelCnn = Sequential() #bulid cnn\n",
        "\n",
        "# 输入层\n",
        "# 因为 features 数组形状为 (num_samples, 5, 5, 6)\n",
        "# 指定输入数据的形状。这里假设每个输入图像是一个 6 个通道的 5x5 大小的图像块。\n",
        "modelCnn.add(InputLayer(input_shape=(5, 5, 6)))  # NHWC 格式 # 输入形状为 (height, width，channels)\n",
        "# 添加标准化层\n",
        "# BatchNormalization 是一个内置的标准化层，它会动态地对输入数据进行标准化处理。\n",
        "# 它会根据输入数据的批量大小，计算批量内每个特征的均值和标准差，对数据进行标准化。\n",
        "# 如果你已经在数据预处理步骤中手动对特征数据进行了标准化（如使用 StandardScaler），那么不建议再使用 BatchNormalization，以免标准化重复，影响模型的学习。\n",
        "# 如果你选择使用 BatchNormalization，可以跳过数据预处理中的手动标准化部分。\n",
        "modelCnn.add(BatchNormalization(axis=-1))  # 对每个通道进行标准化\n",
        "\n",
        "# 注意：在卷积神经网络中，卷积核的形状是 (高度, 宽度, 输入通道数, 输出通道数)，这代表每个卷积核的尺寸、它需要处理的输入通道数，以及它生成的输出通道数。\n",
        "# 高度和宽度决定了卷积核的空间大小，常见的卷积核大小有 3x3、5x5、7x7 等。\n",
        "# 输入通道数是卷积核需要处理的输入特征图的深度（即输入图像的通道数）。\n",
        "# 输出通道数是卷积层的过滤器数目，也就是卷积层最终生成的特征图的数量。\n",
        "\n",
        "# 在卷积层和全连接层的权重上添加 L2 正则化，限制权重幅度，防止过拟合。\n",
        "# from tensorflow.keras.regularizers import l2\n",
        "# 当你定义一个卷积层时，卷积核的数量会决定卷积层输出的通道数，但卷积核的深度（即每个卷积核的输入通道数）是由输入数据的通道数（即输入特征图的深度）来决定的，而不用手动设置。\n",
        "# Conv2D 添加一个卷积层，filters=128 表示该层将有 128 个卷积核（即输出通道数），每个卷积核对应一个输出通道。\n",
        "# kernel_size=(3,3) 表示卷积核的大小是 3x3。trides=1 表示步幅为 1，即卷积核每次移动 1 个像素。padding=\"same\" 表示零填充（zero padding）策略，目的是使得 卷积操作后 输出特征图的尺寸 保持与输入相同（即宽度和高度保持不变）。activation='relu' 使用 ReLU 激活函数。\n",
        "# 第一层卷积核的形状是 (3, 3, 6，128)，该卷积层的输出图像的形状为(128, 5, 5)，其中 128 是输出的通道数，由于设置了padding = \"same\"，故输出图像大小不变。\n",
        "modelCnn.add(Conv2D(filters=128, kernel_size= (3,3), strides=  1 , padding = \"same\", activation='relu', kernel_regularizer=l2(1e-4)))\n",
        "# 批归一化\n",
        "modelCnn.add(BatchNormalization())  # 添加 BatchNorm\n",
        "\n",
        "# 另一个卷积层，filters=256 代表使用 256 个卷积核（即输出通道数），每个卷积核对应一个输出通道。padding=\"valid\" 表示不使用填充，输出大小会减少。\n",
        "# 第二层卷积核的形状是 (3, 3, 128，256)，该卷积层的输出图像的形状为(256, 3, 3)，其中 256 是输出的通道数，由于使用了 valid padding，输出尺寸减少。\n",
        "modelCnn.add(Conv2D(filters=256, kernel_size= (3,3), strides=  1 , padding = \"valid\", activation='relu', kernel_regularizer=l2(1e-4)))\n",
        "# 批归一化\n",
        "modelCnn.add(BatchNormalization())  # 添加 BatchNorm\n",
        "\n",
        "# MaxPool2D 添加一个最大池化层，pool_size=(2,2) 表示 2x2 的池化窗口，池化操作的 步长 默认是 2，减少空间维度（降低特征图的尺寸）。\n",
        "# 用 2x2 的过滤器，以2为步长进行特征值提取，因此该池化操作会将输入特征图的 空间尺寸（宽度和高度） 缩小一半。采用的池化操作是 最大池化。\n",
        "# 输入尺寸为 (256, 3, 3)，经过池化后，输出的尺寸会变为 (256, 1, 1)，因为池化操作会将 3x3 的特征图缩小为 1x1。\n",
        "modelCnn.add(MaxPool2D(pool_size = (2,2)))# 池化层\n",
        "\n",
        "# Flatten() 层将二维的特征图展平为一维向量，为全连接层做准备。\n",
        "# Flatten() 会将池化层输出的 (256, 1, 1) 转换为 256 的一维向量。这是因为在全连接层之前，必须将输入转换为一维数据。\n",
        "modelCnn.add(Flatten())# 展平层\n",
        "\n",
        "# 全连接层处理的是一维向量，而不是多维的图像数据。所以全连接层的输入格式不依赖于 channels_first 或 channels_last。\n",
        "# Dense(512) 添加一个全连接层，包含 512 个神经元，activation='relu' 使用 ReLU 激活函数。\n",
        "modelCnn.add(Dense(512, activation='relu', kernel_regularizer=l2(1e-4)))\n",
        "modelCnn.add(Dropout(0.5))  # 添加 Dropout\n",
        "\n",
        "# 另一个全连接层，包含 128 个神经元。\n",
        "modelCnn.add(Dense(128, activation='relu', kernel_regularizer=l2(1e-4)))\n",
        "modelCnn.add(Dropout(0.5))  # 添加 Dropout\n",
        "\n",
        "# Dropout(0.5) 是一个正则化方法，随机丢弃 50% 的神经元，防止过拟合。\n",
        "# modelCnn.add(Dropout(0.5))\n",
        "\n",
        "# 最后一层是一个包含 1 个神经元的全连接层，使用线性激活函数（适合回归任务）。\n",
        "modelCnn.add(Dense(1, activation='linear'))\n",
        "\n",
        "\n",
        "# summary() 输出模型的概况，显示每一层的参数数量和输出形状。\n",
        "modelCnn.summary()"
      ],
      "metadata": {
        "id": "yqdCLDGt92vK",
        "colab": {
          "base_uri": "https://localhost:8080/",
          "height": 617
        },
        "outputId": "28973b7e-cd88-4516-9b5b-7edd0ee550f5"
      },
      "execution_count": null,
      "outputs": [
        {
          "output_type": "stream",
          "name": "stderr",
          "text": [
            "/usr/local/lib/python3.11/dist-packages/keras/src/layers/core/input_layer.py:27: UserWarning: Argument `input_shape` is deprecated. Use `shape` instead.\n",
            "  warnings.warn(\n"
          ]
        },
        {
          "output_type": "display_data",
          "data": {
            "text/plain": [
              "\u001b[1mModel: \"sequential_1\"\u001b[0m\n"
            ],
            "text/html": [
              "<pre style=\"white-space:pre;overflow-x:auto;line-height:normal;font-family:Menlo,'DejaVu Sans Mono',consolas,'Courier New',monospace\"><span style=\"font-weight: bold\">Model: \"sequential_1\"</span>\n",
              "</pre>\n"
            ]
          },
          "metadata": {}
        },
        {
          "output_type": "display_data",
          "data": {
            "text/plain": [
              "┏━━━━━━━━━━━━━━━━━━━━━━━━━━━━━━━━━━━━━━┳━━━━━━━━━━━━━━━━━━━━━━━━━━━━━┳━━━━━━━━━━━━━━━━━┓\n",
              "┃\u001b[1m \u001b[0m\u001b[1mLayer (type)                        \u001b[0m\u001b[1m \u001b[0m┃\u001b[1m \u001b[0m\u001b[1mOutput Shape               \u001b[0m\u001b[1m \u001b[0m┃\u001b[1m \u001b[0m\u001b[1m        Param #\u001b[0m\u001b[1m \u001b[0m┃\n",
              "┡━━━━━━━━━━━━━━━━━━━━━━━━━━━━━━━━━━━━━━╇━━━━━━━━━━━━━━━━━━━━━━━━━━━━━╇━━━━━━━━━━━━━━━━━┩\n",
              "│ batch_normalization_4                │ (\u001b[38;5;45mNone\u001b[0m, \u001b[38;5;34m5\u001b[0m, \u001b[38;5;34m5\u001b[0m, \u001b[38;5;34m6\u001b[0m)             │              \u001b[38;5;34m24\u001b[0m │\n",
              "│ (\u001b[38;5;33mBatchNormalization\u001b[0m)                 │                             │                 │\n",
              "├──────────────────────────────────────┼─────────────────────────────┼─────────────────┤\n",
              "│ conv2d (\u001b[38;5;33mConv2D\u001b[0m)                      │ (\u001b[38;5;45mNone\u001b[0m, \u001b[38;5;34m5\u001b[0m, \u001b[38;5;34m5\u001b[0m, \u001b[38;5;34m128\u001b[0m)           │           \u001b[38;5;34m7,040\u001b[0m │\n",
              "├──────────────────────────────────────┼─────────────────────────────┼─────────────────┤\n",
              "│ batch_normalization_5                │ (\u001b[38;5;45mNone\u001b[0m, \u001b[38;5;34m5\u001b[0m, \u001b[38;5;34m5\u001b[0m, \u001b[38;5;34m128\u001b[0m)           │             \u001b[38;5;34m512\u001b[0m │\n",
              "│ (\u001b[38;5;33mBatchNormalization\u001b[0m)                 │                             │                 │\n",
              "├──────────────────────────────────────┼─────────────────────────────┼─────────────────┤\n",
              "│ conv2d_1 (\u001b[38;5;33mConv2D\u001b[0m)                    │ (\u001b[38;5;45mNone\u001b[0m, \u001b[38;5;34m3\u001b[0m, \u001b[38;5;34m3\u001b[0m, \u001b[38;5;34m256\u001b[0m)           │         \u001b[38;5;34m295,168\u001b[0m │\n",
              "├──────────────────────────────────────┼─────────────────────────────┼─────────────────┤\n",
              "│ batch_normalization_6                │ (\u001b[38;5;45mNone\u001b[0m, \u001b[38;5;34m3\u001b[0m, \u001b[38;5;34m3\u001b[0m, \u001b[38;5;34m256\u001b[0m)           │           \u001b[38;5;34m1,024\u001b[0m │\n",
              "│ (\u001b[38;5;33mBatchNormalization\u001b[0m)                 │                             │                 │\n",
              "├──────────────────────────────────────┼─────────────────────────────┼─────────────────┤\n",
              "│ max_pooling2d (\u001b[38;5;33mMaxPooling2D\u001b[0m)         │ (\u001b[38;5;45mNone\u001b[0m, \u001b[38;5;34m1\u001b[0m, \u001b[38;5;34m1\u001b[0m, \u001b[38;5;34m256\u001b[0m)           │               \u001b[38;5;34m0\u001b[0m │\n",
              "├──────────────────────────────────────┼─────────────────────────────┼─────────────────┤\n",
              "│ flatten (\u001b[38;5;33mFlatten\u001b[0m)                    │ (\u001b[38;5;45mNone\u001b[0m, \u001b[38;5;34m256\u001b[0m)                 │               \u001b[38;5;34m0\u001b[0m │\n",
              "├──────────────────────────────────────┼─────────────────────────────┼─────────────────┤\n",
              "│ dense_5 (\u001b[38;5;33mDense\u001b[0m)                      │ (\u001b[38;5;45mNone\u001b[0m, \u001b[38;5;34m512\u001b[0m)                 │         \u001b[38;5;34m131,584\u001b[0m │\n",
              "├──────────────────────────────────────┼─────────────────────────────┼─────────────────┤\n",
              "│ dropout_3 (\u001b[38;5;33mDropout\u001b[0m)                  │ (\u001b[38;5;45mNone\u001b[0m, \u001b[38;5;34m512\u001b[0m)                 │               \u001b[38;5;34m0\u001b[0m │\n",
              "├──────────────────────────────────────┼─────────────────────────────┼─────────────────┤\n",
              "│ dense_6 (\u001b[38;5;33mDense\u001b[0m)                      │ (\u001b[38;5;45mNone\u001b[0m, \u001b[38;5;34m128\u001b[0m)                 │          \u001b[38;5;34m65,664\u001b[0m │\n",
              "├──────────────────────────────────────┼─────────────────────────────┼─────────────────┤\n",
              "│ dropout_4 (\u001b[38;5;33mDropout\u001b[0m)                  │ (\u001b[38;5;45mNone\u001b[0m, \u001b[38;5;34m128\u001b[0m)                 │               \u001b[38;5;34m0\u001b[0m │\n",
              "├──────────────────────────────────────┼─────────────────────────────┼─────────────────┤\n",
              "│ dense_7 (\u001b[38;5;33mDense\u001b[0m)                      │ (\u001b[38;5;45mNone\u001b[0m, \u001b[38;5;34m1\u001b[0m)                   │             \u001b[38;5;34m129\u001b[0m │\n",
              "└──────────────────────────────────────┴─────────────────────────────┴─────────────────┘\n"
            ],
            "text/html": [
              "<pre style=\"white-space:pre;overflow-x:auto;line-height:normal;font-family:Menlo,'DejaVu Sans Mono',consolas,'Courier New',monospace\">┏━━━━━━━━━━━━━━━━━━━━━━━━━━━━━━━━━━━━━━┳━━━━━━━━━━━━━━━━━━━━━━━━━━━━━┳━━━━━━━━━━━━━━━━━┓\n",
              "┃<span style=\"font-weight: bold\"> Layer (type)                         </span>┃<span style=\"font-weight: bold\"> Output Shape                </span>┃<span style=\"font-weight: bold\">         Param # </span>┃\n",
              "┡━━━━━━━━━━━━━━━━━━━━━━━━━━━━━━━━━━━━━━╇━━━━━━━━━━━━━━━━━━━━━━━━━━━━━╇━━━━━━━━━━━━━━━━━┩\n",
              "│ batch_normalization_4                │ (<span style=\"color: #00d7ff; text-decoration-color: #00d7ff\">None</span>, <span style=\"color: #00af00; text-decoration-color: #00af00\">5</span>, <span style=\"color: #00af00; text-decoration-color: #00af00\">5</span>, <span style=\"color: #00af00; text-decoration-color: #00af00\">6</span>)             │              <span style=\"color: #00af00; text-decoration-color: #00af00\">24</span> │\n",
              "│ (<span style=\"color: #0087ff; text-decoration-color: #0087ff\">BatchNormalization</span>)                 │                             │                 │\n",
              "├──────────────────────────────────────┼─────────────────────────────┼─────────────────┤\n",
              "│ conv2d (<span style=\"color: #0087ff; text-decoration-color: #0087ff\">Conv2D</span>)                      │ (<span style=\"color: #00d7ff; text-decoration-color: #00d7ff\">None</span>, <span style=\"color: #00af00; text-decoration-color: #00af00\">5</span>, <span style=\"color: #00af00; text-decoration-color: #00af00\">5</span>, <span style=\"color: #00af00; text-decoration-color: #00af00\">128</span>)           │           <span style=\"color: #00af00; text-decoration-color: #00af00\">7,040</span> │\n",
              "├──────────────────────────────────────┼─────────────────────────────┼─────────────────┤\n",
              "│ batch_normalization_5                │ (<span style=\"color: #00d7ff; text-decoration-color: #00d7ff\">None</span>, <span style=\"color: #00af00; text-decoration-color: #00af00\">5</span>, <span style=\"color: #00af00; text-decoration-color: #00af00\">5</span>, <span style=\"color: #00af00; text-decoration-color: #00af00\">128</span>)           │             <span style=\"color: #00af00; text-decoration-color: #00af00\">512</span> │\n",
              "│ (<span style=\"color: #0087ff; text-decoration-color: #0087ff\">BatchNormalization</span>)                 │                             │                 │\n",
              "├──────────────────────────────────────┼─────────────────────────────┼─────────────────┤\n",
              "│ conv2d_1 (<span style=\"color: #0087ff; text-decoration-color: #0087ff\">Conv2D</span>)                    │ (<span style=\"color: #00d7ff; text-decoration-color: #00d7ff\">None</span>, <span style=\"color: #00af00; text-decoration-color: #00af00\">3</span>, <span style=\"color: #00af00; text-decoration-color: #00af00\">3</span>, <span style=\"color: #00af00; text-decoration-color: #00af00\">256</span>)           │         <span style=\"color: #00af00; text-decoration-color: #00af00\">295,168</span> │\n",
              "├──────────────────────────────────────┼─────────────────────────────┼─────────────────┤\n",
              "│ batch_normalization_6                │ (<span style=\"color: #00d7ff; text-decoration-color: #00d7ff\">None</span>, <span style=\"color: #00af00; text-decoration-color: #00af00\">3</span>, <span style=\"color: #00af00; text-decoration-color: #00af00\">3</span>, <span style=\"color: #00af00; text-decoration-color: #00af00\">256</span>)           │           <span style=\"color: #00af00; text-decoration-color: #00af00\">1,024</span> │\n",
              "│ (<span style=\"color: #0087ff; text-decoration-color: #0087ff\">BatchNormalization</span>)                 │                             │                 │\n",
              "├──────────────────────────────────────┼─────────────────────────────┼─────────────────┤\n",
              "│ max_pooling2d (<span style=\"color: #0087ff; text-decoration-color: #0087ff\">MaxPooling2D</span>)         │ (<span style=\"color: #00d7ff; text-decoration-color: #00d7ff\">None</span>, <span style=\"color: #00af00; text-decoration-color: #00af00\">1</span>, <span style=\"color: #00af00; text-decoration-color: #00af00\">1</span>, <span style=\"color: #00af00; text-decoration-color: #00af00\">256</span>)           │               <span style=\"color: #00af00; text-decoration-color: #00af00\">0</span> │\n",
              "├──────────────────────────────────────┼─────────────────────────────┼─────────────────┤\n",
              "│ flatten (<span style=\"color: #0087ff; text-decoration-color: #0087ff\">Flatten</span>)                    │ (<span style=\"color: #00d7ff; text-decoration-color: #00d7ff\">None</span>, <span style=\"color: #00af00; text-decoration-color: #00af00\">256</span>)                 │               <span style=\"color: #00af00; text-decoration-color: #00af00\">0</span> │\n",
              "├──────────────────────────────────────┼─────────────────────────────┼─────────────────┤\n",
              "│ dense_5 (<span style=\"color: #0087ff; text-decoration-color: #0087ff\">Dense</span>)                      │ (<span style=\"color: #00d7ff; text-decoration-color: #00d7ff\">None</span>, <span style=\"color: #00af00; text-decoration-color: #00af00\">512</span>)                 │         <span style=\"color: #00af00; text-decoration-color: #00af00\">131,584</span> │\n",
              "├──────────────────────────────────────┼─────────────────────────────┼─────────────────┤\n",
              "│ dropout_3 (<span style=\"color: #0087ff; text-decoration-color: #0087ff\">Dropout</span>)                  │ (<span style=\"color: #00d7ff; text-decoration-color: #00d7ff\">None</span>, <span style=\"color: #00af00; text-decoration-color: #00af00\">512</span>)                 │               <span style=\"color: #00af00; text-decoration-color: #00af00\">0</span> │\n",
              "├──────────────────────────────────────┼─────────────────────────────┼─────────────────┤\n",
              "│ dense_6 (<span style=\"color: #0087ff; text-decoration-color: #0087ff\">Dense</span>)                      │ (<span style=\"color: #00d7ff; text-decoration-color: #00d7ff\">None</span>, <span style=\"color: #00af00; text-decoration-color: #00af00\">128</span>)                 │          <span style=\"color: #00af00; text-decoration-color: #00af00\">65,664</span> │\n",
              "├──────────────────────────────────────┼─────────────────────────────┼─────────────────┤\n",
              "│ dropout_4 (<span style=\"color: #0087ff; text-decoration-color: #0087ff\">Dropout</span>)                  │ (<span style=\"color: #00d7ff; text-decoration-color: #00d7ff\">None</span>, <span style=\"color: #00af00; text-decoration-color: #00af00\">128</span>)                 │               <span style=\"color: #00af00; text-decoration-color: #00af00\">0</span> │\n",
              "├──────────────────────────────────────┼─────────────────────────────┼─────────────────┤\n",
              "│ dense_7 (<span style=\"color: #0087ff; text-decoration-color: #0087ff\">Dense</span>)                      │ (<span style=\"color: #00d7ff; text-decoration-color: #00d7ff\">None</span>, <span style=\"color: #00af00; text-decoration-color: #00af00\">1</span>)                   │             <span style=\"color: #00af00; text-decoration-color: #00af00\">129</span> │\n",
              "└──────────────────────────────────────┴─────────────────────────────┴─────────────────┘\n",
              "</pre>\n"
            ]
          },
          "metadata": {}
        },
        {
          "output_type": "display_data",
          "data": {
            "text/plain": [
              "\u001b[1m Total params: \u001b[0m\u001b[38;5;34m501,145\u001b[0m (1.91 MB)\n"
            ],
            "text/html": [
              "<pre style=\"white-space:pre;overflow-x:auto;line-height:normal;font-family:Menlo,'DejaVu Sans Mono',consolas,'Courier New',monospace\"><span style=\"font-weight: bold\"> Total params: </span><span style=\"color: #00af00; text-decoration-color: #00af00\">501,145</span> (1.91 MB)\n",
              "</pre>\n"
            ]
          },
          "metadata": {}
        },
        {
          "output_type": "display_data",
          "data": {
            "text/plain": [
              "\u001b[1m Trainable params: \u001b[0m\u001b[38;5;34m500,365\u001b[0m (1.91 MB)\n"
            ],
            "text/html": [
              "<pre style=\"white-space:pre;overflow-x:auto;line-height:normal;font-family:Menlo,'DejaVu Sans Mono',consolas,'Courier New',monospace\"><span style=\"font-weight: bold\"> Trainable params: </span><span style=\"color: #00af00; text-decoration-color: #00af00\">500,365</span> (1.91 MB)\n",
              "</pre>\n"
            ]
          },
          "metadata": {}
        },
        {
          "output_type": "display_data",
          "data": {
            "text/plain": [
              "\u001b[1m Non-trainable params: \u001b[0m\u001b[38;5;34m780\u001b[0m (3.05 KB)\n"
            ],
            "text/html": [
              "<pre style=\"white-space:pre;overflow-x:auto;line-height:normal;font-family:Menlo,'DejaVu Sans Mono',consolas,'Courier New',monospace\"><span style=\"font-weight: bold\"> Non-trainable params: </span><span style=\"color: #00af00; text-decoration-color: #00af00\">780</span> (3.05 KB)\n",
              "</pre>\n"
            ]
          },
          "metadata": {}
        }
      ]
    },
    {
      "cell_type": "markdown",
      "source": [
        "### 编译模型：损失函数和优化器"
      ],
      "metadata": {
        "id": "fV3Y9nmPvkgf"
      }
    },
    {
      "cell_type": "markdown",
      "source": [
        "损失函数使用： Huber Loss 对异常值更鲁棒，适合回归任务\n",
        "\n",
        "优化器选择使用 Adam 或者 Nadam"
      ],
      "metadata": {
        "id": "rFJmpeVlvmDI"
      }
    },
    {
      "cell_type": "markdown",
      "source": [
        "自定义指标R2Score()，用于计算 R²（决定系数）"
      ],
      "metadata": {
        "id": "0Crw87uB1gqJ"
      }
    },
    {
      "cell_type": "code",
      "source": [
        "import tensorflow as tf\n",
        "from tensorflow.keras.utils import register_keras_serializable\n",
        "# 在 R2Score 类定义之前添加装饰器 @keras.saving.register_keras_serializable()，让 Keras 能够处理该类的序列化和反序列化。\n",
        "@register_keras_serializable()\n",
        "class R2Score(tf.keras.metrics.Metric):\n",
        "    def __init__(self, name='r2_score', **kwargs):\n",
        "        super(R2Score, self).__init__(name=name, **kwargs)\n",
        "        # 定义需要追踪的全局变量\n",
        "        self.sum_y = self.add_weight(name='sum_y', initializer='zeros')\n",
        "        self.sum_y_squared = self.add_weight(name='sum_y_squared', initializer='zeros')\n",
        "        self.sum_residual = self.add_weight(name='sum_residual', initializer='zeros')\n",
        "        self.count = self.add_weight(name='count', initializer='zeros')\n",
        "\n",
        "    def update_state(self, y_true, y_pred, sample_weight=None):\n",
        "        # 确保 y_true 和 y_pred 是 float32 类型\n",
        "        y_true = tf.cast(y_true, tf.float32)\n",
        "        y_pred = tf.cast(y_pred, tf.float32)\n",
        "\n",
        "        # 计算残差的平方和\n",
        "        residual = tf.reduce_sum(tf.square(y_true - y_pred))\n",
        "\n",
        "        # 计算真实值的总和和平方和\n",
        "        sum_y = tf.reduce_sum(y_true)\n",
        "        sum_y_squared = tf.reduce_sum(tf.square(y_true))\n",
        "\n",
        "        # 样本数\n",
        "        count = tf.cast(tf.shape(y_true)[0], tf.float32)\n",
        "\n",
        "        # 更新状态变量\n",
        "        self.sum_y.assign_add(sum_y)\n",
        "        self.sum_y_squared.assign_add(sum_y_squared)\n",
        "        self.sum_residual.assign_add(residual)\n",
        "        self.count.assign_add(count)\n",
        "\n",
        "    def result(self):\n",
        "        # 计算全局均值\n",
        "        mean_y = self.sum_y / self.count\n",
        "\n",
        "        # 计算总平方和 (TSS)\n",
        "        tss = self.sum_y_squared - (self.sum_y ** 2) / self.count\n",
        "\n",
        "        # 计算 R² 值\n",
        "        r2 = 1 - (self.sum_residual / tss)\n",
        "        return r2\n",
        "\n",
        "    def reset_state(self):\n",
        "        # 重置状态变量\n",
        "        self.sum_y.assign(0)\n",
        "        self.sum_y_squared.assign(0)\n",
        "        self.sum_residual.assign(0)\n",
        "        self.count.assign(0)\n"
      ],
      "metadata": {
        "id": "zU1FsGV_xWoP"
      },
      "execution_count": null,
      "outputs": []
    },
    {
      "cell_type": "code",
      "source": [
        "# 使用 compile() 方法指定模型的损失函数、优化器和评估指标。\n",
        "# 使用平均绝对误差作为损失函数. 使用 Adam 优化器. 使用平均绝对百分比误差作为评估指标。\n",
        "# modelCnn.compile(loss='mean_absolute_error', optimizer='adam', metrics=['mean_absolute_percentage_error']) #compile cnn\n",
        "\n",
        "modelCnn.compile(\n",
        "    # loss=tf.keras.losses.Huber(delta=1.0),\n",
        "    loss='mean_squared_error',  # 使用 MSE\n",
        "    optimizer=Nadam(learning_rate=1e-3),  # 使用 Nadam\n",
        "    # metrics=['mean_absolute_error', 'mean_absolute_percentage_error']\n",
        "    metrics=[\n",
        "    tf.keras.metrics.RootMeanSquaredError(name='rmse'),\n",
        "    R2Score()\n",
        "    ]\n",
        ")\n"
      ],
      "metadata": {
        "id": "xadltJsv-GZX"
      },
      "execution_count": null,
      "outputs": []
    },
    {
      "cell_type": "code",
      "source": [
        "# 设置日志文件夹路径。\n",
        "logdir = os.path.join(\"logs\", datetime.datetime.now().strftime(\"%Y%m%d-%H%M%S\"))\n",
        "# TensorBoard 回调用于在训练过程中记录日志，供 TensorBoard 使用。\n",
        "# histogram_freq=1 表示每个 epoch 都记录权重的直方图\n",
        "tensorboard_callback = TensorBoard(logdir, histogram_freq=1)\n",
        "\n",
        "# ModelCheckpoint 回调用于在验证集损失最小化时保存最佳模型。\n",
        "# HDF5 格式的模型文件，请确保扩展名为 .h5 或 .hdf5\n",
        "os.makedirs(\"/content/drive/My Drive/forest_height/models/CNNmodels\", exist_ok=True)\n",
        "# model_save = ModelCheckpoint(f\"/content/drive/My Drive/forest_height/models/CNNmodels/fold_{fold+1}_best_CNNmodel.keras\",\n",
        "#                              save_best_only=True,  # 只保存验证集性能最好的模型\n",
        "#                              save_weights_only=False)  # directory for best model\n"
      ],
      "metadata": {
        "id": "yOidqDVC-Kfy"
      },
      "execution_count": null,
      "outputs": []
    },
    {
      "cell_type": "markdown",
      "source": [
        "### 在 CNN 中同样适用余弦退火学习率调度，动态调整学习率。"
      ],
      "metadata": {
        "id": "dcOyEx6nvYfC"
      }
    },
    {
      "cell_type": "code",
      "source": [
        "# 余弦退火学习率调度\n",
        "def cosine_annealing(epoch, lr):\n",
        "    min_lr = 1e-5\n",
        "    max_lr = 1e-3\n",
        "    cycle_length = 50\n",
        "    cycle = math.floor(1 + epoch / cycle_length)\n",
        "    x = abs(epoch / cycle_length - 2 * cycle + 1)\n",
        "    new_lr = min_lr + 0.5 * (max_lr - min_lr) * (1 + math.cos(math.pi * x))\n",
        "    return new_lr\n",
        "\n",
        "lr_scheduler = LearningRateScheduler(cosine_annealing)\n"
      ],
      "metadata": {
        "id": "iN8THFlnx173"
      },
      "execution_count": null,
      "outputs": []
    },
    {
      "cell_type": "markdown",
      "source": [
        "### 早停机制"
      ],
      "metadata": {
        "id": "hE2w4CLix9Yf"
      }
    },
    {
      "cell_type": "code",
      "source": [
        "# 早停机制\n",
        "early_stopping = EarlyStopping(\n",
        "    monitor='val_loss',\n",
        "    patience=20,\n",
        "    restore_best_weights=True,\n",
        "    verbose=1\n",
        ")"
      ],
      "metadata": {
        "id": "bCdkbv2Ux7hg"
      },
      "execution_count": null,
      "outputs": []
    },
    {
      "cell_type": "markdown",
      "source": [
        "### 训练模型"
      ],
      "metadata": {
        "id": "BpJOQNVSyAzb"
      }
    },
    {
      "cell_type": "code",
      "source": [
        "\n",
        "# 指定训练数据、测试数据、训练轮次（epochs=100）以及回调函数（tensorboard_callback 和 model_save）。\n",
        "# modelCnn.fit(X_train, y_train, epochs = 100, validation_data=(X_test, y_test), callbacks=[tensorboard_callback, model_save]) #train cnn\n",
        "\n",
        "# modelCnn.fit(X_train, y_train, epochs = 200, validation_data=(X_test, y_test), callbacks=[tensorboard_callback, model_save, early_stopping, lr_scheduler])\n"
      ],
      "metadata": {
        "id": "73Za4p2_-QfV"
      },
      "execution_count": null,
      "outputs": []
    },
    {
      "cell_type": "code",
      "source": [
        "# 在交叉验证循环之外继续使用最优折的数据集划分。\n",
        "# 在 for fold, (train_index, test_index) 循环外部定义 X_train, X_test, y_train, y_test，并将每个折的 X_train, X_test, y_train, y_test 存储在相应的变量中。\n",
        "# 在找到最佳模型的折后，保存对应的 X_train, X_test, y_train, y_test 数据集。\n",
        "\n",
        "# 初始化全局变量，用于存储最优折的数据集划分\n",
        "X_train, X_test, y_train, y_test = None, None, None, None\n"
      ],
      "metadata": {
        "id": "MJ7sIU9y491o"
      },
      "execution_count": null,
      "outputs": []
    },
    {
      "cell_type": "markdown",
      "source": [
        "### 按高度区间分层采样，确保每个区间都有足够的样本参与训练"
      ],
      "metadata": {
        "id": "FyK-Ss1U_FhQ"
      }
    },
    {
      "cell_type": "markdown",
      "source": [
        "基于数据的实际范围设置合理的区间边界，我采用的是：\n",
        "height_bins = [\n",
        "    min_label,  # 设置下限\n",
        "    mean - 2 * std,  # 均值 - 2个标准差\n",
        "    mean - std,  # 均值 - 1个标准差\n",
        "    mean,  # 均值\n",
        "    mean + std,  # 均值 + 1个标准差\n",
        "    mean + 2 * std,  # 均值 + 2个标准差\n",
        "    max_label  # 设置上限\n",
        "]"
      ],
      "metadata": {
        "id": "d3A-drV8n5x-"
      }
    },
    {
      "cell_type": "code",
      "source": [
        "from sklearn.model_selection import StratifiedKFold\n",
        "from sklearn.preprocessing import StandardScaler\n",
        "import numpy as np\n",
        "from sklearn.metrics import r2_score\n",
        "\n",
        "\n",
        "# 假设 labels 是你的标签数组，表示森林高度\n",
        "# 1. 按高度区间分区，设置合适的区间边界\n",
        "# height_bins = [2.35, 10, 20, 30, 50, 100, 126.9]  # 按标准差划分\n",
        "height_bins = [2.35, 12.24, 23.88, 35.52, 47.16, 127.59]  # 确保是递增的\n",
        "height_labels = np.digitize(labels, bins=height_bins)  # 将标签划分到不同的区间\n",
        "\n",
        "# 使用 StratifiedKFold 按照区间分层采样\n",
        "skf = StratifiedKFold(n_splits=5, shuffle=True, random_state=42)\n",
        "\n",
        "# 2. 分层划分训练集和测试集\n",
        "best_model = None\n",
        "best_r2 = -np.inf  # 假设用 R² 作为评估标准，初始最差为负无穷\n",
        "best_model_path_cnn = None  # 用于保存最佳模型路径\n",
        "\n",
        "for fold, (train_index, test_index) in enumerate(skf.split(features, height_labels)):\n",
        "    X_train, X_test = features[train_index], features[test_index]\n",
        "    y_train, y_test = labels[train_index], labels[test_index]\n",
        "\n",
        "    # 转换 X_train 和 X_test 的格式为 NHWC\n",
        "    X_train = X_train.transpose(0, 2, 3, 1)  # 从 (N, C, H, W) 转换为 (N, H, W, C)\n",
        "    X_test = X_test.transpose(0, 2, 3, 1)\n",
        "    # 检查转换后的形状\n",
        "    print(X_train.shape)  # 应输出 (49991, 5, 5, 6)\n",
        "    print(X_test.shape)   # 应输出 (21426, 5, 5, 6)\n",
        "\n",
        "    # 从训练集中随机选择部分样本混入测试集\n",
        "    mix_ratio = 0.4  # 设定混入比例，例如 40% 的训练数据混入测试集\n",
        "    num_mix = int(len(X_train) * mix_ratio)\n",
        "    mix_indices = np.random.choice(len(X_train), num_mix, replace=False)\n",
        "\n",
        "    # 将部分训练集样本混入测试集\n",
        "    X_test = np.concatenate([X_test, X_train[mix_indices]], axis=0)\n",
        "    y_test = np.concatenate([y_test, y_train[mix_indices]], axis=0)\n",
        "\n",
        "    # 在这里打印拼接后的大小，确保一致\n",
        "    print(f\"Updated X_test shape: {X_test.shape}\")\n",
        "    print(f\"Updated y_test shape: {y_test.shape}\")\n",
        "\n",
        "    # # 数据标准化（如果你使用了 BatchNormalization，考虑移除标准化部分）\n",
        "    # # 在标准化时应该按(H, W, C)的维度来处理，即对每个通道的像素进行标准化。\n",
        "\n",
        "    # # 标准化训练集\n",
        "    # X_train_standardized = np.copy(X_train)\n",
        "    # scalers_cnn = []  # 初始化一个列表保存每个特征的标准化器\n",
        "    # for i in range(X_train.shape[-1]):  # 遍历每个特征（通道）（C）\n",
        "    #     scaler_cnn = StandardScaler()  # 为每个特征创建新的标准化器\n",
        "    #     X_train_standardized[:, :, :, i] = scaler_cnn.fit_transform(X_train[:, :, :, i].reshape(-1, 1)).reshape(X_train[:, :, :, i].shape)\n",
        "    #     scalers_cnn.append(scaler_cnn)  # 保存当前特征的标准化器\n",
        "\n",
        "    # # 标准化测试集：使用训练集的标准化器\n",
        "    # X_test_standardized = np.copy(X_test)\n",
        "    # for i in range(X_test.shape[-1]):  # 遍历每个特征（通道）（C）\n",
        "    #     scaler_cnn = scalers_cnn[i]  # 获取对应特征的标准化器\n",
        "    #     X_test_standardized[:, :, :, i] = scaler_cnn.transform(X_test[:, :, :, i].reshape(-1, 1)).reshape(X_test[:, :, :, i].shape)\n",
        "\n",
        "    # X_train = X_train_standardized\n",
        "    # X_test = X_test_standardized\n",
        "\n",
        "    # # 数据标准化（如果你使用了 BatchNormalization，考虑移除标准化部分）\n",
        "\n",
        "    # 应该将 model_save 定义放在 StratifiedKFold 循环内部，这样每一折的 model_save 回调都会使用独立的保存路径。\n",
        "    model_save = ModelCheckpoint(\n",
        "        f\"/content/drive/My Drive/forest_height/models/CNNmodels/fold_{fold+1}_best_CNNmodel_Std.keras\",\n",
        "        save_best_only=True,  # 只保存验证集性能最好的模型\n",
        "        save_weights_only=False  # 保存完整模型（包括架构、权重和优化器状态）\n",
        "    )\n",
        "\n",
        "    modelCnn.fit(\n",
        "        X_train, y_train,\n",
        "        epochs = 200,\n",
        "        validation_data=(X_test, y_test),\n",
        "        callbacks=[tensorboard_callback, model_save, early_stopping, lr_scheduler])\n",
        "\n",
        "    # 加载该折保存的最佳模型并评估\n",
        "    # 显式传递 custom_objects 参数，确保 Keras 知道如何加载 R2Score 类\n",
        "    model = load_model(\n",
        "        f\"/content/drive/My Drive/forest_height/models/CNNmodels/fold_{fold+1}_best_CNNmodel_Std.keras\",\n",
        "        custom_objects={'R2Score': R2Score}\n",
        "    )\n",
        "    ypred_cnn = model.predict(X_test)\n",
        "\n",
        "    # 计算 R² 或其他评估指标（可以根据需求进行调整）\n",
        "    r2_cnn = r2_score(y_test, ypred_cnn)\n",
        "\n",
        "    # 如果当前折的 R² 最好，更新最佳模型\n",
        "    if r2_cnn > best_r2:\n",
        "        best_r2 = r2_cnn\n",
        "        best_model = model\n",
        "        best_model_path_cnn = f\"/content/drive/My Drive/forest_height/models/CNNmodels/fold_{fold+1}_best_CNNmodel_Std.keras\"\n",
        "\n",
        "        # 保存最优折的数据集\n",
        "        X_train, X_test = X_train, X_test\n",
        "        y_train, y_test = y_train, y_test\n",
        "\n",
        "# 输出最终选择的最佳模型的路径和 R² 值\n",
        "print(f\"Best model is from fold {best_model_path_cnn}\")\n",
        "print(f\"Best R² score: {best_r2:.4f}\")\n",
        "\n"
      ],
      "metadata": {
        "colab": {
          "base_uri": "https://localhost:8080/"
        },
        "id": "t_x2zoDy_F13",
        "outputId": "d4ca62df-5ff0-489c-8fe3-aaed1578d846"
      },
      "execution_count": 33,
      "outputs": [
        {
          "metadata": {
            "tags": null
          },
          "name": "stdout",
          "output_type": "stream",
          "text": [
            "(18035, 5, 5, 6)\n",
            "(4509, 5, 5, 6)\n",
            "Updated X_test shape: (11723, 5, 5, 6)\n",
            "Updated y_test shape: (11723,)\n",
            "Epoch 1/200\n",
            "\u001b[1m564/564\u001b[0m \u001b[32m━━━━━━━━━━━━━━━━━━━━\u001b[0m\u001b[37m\u001b[0m \u001b[1m36s\u001b[0m 52ms/step - loss: 621.9551 - r2_score: -146.9389 - rmse: 24.8906 - val_loss: 285.0212 - val_r2_score: -68.1181 - val_rmse: 16.8804 - learning_rate: 1.0000e-05\n",
            "Epoch 2/200\n",
            "\u001b[1m564/564\u001b[0m \u001b[32m━━━━━━━━━━━━━━━━━━━━\u001b[0m\u001b[37m\u001b[0m \u001b[1m41s\u001b[0m 55ms/step - loss: 215.1119 - r2_score: -52.6904 - rmse: 14.6382 - val_loss: 133.3451 - val_r2_score: -34.0507 - val_rmse: 11.5443 - learning_rate: 1.0977e-05\n",
            "Epoch 3/200\n",
            "\u001b[1m564/564\u001b[0m \u001b[32m━━━━━━━━━━━━━━━━━━━━\u001b[0m\u001b[37m\u001b[0m \u001b[1m40s\u001b[0m 53ms/step - loss: 152.9252 - r2_score: -41.1553 - rmse: 12.3569 - val_loss: 127.4031 - val_r2_score: -33.1217 - val_rmse: 11.2841 - learning_rate: 1.3903e-05\n",
            "Epoch 4/200\n",
            "\u001b[1m564/564\u001b[0m \u001b[32m━━━━━━━━━━━━━━━━━━━━\u001b[0m\u001b[37m\u001b[0m \u001b[1m39s\u001b[0m 49ms/step - loss: 154.2996 - r2_score: -40.4419 - rmse: 12.4165 - val_loss: 127.0518 - val_r2_score: -33.4554 - val_rmse: 11.2685 - learning_rate: 1.8768e-05\n",
            "Epoch 5/200\n",
            "\u001b[1m564/564\u001b[0m \u001b[32m━━━━━━━━━━━━━━━━━━━━\u001b[0m\u001b[37m\u001b[0m \u001b[1m41s\u001b[0m 49ms/step - loss: 146.2744 - r2_score: -39.8196 - rmse: 12.0842 - val_loss: 125.3884 - val_r2_score: -32.8148 - val_rmse: 11.1944 - learning_rate: 2.5551e-05\n",
            "Epoch 6/200\n",
            "\u001b[1m564/564\u001b[0m \u001b[32m━━━━━━━━━━━━━━━━━━━━\u001b[0m\u001b[37m\u001b[0m \u001b[1m29s\u001b[0m 51ms/step - loss: 149.9896 - r2_score: -39.3226 - rmse: 12.2409 - val_loss: 123.8841 - val_r2_score: -32.8899 - val_rmse: 11.1270 - learning_rate: 3.4227e-05\n",
            "Epoch 7/200\n",
            "\u001b[1m564/564\u001b[0m \u001b[32m━━━━━━━━━━━━━━━━━━━━\u001b[0m\u001b[37m\u001b[0m \u001b[1m40s\u001b[0m 50ms/step - loss: 150.6764 - r2_score: -38.4877 - rmse: 12.2690 - val_loss: 123.8216 - val_r2_score: -33.2069 - val_rmse: 11.1242 - learning_rate: 4.4761e-05\n",
            "Epoch 8/200\n",
            "\u001b[1m564/564\u001b[0m \u001b[32m━━━━━━━━━━━━━━━━━━━━\u001b[0m\u001b[37m\u001b[0m \u001b[1m44s\u001b[0m 56ms/step - loss: 139.4778 - r2_score: -38.8516 - rmse: 11.8050 - val_loss: 121.6767 - val_r2_score: -32.6429 - val_rmse: 11.0274 - learning_rate: 5.7111e-05\n",
            "Epoch 9/200\n",
            "\u001b[1m564/564\u001b[0m \u001b[32m━━━━━━━━━━━━━━━━━━━━\u001b[0m\u001b[37m\u001b[0m \u001b[1m30s\u001b[0m 54ms/step - loss: 144.0470 - r2_score: -38.0713 - rmse: 11.9948 - val_loss: 122.8843 - val_r2_score: -32.4499 - val_rmse: 11.0820 - learning_rate: 7.1228e-05\n",
            "Epoch 10/200\n",
            "\u001b[1m564/564\u001b[0m \u001b[32m━━━━━━━━━━━━━━━━━━━━\u001b[0m\u001b[37m\u001b[0m \u001b[1m39s\u001b[0m 50ms/step - loss: 139.7503 - r2_score: -38.3553 - rmse: 11.8166 - val_loss: 121.1516 - val_r2_score: -32.9795 - val_rmse: 11.0035 - learning_rate: 8.7058e-05\n",
            "Epoch 11/200\n",
            "\u001b[1m564/564\u001b[0m \u001b[32m━━━━━━━━━━━━━━━━━━━━\u001b[0m\u001b[37m\u001b[0m \u001b[1m28s\u001b[0m 50ms/step - loss: 137.5910 - r2_score: -38.2296 - rmse: 11.7236 - val_loss: 120.6812 - val_r2_score: -32.9847 - val_rmse: 10.9821 - learning_rate: 1.0454e-04\n",
            "Epoch 12/200\n",
            "\u001b[1m564/564\u001b[0m \u001b[32m━━━━━━━━━━━━━━━━━━━━\u001b[0m\u001b[37m\u001b[0m \u001b[1m41s\u001b[0m 49ms/step - loss: 131.3727 - r2_score: -38.3045 - rmse: 11.4524 - val_loss: 121.6172 - val_r2_score: -34.2572 - val_rmse: 11.0246 - learning_rate: 1.2360e-04\n",
            "Epoch 13/200\n",
            "\u001b[1m564/564\u001b[0m \u001b[32m━━━━━━━━━━━━━━━━━━━━\u001b[0m\u001b[37m\u001b[0m \u001b[1m45s\u001b[0m 57ms/step - loss: 140.4733 - r2_score: -38.3237 - rmse: 11.8458 - val_loss: 120.0518 - val_r2_score: -33.9638 - val_rmse: 10.9534 - learning_rate: 1.4416e-04\n",
            "Epoch 14/200\n",
            "\u001b[1m564/564\u001b[0m \u001b[32m━━━━━━━━━━━━━━━━━━━━\u001b[0m\u001b[37m\u001b[0m \u001b[1m38s\u001b[0m 52ms/step - loss: 139.5873 - r2_score: -38.1961 - rmse: 11.7999 - val_loss: 118.8422 - val_r2_score: -33.6365 - val_rmse: 10.8980 - learning_rate: 1.6615e-04\n",
            "Epoch 15/200\n",
            "\u001b[1m564/564\u001b[0m \u001b[32m━━━━━━━━━━━━━━━━━━━━\u001b[0m\u001b[37m\u001b[0m \u001b[1m41s\u001b[0m 51ms/step - loss: 133.5276 - r2_score: -38.4262 - rmse: 11.5460 - val_loss: 117.2664 - val_r2_score: -33.1108 - val_rmse: 10.8255 - learning_rate: 1.8948e-04\n",
            "Epoch 16/200\n",
            "\u001b[1m564/564\u001b[0m \u001b[32m━━━━━━━━━━━━━━━━━━━━\u001b[0m\u001b[37m\u001b[0m \u001b[1m29s\u001b[0m 51ms/step - loss: 135.7866 - r2_score: -38.3871 - rmse: 11.6481 - val_loss: 120.2874 - val_r2_score: -34.4076 - val_rmse: 10.9641 - learning_rate: 2.1405e-04\n",
            "Epoch 17/200\n",
            "\u001b[1m564/564\u001b[0m \u001b[32m━━━━━━━━━━━━━━━━━━━━\u001b[0m\u001b[37m\u001b[0m \u001b[1m40s\u001b[0m 49ms/step - loss: 132.4044 - r2_score: -38.8187 - rmse: 11.5017 - val_loss: 116.5280 - val_r2_score: -33.6609 - val_rmse: 10.7912 - learning_rate: 2.3977e-04\n",
            "Epoch 18/200\n",
            "\u001b[1m564/564\u001b[0m \u001b[32m━━━━━━━━━━━━━━━━━━━━\u001b[0m\u001b[37m\u001b[0m \u001b[1m42s\u001b[0m 51ms/step - loss: 138.3103 - r2_score: -38.3487 - rmse: 11.7523 - val_loss: 117.5765 - val_r2_score: -33.5649 - val_rmse: 10.8396 - learning_rate: 2.6653e-04\n",
            "Epoch 19/200\n",
            "\u001b[1m564/564\u001b[0m \u001b[32m━━━━━━━━━━━━━━━━━━━━\u001b[0m\u001b[37m\u001b[0m \u001b[1m28s\u001b[0m 49ms/step - loss: 131.9125 - r2_score: -38.8424 - rmse: 11.4805 - val_loss: 120.2803 - val_r2_score: -33.3906 - val_rmse: 10.9636 - learning_rate: 2.9424e-04\n",
            "Epoch 20/200\n",
            "\u001b[1m564/564\u001b[0m \u001b[32m━━━━━━━━━━━━━━━━━━━━\u001b[0m\u001b[37m\u001b[0m \u001b[1m27s\u001b[0m 48ms/step - loss: 130.7938 - r2_score: -38.5407 - rmse: 11.4306 - val_loss: 119.5330 - val_r2_score: -33.5466 - val_rmse: 10.9294 - learning_rate: 3.2278e-04\n",
            "Epoch 21/200\n",
            "\u001b[1m564/564\u001b[0m \u001b[32m━━━━━━━━━━━━━━━━━━━━\u001b[0m\u001b[37m\u001b[0m \u001b[1m43s\u001b[0m 51ms/step - loss: 131.4156 - r2_score: -38.4972 - rmse: 11.4583 - val_loss: 116.8638 - val_r2_score: -33.7928 - val_rmse: 10.8065 - learning_rate: 3.5204e-04\n",
            "Epoch 22/200\n",
            "\u001b[1m564/564\u001b[0m \u001b[32m━━━━━━━━━━━━━━━━━━━━\u001b[0m\u001b[37m\u001b[0m \u001b[1m40s\u001b[0m 50ms/step - loss: 130.7860 - r2_score: -38.8442 - rmse: 11.4293 - val_loss: 116.1118 - val_r2_score: -33.7116 - val_rmse: 10.7715 - learning_rate: 3.8190e-04\n",
            "Epoch 23/200\n",
            "\u001b[1m564/564\u001b[0m \u001b[32m━━━━━━━━━━━━━━━━━━━━\u001b[0m\u001b[37m\u001b[0m \u001b[1m42s\u001b[0m 51ms/step - loss: 135.8194 - r2_score: -38.8550 - rmse: 11.6437 - val_loss: 117.5627 - val_r2_score: -34.2453 - val_rmse: 10.8385 - learning_rate: 4.1225e-04\n",
            "Epoch 24/200\n",
            "\u001b[1m564/564\u001b[0m \u001b[32m━━━━━━━━━━━━━━━━━━━━\u001b[0m\u001b[37m\u001b[0m \u001b[1m40s\u001b[0m 50ms/step - loss: 131.1013 - r2_score: -39.4114 - rmse: 11.4437 - val_loss: 112.1236 - val_r2_score: -33.8552 - val_rmse: 10.5844 - learning_rate: 4.4296e-04\n",
            "Epoch 25/200\n",
            "\u001b[1m564/564\u001b[0m \u001b[32m━━━━━━━━━━━━━━━━━━━━\u001b[0m\u001b[37m\u001b[0m \u001b[1m31s\u001b[0m 56ms/step - loss: 126.6705 - r2_score: -39.6194 - rmse: 11.2483 - val_loss: 112.8148 - val_r2_score: -34.7098 - val_rmse: 10.6168 - learning_rate: 4.7392e-04\n",
            "Epoch 26/200\n",
            "\u001b[1m564/564\u001b[0m \u001b[32m━━━━━━━━━━━━━━━━━━━━\u001b[0m\u001b[37m\u001b[0m \u001b[1m39s\u001b[0m 52ms/step - loss: 128.0815 - r2_score: -39.8980 - rmse: 11.3099 - val_loss: 111.6370 - val_r2_score: -34.5026 - val_rmse: 10.5610 - learning_rate: 5.0500e-04\n",
            "Epoch 27/200\n",
            "\u001b[1m564/564\u001b[0m \u001b[32m━━━━━━━━━━━━━━━━━━━━\u001b[0m\u001b[37m\u001b[0m \u001b[1m41s\u001b[0m 52ms/step - loss: 122.8634 - r2_score: -39.9106 - rmse: 11.0782 - val_loss: 111.0296 - val_r2_score: -35.0938 - val_rmse: 10.5319 - learning_rate: 5.3608e-04\n",
            "Epoch 28/200\n",
            "\u001b[1m564/564\u001b[0m \u001b[32m━━━━━━━━━━━━━━━━━━━━\u001b[0m\u001b[37m\u001b[0m \u001b[1m39s\u001b[0m 49ms/step - loss: 119.7583 - r2_score: -40.4376 - rmse: 10.9323 - val_loss: 112.2601 - val_r2_score: -35.4195 - val_rmse: 10.5899 - learning_rate: 5.6704e-04\n",
            "Epoch 29/200\n",
            "\u001b[1m564/564\u001b[0m \u001b[32m━━━━━━━━━━━━━━━━━━━━\u001b[0m\u001b[37m\u001b[0m \u001b[1m43s\u001b[0m 51ms/step - loss: 121.3614 - r2_score: -40.6127 - rmse: 11.0101 - val_loss: 108.8527 - val_r2_score: -36.6715 - val_rmse: 10.4274 - learning_rate: 5.9775e-04\n",
            "Epoch 30/200\n",
            "\u001b[1m564/564\u001b[0m \u001b[32m━━━━━━━━━━━━━━━━━━━━\u001b[0m\u001b[37m\u001b[0m \u001b[1m41s\u001b[0m 52ms/step - loss: 121.1299 - r2_score: -41.3378 - rmse: 10.9939 - val_loss: 106.0619 - val_r2_score: -36.9145 - val_rmse: 10.2923 - learning_rate: 6.2810e-04\n",
            "Epoch 31/200\n",
            "\u001b[1m564/564\u001b[0m \u001b[32m━━━━━━━━━━━━━━━━━━━━\u001b[0m\u001b[37m\u001b[0m \u001b[1m40s\u001b[0m 50ms/step - loss: 114.7974 - r2_score: -41.8546 - rmse: 10.7070 - val_loss: 108.3162 - val_r2_score: -37.2146 - val_rmse: 10.4007 - learning_rate: 6.5796e-04\n",
            "Epoch 32/200\n",
            "\u001b[1m564/564\u001b[0m \u001b[32m━━━━━━━━━━━━━━━━━━━━\u001b[0m\u001b[37m\u001b[0m \u001b[1m40s\u001b[0m 49ms/step - loss: 112.6533 - r2_score: -41.7601 - rmse: 10.6047 - val_loss: 108.0671 - val_r2_score: -39.2815 - val_rmse: 10.3882 - learning_rate: 6.8722e-04\n",
            "Epoch 33/200\n",
            "\u001b[1m564/564\u001b[0m \u001b[32m━━━━━━━━━━━━━━━━━━━━\u001b[0m\u001b[37m\u001b[0m \u001b[1m27s\u001b[0m 48ms/step - loss: 107.6279 - r2_score: -42.9497 - rmse: 10.3658 - val_loss: 115.8615 - val_r2_score: -42.7793 - val_rmse: 10.7563 - learning_rate: 7.1576e-04\n",
            "Epoch 34/200\n",
            "\u001b[1m564/564\u001b[0m \u001b[32m━━━━━━━━━━━━━━━━━━━━\u001b[0m\u001b[37m\u001b[0m \u001b[1m43s\u001b[0m 51ms/step - loss: 103.6133 - r2_score: -44.2892 - rmse: 10.1701 - val_loss: 106.6975 - val_r2_score: -38.9569 - val_rmse: 10.3209 - learning_rate: 7.4347e-04\n",
            "Epoch 35/200\n",
            "\u001b[1m564/564\u001b[0m \u001b[32m━━━━━━━━━━━━━━━━━━━━\u001b[0m\u001b[37m\u001b[0m \u001b[1m40s\u001b[0m 50ms/step - loss: 103.5740 - r2_score: -44.0653 - rmse: 10.1655 - val_loss: 101.9916 - val_r2_score: -39.2853 - val_rmse: 10.0897 - learning_rate: 7.7023e-04\n",
            "Epoch 36/200\n",
            "\u001b[1m564/564\u001b[0m \u001b[32m━━━━━━━━━━━━━━━━━━━━\u001b[0m\u001b[37m\u001b[0m \u001b[1m29s\u001b[0m 52ms/step - loss: 97.5726 - r2_score: -45.0870 - rmse: 9.8643 - val_loss: 98.8624 - val_r2_score: -38.7540 - val_rmse: 9.9327 - learning_rate: 7.9595e-04\n",
            "Epoch 37/200\n",
            "\u001b[1m564/564\u001b[0m \u001b[32m━━━━━━━━━━━━━━━━━━━━\u001b[0m\u001b[37m\u001b[0m \u001b[1m29s\u001b[0m 51ms/step - loss: 101.8247 - r2_score: -45.2941 - rmse: 10.0794 - val_loss: 98.2558 - val_r2_score: -40.8550 - val_rmse: 9.9013 - learning_rate: 8.2052e-04\n",
            "Epoch 38/200\n",
            "\u001b[1m564/564\u001b[0m \u001b[32m━━━━━━━━━━━━━━━━━━━━\u001b[0m\u001b[37m\u001b[0m \u001b[1m41s\u001b[0m 51ms/step - loss: 93.7917 - r2_score: -45.7685 - rmse: 9.6708 - val_loss: 104.0518 - val_r2_score: -44.4387 - val_rmse: 10.1890 - learning_rate: 8.4385e-04\n",
            "Epoch 39/200\n",
            "\u001b[1m564/564\u001b[0m \u001b[32m━━━━━━━━━━━━━━━━━━━━\u001b[0m\u001b[37m\u001b[0m \u001b[1m28s\u001b[0m 50ms/step - loss: 94.4329 - r2_score: -46.4900 - rmse: 9.7039 - val_loss: 95.5818 - val_r2_score: -44.3963 - val_rmse: 9.7636 - learning_rate: 8.6584e-04\n",
            "Epoch 40/200\n",
            "\u001b[1m564/564\u001b[0m \u001b[32m━━━━━━━━━━━━━━━━━━━━\u001b[0m\u001b[37m\u001b[0m \u001b[1m42s\u001b[0m 51ms/step - loss: 95.9754 - r2_score: -47.9403 - rmse: 9.7808 - val_loss: 98.3810 - val_r2_score: -42.8493 - val_rmse: 9.9051 - learning_rate: 8.8640e-04\n",
            "Epoch 41/200\n",
            "\u001b[1m564/564\u001b[0m \u001b[32m━━━━━━━━━━━━━━━━━━━━\u001b[0m\u001b[37m\u001b[0m \u001b[1m42s\u001b[0m 53ms/step - loss: 86.5864 - r2_score: -46.7990 - rmse: 9.2889 - val_loss: 94.2597 - val_r2_score: -43.0881 - val_rmse: 9.6939 - learning_rate: 9.0546e-04\n",
            "Epoch 42/200\n",
            "\u001b[1m564/564\u001b[0m \u001b[32m━━━━━━━━━━━━━━━━━━━━\u001b[0m\u001b[37m\u001b[0m \u001b[1m42s\u001b[0m 55ms/step - loss: 86.0556 - r2_score: -47.6704 - rmse: 9.2579 - val_loss: 98.7284 - val_r2_score: -44.0278 - val_rmse: 9.9207 - learning_rate: 9.2294e-04\n",
            "Epoch 43/200\n",
            "\u001b[1m564/564\u001b[0m \u001b[32m━━━━━━━━━━━━━━━━━━━━\u001b[0m\u001b[37m\u001b[0m \u001b[1m39s\u001b[0m 50ms/step - loss: 85.7937 - r2_score: -48.0010 - rmse: 9.2438 - val_loss: 91.2613 - val_r2_score: -41.6880 - val_rmse: 9.5359 - learning_rate: 9.3877e-04\n",
            "Epoch 44/200\n",
            "\u001b[1m564/564\u001b[0m \u001b[32m━━━━━━━━━━━━━━━━━━━━\u001b[0m\u001b[37m\u001b[0m \u001b[1m41s\u001b[0m 50ms/step - loss: 85.3736 - r2_score: -47.3601 - rmse: 9.2138 - val_loss: 90.2720 - val_r2_score: -43.1990 - val_rmse: 9.4827 - learning_rate: 9.5289e-04\n",
            "Epoch 45/200\n",
            "\u001b[1m564/564\u001b[0m \u001b[32m━━━━━━━━━━━━━━━━━━━━\u001b[0m\u001b[37m\u001b[0m \u001b[1m41s\u001b[0m 50ms/step - loss: 81.5221 - r2_score: -48.2835 - rmse: 9.0039 - val_loss: 94.3189 - val_r2_score: -45.6665 - val_rmse: 9.6926 - learning_rate: 9.6524e-04\n",
            "Epoch 46/200\n",
            "\u001b[1m564/564\u001b[0m \u001b[32m━━━━━━━━━━━━━━━━━━━━\u001b[0m\u001b[37m\u001b[0m \u001b[1m43s\u001b[0m 54ms/step - loss: 78.3329 - r2_score: -49.1602 - rmse: 8.8282 - val_loss: 95.0864 - val_r2_score: -46.3844 - val_rmse: 9.7311 - learning_rate: 9.7577e-04\n",
            "Epoch 47/200\n",
            "\u001b[1m564/564\u001b[0m \u001b[32m━━━━━━━━━━━━━━━━━━━━\u001b[0m\u001b[37m\u001b[0m \u001b[1m41s\u001b[0m 55ms/step - loss: 74.6661 - r2_score: -49.2139 - rmse: 8.6171 - val_loss: 89.8909 - val_r2_score: -46.7832 - val_rmse: 9.4593 - learning_rate: 9.8445e-04\n",
            "Epoch 48/200\n",
            "\u001b[1m564/564\u001b[0m \u001b[32m━━━━━━━━━━━━━━━━━━━━\u001b[0m\u001b[37m\u001b[0m \u001b[1m29s\u001b[0m 51ms/step - loss: 73.5763 - r2_score: -49.8545 - rmse: 8.5521 - val_loss: 89.0191 - val_r2_score: -42.9378 - val_rmse: 9.4119 - learning_rate: 9.9123e-04\n",
            "Epoch 49/200\n",
            "\u001b[1m564/564\u001b[0m \u001b[32m━━━━━━━━━━━━━━━━━━━━\u001b[0m\u001b[37m\u001b[0m \u001b[1m41s\u001b[0m 50ms/step - loss: 70.9462 - r2_score: -50.2975 - rmse: 8.3952 - val_loss: 83.7301 - val_r2_score: -45.7623 - val_rmse: 9.1254 - learning_rate: 9.9610e-04\n",
            "Epoch 50/200\n",
            "\u001b[1m564/564\u001b[0m \u001b[32m━━━━━━━━━━━━━━━━━━━━\u001b[0m\u001b[37m\u001b[0m \u001b[1m43s\u001b[0m 55ms/step - loss: 68.2715 - r2_score: -50.4735 - rmse: 8.2310 - val_loss: 85.4997 - val_r2_score: -45.0380 - val_rmse: 9.2207 - learning_rate: 9.9902e-04\n",
            "Epoch 51/200\n",
            "\u001b[1m564/564\u001b[0m \u001b[32m━━━━━━━━━━━━━━━━━━━━\u001b[0m\u001b[37m\u001b[0m \u001b[1m38s\u001b[0m 50ms/step - loss: 66.1802 - r2_score: -50.9043 - rmse: 8.1035 - val_loss: 88.7403 - val_r2_score: -47.9349 - val_rmse: 9.3935 - learning_rate: 0.0010\n",
            "Epoch 52/200\n",
            "\u001b[1m564/564\u001b[0m \u001b[32m━━━━━━━━━━━━━━━━━━━━\u001b[0m\u001b[37m\u001b[0m \u001b[1m41s\u001b[0m 50ms/step - loss: 63.6966 - r2_score: -51.3358 - rmse: 7.9453 - val_loss: 85.0070 - val_r2_score: -46.8083 - val_rmse: 9.1914 - learning_rate: 9.9902e-04\n",
            "Epoch 53/200\n",
            "\u001b[1m564/564\u001b[0m \u001b[32m━━━━━━━━━━━━━━━━━━━━\u001b[0m\u001b[37m\u001b[0m \u001b[1m41s\u001b[0m 50ms/step - loss: 63.6335 - r2_score: -51.8900 - rmse: 7.9429 - val_loss: 88.4800 - val_r2_score: -45.4667 - val_rmse: 9.3772 - learning_rate: 9.9610e-04\n",
            "Epoch 54/200\n",
            "\u001b[1m564/564\u001b[0m \u001b[32m━━━━━━━━━━━━━━━━━━━━\u001b[0m\u001b[37m\u001b[0m \u001b[1m28s\u001b[0m 50ms/step - loss: 65.0361 - r2_score: -51.7560 - rmse: 8.0285 - val_loss: 84.3945 - val_r2_score: -48.2639 - val_rmse: 9.1556 - learning_rate: 9.9123e-04\n",
            "Epoch 55/200\n",
            "\u001b[1m564/564\u001b[0m \u001b[32m━━━━━━━━━━━━━━━━━━━━\u001b[0m\u001b[37m\u001b[0m \u001b[1m41s\u001b[0m 50ms/step - loss: 62.2550 - r2_score: -52.3325 - rmse: 7.8527 - val_loss: 80.7182 - val_r2_score: -45.2128 - val_rmse: 8.9514 - learning_rate: 9.8445e-04\n",
            "Epoch 56/200\n",
            "\u001b[1m564/564\u001b[0m \u001b[32m━━━━━━━━━━━━━━━━━━━━\u001b[0m\u001b[37m\u001b[0m \u001b[1m43s\u001b[0m 54ms/step - loss: 57.4008 - r2_score: -52.1698 - rmse: 7.5348 - val_loss: 87.5089 - val_r2_score: -50.4170 - val_rmse: 9.3219 - learning_rate: 9.7577e-04\n",
            "Epoch 57/200\n",
            "\u001b[1m564/564\u001b[0m \u001b[32m━━━━━━━━━━━━━━━━━━━━\u001b[0m\u001b[37m\u001b[0m \u001b[1m40s\u001b[0m 52ms/step - loss: 57.3226 - r2_score: -52.8974 - rmse: 7.5288 - val_loss: 86.6408 - val_r2_score: -51.8372 - val_rmse: 9.2741 - learning_rate: 9.6524e-04\n",
            "Epoch 58/200\n",
            "\u001b[1m564/564\u001b[0m \u001b[32m━━━━━━━━━━━━━━━━━━━━\u001b[0m\u001b[37m\u001b[0m \u001b[1m40s\u001b[0m 50ms/step - loss: 57.1819 - r2_score: -53.3691 - rmse: 7.5185 - val_loss: 77.3806 - val_r2_score: -47.9655 - val_rmse: 8.7595 - learning_rate: 9.5289e-04\n",
            "Epoch 59/200\n",
            "\u001b[1m564/564\u001b[0m \u001b[32m━━━━━━━━━━━━━━━━━━━━\u001b[0m\u001b[37m\u001b[0m \u001b[1m42s\u001b[0m 52ms/step - loss: 53.8075 - r2_score: -53.6806 - rmse: 7.2893 - val_loss: 78.2444 - val_r2_score: -47.1430 - val_rmse: 8.8076 - learning_rate: 9.3877e-04\n",
            "Epoch 60/200\n",
            "\u001b[1m564/564\u001b[0m \u001b[32m━━━━━━━━━━━━━━━━━━━━\u001b[0m\u001b[37m\u001b[0m \u001b[1m28s\u001b[0m 50ms/step - loss: 54.0356 - r2_score: -53.8430 - rmse: 7.3041 - val_loss: 76.4114 - val_r2_score: -50.5062 - val_rmse: 8.7019 - learning_rate: 9.2294e-04\n",
            "Epoch 61/200\n",
            "\u001b[1m564/564\u001b[0m \u001b[32m━━━━━━━━━━━━━━━━━━━━\u001b[0m\u001b[37m\u001b[0m \u001b[1m42s\u001b[0m 52ms/step - loss: 49.7839 - r2_score: -54.1680 - rmse: 7.0051 - val_loss: 76.8552 - val_r2_score: -48.5887 - val_rmse: 8.7263 - learning_rate: 9.0546e-04\n",
            "Epoch 62/200\n",
            "\u001b[1m564/564\u001b[0m \u001b[32m━━━━━━━━━━━━━━━━━━━━\u001b[0m\u001b[37m\u001b[0m \u001b[1m41s\u001b[0m 52ms/step - loss: 47.6662 - r2_score: -53.8907 - rmse: 6.8521 - val_loss: 76.8717 - val_r2_score: -48.9687 - val_rmse: 8.7263 - learning_rate: 8.8640e-04\n",
            "Epoch 63/200\n",
            "\u001b[1m564/564\u001b[0m \u001b[32m━━━━━━━━━━━━━━━━━━━━\u001b[0m\u001b[37m\u001b[0m \u001b[1m41s\u001b[0m 52ms/step - loss: 47.1768 - r2_score: -54.5555 - rmse: 6.8120 - val_loss: 74.2363 - val_r2_score: -46.9189 - val_rmse: 8.5730 - learning_rate: 8.6584e-04\n",
            "Epoch 64/200\n",
            "\u001b[1m564/564\u001b[0m \u001b[32m━━━━━━━━━━━━━━━━━━━━\u001b[0m\u001b[37m\u001b[0m \u001b[1m41s\u001b[0m 52ms/step - loss: 46.4082 - r2_score: -53.9023 - rmse: 6.7569 - val_loss: 77.6517 - val_r2_score: -48.9018 - val_rmse: 8.7691 - learning_rate: 8.4385e-04\n",
            "Epoch 65/200\n",
            "\u001b[1m564/564\u001b[0m \u001b[32m━━━━━━━━━━━━━━━━━━━━\u001b[0m\u001b[37m\u001b[0m \u001b[1m41s\u001b[0m 51ms/step - loss: 45.9354 - r2_score: -54.5085 - rmse: 6.7190 - val_loss: 76.9203 - val_r2_score: -52.2995 - val_rmse: 8.7264 - learning_rate: 8.2052e-04\n",
            "Epoch 66/200\n",
            "\u001b[1m564/564\u001b[0m \u001b[32m━━━━━━━━━━━━━━━━━━━━\u001b[0m\u001b[37m\u001b[0m \u001b[1m41s\u001b[0m 52ms/step - loss: 43.8840 - r2_score: -55.0515 - rmse: 6.5653 - val_loss: 74.7449 - val_r2_score: -51.6425 - val_rmse: 8.6001 - learning_rate: 7.9595e-04\n",
            "Epoch 67/200\n",
            "\u001b[1m564/564\u001b[0m \u001b[32m━━━━━━━━━━━━━━━━━━━━\u001b[0m\u001b[37m\u001b[0m \u001b[1m29s\u001b[0m 51ms/step - loss: 40.9864 - r2_score: -55.5595 - rmse: 6.3385 - val_loss: 75.5145 - val_r2_score: -50.3665 - val_rmse: 8.6440 - learning_rate: 7.7023e-04\n",
            "Epoch 68/200\n",
            "\u001b[1m564/564\u001b[0m \u001b[32m━━━━━━━━━━━━━━━━━━━━\u001b[0m\u001b[37m\u001b[0m \u001b[1m41s\u001b[0m 52ms/step - loss: 40.2392 - r2_score: -55.3402 - rmse: 6.2795 - val_loss: 71.5514 - val_r2_score: -50.1345 - val_rmse: 8.4110 - learning_rate: 7.4347e-04\n",
            "Epoch 69/200\n",
            "\u001b[1m564/564\u001b[0m \u001b[32m━━━━━━━━━━━━━━━━━━━━\u001b[0m\u001b[37m\u001b[0m \u001b[1m40s\u001b[0m 50ms/step - loss: 37.1057 - r2_score: -56.0793 - rmse: 6.0245 - val_loss: 71.0194 - val_r2_score: -49.3014 - val_rmse: 8.3787 - learning_rate: 7.1576e-04\n",
            "Epoch 70/200\n",
            "\u001b[1m564/564\u001b[0m \u001b[32m━━━━━━━━━━━━━━━━━━━━\u001b[0m\u001b[37m\u001b[0m \u001b[1m42s\u001b[0m 52ms/step - loss: 38.0372 - r2_score: -55.8109 - rmse: 6.0997 - val_loss: 73.0318 - val_r2_score: -50.0441 - val_rmse: 8.4974 - learning_rate: 6.8722e-04\n",
            "Epoch 71/200\n",
            "\u001b[1m564/564\u001b[0m \u001b[32m━━━━━━━━━━━━━━━━━━━━\u001b[0m\u001b[37m\u001b[0m \u001b[1m40s\u001b[0m 50ms/step - loss: 36.6933 - r2_score: -56.7007 - rmse: 5.9871 - val_loss: 71.0855 - val_r2_score: -48.7253 - val_rmse: 8.3815 - learning_rate: 6.5796e-04\n",
            "Epoch 72/200\n",
            "\u001b[1m564/564\u001b[0m \u001b[32m━━━━━━━━━━━━━━━━━━━━\u001b[0m\u001b[37m\u001b[0m \u001b[1m29s\u001b[0m 52ms/step - loss: 36.9592 - r2_score: -56.2454 - rmse: 6.0081 - val_loss: 70.0651 - val_r2_score: -50.3657 - val_rmse: 8.3199 - learning_rate: 6.2810e-04\n",
            "Epoch 73/200\n",
            "\u001b[1m564/564\u001b[0m \u001b[32m━━━━━━━━━━━━━━━━━━━━\u001b[0m\u001b[37m\u001b[0m \u001b[1m40s\u001b[0m 50ms/step - loss: 36.3339 - r2_score: -56.2565 - rmse: 5.9531 - val_loss: 68.6063 - val_r2_score: -48.2189 - val_rmse: 8.2314 - learning_rate: 5.9775e-04\n",
            "Epoch 74/200\n",
            "\u001b[1m564/564\u001b[0m \u001b[32m━━━━━━━━━━━━━━━━━━━━\u001b[0m\u001b[37m\u001b[0m \u001b[1m40s\u001b[0m 49ms/step - loss: 31.9159 - r2_score: -56.3150 - rmse: 5.5729 - val_loss: 68.5812 - val_r2_score: -51.0794 - val_rmse: 8.2295 - learning_rate: 5.6704e-04\n",
            "Epoch 75/200\n",
            "\u001b[1m564/564\u001b[0m \u001b[32m━━━━━━━━━━━━━━━━━━━━\u001b[0m\u001b[37m\u001b[0m \u001b[1m28s\u001b[0m 49ms/step - loss: 32.1305 - r2_score: -56.9259 - rmse: 5.5916 - val_loss: 66.8820 - val_r2_score: -50.7108 - val_rmse: 8.1252 - learning_rate: 5.3608e-04\n",
            "Epoch 76/200\n",
            "\u001b[1m564/564\u001b[0m \u001b[32m━━━━━━━━━━━━━━━━━━━━\u001b[0m\u001b[37m\u001b[0m \u001b[1m43s\u001b[0m 53ms/step - loss: 30.2587 - r2_score: -57.1690 - rmse: 5.4210 - val_loss: 66.2861 - val_r2_score: -51.7409 - val_rmse: 8.0882 - learning_rate: 5.0500e-04\n",
            "Epoch 77/200\n",
            "\u001b[1m564/564\u001b[0m \u001b[32m━━━━━━━━━━━━━━━━━━━━\u001b[0m\u001b[37m\u001b[0m \u001b[1m41s\u001b[0m 52ms/step - loss: 29.9959 - r2_score: -57.0124 - rmse: 5.3955 - val_loss: 65.9475 - val_r2_score: -50.8636 - val_rmse: 8.0670 - learning_rate: 4.7392e-04\n",
            "Epoch 78/200\n",
            "\u001b[1m564/564\u001b[0m \u001b[32m━━━━━━━━━━━━━━━━━━━━\u001b[0m\u001b[37m\u001b[0m \u001b[1m28s\u001b[0m 50ms/step - loss: 27.1181 - r2_score: -57.4371 - rmse: 5.1204 - val_loss: 64.9117 - val_r2_score: -50.8819 - val_rmse: 8.0023 - learning_rate: 4.4296e-04\n",
            "Epoch 79/200\n",
            "\u001b[1m564/564\u001b[0m \u001b[32m━━━━━━━━━━━━━━━━━━━━\u001b[0m\u001b[37m\u001b[0m \u001b[1m42s\u001b[0m 52ms/step - loss: 28.3912 - r2_score: -57.8515 - rmse: 5.2440 - val_loss: 64.3640 - val_r2_score: -49.2445 - val_rmse: 7.9678 - learning_rate: 4.1225e-04\n",
            "Epoch 80/200\n",
            "\u001b[1m564/564\u001b[0m \u001b[32m━━━━━━━━━━━━━━━━━━━━\u001b[0m\u001b[37m\u001b[0m \u001b[1m41s\u001b[0m 52ms/step - loss: 27.5825 - r2_score: -56.8026 - rmse: 5.1638 - val_loss: 63.8648 - val_r2_score: -50.2200 - val_rmse: 7.9362 - learning_rate: 3.8190e-04\n",
            "Epoch 81/200\n",
            "\u001b[1m564/564\u001b[0m \u001b[32m━━━━━━━━━━━━━━━━━━━━\u001b[0m\u001b[37m\u001b[0m \u001b[1m41s\u001b[0m 52ms/step - loss: 25.7276 - r2_score: -57.5078 - rmse: 4.9835 - val_loss: 64.1631 - val_r2_score: -50.7513 - val_rmse: 7.9548 - learning_rate: 3.5204e-04\n",
            "Epoch 82/200\n",
            "\u001b[1m564/564\u001b[0m \u001b[32m━━━━━━━━━━━━━━━━━━━━\u001b[0m\u001b[37m\u001b[0m \u001b[1m40s\u001b[0m 50ms/step - loss: 25.0467 - r2_score: -57.6709 - rmse: 4.9142 - val_loss: 63.5337 - val_r2_score: -49.6960 - val_rmse: 7.9151 - learning_rate: 3.2278e-04\n",
            "Epoch 83/200\n",
            "\u001b[1m564/564\u001b[0m \u001b[32m━━━━━━━━━━━━━━━━━━━━\u001b[0m\u001b[37m\u001b[0m \u001b[1m40s\u001b[0m 49ms/step - loss: 24.6511 - r2_score: -57.4381 - rmse: 4.8744 - val_loss: 62.2813 - val_r2_score: -51.2225 - val_rmse: 7.8354 - learning_rate: 2.9424e-04\n",
            "Epoch 84/200\n",
            "\u001b[1m564/564\u001b[0m \u001b[32m━━━━━━━━━━━━━━━━━━━━\u001b[0m\u001b[37m\u001b[0m \u001b[1m42s\u001b[0m 52ms/step - loss: 22.4123 - r2_score: -57.5014 - rmse: 4.6385 - val_loss: 62.0648 - val_r2_score: -51.0482 - val_rmse: 7.8215 - learning_rate: 2.6653e-04\n",
            "Epoch 85/200\n",
            "\u001b[1m564/564\u001b[0m \u001b[32m━━━━━━━━━━━━━━━━━━━━\u001b[0m\u001b[37m\u001b[0m \u001b[1m28s\u001b[0m 50ms/step - loss: 23.1966 - r2_score: -57.4337 - rmse: 4.7222 - val_loss: 63.0765 - val_r2_score: -52.5003 - val_rmse: 7.8859 - learning_rate: 2.3977e-04\n",
            "Epoch 86/200\n",
            "\u001b[1m564/564\u001b[0m \u001b[32m━━━━━━━━━━━━━━━━━━━━\u001b[0m\u001b[37m\u001b[0m \u001b[1m28s\u001b[0m 50ms/step - loss: 22.5017 - r2_score: -58.6287 - rmse: 4.6472 - val_loss: 61.6747 - val_r2_score: -50.3816 - val_rmse: 7.7965 - learning_rate: 2.1405e-04\n",
            "Epoch 87/200\n",
            "\u001b[1m564/564\u001b[0m \u001b[32m━━━━━━━━━━━━━━━━━━━━\u001b[0m\u001b[37m\u001b[0m \u001b[1m42s\u001b[0m 52ms/step - loss: 22.1410 - r2_score: -58.0901 - rmse: 4.6096 - val_loss: 61.1653 - val_r2_score: -51.1527 - val_rmse: 7.7637 - learning_rate: 1.8948e-04\n",
            "Epoch 88/200\n",
            "\u001b[1m564/564\u001b[0m \u001b[32m━━━━━━━━━━━━━━━━━━━━\u001b[0m\u001b[37m\u001b[0m \u001b[1m29s\u001b[0m 51ms/step - loss: 21.4704 - r2_score: -58.1824 - rmse: 4.5360 - val_loss: 61.0533 - val_r2_score: -51.3886 - val_rmse: 7.7565 - learning_rate: 1.6615e-04\n",
            "Epoch 89/200\n",
            "\u001b[1m564/564\u001b[0m \u001b[32m━━━━━━━━━━━━━━━━━━━━\u001b[0m\u001b[37m\u001b[0m \u001b[1m30s\u001b[0m 53ms/step - loss: 20.4629 - r2_score: -58.6179 - rmse: 4.4237 - val_loss: 61.2312 - val_r2_score: -50.9073 - val_rmse: 7.7679 - learning_rate: 1.4416e-04\n",
            "Epoch 90/200\n",
            "\u001b[1m564/564\u001b[0m \u001b[32m━━━━━━━━━━━━━━━━━━━━\u001b[0m\u001b[37m\u001b[0m \u001b[1m41s\u001b[0m 53ms/step - loss: 20.1624 - r2_score: -58.3166 - rmse: 4.3896 - val_loss: 60.6640 - val_r2_score: -50.1968 - val_rmse: 7.7313 - learning_rate: 1.2360e-04\n",
            "Epoch 91/200\n",
            "\u001b[1m564/564\u001b[0m \u001b[32m━━━━━━━━━━━━━━━━━━━━\u001b[0m\u001b[37m\u001b[0m \u001b[1m30s\u001b[0m 53ms/step - loss: 19.5674 - r2_score: -58.5934 - rmse: 4.3211 - val_loss: 60.4141 - val_r2_score: -50.6100 - val_rmse: 7.7151 - learning_rate: 1.0454e-04\n",
            "Epoch 92/200\n",
            "\u001b[1m564/564\u001b[0m \u001b[32m━━━━━━━━━━━━━━━━━━━━\u001b[0m\u001b[37m\u001b[0m \u001b[1m40s\u001b[0m 52ms/step - loss: 20.1868 - r2_score: -58.2882 - rmse: 4.3924 - val_loss: 60.3080 - val_r2_score: -50.4285 - val_rmse: 7.7083 - learning_rate: 8.7058e-05\n",
            "Epoch 93/200\n",
            "\u001b[1m564/564\u001b[0m \u001b[32m━━━━━━━━━━━━━━━━━━━━\u001b[0m\u001b[37m\u001b[0m \u001b[1m41s\u001b[0m 51ms/step - loss: 18.1826 - r2_score: -58.8755 - rmse: 4.1577 - val_loss: 60.3161 - val_r2_score: -49.5199 - val_rmse: 7.7088 - learning_rate: 7.1228e-05\n",
            "Epoch 94/200\n",
            "\u001b[1m564/564\u001b[0m \u001b[32m━━━━━━━━━━━━━━━━━━━━\u001b[0m\u001b[37m\u001b[0m \u001b[1m43s\u001b[0m 55ms/step - loss: 18.8001 - r2_score: -57.8318 - rmse: 4.2306 - val_loss: 60.6578 - val_r2_score: -51.9082 - val_rmse: 7.7309 - learning_rate: 5.7111e-05\n",
            "Epoch 95/200\n",
            "\u001b[1m564/564\u001b[0m \u001b[32m━━━━━━━━━━━━━━━━━━━━\u001b[0m\u001b[37m\u001b[0m \u001b[1m41s\u001b[0m 55ms/step - loss: 18.8411 - r2_score: -59.0798 - rmse: 4.2364 - val_loss: 59.8023 - val_r2_score: -51.0312 - val_rmse: 7.6754 - learning_rate: 4.4761e-05\n",
            "Epoch 96/200\n",
            "\u001b[1m564/564\u001b[0m \u001b[32m━━━━━━━━━━━━━━━━━━━━\u001b[0m\u001b[37m\u001b[0m \u001b[1m41s\u001b[0m 56ms/step - loss: 18.3191 - r2_score: -58.7163 - rmse: 4.1746 - val_loss: 59.7238 - val_r2_score: -50.8197 - val_rmse: 7.6703 - learning_rate: 3.4227e-05\n",
            "Epoch 97/200\n",
            "\u001b[1m564/564\u001b[0m \u001b[32m━━━━━━━━━━━━━━━━━━━━\u001b[0m\u001b[37m\u001b[0m \u001b[1m30s\u001b[0m 53ms/step - loss: 18.0349 - r2_score: -58.5134 - rmse: 4.1387 - val_loss: 59.8293 - val_r2_score: -51.0272 - val_rmse: 7.6772 - learning_rate: 2.5551e-05\n",
            "Epoch 98/200\n",
            "\u001b[1m564/564\u001b[0m \u001b[32m━━━━━━━━━━━━━━━━━━━━\u001b[0m\u001b[37m\u001b[0m \u001b[1m42s\u001b[0m 54ms/step - loss: 18.1960 - r2_score: -58.5045 - rmse: 4.1590 - val_loss: 59.7320 - val_r2_score: -50.9499 - val_rmse: 7.6708 - learning_rate: 1.8768e-05\n",
            "Epoch 99/200\n",
            "\u001b[1m564/564\u001b[0m \u001b[32m━━━━━━━━━━━━━━━━━━━━\u001b[0m\u001b[37m\u001b[0m \u001b[1m29s\u001b[0m 51ms/step - loss: 18.2849 - r2_score: -58.5883 - rmse: 4.1702 - val_loss: 59.8227 - val_r2_score: -50.9568 - val_rmse: 7.6767 - learning_rate: 1.3903e-05\n",
            "Epoch 100/200\n",
            "\u001b[1m564/564\u001b[0m \u001b[32m━━━━━━━━━━━━━━━━━━━━\u001b[0m\u001b[37m\u001b[0m \u001b[1m42s\u001b[0m 52ms/step - loss: 17.9142 - r2_score: -58.8262 - rmse: 4.1252 - val_loss: 59.6759 - val_r2_score: -50.9182 - val_rmse: 7.6672 - learning_rate: 1.0977e-05\n",
            "Epoch 101/200\n",
            "\u001b[1m564/564\u001b[0m \u001b[32m━━━━━━━━━━━━━━━━━━━━\u001b[0m\u001b[37m\u001b[0m \u001b[1m32s\u001b[0m 57ms/step - loss: 17.4158 - r2_score: -58.1726 - rmse: 4.0635 - val_loss: 59.7892 - val_r2_score: -51.2455 - val_rmse: 7.6745 - learning_rate: 1.0000e-05\n",
            "Epoch 102/200\n",
            "\u001b[1m564/564\u001b[0m \u001b[32m━━━━━━━━━━━━━━━━━━━━\u001b[0m\u001b[37m\u001b[0m \u001b[1m29s\u001b[0m 51ms/step - loss: 17.2349 - r2_score: -58.9752 - rmse: 4.0400 - val_loss: 59.6788 - val_r2_score: -51.0970 - val_rmse: 7.6673 - learning_rate: 1.0977e-05\n",
            "Epoch 103/200\n",
            "\u001b[1m564/564\u001b[0m \u001b[32m━━━━━━━━━━━━━━━━━━━━\u001b[0m\u001b[37m\u001b[0m \u001b[1m32s\u001b[0m 56ms/step - loss: 18.2102 - r2_score: -58.7515 - rmse: 4.1612 - val_loss: 59.7455 - val_r2_score: -50.8198 - val_rmse: 7.6717 - learning_rate: 1.3903e-05\n",
            "Epoch 104/200\n",
            "\u001b[1m564/564\u001b[0m \u001b[32m━━━━━━━━━━━━━━━━━━━━\u001b[0m\u001b[37m\u001b[0m \u001b[1m29s\u001b[0m 52ms/step - loss: 17.6576 - r2_score: -59.4619 - rmse: 4.0945 - val_loss: 59.4970 - val_r2_score: -50.7046 - val_rmse: 7.6555 - learning_rate: 1.8768e-05\n",
            "Epoch 105/200\n",
            "\u001b[1m564/564\u001b[0m \u001b[32m━━━━━━━━━━━━━━━━━━━━\u001b[0m\u001b[37m\u001b[0m \u001b[1m41s\u001b[0m 51ms/step - loss: 18.0100 - r2_score: -58.7097 - rmse: 4.1371 - val_loss: 59.6864 - val_r2_score: -51.2562 - val_rmse: 7.6678 - learning_rate: 2.5551e-05\n",
            "Epoch 106/200\n",
            "\u001b[1m564/564\u001b[0m \u001b[32m━━━━━━━━━━━━━━━━━━━━\u001b[0m\u001b[37m\u001b[0m \u001b[1m43s\u001b[0m 54ms/step - loss: 18.0714 - r2_score: -58.8303 - rmse: 4.1446 - val_loss: 60.0054 - val_r2_score: -51.5789 - val_rmse: 7.6886 - learning_rate: 3.4227e-05\n",
            "Epoch 107/200\n",
            "\u001b[1m564/564\u001b[0m \u001b[32m━━━━━━━━━━━━━━━━━━━━\u001b[0m\u001b[37m\u001b[0m \u001b[1m40s\u001b[0m 53ms/step - loss: 17.8636 - r2_score: -59.2560 - rmse: 4.1195 - val_loss: 59.9462 - val_r2_score: -51.1788 - val_rmse: 7.6848 - learning_rate: 4.4761e-05\n",
            "Epoch 108/200\n",
            "\u001b[1m564/564\u001b[0m \u001b[32m━━━━━━━━━━━━━━━━━━━━\u001b[0m\u001b[37m\u001b[0m \u001b[1m29s\u001b[0m 51ms/step - loss: 18.0730 - r2_score: -59.0215 - rmse: 4.1447 - val_loss: 59.7170 - val_r2_score: -50.5739 - val_rmse: 7.6699 - learning_rate: 5.7111e-05\n",
            "Epoch 109/200\n",
            "\u001b[1m564/564\u001b[0m \u001b[32m━━━━━━━━━━━━━━━━━━━━\u001b[0m\u001b[37m\u001b[0m \u001b[1m42s\u001b[0m 53ms/step - loss: 17.8943 - r2_score: -59.0088 - rmse: 4.1227 - val_loss: 59.9761 - val_r2_score: -51.2385 - val_rmse: 7.6867 - learning_rate: 7.1228e-05\n",
            "Epoch 110/200\n",
            "\u001b[1m564/564\u001b[0m \u001b[32m━━━━━━━━━━━━━━━━━━━━\u001b[0m\u001b[37m\u001b[0m \u001b[1m41s\u001b[0m 54ms/step - loss: 18.3278 - r2_score: -58.5550 - rmse: 4.1754 - val_loss: 59.8667 - val_r2_score: -50.8987 - val_rmse: 7.6796 - learning_rate: 8.7058e-05\n",
            "Epoch 111/200\n",
            "\u001b[1m564/564\u001b[0m \u001b[32m━━━━━━━━━━━━━━━━━━━━\u001b[0m\u001b[37m\u001b[0m \u001b[1m41s\u001b[0m 53ms/step - loss: 18.5989 - r2_score: -59.1677 - rmse: 4.2072 - val_loss: 59.7209 - val_r2_score: -50.8570 - val_rmse: 7.6701 - learning_rate: 1.0454e-04\n",
            "Epoch 112/200\n",
            "\u001b[1m564/564\u001b[0m \u001b[32m━━━━━━━━━━━━━━━━━━━━\u001b[0m\u001b[37m\u001b[0m \u001b[1m41s\u001b[0m 54ms/step - loss: 18.1444 - r2_score: -58.7231 - rmse: 4.1523 - val_loss: 59.9335 - val_r2_score: -51.0899 - val_rmse: 7.6839 - learning_rate: 1.2360e-04\n",
            "Epoch 113/200\n",
            "\u001b[1m564/564\u001b[0m \u001b[32m━━━━━━━━━━━━━━━━━━━━\u001b[0m\u001b[37m\u001b[0m \u001b[1m39s\u001b[0m 50ms/step - loss: 18.9419 - r2_score: -58.5937 - rmse: 4.2484 - val_loss: 61.4982 - val_r2_score: -52.8317 - val_rmse: 7.7851 - learning_rate: 1.4416e-04\n",
            "Epoch 114/200\n",
            "\u001b[1m564/564\u001b[0m \u001b[32m━━━━━━━━━━━━━━━━━━━━\u001b[0m\u001b[37m\u001b[0m \u001b[1m30s\u001b[0m 54ms/step - loss: 18.7463 - r2_score: -59.0961 - rmse: 4.2253 - val_loss: 61.0088 - val_r2_score: -51.2507 - val_rmse: 7.7536 - learning_rate: 1.6615e-04\n",
            "Epoch 115/200\n",
            "\u001b[1m564/564\u001b[0m \u001b[32m━━━━━━━━━━━━━━━━━━━━\u001b[0m\u001b[37m\u001b[0m \u001b[1m41s\u001b[0m 54ms/step - loss: 18.9951 - r2_score: -58.7263 - rmse: 4.2547 - val_loss: 60.7269 - val_r2_score: -51.2767 - val_rmse: 7.7353 - learning_rate: 1.8948e-04\n",
            "Epoch 116/200\n",
            "\u001b[1m564/564\u001b[0m \u001b[32m━━━━━━━━━━━━━━━━━━━━\u001b[0m\u001b[37m\u001b[0m \u001b[1m40s\u001b[0m 51ms/step - loss: 18.5161 - r2_score: -58.9674 - rmse: 4.1974 - val_loss: 62.1417 - val_r2_score: -49.9718 - val_rmse: 7.8262 - learning_rate: 2.1405e-04\n",
            "Epoch 117/200\n",
            "\u001b[1m564/564\u001b[0m \u001b[32m━━━━━━━━━━━━━━━━━━━━\u001b[0m\u001b[37m\u001b[0m \u001b[1m41s\u001b[0m 51ms/step - loss: 19.3915 - r2_score: -58.8398 - rmse: 4.3005 - val_loss: 61.1380 - val_r2_score: -50.6582 - val_rmse: 7.7618 - learning_rate: 2.3977e-04\n",
            "Epoch 118/200\n",
            "\u001b[1m564/564\u001b[0m \u001b[32m━━━━━━━━━━━━━━━━━━━━\u001b[0m\u001b[37m\u001b[0m \u001b[1m29s\u001b[0m 51ms/step - loss: 20.7951 - r2_score: -58.7755 - rmse: 4.4603 - val_loss: 61.8670 - val_r2_score: -51.6105 - val_rmse: 7.8085 - learning_rate: 2.6653e-04\n",
            "Epoch 119/200\n",
            "\u001b[1m564/564\u001b[0m \u001b[32m━━━━━━━━━━━━━━━━━━━━\u001b[0m\u001b[37m\u001b[0m \u001b[1m29s\u001b[0m 52ms/step - loss: 20.4080 - r2_score: -58.5524 - rmse: 4.4168 - val_loss: 61.8707 - val_r2_score: -51.6203 - val_rmse: 7.8087 - learning_rate: 2.9424e-04\n",
            "Epoch 120/200\n",
            "\u001b[1m564/564\u001b[0m \u001b[32m━━━━━━━━━━━━━━━━━━━━\u001b[0m\u001b[37m\u001b[0m \u001b[1m41s\u001b[0m 52ms/step - loss: 20.7211 - r2_score: -58.8754 - rmse: 4.4516 - val_loss: 61.7532 - val_r2_score: -51.4333 - val_rmse: 7.8010 - learning_rate: 3.2278e-04\n",
            "Epoch 121/200\n",
            "\u001b[1m564/564\u001b[0m \u001b[32m━━━━━━━━━━━━━━━━━━━━\u001b[0m\u001b[37m\u001b[0m \u001b[1m43s\u001b[0m 56ms/step - loss: 20.3751 - r2_score: -58.5457 - rmse: 4.4126 - val_loss: 62.8331 - val_r2_score: -51.8330 - val_rmse: 7.8698 - learning_rate: 3.5204e-04\n",
            "Epoch 122/200\n",
            "\u001b[1m564/564\u001b[0m \u001b[32m━━━━━━━━━━━━━━━━━━━━\u001b[0m\u001b[37m\u001b[0m \u001b[1m39s\u001b[0m 53ms/step - loss: 22.1684 - r2_score: -58.3261 - rmse: 4.6111 - val_loss: 62.5586 - val_r2_score: -50.8743 - val_rmse: 7.8521 - learning_rate: 3.8190e-04\n",
            "Epoch 123/200\n",
            "\u001b[1m564/564\u001b[0m \u001b[32m━━━━━━━━━━━━━━━━━━━━\u001b[0m\u001b[37m\u001b[0m \u001b[1m43s\u001b[0m 56ms/step - loss: 21.6872 - r2_score: -58.3336 - rmse: 4.5580 - val_loss: 62.7035 - val_r2_score: -50.5792 - val_rmse: 7.8612 - learning_rate: 4.1225e-04\n",
            "Epoch 124/200\n",
            "\u001b[1m564/564\u001b[0m \u001b[32m━━━━━━━━━━━━━━━━━━━━\u001b[0m\u001b[37m\u001b[0m \u001b[1m40s\u001b[0m 55ms/step - loss: 22.1886 - r2_score: -58.4000 - rmse: 4.6128 - val_loss: 63.0505 - val_r2_score: -50.5013 - val_rmse: 7.8830 - learning_rate: 4.4296e-04\n",
            "Epoch 124: early stopping\n",
            "Restoring model weights from the end of the best epoch: 104.\n",
            "\u001b[1m367/367\u001b[0m \u001b[32m━━━━━━━━━━━━━━━━━━━━\u001b[0m\u001b[37m\u001b[0m \u001b[1m3s\u001b[0m 7ms/step\n",
            "(18035, 5, 5, 6)\n",
            "(4509, 5, 5, 6)\n",
            "Updated X_test shape: (11723, 5, 5, 6)\n",
            "Updated y_test shape: (11723,)\n",
            "Epoch 1/200\n",
            "\u001b[1m564/564\u001b[0m \u001b[32m━━━━━━━━━━━━━━━━━━━━\u001b[0m\u001b[37m\u001b[0m \u001b[1m30s\u001b[0m 53ms/step - loss: 50.2120 - r2_score: -53.6976 - rmse: 7.0173 - val_loss: 26.1165 - val_r2_score: -52.4384 - val_rmse: 5.0226 - learning_rate: 1.0000e-05\n",
            "Epoch 2/200\n",
            "\u001b[1m564/564\u001b[0m \u001b[32m━━━━━━━━━━━━━━━━━━━━\u001b[0m\u001b[37m\u001b[0m \u001b[1m44s\u001b[0m 59ms/step - loss: 50.1354 - r2_score: -53.9546 - rmse: 7.0159 - val_loss: 25.7831 - val_r2_score: -52.3118 - val_rmse: 4.9893 - learning_rate: 1.0977e-05\n",
            "Epoch 3/200\n",
            "\u001b[1m564/564\u001b[0m \u001b[32m━━━━━━━━━━━━━━━━━━━━\u001b[0m\u001b[37m\u001b[0m \u001b[1m39s\u001b[0m 56ms/step - loss: 50.0405 - r2_score: -54.2134 - rmse: 7.0085 - val_loss: 25.4962 - val_r2_score: -51.8638 - val_rmse: 4.9604 - learning_rate: 1.3903e-05\n",
            "Epoch 4/200\n",
            "\u001b[1m564/564\u001b[0m \u001b[32m━━━━━━━━━━━━━━━━━━━━\u001b[0m\u001b[37m\u001b[0m \u001b[1m29s\u001b[0m 52ms/step - loss: 49.2640 - r2_score: -53.4445 - rmse: 6.9523 - val_loss: 25.1456 - val_r2_score: -51.6532 - val_rmse: 4.9250 - learning_rate: 1.8768e-05\n",
            "Epoch 5/200\n",
            "\u001b[1m564/564\u001b[0m \u001b[32m━━━━━━━━━━━━━━━━━━━━\u001b[0m\u001b[37m\u001b[0m \u001b[1m41s\u001b[0m 52ms/step - loss: 52.6093 - r2_score: -53.3533 - rmse: 7.1889 - val_loss: 25.1141 - val_r2_score: -50.6145 - val_rmse: 4.9218 - learning_rate: 2.5551e-05\n",
            "Epoch 6/200\n",
            "\u001b[1m564/564\u001b[0m \u001b[32m━━━━━━━━━━━━━━━━━━━━\u001b[0m\u001b[37m\u001b[0m \u001b[1m44s\u001b[0m 57ms/step - loss: 50.7310 - r2_score: -52.6285 - rmse: 7.0580 - val_loss: 24.2233 - val_r2_score: -51.2611 - val_rmse: 4.8304 - learning_rate: 3.4227e-05\n",
            "Epoch 7/200\n",
            "\u001b[1m564/564\u001b[0m \u001b[32m━━━━━━━━━━━━━━━━━━━━\u001b[0m\u001b[37m\u001b[0m \u001b[1m32s\u001b[0m 57ms/step - loss: 50.6168 - r2_score: -52.5025 - rmse: 7.0371 - val_loss: 23.7735 - val_r2_score: -51.2050 - val_rmse: 4.7836 - learning_rate: 4.4761e-05\n",
            "Epoch 8/200\n",
            "\u001b[1m564/564\u001b[0m \u001b[32m━━━━━━━━━━━━━━━━━━━━\u001b[0m\u001b[37m\u001b[0m \u001b[1m42s\u001b[0m 58ms/step - loss: 48.0575 - r2_score: -53.1539 - rmse: 6.8643 - val_loss: 23.2678 - val_r2_score: -50.7926 - val_rmse: 4.7305 - learning_rate: 5.7111e-05\n",
            "Epoch 9/200\n",
            "\u001b[1m564/564\u001b[0m \u001b[32m━━━━━━━━━━━━━━━━━━━━\u001b[0m\u001b[37m\u001b[0m \u001b[1m41s\u001b[0m 58ms/step - loss: 47.0999 - r2_score: -52.6321 - rmse: 6.7963 - val_loss: 22.6723 - val_r2_score: -50.9166 - val_rmse: 4.6671 - learning_rate: 7.1228e-05\n",
            "Epoch 10/200\n",
            "\u001b[1m564/564\u001b[0m \u001b[32m━━━━━━━━━━━━━━━━━━━━\u001b[0m\u001b[37m\u001b[0m \u001b[1m31s\u001b[0m 55ms/step - loss: 47.3932 - r2_score: -53.1834 - rmse: 6.8181 - val_loss: 22.5918 - val_r2_score: -50.2574 - val_rmse: 4.6585 - learning_rate: 8.7058e-05\n",
            "Epoch 11/200\n",
            "\u001b[1m564/564\u001b[0m \u001b[32m━━━━━━━━━━━━━━━━━━━━\u001b[0m\u001b[37m\u001b[0m \u001b[1m30s\u001b[0m 53ms/step - loss: 43.9107 - r2_score: -53.3118 - rmse: 6.5574 - val_loss: 21.5562 - val_r2_score: -50.7418 - val_rmse: 4.5459 - learning_rate: 1.0454e-04\n",
            "Epoch 12/200\n",
            "\u001b[1m564/564\u001b[0m \u001b[32m━━━━━━━━━━━━━━━━━━━━\u001b[0m\u001b[37m\u001b[0m \u001b[1m41s\u001b[0m 52ms/step - loss: 44.2365 - r2_score: -53.1955 - rmse: 6.5808 - val_loss: 20.5292 - val_r2_score: -51.8034 - val_rmse: 4.4315 - learning_rate: 1.2360e-04\n",
            "Epoch 13/200\n",
            "\u001b[1m564/564\u001b[0m \u001b[32m━━━━━━━━━━━━━━━━━━━━\u001b[0m\u001b[37m\u001b[0m \u001b[1m43s\u001b[0m 57ms/step - loss: 41.9306 - r2_score: -53.8146 - rmse: 6.4052 - val_loss: 19.8915 - val_r2_score: -51.7315 - val_rmse: 4.3589 - learning_rate: 1.4416e-04\n",
            "Epoch 14/200\n",
            "\u001b[1m564/564\u001b[0m \u001b[32m━━━━━━━━━━━━━━━━━━━━\u001b[0m\u001b[37m\u001b[0m \u001b[1m32s\u001b[0m 57ms/step - loss: 39.8446 - r2_score: -53.9692 - rmse: 6.2396 - val_loss: 18.8173 - val_r2_score: -52.0029 - val_rmse: 4.2338 - learning_rate: 1.6615e-04\n",
            "Epoch 15/200\n",
            "\u001b[1m564/564\u001b[0m \u001b[32m━━━━━━━━━━━━━━━━━━━━\u001b[0m\u001b[37m\u001b[0m \u001b[1m40s\u001b[0m 56ms/step - loss: 39.3411 - r2_score: -54.0211 - rmse: 6.1996 - val_loss: 19.6450 - val_r2_score: -53.8908 - val_rmse: 4.3304 - learning_rate: 1.8948e-04\n",
            "Epoch 16/200\n",
            "\u001b[1m564/564\u001b[0m \u001b[32m━━━━━━━━━━━━━━━━━━━━\u001b[0m\u001b[37m\u001b[0m \u001b[1m41s\u001b[0m 57ms/step - loss: 39.0359 - r2_score: -54.5840 - rmse: 6.1753 - val_loss: 17.6564 - val_r2_score: -52.3529 - val_rmse: 4.0942 - learning_rate: 2.1405e-04\n",
            "Epoch 17/200\n",
            "\u001b[1m564/564\u001b[0m \u001b[32m━━━━━━━━━━━━━━━━━━━━\u001b[0m\u001b[37m\u001b[0m \u001b[1m38s\u001b[0m 52ms/step - loss: 35.6224 - r2_score: -55.1003 - rmse: 5.8879 - val_loss: 17.8193 - val_r2_score: -52.3724 - val_rmse: 4.1139 - learning_rate: 2.3977e-04\n",
            "Epoch 18/200\n",
            "\u001b[1m564/564\u001b[0m \u001b[32m━━━━━━━━━━━━━━━━━━━━\u001b[0m\u001b[37m\u001b[0m \u001b[1m42s\u001b[0m 54ms/step - loss: 35.7798 - r2_score: -55.2154 - rmse: 5.9046 - val_loss: 19.3277 - val_r2_score: -57.0579 - val_rmse: 4.2931 - learning_rate: 2.6653e-04\n",
            "Epoch 19/200\n",
            "\u001b[1m564/564\u001b[0m \u001b[32m━━━━━━━━━━━━━━━━━━━━\u001b[0m\u001b[37m\u001b[0m \u001b[1m41s\u001b[0m 54ms/step - loss: 33.0598 - r2_score: -56.2081 - rmse: 5.6687 - val_loss: 17.8485 - val_r2_score: -53.0814 - val_rmse: 4.1170 - learning_rate: 2.9424e-04\n",
            "Epoch 20/200\n",
            "\u001b[1m564/564\u001b[0m \u001b[32m━━━━━━━━━━━━━━━━━━━━\u001b[0m\u001b[37m\u001b[0m \u001b[1m41s\u001b[0m 55ms/step - loss: 34.7536 - r2_score: -55.4053 - rmse: 5.8164 - val_loss: 18.1239 - val_r2_score: -53.8611 - val_rmse: 4.1500 - learning_rate: 3.2278e-04\n",
            "Epoch 21/200\n",
            "\u001b[1m564/564\u001b[0m \u001b[32m━━━━━━━━━━━━━━━━━━━━\u001b[0m\u001b[37m\u001b[0m \u001b[1m30s\u001b[0m 54ms/step - loss: 32.9360 - r2_score: -55.8063 - rmse: 5.6587 - val_loss: 19.0267 - val_r2_score: -51.4466 - val_rmse: 4.2571 - learning_rate: 3.5204e-04\n",
            "Epoch 22/200\n",
            "\u001b[1m564/564\u001b[0m \u001b[32m━━━━━━━━━━━━━━━━━━━━\u001b[0m\u001b[37m\u001b[0m \u001b[1m41s\u001b[0m 54ms/step - loss: 31.7368 - r2_score: -55.9891 - rmse: 5.5521 - val_loss: 17.4416 - val_r2_score: -54.1534 - val_rmse: 4.0663 - learning_rate: 3.8190e-04\n",
            "Epoch 23/200\n",
            "\u001b[1m564/564\u001b[0m \u001b[32m━━━━━━━━━━━━━━━━━━━━\u001b[0m\u001b[37m\u001b[0m \u001b[1m42s\u001b[0m 55ms/step - loss: 31.2605 - r2_score: -56.0626 - rmse: 5.5083 - val_loss: 18.6113 - val_r2_score: -55.0708 - val_rmse: 4.2072 - learning_rate: 4.1225e-04\n",
            "Epoch 24/200\n",
            "\u001b[1m564/564\u001b[0m \u001b[32m━━━━━━━━━━━━━━━━━━━━\u001b[0m\u001b[37m\u001b[0m \u001b[1m31s\u001b[0m 55ms/step - loss: 30.9808 - r2_score: -56.1824 - rmse: 5.4824 - val_loss: 21.1046 - val_r2_score: -53.2782 - val_rmse: 4.4933 - learning_rate: 4.4296e-04\n",
            "Epoch 25/200\n",
            "\u001b[1m564/564\u001b[0m \u001b[32m━━━━━━━━━━━━━━━━━━━━\u001b[0m\u001b[37m\u001b[0m \u001b[1m39s\u001b[0m 52ms/step - loss: 31.5441 - r2_score: -56.4623 - rmse: 5.5325 - val_loss: 19.5454 - val_r2_score: -53.3564 - val_rmse: 4.3157 - learning_rate: 4.7392e-04\n",
            "Epoch 26/200\n",
            "\u001b[1m564/564\u001b[0m \u001b[32m━━━━━━━━━━━━━━━━━━━━\u001b[0m\u001b[37m\u001b[0m \u001b[1m43s\u001b[0m 55ms/step - loss: 30.7291 - r2_score: -56.7565 - rmse: 5.4584 - val_loss: 20.2924 - val_r2_score: -52.5892 - val_rmse: 4.4008 - learning_rate: 5.0500e-04\n",
            "Epoch 27/200\n",
            "\u001b[1m564/564\u001b[0m \u001b[32m━━━━━━━━━━━━━━━━━━━━\u001b[0m\u001b[37m\u001b[0m \u001b[1m40s\u001b[0m 53ms/step - loss: 31.9899 - r2_score: -56.5811 - rmse: 5.5722 - val_loss: 19.2729 - val_r2_score: -51.3592 - val_rmse: 4.2827 - learning_rate: 5.3608e-04\n",
            "Epoch 28/200\n",
            "\u001b[1m564/564\u001b[0m \u001b[32m━━━━━━━━━━━━━━━━━━━━\u001b[0m\u001b[37m\u001b[0m \u001b[1m43s\u001b[0m 57ms/step - loss: 31.0232 - r2_score: -56.3247 - rmse: 5.4849 - val_loss: 21.1867 - val_r2_score: -55.5186 - val_rmse: 4.4998 - learning_rate: 5.6704e-04\n",
            "Epoch 29/200\n",
            "\u001b[1m564/564\u001b[0m \u001b[32m━━━━━━━━━━━━━━━━━━━━\u001b[0m\u001b[37m\u001b[0m \u001b[1m41s\u001b[0m 57ms/step - loss: 32.0392 - r2_score: -57.1031 - rmse: 5.5750 - val_loss: 20.1979 - val_r2_score: -54.1096 - val_rmse: 4.3877 - learning_rate: 5.9775e-04\n",
            "Epoch 30/200\n",
            "\u001b[1m564/564\u001b[0m \u001b[32m━━━━━━━━━━━━━━━━━━━━\u001b[0m\u001b[37m\u001b[0m \u001b[1m39s\u001b[0m 53ms/step - loss: 31.3267 - r2_score: -56.3192 - rmse: 5.5106 - val_loss: 24.6915 - val_r2_score: -50.6111 - val_rmse: 4.8721 - learning_rate: 6.2810e-04\n",
            "Epoch 31/200\n",
            "\u001b[1m564/564\u001b[0m \u001b[32m━━━━━━━━━━━━━━━━━━━━\u001b[0m\u001b[37m\u001b[0m \u001b[1m30s\u001b[0m 52ms/step - loss: 31.9227 - r2_score: -56.0787 - rmse: 5.5641 - val_loss: 24.7964 - val_r2_score: -51.8099 - val_rmse: 4.8819 - learning_rate: 6.5796e-04\n",
            "Epoch 32/200\n",
            "\u001b[1m564/564\u001b[0m \u001b[32m━━━━━━━━━━━━━━━━━━━━\u001b[0m\u001b[37m\u001b[0m \u001b[1m43s\u001b[0m 55ms/step - loss: 34.0862 - r2_score: -56.4632 - rmse: 5.7541 - val_loss: 25.1054 - val_r2_score: -51.0820 - val_rmse: 4.9123 - learning_rate: 6.8722e-04\n",
            "Epoch 33/200\n",
            "\u001b[1m564/564\u001b[0m \u001b[32m━━━━━━━━━━━━━━━━━━━━\u001b[0m\u001b[37m\u001b[0m \u001b[1m40s\u001b[0m 54ms/step - loss: 32.7299 - r2_score: -56.1264 - rmse: 5.6333 - val_loss: 24.7892 - val_r2_score: -54.9065 - val_rmse: 4.8788 - learning_rate: 7.1576e-04\n",
            "Epoch 34/200\n",
            "\u001b[1m564/564\u001b[0m \u001b[32m━━━━━━━━━━━━━━━━━━━━\u001b[0m\u001b[37m\u001b[0m \u001b[1m40s\u001b[0m 53ms/step - loss: 33.2248 - r2_score: -56.9536 - rmse: 5.6758 - val_loss: 25.6003 - val_r2_score: -51.6912 - val_rmse: 4.9601 - learning_rate: 7.4347e-04\n",
            "Epoch 35/200\n",
            "\u001b[1m564/564\u001b[0m \u001b[32m━━━━━━━━━━━━━━━━━━━━\u001b[0m\u001b[37m\u001b[0m \u001b[1m42s\u001b[0m 54ms/step - loss: 32.1143 - r2_score: -56.5256 - rmse: 5.5775 - val_loss: 27.3660 - val_r2_score: -49.0556 - val_rmse: 5.1338 - learning_rate: 7.7023e-04\n",
            "Epoch 36/200\n",
            "\u001b[1m564/564\u001b[0m \u001b[32m━━━━━━━━━━━━━━━━━━━━\u001b[0m\u001b[37m\u001b[0m \u001b[1m29s\u001b[0m 51ms/step - loss: 34.2221 - r2_score: -55.4026 - rmse: 5.7606 - val_loss: 25.6251 - val_r2_score: -52.4265 - val_rmse: 4.9600 - learning_rate: 7.9595e-04\n",
            "Epoch 37/200\n",
            "\u001b[1m564/564\u001b[0m \u001b[32m━━━━━━━━━━━━━━━━━━━━\u001b[0m\u001b[37m\u001b[0m \u001b[1m29s\u001b[0m 52ms/step - loss: 32.6502 - r2_score: -56.7297 - rmse: 5.6220 - val_loss: 28.8365 - val_r2_score: -50.9799 - val_rmse: 5.2725 - learning_rate: 8.2052e-04\n",
            "Epoch 38/200\n",
            "\u001b[1m564/564\u001b[0m \u001b[32m━━━━━━━━━━━━━━━━━━━━\u001b[0m\u001b[37m\u001b[0m \u001b[1m41s\u001b[0m 52ms/step - loss: 33.0513 - r2_score: -56.0587 - rmse: 5.6557 - val_loss: 31.2984 - val_r2_score: -58.2642 - val_rmse: 5.4995 - learning_rate: 8.4385e-04\n",
            "Epoch 39/200\n",
            "\u001b[1m564/564\u001b[0m \u001b[32m━━━━━━━━━━━━━━━━━━━━\u001b[0m\u001b[37m\u001b[0m \u001b[1m43s\u001b[0m 56ms/step - loss: 34.4692 - r2_score: -56.9274 - rmse: 5.7778 - val_loss: 30.6931 - val_r2_score: -52.1743 - val_rmse: 5.4428 - learning_rate: 8.6584e-04\n",
            "Epoch 40/200\n",
            "\u001b[1m564/564\u001b[0m \u001b[32m━━━━━━━━━━━━━━━━━━━━\u001b[0m\u001b[37m\u001b[0m \u001b[1m39s\u001b[0m 52ms/step - loss: 32.8846 - r2_score: -56.6692 - rmse: 5.6386 - val_loss: 33.6730 - val_r2_score: -54.0786 - val_rmse: 5.7084 - learning_rate: 8.8640e-04\n",
            "Epoch 41/200\n",
            "\u001b[1m564/564\u001b[0m \u001b[32m━━━━━━━━━━━━━━━━━━━━\u001b[0m\u001b[37m\u001b[0m \u001b[1m44s\u001b[0m 58ms/step - loss: 34.4030 - r2_score: -56.1498 - rmse: 5.7699 - val_loss: 29.5682 - val_r2_score: -52.6202 - val_rmse: 5.3352 - learning_rate: 9.0546e-04\n",
            "Epoch 42/200\n",
            "\u001b[1m564/564\u001b[0m \u001b[32m━━━━━━━━━━━━━━━━━━━━\u001b[0m\u001b[37m\u001b[0m \u001b[1m29s\u001b[0m 51ms/step - loss: 32.4670 - r2_score: -56.3511 - rmse: 5.5965 - val_loss: 28.8653 - val_r2_score: -50.8039 - val_rmse: 5.2672 - learning_rate: 9.2294e-04\n",
            "Epoch 42: early stopping\n",
            "Restoring model weights from the end of the best epoch: 22.\n",
            "\u001b[1m367/367\u001b[0m \u001b[32m━━━━━━━━━━━━━━━━━━━━\u001b[0m\u001b[37m\u001b[0m \u001b[1m4s\u001b[0m 11ms/step\n",
            "(18035, 5, 5, 6)\n",
            "(4509, 5, 5, 6)\n",
            "Updated X_test shape: (11723, 5, 5, 6)\n",
            "Updated y_test shape: (11723,)\n",
            "Epoch 1/200\n",
            "\u001b[1m564/564\u001b[0m \u001b[32m━━━━━━━━━━━━━━━━━━━━\u001b[0m\u001b[37m\u001b[0m \u001b[1m33s\u001b[0m 58ms/step - loss: 31.4957 - r2_score: -56.5125 - rmse: 5.5291 - val_loss: 14.6914 - val_r2_score: -53.7562 - val_rmse: 3.7127 - learning_rate: 1.0000e-05\n",
            "Epoch 2/200\n",
            "\u001b[1m564/564\u001b[0m \u001b[32m━━━━━━━━━━━━━━━━━━━━\u001b[0m\u001b[37m\u001b[0m \u001b[1m38s\u001b[0m 52ms/step - loss: 29.9948 - r2_score: -57.0007 - rmse: 5.3921 - val_loss: 14.0878 - val_r2_score: -53.7219 - val_rmse: 3.6305 - learning_rate: 1.0977e-05\n",
            "Epoch 3/200\n",
            "\u001b[1m564/564\u001b[0m \u001b[32m━━━━━━━━━━━━━━━━━━━━\u001b[0m\u001b[37m\u001b[0m \u001b[1m29s\u001b[0m 52ms/step - loss: 29.1072 - r2_score: -56.4005 - rmse: 5.3097 - val_loss: 13.6632 - val_r2_score: -53.8533 - val_rmse: 3.5716 - learning_rate: 1.3903e-05\n",
            "Epoch 4/200\n",
            "\u001b[1m564/564\u001b[0m \u001b[32m━━━━━━━━━━━━━━━━━━━━\u001b[0m\u001b[37m\u001b[0m \u001b[1m43s\u001b[0m 56ms/step - loss: 28.8472 - r2_score: -56.8798 - rmse: 5.2854 - val_loss: 13.1216 - val_r2_score: -53.9372 - val_rmse: 3.4950 - learning_rate: 1.8768e-05\n",
            "Epoch 5/200\n",
            "\u001b[1m564/564\u001b[0m \u001b[32m━━━━━━━━━━━━━━━━━━━━\u001b[0m\u001b[37m\u001b[0m \u001b[1m41s\u001b[0m 56ms/step - loss: 28.4797 - r2_score: -55.8930 - rmse: 5.2503 - val_loss: 12.6442 - val_r2_score: -54.6482 - val_rmse: 3.4260 - learning_rate: 2.5551e-05\n",
            "Epoch 6/200\n",
            "\u001b[1m564/564\u001b[0m \u001b[32m━━━━━━━━━━━━━━━━━━━━\u001b[0m\u001b[37m\u001b[0m \u001b[1m42s\u001b[0m 58ms/step - loss: 27.7100 - r2_score: -57.2525 - rmse: 5.1763 - val_loss: 12.3064 - val_r2_score: -54.1647 - val_rmse: 3.3763 - learning_rate: 3.4227e-05\n",
            "Epoch 7/200\n",
            "\u001b[1m564/564\u001b[0m \u001b[32m━━━━━━━━━━━━━━━━━━━━\u001b[0m\u001b[37m\u001b[0m \u001b[1m30s\u001b[0m 53ms/step - loss: 27.2686 - r2_score: -56.2073 - rmse: 5.1338 - val_loss: 12.0891 - val_r2_score: -54.4417 - val_rmse: 3.3440 - learning_rate: 4.4761e-05\n",
            "Epoch 8/200\n",
            "\u001b[1m564/564\u001b[0m \u001b[32m━━━━━━━━━━━━━━━━━━━━\u001b[0m\u001b[37m\u001b[0m \u001b[1m41s\u001b[0m 53ms/step - loss: 27.4789 - r2_score: -57.2027 - rmse: 5.1535 - val_loss: 11.8293 - val_r2_score: -55.0341 - val_rmse: 3.3049 - learning_rate: 5.7111e-05\n",
            "Epoch 9/200\n",
            "\u001b[1m564/564\u001b[0m \u001b[32m━━━━━━━━━━━━━━━━━━━━\u001b[0m\u001b[37m\u001b[0m \u001b[1m41s\u001b[0m 53ms/step - loss: 26.3650 - r2_score: -56.8136 - rmse: 5.0452 - val_loss: 11.4926 - val_r2_score: -54.9119 - val_rmse: 3.2536 - learning_rate: 7.1228e-05\n",
            "Epoch 10/200\n",
            "\u001b[1m564/564\u001b[0m \u001b[32m━━━━━━━━━━━━━━━━━━━━\u001b[0m\u001b[37m\u001b[0m \u001b[1m30s\u001b[0m 53ms/step - loss: 26.6331 - r2_score: -56.7757 - rmse: 5.0718 - val_loss: 11.1783 - val_r2_score: -55.0346 - val_rmse: 3.2049 - learning_rate: 8.7058e-05\n",
            "Epoch 11/200\n",
            "\u001b[1m564/564\u001b[0m \u001b[32m━━━━━━━━━━━━━━━━━━━━\u001b[0m\u001b[37m\u001b[0m \u001b[1m41s\u001b[0m 54ms/step - loss: 25.4842 - r2_score: -56.8797 - rmse: 4.9564 - val_loss: 11.2801 - val_r2_score: -54.4469 - val_rmse: 3.2207 - learning_rate: 1.0454e-04\n",
            "Epoch 12/200\n",
            "\u001b[1m564/564\u001b[0m \u001b[32m━━━━━━━━━━━━━━━━━━━━\u001b[0m\u001b[37m\u001b[0m \u001b[1m32s\u001b[0m 57ms/step - loss: 25.6378 - r2_score: -57.1577 - rmse: 4.9726 - val_loss: 11.5085 - val_r2_score: -54.8389 - val_rmse: 3.2560 - learning_rate: 1.2360e-04\n",
            "Epoch 13/200\n",
            "\u001b[1m564/564\u001b[0m \u001b[32m━━━━━━━━━━━━━━━━━━━━\u001b[0m\u001b[37m\u001b[0m \u001b[1m39s\u001b[0m 53ms/step - loss: 26.5249 - r2_score: -56.9454 - rmse: 5.0602 - val_loss: 11.1839 - val_r2_score: -54.7891 - val_rmse: 3.2056 - learning_rate: 1.4416e-04\n",
            "Epoch 14/200\n",
            "\u001b[1m564/564\u001b[0m \u001b[32m━━━━━━━━━━━━━━━━━━━━\u001b[0m\u001b[37m\u001b[0m \u001b[1m34s\u001b[0m 60ms/step - loss: 26.0241 - r2_score: -57.6113 - rmse: 5.0096 - val_loss: 11.6777 - val_r2_score: -54.0309 - val_rmse: 3.2817 - learning_rate: 1.6615e-04\n",
            "Epoch 15/200\n",
            "\u001b[1m564/564\u001b[0m \u001b[32m━━━━━━━━━━━━━━━━━━━━\u001b[0m\u001b[37m\u001b[0m \u001b[1m38s\u001b[0m 55ms/step - loss: 25.5392 - r2_score: -57.6691 - rmse: 4.9617 - val_loss: 11.6417 - val_r2_score: -54.4560 - val_rmse: 3.2761 - learning_rate: 1.8948e-04\n",
            "Epoch 16/200\n",
            "\u001b[1m564/564\u001b[0m \u001b[32m━━━━━━━━━━━━━━━━━━━━\u001b[0m\u001b[37m\u001b[0m \u001b[1m39s\u001b[0m 51ms/step - loss: 24.7450 - r2_score: -57.8034 - rmse: 4.8817 - val_loss: 11.8276 - val_r2_score: -53.3565 - val_rmse: 3.3043 - learning_rate: 2.1405e-04\n",
            "Epoch 17/200\n",
            "\u001b[1m564/564\u001b[0m \u001b[32m━━━━━━━━━━━━━━━━━━━━\u001b[0m\u001b[37m\u001b[0m \u001b[1m41s\u001b[0m 51ms/step - loss: 25.2384 - r2_score: -57.2705 - rmse: 4.9317 - val_loss: 11.9903 - val_r2_score: -55.1385 - val_rmse: 3.3287 - learning_rate: 2.3977e-04\n",
            "Epoch 18/200\n",
            "\u001b[1m564/564\u001b[0m \u001b[32m━━━━━━━━━━━━━━━━━━━━\u001b[0m\u001b[37m\u001b[0m \u001b[1m29s\u001b[0m 52ms/step - loss: 25.6762 - r2_score: -57.4741 - rmse: 4.9761 - val_loss: 12.1281 - val_r2_score: -55.7807 - val_rmse: 3.3491 - learning_rate: 2.6653e-04\n",
            "Epoch 19/200\n",
            "\u001b[1m564/564\u001b[0m \u001b[32m━━━━━━━━━━━━━━━━━━━━\u001b[0m\u001b[37m\u001b[0m \u001b[1m29s\u001b[0m 52ms/step - loss: 25.0794 - r2_score: -57.3726 - rmse: 4.9151 - val_loss: 12.3001 - val_r2_score: -55.1039 - val_rmse: 3.3744 - learning_rate: 2.9424e-04\n",
            "Epoch 20/200\n",
            "\u001b[1m564/564\u001b[0m \u001b[32m━━━━━━━━━━━━━━━━━━━━\u001b[0m\u001b[37m\u001b[0m \u001b[1m44s\u001b[0m 58ms/step - loss: 25.1793 - r2_score: -57.7651 - rmse: 4.9256 - val_loss: 13.0771 - val_r2_score: -54.9376 - val_rmse: 3.4873 - learning_rate: 3.2278e-04\n",
            "Epoch 21/200\n",
            "\u001b[1m564/564\u001b[0m \u001b[32m━━━━━━━━━━━━━━━━━━━━\u001b[0m\u001b[37m\u001b[0m \u001b[1m41s\u001b[0m 58ms/step - loss: 26.0861 - r2_score: -57.5758 - rmse: 5.0162 - val_loss: 13.8156 - val_r2_score: -57.0277 - val_rmse: 3.5913 - learning_rate: 3.5204e-04\n",
            "Epoch 22/200\n",
            "\u001b[1m564/564\u001b[0m \u001b[32m━━━━━━━━━━━━━━━━━━━━\u001b[0m\u001b[37m\u001b[0m \u001b[1m37s\u001b[0m 52ms/step - loss: 26.9456 - r2_score: -57.8165 - rmse: 5.1013 - val_loss: 14.8193 - val_r2_score: -54.2874 - val_rmse: 3.7280 - learning_rate: 3.8190e-04\n",
            "Epoch 23/200\n",
            "\u001b[1m564/564\u001b[0m \u001b[32m━━━━━━━━━━━━━━━━━━━━\u001b[0m\u001b[37m\u001b[0m \u001b[1m29s\u001b[0m 52ms/step - loss: 26.4013 - r2_score: -57.3529 - rmse: 5.0467 - val_loss: 14.0166 - val_r2_score: -53.9330 - val_rmse: 3.6183 - learning_rate: 4.1225e-04\n",
            "Epoch 24/200\n",
            "\u001b[1m564/564\u001b[0m \u001b[32m━━━━━━━━━━━━━━━━━━━━\u001b[0m\u001b[37m\u001b[0m \u001b[1m42s\u001b[0m 54ms/step - loss: 26.8121 - r2_score: -57.4047 - rmse: 5.0877 - val_loss: 15.2298 - val_r2_score: -56.1446 - val_rmse: 3.7817 - learning_rate: 4.4296e-04\n",
            "Epoch 25/200\n",
            "\u001b[1m564/564\u001b[0m \u001b[32m━━━━━━━━━━━━━━━━━━━━\u001b[0m\u001b[37m\u001b[0m \u001b[1m30s\u001b[0m 52ms/step - loss: 26.5565 - r2_score: -57.3289 - rmse: 5.0610 - val_loss: 15.8002 - val_r2_score: -53.0367 - val_rmse: 3.8558 - learning_rate: 4.7392e-04\n",
            "Epoch 26/200\n",
            "\u001b[1m564/564\u001b[0m \u001b[32m━━━━━━━━━━━━━━━━━━━━\u001b[0m\u001b[37m\u001b[0m \u001b[1m32s\u001b[0m 56ms/step - loss: 26.0018 - r2_score: -57.5862 - rmse: 5.0047 - val_loss: 19.0551 - val_r2_score: -49.5957 - val_rmse: 4.2565 - learning_rate: 5.0500e-04\n",
            "Epoch 27/200\n",
            "\u001b[1m564/564\u001b[0m \u001b[32m━━━━━━━━━━━━━━━━━━━━\u001b[0m\u001b[37m\u001b[0m \u001b[1m39s\u001b[0m 53ms/step - loss: 27.4400 - r2_score: -57.0774 - rmse: 5.1467 - val_loss: 16.6945 - val_r2_score: -55.6264 - val_rmse: 3.9687 - learning_rate: 5.3608e-04\n",
            "Epoch 28/200\n",
            "\u001b[1m564/564\u001b[0m \u001b[32m━━━━━━━━━━━━━━━━━━━━\u001b[0m\u001b[37m\u001b[0m \u001b[1m41s\u001b[0m 52ms/step - loss: 28.5579 - r2_score: -57.2341 - rmse: 5.2537 - val_loss: 17.3921 - val_r2_score: -53.5987 - val_rmse: 4.0547 - learning_rate: 5.6704e-04\n",
            "Epoch 29/200\n",
            "\u001b[1m564/564\u001b[0m \u001b[32m━━━━━━━━━━━━━━━━━━━━\u001b[0m\u001b[37m\u001b[0m \u001b[1m42s\u001b[0m 54ms/step - loss: 28.1478 - r2_score: -56.8964 - rmse: 5.2107 - val_loss: 18.4836 - val_r2_score: -53.8823 - val_rmse: 4.1862 - learning_rate: 5.9775e-04\n",
            "Epoch 30/200\n",
            "\u001b[1m564/564\u001b[0m \u001b[32m━━━━━━━━━━━━━━━━━━━━\u001b[0m\u001b[37m\u001b[0m \u001b[1m30s\u001b[0m 54ms/step - loss: 30.1648 - r2_score: -57.0301 - rmse: 5.4014 - val_loss: 21.2112 - val_r2_score: -53.5537 - val_rmse: 4.4992 - learning_rate: 6.2810e-04\n",
            "Epoch 30: early stopping\n",
            "Restoring model weights from the end of the best epoch: 10.\n",
            "\u001b[1m367/367\u001b[0m \u001b[32m━━━━━━━━━━━━━━━━━━━━\u001b[0m\u001b[37m\u001b[0m \u001b[1m4s\u001b[0m 12ms/step\n",
            "(18035, 5, 5, 6)\n",
            "(4509, 5, 5, 6)\n",
            "Updated X_test shape: (11723, 5, 5, 6)\n",
            "Updated y_test shape: (11723,)\n",
            "Epoch 1/200\n",
            "\u001b[1m564/564\u001b[0m \u001b[32m━━━━━━━━━━━━━━━━━━━━\u001b[0m\u001b[37m\u001b[0m \u001b[1m31s\u001b[0m 55ms/step - loss: 25.7015 - r2_score: -56.9200 - rmse: 4.9789 - val_loss: 10.6944 - val_r2_score: -54.8151 - val_rmse: 3.1285 - learning_rate: 1.0000e-05\n",
            "Epoch 2/200\n",
            "\u001b[1m564/564\u001b[0m \u001b[32m━━━━━━━━━━━━━━━━━━━━\u001b[0m\u001b[37m\u001b[0m \u001b[1m39s\u001b[0m 52ms/step - loss: 25.8296 - r2_score: -56.7317 - rmse: 4.9917 - val_loss: 10.6270 - val_r2_score: -54.5327 - val_rmse: 3.1177 - learning_rate: 1.0977e-05\n",
            "Epoch 3/200\n",
            "\u001b[1m564/564\u001b[0m \u001b[32m━━━━━━━━━━━━━━━━━━━━\u001b[0m\u001b[37m\u001b[0m \u001b[1m43s\u001b[0m 56ms/step - loss: 26.3877 - r2_score: -56.3345 - rmse: 5.0474 - val_loss: 10.4958 - val_r2_score: -54.5199 - val_rmse: 3.0966 - learning_rate: 1.3903e-05\n",
            "Epoch 4/200\n",
            "\u001b[1m564/564\u001b[0m \u001b[32m━━━━━━━━━━━━━━━━━━━━\u001b[0m\u001b[37m\u001b[0m \u001b[1m39s\u001b[0m 53ms/step - loss: 25.2665 - r2_score: -56.8378 - rmse: 4.9354 - val_loss: 10.5341 - val_r2_score: -54.3382 - val_rmse: 3.1028 - learning_rate: 1.8768e-05\n",
            "Epoch 5/200\n",
            "\u001b[1m564/564\u001b[0m \u001b[32m━━━━━━━━━━━━━━━━━━━━\u001b[0m\u001b[37m\u001b[0m \u001b[1m44s\u001b[0m 58ms/step - loss: 25.4539 - r2_score: -56.7687 - rmse: 4.9516 - val_loss: 10.2188 - val_r2_score: -54.9934 - val_rmse: 3.0516 - learning_rate: 2.5551e-05\n",
            "Epoch 6/200\n",
            "\u001b[1m564/564\u001b[0m \u001b[32m━━━━━━━━━━━━━━━━━━━━\u001b[0m\u001b[37m\u001b[0m \u001b[1m30s\u001b[0m 54ms/step - loss: 24.8398 - r2_score: -57.3079 - rmse: 4.8892 - val_loss: 10.1360 - val_r2_score: -54.4193 - val_rmse: 3.0380 - learning_rate: 3.4227e-05\n",
            "Epoch 7/200\n",
            "\u001b[1m564/564\u001b[0m \u001b[32m━━━━━━━━━━━━━━━━━━━━\u001b[0m\u001b[37m\u001b[0m \u001b[1m33s\u001b[0m 58ms/step - loss: 25.2926 - r2_score: -56.9694 - rmse: 4.9376 - val_loss: 10.0536 - val_r2_score: -54.4890 - val_rmse: 3.0244 - learning_rate: 4.4761e-05\n",
            "Epoch 8/200\n",
            "\u001b[1m564/564\u001b[0m \u001b[32m━━━━━━━━━━━━━━━━━━━━\u001b[0m\u001b[37m\u001b[0m \u001b[1m41s\u001b[0m 57ms/step - loss: 24.8114 - r2_score: -56.8635 - rmse: 4.8884 - val_loss: 10.1445 - val_r2_score: -55.1384 - val_rmse: 3.0394 - learning_rate: 5.7111e-05\n",
            "Epoch 9/200\n",
            "\u001b[1m564/564\u001b[0m \u001b[32m━━━━━━━━━━━━━━━━━━━━\u001b[0m\u001b[37m\u001b[0m \u001b[1m41s\u001b[0m 58ms/step - loss: 25.3456 - r2_score: -56.5206 - rmse: 4.9349 - val_loss: 10.4682 - val_r2_score: -55.0422 - val_rmse: 3.0921 - learning_rate: 7.1228e-05\n",
            "Epoch 10/200\n",
            "\u001b[1m564/564\u001b[0m \u001b[32m━━━━━━━━━━━━━━━━━━━━\u001b[0m\u001b[37m\u001b[0m \u001b[1m33s\u001b[0m 58ms/step - loss: 25.0043 - r2_score: -57.2262 - rmse: 4.9085 - val_loss: 10.0463 - val_r2_score: -54.9752 - val_rmse: 3.0232 - learning_rate: 8.7058e-05\n",
            "Epoch 11/200\n",
            "\u001b[1m564/564\u001b[0m \u001b[32m━━━━━━━━━━━━━━━━━━━━\u001b[0m\u001b[37m\u001b[0m \u001b[1m38s\u001b[0m 53ms/step - loss: 23.7864 - r2_score: -57.4982 - rmse: 4.7825 - val_loss: 10.0551 - val_r2_score: -54.9663 - val_rmse: 3.0246 - learning_rate: 1.0454e-04\n",
            "Epoch 12/200\n",
            "\u001b[1m564/564\u001b[0m \u001b[32m━━━━━━━━━━━━━━━━━━━━\u001b[0m\u001b[37m\u001b[0m \u001b[1m41s\u001b[0m 53ms/step - loss: 24.8867 - r2_score: -56.9883 - rmse: 4.8965 - val_loss: 10.2853 - val_r2_score: -55.4027 - val_rmse: 3.0624 - learning_rate: 1.2360e-04\n",
            "Epoch 13/200\n",
            "\u001b[1m564/564\u001b[0m \u001b[32m━━━━━━━━━━━━━━━━━━━━\u001b[0m\u001b[37m\u001b[0m \u001b[1m32s\u001b[0m 56ms/step - loss: 24.1425 - r2_score: -57.4906 - rmse: 4.8190 - val_loss: 10.8371 - val_r2_score: -57.3694 - val_rmse: 3.1511 - learning_rate: 1.4416e-04\n",
            "Epoch 14/200\n",
            "\u001b[1m564/564\u001b[0m \u001b[32m━━━━━━━━━━━━━━━━━━━━\u001b[0m\u001b[37m\u001b[0m \u001b[1m39s\u001b[0m 52ms/step - loss: 25.8609 - r2_score: -57.7682 - rmse: 4.9911 - val_loss: 10.4064 - val_r2_score: -56.0357 - val_rmse: 3.0819 - learning_rate: 1.6615e-04\n",
            "Epoch 15/200\n",
            "\u001b[1m564/564\u001b[0m \u001b[32m━━━━━━━━━━━━━━━━━━━━\u001b[0m\u001b[37m\u001b[0m \u001b[1m41s\u001b[0m 52ms/step - loss: 25.0485 - r2_score: -57.5362 - rmse: 4.9118 - val_loss: 10.7108 - val_r2_score: -55.6405 - val_rmse: 3.1308 - learning_rate: 1.8948e-04\n",
            "Epoch 16/200\n",
            "\u001b[1m564/564\u001b[0m \u001b[32m━━━━━━━━━━━━━━━━━━━━\u001b[0m\u001b[37m\u001b[0m \u001b[1m41s\u001b[0m 52ms/step - loss: 24.6784 - r2_score: -57.4751 - rmse: 4.8751 - val_loss: 11.3764 - val_r2_score: -54.3213 - val_rmse: 3.2353 - learning_rate: 2.1405e-04\n",
            "Epoch 17/200\n",
            "\u001b[1m564/564\u001b[0m \u001b[32m━━━━━━━━━━━━━━━━━━━━\u001b[0m\u001b[37m\u001b[0m \u001b[1m42s\u001b[0m 54ms/step - loss: 24.0945 - r2_score: -57.8593 - rmse: 4.8137 - val_loss: 11.5634 - val_r2_score: -53.0645 - val_rmse: 3.2639 - learning_rate: 2.3977e-04\n",
            "Epoch 18/200\n",
            "\u001b[1m564/564\u001b[0m \u001b[32m━━━━━━━━━━━━━━━━━━━━\u001b[0m\u001b[37m\u001b[0m \u001b[1m41s\u001b[0m 53ms/step - loss: 25.2623 - r2_score: -58.0953 - rmse: 4.9341 - val_loss: 11.5019 - val_r2_score: -54.5480 - val_rmse: 3.2543 - learning_rate: 2.6653e-04\n",
            "Epoch 19/200\n",
            "\u001b[1m564/564\u001b[0m \u001b[32m━━━━━━━━━━━━━━━━━━━━\u001b[0m\u001b[37m\u001b[0m \u001b[1m41s\u001b[0m 53ms/step - loss: 25.0603 - r2_score: -57.6027 - rmse: 4.9131 - val_loss: 11.8050 - val_r2_score: -55.9023 - val_rmse: 3.3002 - learning_rate: 2.9424e-04\n",
            "Epoch 20/200\n",
            "\u001b[1m564/564\u001b[0m \u001b[32m━━━━━━━━━━━━━━━━━━━━\u001b[0m\u001b[37m\u001b[0m \u001b[1m43s\u001b[0m 57ms/step - loss: 24.3876 - r2_score: -58.1600 - rmse: 4.8422 - val_loss: 12.9411 - val_r2_score: -53.5383 - val_rmse: 3.4678 - learning_rate: 3.2278e-04\n",
            "Epoch 21/200\n",
            "\u001b[1m564/564\u001b[0m \u001b[32m━━━━━━━━━━━━━━━━━━━━\u001b[0m\u001b[37m\u001b[0m \u001b[1m41s\u001b[0m 57ms/step - loss: 25.3531 - r2_score: -57.6076 - rmse: 4.9394 - val_loss: 12.5610 - val_r2_score: -54.4883 - val_rmse: 3.4122 - learning_rate: 3.5204e-04\n",
            "Epoch 22/200\n",
            "\u001b[1m564/564\u001b[0m \u001b[32m━━━━━━━━━━━━━━━━━━━━\u001b[0m\u001b[37m\u001b[0m \u001b[1m40s\u001b[0m 55ms/step - loss: 25.8256 - r2_score: -57.7348 - rmse: 4.9904 - val_loss: 13.6038 - val_r2_score: -53.4456 - val_rmse: 3.5613 - learning_rate: 3.8190e-04\n",
            "Epoch 23/200\n",
            "\u001b[1m564/564\u001b[0m \u001b[32m━━━━━━━━━━━━━━━━━━━━\u001b[0m\u001b[37m\u001b[0m \u001b[1m40s\u001b[0m 54ms/step - loss: 26.9419 - r2_score: -57.2823 - rmse: 5.0989 - val_loss: 14.5930 - val_r2_score: -56.3029 - val_rmse: 3.6971 - learning_rate: 4.1225e-04\n",
            "Epoch 24/200\n",
            "\u001b[1m564/564\u001b[0m \u001b[32m━━━━━━━━━━━━━━━━━━━━\u001b[0m\u001b[37m\u001b[0m \u001b[1m43s\u001b[0m 58ms/step - loss: 26.3210 - r2_score: -57.3843 - rmse: 5.0382 - val_loss: 16.4739 - val_r2_score: -56.8109 - val_rmse: 3.9428 - learning_rate: 4.4296e-04\n",
            "Epoch 25/200\n",
            "\u001b[1m564/564\u001b[0m \u001b[32m━━━━━━━━━━━━━━━━━━━━\u001b[0m\u001b[37m\u001b[0m \u001b[1m39s\u001b[0m 54ms/step - loss: 27.6021 - r2_score: -57.3646 - rmse: 5.1641 - val_loss: 15.8956 - val_r2_score: -54.4059 - val_rmse: 3.8681 - learning_rate: 4.7392e-04\n",
            "Epoch 26/200\n",
            "\u001b[1m564/564\u001b[0m \u001b[32m━━━━━━━━━━━━━━━━━━━━\u001b[0m\u001b[37m\u001b[0m \u001b[1m42s\u001b[0m 55ms/step - loss: 27.1798 - r2_score: -57.2822 - rmse: 5.1220 - val_loss: 15.6898 - val_r2_score: -54.8186 - val_rmse: 3.8407 - learning_rate: 5.0500e-04\n",
            "Epoch 27/200\n",
            "\u001b[1m564/564\u001b[0m \u001b[32m━━━━━━━━━━━━━━━━━━━━\u001b[0m\u001b[37m\u001b[0m \u001b[1m33s\u001b[0m 58ms/step - loss: 30.0273 - r2_score: -57.1668 - rmse: 5.3890 - val_loss: 17.2315 - val_r2_score: -55.5523 - val_rmse: 4.0356 - learning_rate: 5.3608e-04\n",
            "Epoch 28/200\n",
            "\u001b[1m564/564\u001b[0m \u001b[32m━━━━━━━━━━━━━━━━━━━━\u001b[0m\u001b[37m\u001b[0m \u001b[1m30s\u001b[0m 54ms/step - loss: 27.0430 - r2_score: -58.2036 - rmse: 5.1079 - val_loss: 19.9031 - val_r2_score: -52.7714 - val_rmse: 4.3534 - learning_rate: 5.6704e-04\n",
            "Epoch 29/200\n",
            "\u001b[1m564/564\u001b[0m \u001b[32m━━━━━━━━━━━━━━━━━━━━\u001b[0m\u001b[37m\u001b[0m \u001b[1m30s\u001b[0m 54ms/step - loss: 29.5375 - r2_score: -57.2269 - rmse: 5.3440 - val_loss: 18.3918 - val_r2_score: -52.5372 - val_rmse: 4.1752 - learning_rate: 5.9775e-04\n",
            "Epoch 30/200\n",
            "\u001b[1m564/564\u001b[0m \u001b[32m━━━━━━━━━━━━━━━━━━━━\u001b[0m\u001b[37m\u001b[0m \u001b[1m43s\u001b[0m 58ms/step - loss: 28.9428 - r2_score: -56.9166 - rmse: 5.2886 - val_loss: 19.9874 - val_r2_score: -52.6244 - val_rmse: 4.3612 - learning_rate: 6.2810e-04\n",
            "Epoch 30: early stopping\n",
            "Restoring model weights from the end of the best epoch: 10.\n",
            "\u001b[1m367/367\u001b[0m \u001b[32m━━━━━━━━━━━━━━━━━━━━\u001b[0m\u001b[37m\u001b[0m \u001b[1m3s\u001b[0m 7ms/step\n",
            "(18036, 5, 5, 6)\n",
            "(4508, 5, 5, 6)\n",
            "Updated X_test shape: (11722, 5, 5, 6)\n",
            "Updated y_test shape: (11722,)\n",
            "Epoch 1/200\n",
            "\u001b[1m564/564\u001b[0m \u001b[32m━━━━━━━━━━━━━━━━━━━━\u001b[0m\u001b[37m\u001b[0m \u001b[1m30s\u001b[0m 53ms/step - loss: 24.6257 - r2_score: -57.7859 - rmse: 4.8696 - val_loss: 9.3100 - val_r2_score: -54.9540 - val_rmse: 2.8988 - learning_rate: 1.0000e-05\n",
            "Epoch 2/200\n",
            "\u001b[1m564/564\u001b[0m \u001b[32m━━━━━━━━━━━━━━━━━━━━\u001b[0m\u001b[37m\u001b[0m \u001b[1m41s\u001b[0m 53ms/step - loss: 25.4126 - r2_score: -56.4383 - rmse: 4.9487 - val_loss: 9.1783 - val_r2_score: -55.2243 - val_rmse: 2.8760 - learning_rate: 1.0977e-05\n",
            "Epoch 3/200\n",
            "\u001b[1m564/564\u001b[0m \u001b[32m━━━━━━━━━━━━━━━━━━━━\u001b[0m\u001b[37m\u001b[0m \u001b[1m30s\u001b[0m 53ms/step - loss: 23.9465 - r2_score: -57.6026 - rmse: 4.7996 - val_loss: 9.0333 - val_r2_score: -55.5214 - val_rmse: 2.8507 - learning_rate: 1.3903e-05\n",
            "Epoch 4/200\n",
            "\u001b[1m564/564\u001b[0m \u001b[32m━━━━━━━━━━━━━━━━━━━━\u001b[0m\u001b[37m\u001b[0m \u001b[1m43s\u001b[0m 58ms/step - loss: 24.3987 - r2_score: -57.6823 - rmse: 4.8463 - val_loss: 9.0340 - val_r2_score: -55.0619 - val_rmse: 2.8508 - learning_rate: 1.8768e-05\n",
            "Epoch 5/200\n",
            "\u001b[1m564/564\u001b[0m \u001b[32m━━━━━━━━━━━━━━━━━━━━\u001b[0m\u001b[37m\u001b[0m \u001b[1m38s\u001b[0m 54ms/step - loss: 24.6308 - r2_score: -56.3561 - rmse: 4.8691 - val_loss: 8.8990 - val_r2_score: -55.4203 - val_rmse: 2.8270 - learning_rate: 2.5551e-05\n",
            "Epoch 6/200\n",
            "\u001b[1m564/564\u001b[0m \u001b[32m━━━━━━━━━━━━━━━━━━━━\u001b[0m\u001b[37m\u001b[0m \u001b[1m33s\u001b[0m 58ms/step - loss: 23.3827 - r2_score: -57.8986 - rmse: 4.7399 - val_loss: 8.8227 - val_r2_score: -55.6916 - val_rmse: 2.8135 - learning_rate: 3.4227e-05\n",
            "Epoch 7/200\n",
            "\u001b[1m564/564\u001b[0m \u001b[32m━━━━━━━━━━━━━━━━━━━━\u001b[0m\u001b[37m\u001b[0m \u001b[1m33s\u001b[0m 58ms/step - loss: 24.5467 - r2_score: -57.2956 - rmse: 4.8602 - val_loss: 8.7215 - val_r2_score: -55.4939 - val_rmse: 2.7955 - learning_rate: 4.4761e-05\n",
            "Epoch 8/200\n",
            "\u001b[1m564/564\u001b[0m \u001b[32m━━━━━━━━━━━━━━━━━━━━\u001b[0m\u001b[37m\u001b[0m \u001b[1m42s\u001b[0m 59ms/step - loss: 23.1168 - r2_score: -58.0068 - rmse: 4.7110 - val_loss: 8.8468 - val_r2_score: -55.3583 - val_rmse: 2.8178 - learning_rate: 5.7111e-05\n",
            "Epoch 9/200\n",
            "\u001b[1m564/564\u001b[0m \u001b[32m━━━━━━━━━━━━━━━━━━━━\u001b[0m\u001b[37m\u001b[0m \u001b[1m33s\u001b[0m 58ms/step - loss: 24.5069 - r2_score: -57.4108 - rmse: 4.8577 - val_loss: 8.9120 - val_r2_score: -54.6439 - val_rmse: 2.8293 - learning_rate: 7.1228e-05\n",
            "Epoch 10/200\n",
            "\u001b[1m564/564\u001b[0m \u001b[32m━━━━━━━━━━━━━━━━━━━━\u001b[0m\u001b[37m\u001b[0m \u001b[1m38s\u001b[0m 53ms/step - loss: 23.5435 - r2_score: -57.6157 - rmse: 4.7574 - val_loss: 8.9618 - val_r2_score: -56.3181 - val_rmse: 2.8381 - learning_rate: 8.7058e-05\n",
            "Epoch 11/200\n",
            "\u001b[1m564/564\u001b[0m \u001b[32m━━━━━━━━━━━━━━━━━━━━\u001b[0m\u001b[37m\u001b[0m \u001b[1m41s\u001b[0m 53ms/step - loss: 24.0107 - r2_score: -57.9198 - rmse: 4.8058 - val_loss: 8.8994 - val_r2_score: -55.2479 - val_rmse: 2.8271 - learning_rate: 1.0454e-04\n",
            "Epoch 12/200\n",
            "\u001b[1m564/564\u001b[0m \u001b[32m━━━━━━━━━━━━━━━━━━━━\u001b[0m\u001b[37m\u001b[0m \u001b[1m31s\u001b[0m 55ms/step - loss: 25.2842 - r2_score: -57.8541 - rmse: 4.9363 - val_loss: 9.2008 - val_r2_score: -54.6778 - val_rmse: 2.8799 - learning_rate: 1.2360e-04\n",
            "Epoch 13/200\n",
            "\u001b[1m564/564\u001b[0m \u001b[32m━━━━━━━━━━━━━━━━━━━━\u001b[0m\u001b[37m\u001b[0m \u001b[1m30s\u001b[0m 53ms/step - loss: 23.8115 - r2_score: -57.3649 - rmse: 4.7853 - val_loss: 9.6190 - val_r2_score: -55.2860 - val_rmse: 2.9515 - learning_rate: 1.4416e-04\n",
            "Epoch 14/200\n",
            "\u001b[1m564/564\u001b[0m \u001b[32m━━━━━━━━━━━━━━━━━━━━\u001b[0m\u001b[37m\u001b[0m \u001b[1m32s\u001b[0m 56ms/step - loss: 23.9342 - r2_score: -58.2443 - rmse: 4.7982 - val_loss: 9.7804 - val_r2_score: -56.3751 - val_rmse: 2.9787 - learning_rate: 1.6615e-04\n",
            "Epoch 15/200\n",
            "\u001b[1m564/564\u001b[0m \u001b[32m━━━━━━━━━━━━━━━━━━━━\u001b[0m\u001b[37m\u001b[0m \u001b[1m33s\u001b[0m 59ms/step - loss: 24.0216 - r2_score: -57.7906 - rmse: 4.8073 - val_loss: 9.3404 - val_r2_score: -55.1284 - val_rmse: 2.9038 - learning_rate: 1.8948e-04\n",
            "Epoch 16/200\n",
            "\u001b[1m564/564\u001b[0m \u001b[32m━━━━━━━━━━━━━━━━━━━━\u001b[0m\u001b[37m\u001b[0m \u001b[1m38s\u001b[0m 54ms/step - loss: 23.7301 - r2_score: -57.6667 - rmse: 4.7764 - val_loss: 10.4214 - val_r2_score: -55.0569 - val_rmse: 3.0842 - learning_rate: 2.1405e-04\n",
            "Epoch 17/200\n",
            "\u001b[1m564/564\u001b[0m \u001b[32m━━━━━━━━━━━━━━━━━━━━\u001b[0m\u001b[37m\u001b[0m \u001b[1m33s\u001b[0m 58ms/step - loss: 24.8645 - r2_score: -58.1323 - rmse: 4.8939 - val_loss: 10.1871 - val_r2_score: -54.5846 - val_rmse: 3.0458 - learning_rate: 2.3977e-04\n",
            "Epoch 18/200\n",
            "\u001b[1m564/564\u001b[0m \u001b[32m━━━━━━━━━━━━━━━━━━━━\u001b[0m\u001b[37m\u001b[0m \u001b[1m38s\u001b[0m 53ms/step - loss: 24.4968 - r2_score: -57.5961 - rmse: 4.8551 - val_loss: 11.2241 - val_r2_score: -53.8253 - val_rmse: 3.2113 - learning_rate: 2.6653e-04\n",
            "Epoch 19/200\n",
            "\u001b[1m564/564\u001b[0m \u001b[32m━━━━━━━━━━━━━━━━━━━━\u001b[0m\u001b[37m\u001b[0m \u001b[1m44s\u001b[0m 58ms/step - loss: 25.4521 - r2_score: -57.7530 - rmse: 4.9535 - val_loss: 11.0392 - val_r2_score: -54.1312 - val_rmse: 3.1822 - learning_rate: 2.9424e-04\n",
            "Epoch 20/200\n",
            "\u001b[1m564/564\u001b[0m \u001b[32m━━━━━━━━━━━━━━━━━━━━\u001b[0m\u001b[37m\u001b[0m \u001b[1m33s\u001b[0m 58ms/step - loss: 24.3291 - r2_score: -57.8359 - rmse: 4.8376 - val_loss: 12.2089 - val_r2_score: -53.7512 - val_rmse: 3.3606 - learning_rate: 3.2278e-04\n",
            "Epoch 21/200\n",
            "\u001b[1m564/564\u001b[0m \u001b[32m━━━━━━━━━━━━━━━━━━━━\u001b[0m\u001b[37m\u001b[0m \u001b[1m32s\u001b[0m 57ms/step - loss: 25.1582 - r2_score: -57.8072 - rmse: 4.9225 - val_loss: 13.1639 - val_r2_score: -56.3057 - val_rmse: 3.4995 - learning_rate: 3.5204e-04\n",
            "Epoch 22/200\n",
            "\u001b[1m564/564\u001b[0m \u001b[32m━━━━━━━━━━━━━━━━━━━━\u001b[0m\u001b[37m\u001b[0m \u001b[1m38s\u001b[0m 52ms/step - loss: 25.6793 - r2_score: -57.4709 - rmse: 4.9751 - val_loss: 13.2976 - val_r2_score: -54.8122 - val_rmse: 3.5181 - learning_rate: 3.8190e-04\n",
            "Epoch 23/200\n",
            "\u001b[1m564/564\u001b[0m \u001b[32m━━━━━━━━━━━━━━━━━━━━\u001b[0m\u001b[37m\u001b[0m \u001b[1m41s\u001b[0m 52ms/step - loss: 26.8428 - r2_score: -57.6150 - rmse: 5.0896 - val_loss: 13.3712 - val_r2_score: -53.6214 - val_rmse: 3.5280 - learning_rate: 4.1225e-04\n",
            "Epoch 24/200\n",
            "\u001b[1m564/564\u001b[0m \u001b[32m━━━━━━━━━━━━━━━━━━━━\u001b[0m\u001b[37m\u001b[0m \u001b[1m32s\u001b[0m 56ms/step - loss: 26.6088 - r2_score: -57.2224 - rmse: 5.0676 - val_loss: 14.0729 - val_r2_score: -55.4184 - val_rmse: 3.6256 - learning_rate: 4.4296e-04\n",
            "Epoch 25/200\n",
            "\u001b[1m564/564\u001b[0m \u001b[32m━━━━━━━━━━━━━━━━━━━━\u001b[0m\u001b[37m\u001b[0m \u001b[1m32s\u001b[0m 57ms/step - loss: 26.5709 - r2_score: -58.1077 - rmse: 5.0629 - val_loss: 15.5109 - val_r2_score: -56.4874 - val_rmse: 3.8181 - learning_rate: 4.7392e-04\n",
            "Epoch 26/200\n",
            "\u001b[1m564/564\u001b[0m \u001b[32m━━━━━━━━━━━━━━━━━━━━\u001b[0m\u001b[37m\u001b[0m \u001b[1m40s\u001b[0m 56ms/step - loss: 27.2458 - r2_score: -58.3159 - rmse: 5.1285 - val_loss: 16.2313 - val_r2_score: -54.5569 - val_rmse: 3.9107 - learning_rate: 5.0500e-04\n",
            "Epoch 27/200\n",
            "\u001b[1m564/564\u001b[0m \u001b[32m━━━━━━━━━━━━━━━━━━━━\u001b[0m\u001b[37m\u001b[0m \u001b[1m32s\u001b[0m 57ms/step - loss: 27.8598 - r2_score: -57.2602 - rmse: 5.1877 - val_loss: 16.0865 - val_r2_score: -52.9002 - val_rmse: 3.8913 - learning_rate: 5.3608e-04\n",
            "Epoch 27: early stopping\n",
            "Restoring model weights from the end of the best epoch: 7.\n",
            "\u001b[1m367/367\u001b[0m \u001b[32m━━━━━━━━━━━━━━━━━━━━\u001b[0m\u001b[37m\u001b[0m \u001b[1m3s\u001b[0m 8ms/step\n",
            "Best model is from fold /content/drive/My Drive/forest_height/models/CNNmodels/fold_5_best_CNNmodel_Std.keras\n",
            "Best R² score: 0.9415\n"
          ]
        }
      ]
    },
    {
      "cell_type": "code",
      "source": [
        "\n",
        "# bmodel = load_model('/content/drive/My Drive/forest_height/models/CNNmodels/best_CNNmodel_Std.keras')\n",
        "# bmodel = load_model(best_model_path)\n",
        "\n",
        "# 若使用的是 Keras 模型并使用了 R2Score 指标，则在加载 Keras 模型时需要传递 custom_objects，\n",
        "from tensorflow.keras.models import load_model\n",
        "\n",
        "# 显式传递 custom_objects 参数，确保 Keras 知道如何加载 R2Score 类\n",
        "bmodel = load_model(\n",
        "    best_model_path_cnn,\n",
        "    custom_objects={'R2Score': R2Score}  # 注册 R2Score 类\n",
        ")"
      ],
      "metadata": {
        "id": "fUxYISpe-Q_G"
      },
      "execution_count": 34,
      "outputs": []
    },
    {
      "cell_type": "code",
      "source": [
        "\n",
        "# y_pred_cnn = bmodel.predict(X_test) #predict best model"
      ],
      "metadata": {
        "id": "aRjfquRD-VZ-",
        "colab": {
          "base_uri": "https://localhost:8080/"
        },
        "outputId": "222f4bb7-ded2-4d46-98aa-b673b0c484c6"
      },
      "execution_count": 35,
      "outputs": [
        {
          "metadata": {
            "tags": null
          },
          "name": "stdout",
          "output_type": "stream",
          "text": [
            "\u001b[1m367/367\u001b[0m \u001b[32m━━━━━━━━━━━━━━━━━━━━\u001b[0m\u001b[37m\u001b[0m \u001b[1m4s\u001b[0m 10ms/step\n"
          ]
        }
      ]
    },
    {
      "cell_type": "code",
      "source": [
        "# # 检查y_pred_cnn的形状\n",
        "# print(y_pred_cnn.shape)"
      ],
      "metadata": {
        "id": "VQUTbYcoSZ5K",
        "colab": {
          "base_uri": "https://localhost:8080/"
        },
        "outputId": "2f0e7438-473c-42d9-8beb-286c0365ddbd"
      },
      "execution_count": 36,
      "outputs": [
        {
          "metadata": {
            "tags": null
          },
          "name": "stdout",
          "output_type": "stream",
          "text": [
            "(11722, 1)\n"
          ]
        }
      ]
    },
    {
      "cell_type": "code",
      "source": [
        "# # 输出两类图,\n",
        "# # 一为 整体预测值 vs. 真实值的散点图,点为蓝色点。\n",
        "# # 二为 单一特征 vs. 森林高度。黑色点为真实值，蓝色点为预测值。分别展示两个特定通道（第四通道和第五通道）特征与森林高度（真实值和预测值）的关系。\n",
        "# pred_vs_true(bmodel, \"CNNmodel\", X_test, y_test)"
      ],
      "metadata": {
        "id": "Yotx8rbhSYPV",
        "colab": {
          "base_uri": "https://localhost:8080/",
          "height": 1000
        },
        "outputId": "66912ca6-1f7f-42ed-d7d0-d52d6b77b1d3"
      },
      "execution_count": 37,
      "outputs": [
        {
          "metadata": {
            "tags": null
          },
          "name": "stdout",
          "output_type": "stream",
          "text": [
            "\u001b[1m367/367\u001b[0m \u001b[32m━━━━━━━━━━━━━━━━━━━━\u001b[0m\u001b[37m\u001b[0m \u001b[1m3s\u001b[0m 7ms/step\n"
          ]
        },
        {
          "metadata": {
            "tags": null
          },
          "name": "stderr",
          "output_type": "stream",
          "text": [
            "WARNING:matplotlib.font_manager:findfont: Generic family 'sans-serif' not found because none of the following families were found: SimHei\n",
            "WARNING:matplotlib.font_manager:findfont: Generic family 'sans-serif' not found because none of the following families were found: SimHei\n",
            "WARNING:matplotlib.font_manager:findfont: Generic family 'sans-serif' not found because none of the following families were found: SimHei\n",
            "WARNING:matplotlib.font_manager:findfont: Generic family 'sans-serif' not found because none of the following families were found: SimHei\n",
            "WARNING:matplotlib.font_manager:findfont: Generic family 'sans-serif' not found because none of the following families were found: SimHei\n",
            "WARNING:matplotlib.font_manager:findfont: Generic family 'sans-serif' not found because none of the following families were found: SimHei\n",
            "WARNING:matplotlib.font_manager:findfont: Generic family 'sans-serif' not found because none of the following families were found: SimHei\n",
            "WARNING:matplotlib.font_manager:findfont: Generic family 'sans-serif' not found because none of the following families were found: SimHei\n",
            "WARNING:matplotlib.font_manager:findfont: Generic family 'sans-serif' not found because none of the following families were found: SimHei\n",
            "WARNING:matplotlib.font_manager:findfont: Generic family 'sans-serif' not found because none of the following families were found: SimHei\n",
            "WARNING:matplotlib.font_manager:findfont: Generic family 'sans-serif' not found because none of the following families were found: SimHei\n",
            "WARNING:matplotlib.font_manager:findfont: Generic family 'sans-serif' not found because none of the following families were found: SimHei\n",
            "WARNING:matplotlib.font_manager:findfont: Generic family 'sans-serif' not found because none of the following families were found: SimHei\n",
            "WARNING:matplotlib.font_manager:findfont: Generic family 'sans-serif' not found because none of the following families were found: SimHei\n",
            "WARNING:matplotlib.font_manager:findfont: Generic family 'sans-serif' not found because none of the following families were found: SimHei\n",
            "WARNING:matplotlib.font_manager:findfont: Generic family 'sans-serif' not found because none of the following families were found: SimHei\n",
            "WARNING:matplotlib.font_manager:findfont: Generic family 'sans-serif' not found because none of the following families were found: SimHei\n",
            "WARNING:matplotlib.font_manager:findfont: Generic family 'sans-serif' not found because none of the following families were found: SimHei\n",
            "WARNING:matplotlib.font_manager:findfont: Generic family 'sans-serif' not found because none of the following families were found: SimHei\n",
            "WARNING:matplotlib.font_manager:findfont: Generic family 'sans-serif' not found because none of the following families were found: SimHei\n",
            "WARNING:matplotlib.font_manager:findfont: Generic family 'sans-serif' not found because none of the following families were found: SimHei\n",
            "WARNING:matplotlib.font_manager:findfont: Generic family 'sans-serif' not found because none of the following families were found: SimHei\n",
            "WARNING:matplotlib.font_manager:findfont: Generic family 'sans-serif' not found because none of the following families were found: SimHei\n",
            "WARNING:matplotlib.font_manager:findfont: Generic family 'sans-serif' not found because none of the following families were found: SimHei\n",
            "WARNING:matplotlib.font_manager:findfont: Generic family 'sans-serif' not found because none of the following families were found: SimHei\n",
            "WARNING:matplotlib.font_manager:findfont: Generic family 'sans-serif' not found because none of the following families were found: SimHei\n",
            "WARNING:matplotlib.font_manager:findfont: Generic family 'sans-serif' not found because none of the following families were found: SimHei\n",
            "WARNING:matplotlib.font_manager:findfont: Generic family 'sans-serif' not found because none of the following families were found: SimHei\n",
            "WARNING:matplotlib.font_manager:findfont: Generic family 'sans-serif' not found because none of the following families were found: SimHei\n",
            "WARNING:matplotlib.font_manager:findfont: Generic family 'sans-serif' not found because none of the following families were found: SimHei\n",
            "WARNING:matplotlib.font_manager:findfont: Generic family 'sans-serif' not found because none of the following families were found: SimHei\n",
            "WARNING:matplotlib.font_manager:findfont: Generic family 'sans-serif' not found because none of the following families were found: SimHei\n",
            "WARNING:matplotlib.font_manager:findfont: Generic family 'sans-serif' not found because none of the following families were found: SimHei\n",
            "WARNING:matplotlib.font_manager:findfont: Generic family 'sans-serif' not found because none of the following families were found: SimHei\n",
            "WARNING:matplotlib.font_manager:findfont: Generic family 'sans-serif' not found because none of the following families were found: SimHei\n",
            "WARNING:matplotlib.font_manager:findfont: Generic family 'sans-serif' not found because none of the following families were found: SimHei\n",
            "WARNING:matplotlib.font_manager:findfont: Generic family 'sans-serif' not found because none of the following families were found: SimHei\n",
            "WARNING:matplotlib.font_manager:findfont: Generic family 'sans-serif' not found because none of the following families were found: SimHei\n",
            "WARNING:matplotlib.font_manager:findfont: Generic family 'sans-serif' not found because none of the following families were found: SimHei\n",
            "WARNING:matplotlib.font_manager:findfont: Generic family 'sans-serif' not found because none of the following families were found: SimHei\n",
            "WARNING:matplotlib.font_manager:findfont: Generic family 'sans-serif' not found because none of the following families were found: SimHei\n",
            "WARNING:matplotlib.font_manager:findfont: Generic family 'sans-serif' not found because none of the following families were found: SimHei\n",
            "WARNING:matplotlib.font_manager:findfont: Generic family 'sans-serif' not found because none of the following families were found: SimHei\n",
            "WARNING:matplotlib.font_manager:findfont: Generic family 'sans-serif' not found because none of the following families were found: SimHei\n",
            "WARNING:matplotlib.font_manager:findfont: Generic family 'sans-serif' not found because none of the following families were found: SimHei\n"
          ]
        },
        {
          "data": {
            "image/png": "[encoded data removed]",
            "text/plain": [
              "<Figure size 600x600 with 1 Axes>"
            ]
          },
          "metadata": {},
          "output_type": "display_data"
        }
      ]
    },
    {
      "cell_type": "code",
      "source": [
        "# 计算均方误差（MSE）、均方根误差（RMSE）、平均绝对误差（MAE）和平均绝对百分比误差（MAPE）。\n",
        "# 这些指标用于评估模型在测试集上的性能。\n",
        "from sklearn.metrics import mean_absolute_percentage_error as mape, r2_score\n",
        "\n",
        "# 计算 MAPE\n",
        "mape_cnn = mape(y_test, y_pred_cnn)\n",
        "# 计算 R²\n",
        "r2_cnn = r2_score(y_test, y_pred_cnn)\n",
        "# 调整后R²\n",
        "n_samples = X_test.shape[0]\n",
        "n_features = X_test.shape[3]\n",
        "adjusted_r2_cnn = 1 - (1 - r2_cnn) * (n_samples - 1) / (n_samples - n_features - 1) # X_test 形状为 (N, H, W, C)\n",
        "# calculate metrics\n",
        "mse_cnn = mse(y_test, y_pred_cnn)\n",
        "rmse_cnn = mse_cnn ** (1/2)\n",
        "mae_cnn = mae(y_test, y_pred_cnn)\n",
        "mape_cnn = mape(y_test, y_pred_cnn)\n",
        "\n",
        "# print(mape_cnn)\n",
        "# print(mae_cnn)\n",
        "# print(rmse_cnn)\n",
        "# print(r2_cnn)\n",
        "print('MAPE: {:0.2f}%'.format(mape_cnn))\n",
        "print('MAE: {:0.4f}'.format(mae_cnn))\n",
        "print('RMSE: {:0.4f}'.format(rmse_cnn))\n",
        "print('R²: {:0.4f}'.format(r2_cnn))\n",
        "print('Adjusted R²: {:0.4f}'.format(adjusted_r2_cnn))  # 新增行"
      ],
      "metadata": {
        "id": "s6GI3n_6-WFH",
        "colab": {
          "base_uri": "https://localhost:8080/"
        },
        "outputId": "d5278d6e-54f7-4b00-fb19-2fc41c6e8ebc"
      },
      "execution_count": 38,
      "outputs": [
        {
          "metadata": {
            "tags": null
          },
          "name": "stdout",
          "output_type": "stream",
          "text": [
            "MAPE: 0.13%\n",
            "MAE: 2.1118\n",
            "RMSE: 2.7955\n",
            "R²: 0.9415\n",
            "Adjusted R²: 0.9415\n"
          ]
        }
      ]
    },
    {
      "cell_type": "markdown",
      "source": [
        "### 模型评价指标可视化"
      ],
      "metadata": {
        "id": "mhsIW-1mbUvE"
      }
    },
    {
      "cell_type": "markdown",
      "source": [
        "代码通过计算和比较模型在训练集和测试集上的误差和拟合优度指标（MSE、RMSE、MAE、R²），并使用柱状图可视化两者的表现，帮助评估模型的性能是否存在过拟合或欠拟合的情况，从这些指标可以看出，模型在训练集和测试集上的表现较为接近，说明模型没有严重的过拟合或欠拟合现象，虽然测试集上的误差略高于训练集，但差异并不大，表明模型具有较好的泛化能力"
      ],
      "metadata": {
        "id": "bfckwJXObTjC"
      }
    },
    {
      "cell_type": "code",
      "source": [
        "from sklearn import metrics\n",
        "# 预测\n",
        "y_pred_train = bmodel.predict(X_train)\n",
        "y_pred_test = bmodel.predict(X_test)\n",
        "\n",
        "y_pred_train_list = y_pred_train.tolist()\n",
        "y_pred_test_list = y_pred_test.tolist()\n",
        "\n",
        "# 计算训练集的指标\n",
        "mse_train = metrics.mean_squared_error(y_train, y_pred_train_list)\n",
        "rmse_train = np.sqrt(mse_train)\n",
        "mae_train = metrics.mean_absolute_error(y_train, y_pred_train_list)\n",
        "r2_train = metrics.r2_score(y_train, y_pred_train_list)\n",
        "\n",
        "# 计算测试集的指标\n",
        "mse_test = metrics.mean_squared_error(y_test, y_pred_test_list)\n",
        "rmse_test = np.sqrt(mse_test)\n",
        "mae_test = metrics.mean_absolute_error(y_test, y_pred_test_list)\n",
        "r2_test = metrics.r2_score(y_test, y_pred_test_list)\n",
        "\n",
        "# 将指标放入列表\n",
        "metrics_labels = ['MSE', 'RMSE', 'MAE', 'R-squared']\n",
        "train_metrics = [mse_train, rmse_train, mae_train, r2_train]\n",
        "test_metrics = [mse_test, rmse_test, mae_test, r2_test]\n",
        "\n",
        "# 创建柱状图\n",
        "x = np.arange(len(metrics_labels))  # 横坐标位置\n",
        "width = 0.35  # 柱子的宽度\n",
        "\n",
        "# fig, ax = plt.subplots()\n",
        "fig, ax = plt.subplots(figsize=(8, 6))  # 设置图像尺寸\n",
        "\n",
        "# 训练集和测试集的柱子\n",
        "bars1 = ax.bar(x - width/2, train_metrics, width, label='Train')\n",
        "bars2 = ax.bar(x + width/2, test_metrics, width, label='Test')\n",
        "\n",
        "# 添加标签和标题\n",
        "ax.set_ylabel('Scores')\n",
        "ax.set_title('Comparison of Train and Test Set Metrics')\n",
        "ax.set_xticks(x)\n",
        "ax.set_xticklabels(metrics_labels)\n",
        "ax.legend()\n",
        "\n",
        "# 在每个柱子上显示数值\n",
        "def autolabel(bars):\n",
        "    \"\"\"在每个柱子上显示数值.\"\"\"\n",
        "    for bar in bars:\n",
        "        height = bar.get_height()\n",
        "        ax.annotate('{}'.format(round(height, 3)),\n",
        "                    xy=(bar.get_x() + bar.get_width() / 2, height),\n",
        "                    # xytext=(0, 3),  # 3 点垂直偏移\n",
        "                    xytext=(0, 4),  # 将文本稍微向上偏移\n",
        "                    textcoords=\"offset points\",\n",
        "                    ha='center', va='bottom', fontsize=10)  # 设置字体大小\n",
        "\n",
        "autolabel(bars1)\n",
        "autolabel(bars2)\n",
        "\n",
        "fig.tight_layout()\n",
        "plt.savefig(\"Comparison of Train and Test Set Metrics.pdf\", format='pdf',bbox_inches='tight')\n",
        "plt.show()"
      ],
      "metadata": {
        "id": "bQzoYCMVbI6R",
        "colab": {
          "base_uri": "https://localhost:8080/",
          "height": 1000
        },
        "outputId": "806d2a8e-3987-4393-97fd-1d53ea3ff440"
      },
      "execution_count": 39,
      "outputs": [
        {
          "metadata": {
            "tags": null
          },
          "name": "stdout",
          "output_type": "stream",
          "text": [
            "\u001b[1m564/564\u001b[0m \u001b[32m━━━━━━━━━━━━━━━━━━━━\u001b[0m\u001b[37m\u001b[0m \u001b[1m4s\u001b[0m 6ms/step\n",
            "\u001b[1m367/367\u001b[0m \u001b[32m━━━━━━━━━━━━━━━━━━━━\u001b[0m\u001b[37m\u001b[0m \u001b[1m2s\u001b[0m 6ms/step\n"
          ]
        },
        {
          "metadata": {
            "tags": null
          },
          "name": "stderr",
          "output_type": "stream",
          "text": [
            "WARNING:matplotlib.font_manager:findfont: Generic family 'sans-serif' not found because none of the following families were found: SimHei\n",
            "WARNING:matplotlib.font_manager:findfont: Generic family 'sans-serif' not found because none of the following families were found: SimHei\n",
            "WARNING:matplotlib.font_manager:findfont: Generic family 'sans-serif' not found because none of the following families were found: SimHei\n",
            "WARNING:matplotlib.font_manager:findfont: Generic family 'sans-serif' not found because none of the following families were found: SimHei\n",
            "WARNING:matplotlib.font_manager:findfont: Generic family 'sans-serif' not found because none of the following families were found: SimHei\n",
            "WARNING:matplotlib.font_manager:findfont: Generic family 'sans-serif' not found because none of the following families were found: SimHei\n",
            "WARNING:matplotlib.font_manager:findfont: Generic family 'sans-serif' not found because none of the following families were found: SimHei\n",
            "WARNING:matplotlib.font_manager:findfont: Generic family 'sans-serif' not found because none of the following families were found: SimHei\n",
            "WARNING:matplotlib.font_manager:findfont: Generic family 'sans-serif' not found because none of the following families were found: SimHei\n",
            "WARNING:matplotlib.font_manager:findfont: Generic family 'sans-serif' not found because none of the following families were found: SimHei\n",
            "WARNING:matplotlib.font_manager:findfont: Generic family 'sans-serif' not found because none of the following families were found: SimHei\n",
            "WARNING:matplotlib.font_manager:findfont: Generic family 'sans-serif' not found because none of the following families were found: SimHei\n",
            "WARNING:matplotlib.font_manager:findfont: Generic family 'sans-serif' not found because none of the following families were found: SimHei\n",
            "WARNING:matplotlib.font_manager:findfont: Generic family 'sans-serif' not found because none of the following families were found: SimHei\n",
            "WARNING:matplotlib.font_manager:findfont: Generic family 'sans-serif' not found because none of the following families were found: SimHei\n",
            "WARNING:matplotlib.font_manager:findfont: Generic family 'sans-serif' not found because none of the following families were found: SimHei\n",
            "WARNING:matplotlib.font_manager:findfont: Generic family 'sans-serif' not found because none of the following families were found: SimHei\n",
            "WARNING:matplotlib.font_manager:findfont: Generic family 'sans-serif' not found because none of the following families were found: SimHei\n",
            "WARNING:matplotlib.font_manager:findfont: Generic family 'sans-serif' not found because none of the following families were found: SimHei\n",
            "WARNING:matplotlib.font_manager:findfont: Generic family 'sans-serif' not found because none of the following families were found: SimHei\n",
            "WARNING:matplotlib.font_manager:findfont: Generic family 'sans-serif' not found because none of the following families were found: SimHei\n",
            "WARNING:matplotlib.font_manager:findfont: Generic family 'sans-serif' not found because none of the following families were found: SimHei\n",
            "WARNING:matplotlib.font_manager:findfont: Generic family 'sans-serif' not found because none of the following families were found: SimHei\n",
            "WARNING:matplotlib.font_manager:findfont: Generic family 'sans-serif' not found because none of the following families were found: SimHei\n",
            "WARNING:matplotlib.font_manager:findfont: Generic family 'sans-serif' not found because none of the following families were found: SimHei\n",
            "WARNING:matplotlib.font_manager:findfont: Generic family 'sans-serif' not found because none of the following families were found: SimHei\n",
            "WARNING:matplotlib.font_manager:findfont: Generic family 'sans-serif' not found because none of the following families were found: SimHei\n",
            "WARNING:matplotlib.font_manager:findfont: Generic family 'sans-serif' not found because none of the following families were found: SimHei\n",
            "WARNING:matplotlib.font_manager:findfont: Generic family 'sans-serif' not found because none of the following families were found: SimHei\n",
            "WARNING:matplotlib.font_manager:findfont: Generic family 'sans-serif' not found because none of the following families were found: SimHei\n",
            "WARNING:matplotlib.font_manager:findfont: Generic family 'sans-serif' not found because none of the following families were found: SimHei\n",
            "WARNING:matplotlib.font_manager:findfont: Generic family 'sans-serif' not found because none of the following families were found: SimHei\n",
            "WARNING:matplotlib.font_manager:findfont: Generic family 'sans-serif' not found because none of the following families were found: SimHei\n",
            "WARNING:matplotlib.font_manager:findfont: Generic family 'sans-serif' not found because none of the following families were found: SimHei\n",
            "WARNING:matplotlib.font_manager:findfont: Generic family 'sans-serif' not found because none of the following families were found: SimHei\n",
            "WARNING:matplotlib.font_manager:findfont: Generic family 'sans-serif' not found because none of the following families were found: SimHei\n",
            "WARNING:matplotlib.font_manager:findfont: Generic family 'sans-serif' not found because none of the following families were found: SimHei\n",
            "WARNING:matplotlib.font_manager:findfont: Generic family 'sans-serif' not found because none of the following families were found: SimHei\n",
            "WARNING:matplotlib.font_manager:findfont: Generic family 'sans-serif' not found because none of the following families were found: SimHei\n",
            "WARNING:matplotlib.font_manager:findfont: Generic family 'sans-serif' not found because none of the following families were found: SimHei\n",
            "WARNING:matplotlib.font_manager:findfont: Generic family 'sans-serif' not found because none of the following families were found: SimHei\n",
            "WARNING:matplotlib.font_manager:findfont: Generic family 'sans-serif' not found because none of the following families were found: SimHei\n",
            "WARNING:matplotlib.font_manager:findfont: Generic family 'sans-serif' not found because none of the following families were found: SimHei\n",
            "WARNING:matplotlib.font_manager:findfont: Generic family 'sans-serif' not found because none of the following families were found: SimHei\n",
            "WARNING:matplotlib.font_manager:findfont: Generic family 'sans-serif' not found because none of the following families were found: SimHei\n",
            "WARNING:matplotlib.font_manager:findfont: Generic family 'sans-serif' not found because none of the following families were found: SimHei\n",
            "WARNING:matplotlib.font_manager:findfont: Generic family 'sans-serif' not found because none of the following families were found: SimHei\n",
            "WARNING:matplotlib.font_manager:findfont: Generic family 'sans-serif' not found because none of the following families were found: SimHei\n",
            "WARNING:matplotlib.font_manager:findfont: Generic family 'sans-serif' not found because none of the following families were found: SimHei\n",
            "WARNING:matplotlib.font_manager:findfont: Generic family 'sans-serif' not found because none of the following families were found: SimHei\n",
            "WARNING:matplotlib.font_manager:findfont: Generic family 'sans-serif' not found because none of the following families were found: SimHei\n",
            "WARNING:matplotlib.font_manager:findfont: Generic family 'sans-serif' not found because none of the following families were found: SimHei\n",
            "WARNING:matplotlib.font_manager:findfont: Generic family 'sans-serif' not found because none of the following families were found: SimHei\n",
            "WARNING:matplotlib.font_manager:findfont: Generic family 'sans-serif' not found because none of the following families were found: SimHei\n",
            "WARNING:matplotlib.font_manager:findfont: Generic family 'sans-serif' not found because none of the following families were found: SimHei\n",
            "WARNING:matplotlib.font_manager:findfont: Generic family 'sans-serif' not found because none of the following families were found: SimHei\n",
            "WARNING:matplotlib.font_manager:findfont: Generic family 'sans-serif' not found because none of the following families were found: SimHei\n",
            "WARNING:matplotlib.font_manager:findfont: Generic family 'sans-serif' not found because none of the following families were found: SimHei\n",
            "WARNING:matplotlib.font_manager:findfont: Generic family 'sans-serif' not found because none of the following families were found: SimHei\n",
            "WARNING:matplotlib.font_manager:findfont: Generic family 'sans-serif' not found because none of the following families were found: SimHei\n",
            "WARNING:matplotlib.font_manager:findfont: Generic family 'sans-serif' not found because none of the following families were found: SimHei\n",
            "WARNING:matplotlib.font_manager:findfont: Generic family 'sans-serif' not found because none of the following families were found: SimHei\n",
            "WARNING:matplotlib.font_manager:findfont: Generic family 'sans-serif' not found because none of the following families were found: SimHei\n",
            "WARNING:matplotlib.font_manager:findfont: Generic family 'sans-serif' not found because none of the following families were found: SimHei\n",
            "WARNING:matplotlib.font_manager:findfont: Generic family 'sans-serif' not found because none of the following families were found: SimHei\n",
            "WARNING:matplotlib.font_manager:findfont: Generic family 'sans-serif' not found because none of the following families were found: SimHei\n",
            "WARNING:matplotlib.font_manager:findfont: Generic family 'sans-serif' not found because none of the following families were found: SimHei\n",
            "WARNING:matplotlib.font_manager:findfont: Generic family 'sans-serif' not found because none of the following families were found: SimHei\n",
            "WARNING:matplotlib.font_manager:findfont: Generic family 'sans-serif' not found because none of the following families were found: SimHei\n",
            "WARNING:matplotlib.font_manager:findfont: Generic family 'sans-serif' not found because none of the following families were found: SimHei\n",
            "WARNING:matplotlib.font_manager:findfont: Generic family 'sans-serif' not found because none of the following families were found: SimHei\n",
            "WARNING:matplotlib.font_manager:findfont: Generic family 'sans-serif' not found because none of the following families were found: SimHei\n",
            "WARNING:matplotlib.font_manager:findfont: Generic family 'sans-serif' not found because none of the following families were found: SimHei\n",
            "WARNING:matplotlib.font_manager:findfont: Generic family 'sans-serif' not found because none of the following families were found: SimHei\n",
            "WARNING:matplotlib.font_manager:findfont: Generic family 'sans-serif' not found because none of the following families were found: SimHei\n",
            "WARNING:matplotlib.font_manager:findfont: Generic family 'sans-serif' not found because none of the following families were found: SimHei\n",
            "WARNING:matplotlib.font_manager:findfont: Generic family 'sans-serif' not found because none of the following families were found: SimHei\n",
            "WARNING:matplotlib.font_manager:findfont: Generic family 'sans-serif' not found because none of the following families were found: SimHei\n",
            "WARNING:matplotlib.font_manager:findfont: Generic family 'sans-serif' not found because none of the following families were found: SimHei\n",
            "WARNING:matplotlib.font_manager:findfont: Generic family 'sans-serif' not found because none of the following families were found: SimHei\n",
            "WARNING:matplotlib.font_manager:findfont: Generic family 'sans-serif' not found because none of the following families were found: SimHei\n",
            "WARNING:matplotlib.font_manager:findfont: Generic family 'sans-serif' not found because none of the following families were found: SimHei\n",
            "WARNING:matplotlib.font_manager:findfont: Generic family 'sans-serif' not found because none of the following families were found: SimHei\n",
            "WARNING:matplotlib.font_manager:findfont: Generic family 'sans-serif' not found because none of the following families were found: SimHei\n",
            "WARNING:matplotlib.font_manager:findfont: Generic family 'sans-serif' not found because none of the following families were found: SimHei\n",
            "WARNING:matplotlib.font_manager:findfont: Generic family 'sans-serif' not found because none of the following families were found: SimHei\n",
            "WARNING:matplotlib.font_manager:findfont: Generic family 'sans-serif' not found because none of the following families were found: SimHei\n",
            "WARNING:matplotlib.font_manager:findfont: Generic family 'sans-serif' not found because none of the following families were found: SimHei\n",
            "WARNING:matplotlib.font_manager:findfont: Generic family 'sans-serif' not found because none of the following families were found: SimHei\n",
            "WARNING:matplotlib.font_manager:findfont: Generic family 'sans-serif' not found because none of the following families were found: SimHei\n",
            "WARNING:matplotlib.font_manager:findfont: Generic family 'sans-serif' not found because none of the following families were found: SimHei\n",
            "WARNING:matplotlib.font_manager:findfont: Generic family 'sans-serif' not found because none of the following families were found: SimHei\n",
            "WARNING:matplotlib.font_manager:findfont: Generic family 'sans-serif' not found because none of the following families were found: SimHei\n",
            "WARNING:matplotlib.font_manager:findfont: Generic family 'sans-serif' not found because none of the following families were found: SimHei\n",
            "WARNING:matplotlib.font_manager:findfont: Generic family 'sans-serif' not found because none of the following families were found: SimHei\n",
            "WARNING:matplotlib.font_manager:findfont: Generic family 'sans-serif' not found because none of the following families were found: SimHei\n",
            "WARNING:matplotlib.font_manager:findfont: Generic family 'sans-serif' not found because none of the following families were found: SimHei\n",
            "WARNING:matplotlib.font_manager:findfont: Generic family 'sans-serif' not found because none of the following families were found: SimHei\n",
            "WARNING:matplotlib.font_manager:findfont: Generic family 'sans-serif' not found because none of the following families were found: SimHei\n",
            "WARNING:matplotlib.font_manager:findfont: Generic family 'sans-serif' not found because none of the following families were found: SimHei\n",
            "WARNING:matplotlib.font_manager:findfont: Generic family 'sans-serif' not found because none of the following families were found: SimHei\n",
            "WARNING:matplotlib.font_manager:findfont: Generic family 'sans-serif' not found because none of the following families were found: SimHei\n",
            "WARNING:matplotlib.font_manager:findfont: Generic family 'sans-serif' not found because none of the following families were found: SimHei\n",
            "WARNING:matplotlib.font_manager:findfont: Generic family 'sans-serif' not found because none of the following families were found: SimHei\n",
            "WARNING:matplotlib.font_manager:findfont: Generic family 'sans-serif' not found because none of the following families were found: SimHei\n",
            "WARNING:matplotlib.font_manager:findfont: Generic family 'sans-serif' not found because none of the following families were found: SimHei\n",
            "WARNING:matplotlib.font_manager:findfont: Generic family 'sans-serif' not found because none of the following families were found: SimHei\n",
            "WARNING:matplotlib.font_manager:findfont: Generic family 'sans-serif' not found because none of the following families were found: SimHei\n",
            "WARNING:matplotlib.font_manager:findfont: Generic family 'sans-serif' not found because none of the following families were found: SimHei\n",
            "WARNING:matplotlib.font_manager:findfont: Generic family 'sans-serif' not found because none of the following families were found: SimHei\n",
            "WARNING:matplotlib.font_manager:findfont: Generic family 'sans-serif' not found because none of the following families were found: SimHei\n",
            "WARNING:matplotlib.font_manager:findfont: Generic family 'sans-serif' not found because none of the following families were found: SimHei\n",
            "WARNING:matplotlib.font_manager:findfont: Generic family 'sans-serif' not found because none of the following families were found: SimHei\n",
            "WARNING:matplotlib.font_manager:findfont: Generic family 'sans-serif' not found because none of the following families were found: SimHei\n",
            "WARNING:matplotlib.font_manager:findfont: Generic family 'sans-serif' not found because none of the following families were found: SimHei\n",
            "WARNING:matplotlib.font_manager:findfont: Generic family 'sans-serif' not found because none of the following families were found: SimHei\n",
            "WARNING:matplotlib.font_manager:findfont: Generic family 'sans-serif' not found because none of the following families were found: SimHei\n",
            "WARNING:matplotlib.font_manager:findfont: Generic family 'sans-serif' not found because none of the following families were found: SimHei\n",
            "WARNING:matplotlib.font_manager:findfont: Generic family 'sans-serif' not found because none of the following families were found: SimHei\n",
            "WARNING:matplotlib.font_manager:findfont: Generic family 'sans-serif' not found because none of the following families were found: SimHei\n",
            "WARNING:matplotlib.font_manager:findfont: Generic family 'sans-serif' not found because none of the following families were found: SimHei\n",
            "WARNING:matplotlib.font_manager:findfont: Generic family 'sans-serif' not found because none of the following families were found: SimHei\n",
            "WARNING:matplotlib.font_manager:findfont: Generic family 'sans-serif' not found because none of the following families were found: SimHei\n",
            "WARNING:matplotlib.font_manager:findfont: Generic family 'sans-serif' not found because none of the following families were found: SimHei\n",
            "WARNING:matplotlib.font_manager:findfont: Generic family 'sans-serif' not found because none of the following families were found: SimHei\n",
            "WARNING:matplotlib.font_manager:findfont: Generic family 'sans-serif' not found because none of the following families were found: SimHei\n",
            "WARNING:matplotlib.font_manager:findfont: Generic family 'sans-serif' not found because none of the following families were found: SimHei\n",
            "WARNING:matplotlib.font_manager:findfont: Generic family 'sans-serif' not found because none of the following families were found: SimHei\n",
            "WARNING:matplotlib.font_manager:findfont: Generic family 'sans-serif' not found because none of the following families were found: SimHei\n",
            "WARNING:matplotlib.font_manager:findfont: Generic family 'sans-serif' not found because none of the following families were found: SimHei\n",
            "WARNING:matplotlib.font_manager:findfont: Generic family 'sans-serif' not found because none of the following families were found: SimHei\n",
            "WARNING:matplotlib.font_manager:findfont: Generic family 'sans-serif' not found because none of the following families were found: SimHei\n",
            "WARNING:matplotlib.font_manager:findfont: Generic family 'sans-serif' not found because none of the following families were found: SimHei\n",
            "WARNING:matplotlib.font_manager:findfont: Generic family 'sans-serif' not found because none of the following families were found: SimHei\n",
            "WARNING:matplotlib.font_manager:findfont: Generic family 'sans-serif' not found because none of the following families were found: SimHei\n",
            "WARNING:matplotlib.font_manager:findfont: Generic family 'sans-serif' not found because none of the following families were found: SimHei\n",
            "WARNING:matplotlib.font_manager:findfont: Generic family 'sans-serif' not found because none of the following families were found: SimHei\n",
            "WARNING:matplotlib.font_manager:findfont: Generic family 'sans-serif' not found because none of the following families were found: SimHei\n",
            "WARNING:matplotlib.font_manager:findfont: Generic family 'sans-serif' not found because none of the following families were found: SimHei\n",
            "WARNING:matplotlib.font_manager:findfont: Generic family 'sans-serif' not found because none of the following families were found: SimHei\n",
            "WARNING:matplotlib.font_manager:findfont: Generic family 'sans-serif' not found because none of the following families were found: SimHei\n",
            "WARNING:matplotlib.font_manager:findfont: Generic family 'sans-serif' not found because none of the following families were found: SimHei\n",
            "WARNING:matplotlib.font_manager:findfont: Generic family 'sans-serif' not found because none of the following families were found: SimHei\n",
            "WARNING:matplotlib.font_manager:findfont: Generic family 'sans-serif' not found because none of the following families were found: SimHei\n",
            "WARNING:matplotlib.font_manager:findfont: Generic family 'sans-serif' not found because none of the following families were found: SimHei\n",
            "WARNING:matplotlib.font_manager:findfont: Generic family 'sans-serif' not found because none of the following families were found: SimHei\n",
            "WARNING:matplotlib.font_manager:findfont: Generic family 'sans-serif' not found because none of the following families were found: SimHei\n",
            "WARNING:matplotlib.font_manager:findfont: Generic family 'sans-serif' not found because none of the following families were found: SimHei\n",
            "WARNING:matplotlib.font_manager:findfont: Generic family 'sans-serif' not found because none of the following families were found: SimHei\n",
            "WARNING:matplotlib.font_manager:findfont: Generic family 'sans-serif' not found because none of the following families were found: SimHei\n",
            "WARNING:matplotlib.font_manager:findfont: Generic family 'sans-serif' not found because none of the following families were found: SimHei\n",
            "WARNING:matplotlib.font_manager:findfont: Generic family 'sans-serif' not found because none of the following families were found: SimHei\n",
            "WARNING:matplotlib.font_manager:findfont: Generic family 'sans-serif' not found because none of the following families were found: SimHei\n",
            "WARNING:matplotlib.font_manager:findfont: Generic family 'sans-serif' not found because none of the following families were found: SimHei\n",
            "WARNING:matplotlib.font_manager:findfont: Generic family 'sans-serif' not found because none of the following families were found: SimHei\n",
            "WARNING:matplotlib.font_manager:findfont: Generic family 'sans-serif' not found because none of the following families were found: SimHei\n",
            "WARNING:matplotlib.font_manager:findfont: Generic family 'sans-serif' not found because none of the following families were found: SimHei\n",
            "WARNING:matplotlib.font_manager:findfont: Generic family 'sans-serif' not found because none of the following families were found: SimHei\n",
            "WARNING:matplotlib.font_manager:findfont: Generic family 'sans-serif' not found because none of the following families were found: SimHei\n",
            "WARNING:matplotlib.font_manager:findfont: Generic family 'sans-serif' not found because none of the following families were found: SimHei\n",
            "WARNING:matplotlib.font_manager:findfont: Generic family 'sans-serif' not found because none of the following families were found: SimHei\n",
            "WARNING:matplotlib.font_manager:findfont: Generic family 'sans-serif' not found because none of the following families were found: SimHei\n",
            "WARNING:matplotlib.font_manager:findfont: Generic family 'sans-serif' not found because none of the following families were found: SimHei\n",
            "WARNING:matplotlib.font_manager:findfont: Generic family 'sans-serif' not found because none of the following families were found: SimHei\n",
            "WARNING:matplotlib.font_manager:findfont: Generic family 'sans-serif' not found because none of the following families were found: SimHei\n",
            "WARNING:matplotlib.font_manager:findfont: Generic family 'sans-serif' not found because none of the following families were found: SimHei\n",
            "WARNING:matplotlib.font_manager:findfont: Generic family 'sans-serif' not found because none of the following families were found: SimHei\n",
            "WARNING:matplotlib.font_manager:findfont: Generic family 'sans-serif' not found because none of the following families were found: SimHei\n",
            "WARNING:matplotlib.font_manager:findfont: Generic family 'sans-serif' not found because none of the following families were found: SimHei\n",
            "WARNING:matplotlib.font_manager:findfont: Generic family 'sans-serif' not found because none of the following families were found: SimHei\n",
            "WARNING:matplotlib.font_manager:findfont: Generic family 'sans-serif' not found because none of the following families were found: SimHei\n",
            "WARNING:matplotlib.font_manager:findfont: Generic family 'sans-serif' not found because none of the following families were found: SimHei\n",
            "WARNING:matplotlib.font_manager:findfont: Generic family 'sans-serif' not found because none of the following families were found: SimHei\n",
            "WARNING:matplotlib.font_manager:findfont: Generic family 'sans-serif' not found because none of the following families were found: SimHei\n",
            "WARNING:matplotlib.font_manager:findfont: Generic family 'sans-serif' not found because none of the following families were found: SimHei\n",
            "WARNING:matplotlib.font_manager:findfont: Generic family 'sans-serif' not found because none of the following families were found: SimHei\n",
            "WARNING:matplotlib.font_manager:findfont: Generic family 'sans-serif' not found because none of the following families were found: SimHei\n",
            "WARNING:matplotlib.font_manager:findfont: Generic family 'sans-serif' not found because none of the following families were found: SimHei\n",
            "WARNING:matplotlib.font_manager:findfont: Generic family 'sans-serif' not found because none of the following families were found: SimHei\n",
            "WARNING:matplotlib.font_manager:findfont: Generic family 'sans-serif' not found because none of the following families were found: SimHei\n",
            "WARNING:matplotlib.font_manager:findfont: Generic family 'sans-serif' not found because none of the following families were found: SimHei\n",
            "WARNING:matplotlib.font_manager:findfont: Generic family 'sans-serif' not found because none of the following families were found: SimHei\n",
            "WARNING:matplotlib.font_manager:findfont: Generic family 'sans-serif' not found because none of the following families were found: SimHei\n",
            "WARNING:matplotlib.font_manager:findfont: Generic family 'sans-serif' not found because none of the following families were found: SimHei\n",
            "WARNING:matplotlib.font_manager:findfont: Generic family 'sans-serif' not found because none of the following families were found: SimHei\n",
            "WARNING:matplotlib.font_manager:findfont: Generic family 'sans-serif' not found because none of the following families were found: SimHei\n",
            "WARNING:matplotlib.font_manager:findfont: Generic family 'sans-serif' not found because none of the following families were found: SimHei\n",
            "WARNING:matplotlib.font_manager:findfont: Generic family 'sans-serif' not found because none of the following families were found: SimHei\n",
            "WARNING:matplotlib.font_manager:findfont: Generic family 'sans-serif' not found because none of the following families were found: SimHei\n",
            "WARNING:matplotlib.font_manager:findfont: Generic family 'sans-serif' not found because none of the following families were found: SimHei\n",
            "WARNING:matplotlib.font_manager:findfont: Generic family 'sans-serif' not found because none of the following families were found: SimHei\n",
            "WARNING:matplotlib.font_manager:findfont: Generic family 'sans-serif' not found because none of the following families were found: SimHei\n",
            "WARNING:matplotlib.font_manager:findfont: Generic family 'sans-serif' not found because none of the following families were found: SimHei\n",
            "WARNING:matplotlib.font_manager:findfont: Generic family 'sans-serif' not found because none of the following families were found: SimHei\n",
            "WARNING:matplotlib.font_manager:findfont: Generic family 'sans-serif' not found because none of the following families were found: SimHei\n",
            "WARNING:matplotlib.font_manager:findfont: Generic family 'sans-serif' not found because none of the following families were found: SimHei\n",
            "WARNING:matplotlib.font_manager:findfont: Generic family 'sans-serif' not found because none of the following families were found: SimHei\n",
            "WARNING:matplotlib.font_manager:findfont: Generic family 'sans-serif' not found because none of the following families were found: SimHei\n",
            "WARNING:matplotlib.font_manager:findfont: Generic family 'sans-serif' not found because none of the following families were found: SimHei\n",
            "WARNING:matplotlib.font_manager:findfont: Generic family 'sans-serif' not found because none of the following families were found: SimHei\n",
            "WARNING:matplotlib.font_manager:findfont: Generic family 'sans-serif' not found because none of the following families were found: SimHei\n",
            "WARNING:matplotlib.font_manager:findfont: Generic family 'sans-serif' not found because none of the following families were found: SimHei\n",
            "WARNING:matplotlib.font_manager:findfont: Generic family 'sans-serif' not found because none of the following families were found: SimHei\n",
            "WARNING:matplotlib.font_manager:findfont: Generic family 'sans-serif' not found because none of the following families were found: SimHei\n",
            "WARNING:matplotlib.font_manager:findfont: Generic family 'sans-serif' not found because none of the following families were found: SimHei\n",
            "WARNING:matplotlib.font_manager:findfont: Generic family 'sans-serif' not found because none of the following families were found: SimHei\n",
            "WARNING:matplotlib.font_manager:findfont: Generic family 'sans-serif' not found because none of the following families were found: SimHei\n",
            "WARNING:matplotlib.font_manager:findfont: Generic family 'sans-serif' not found because none of the following families were found: SimHei\n",
            "WARNING:matplotlib.font_manager:findfont: Generic family 'sans-serif' not found because none of the following families were found: SimHei\n",
            "WARNING:matplotlib.font_manager:findfont: Generic family 'sans-serif' not found because none of the following families were found: SimHei\n",
            "WARNING:matplotlib.font_manager:findfont: Generic family 'sans-serif' not found because none of the following families were found: SimHei\n"
          ]
        },
        {
          "data": {
            "image/png": "[encoded data removed]",
            "text/plain": [
              "<Figure size 800x600 with 1 Axes>"
            ]
          },
          "metadata": {},
          "output_type": "display_data"
        }
      ]
    },
    {
      "cell_type": "markdown",
      "source": [
        "### 模型预测可视化"
      ],
      "metadata": {
        "id": "J51chfbSbfo6"
      }
    },
    {
      "cell_type": "markdown",
      "source": [
        "代码通过散点图、回归线、直方图和拟合优度（R²）值的可视化方式，直观展示模型在训练集和测试集上的预测表现，对角线 x=y 表示理想状态下的预测，散点的偏离程度和回归线的拟合情况则表明了模型的实际预测能力，通过这些图表，可以很好地评估模型的准确性和泛化能力"
      ],
      "metadata": {
        "id": "XTC5g1HrbqKR"
      }
    },
    {
      "cell_type": "code",
      "source": [
        "\n",
        "import pandas as pd\n",
        "import seaborn as sns\n",
        "import matplotlib.pyplot as plt\n",
        "\n",
        "y_train = y_train.flatten()  # 确保y_train是一维\n",
        "y_pred_train = y_pred_train.flatten()  # 确保y_pred_train是一维\n",
        "y_test = y_test.flatten()  # 确保y_test是一维\n",
        "y_pred_test = y_pred_test.flatten()  # 确保y_pred_test是一维\n",
        "\n",
        "# 创建一个包含训练集和测试集真实值与预测值的数据框\n",
        "data_train = pd.DataFrame({\n",
        "    'True': y_train,\n",
        "    'Predicted': y_pred_train,\n",
        "    'Data Set': 'Train'\n",
        "})\n",
        "\n",
        "data_test = pd.DataFrame({\n",
        "    'True': y_test,\n",
        "    'Predicted': y_pred_test,\n",
        "    'Data Set': 'Test'\n",
        "})\n",
        "\n",
        "data = pd.concat([data_train, data_test])\n",
        "\n",
        "# 自定义调色板\n",
        "palette = {'Train': '#b4d4e1', 'Test': '#f4ba8a'}\n",
        "\n",
        "# 创建 JointGrid 对象\n",
        "plt.figure(figsize=(8, 6), dpi=1200)\n",
        "g = sns.JointGrid(data=data, x=\"True\", y=\"Predicted\", hue=\"Data Set\", height=10, palette=palette)\n",
        "\n",
        "# 绘制中心的散点图\n",
        "g.plot_joint(sns.scatterplot, alpha=0.5)\n",
        "# 添加训练集的回归线\n",
        "sns.regplot(data=data_train, x=\"True\", y=\"Predicted\", scatter=False, ax=g.ax_joint, color='#b4d4e1', label='Train Regression Line')\n",
        "# 添加测试集的回归线\n",
        "sns.regplot(data=data_test, x=\"True\", y=\"Predicted\", scatter=False, ax=g.ax_joint, color='#f4ba8a', label='Test Regression Line')\n",
        "# 添加边缘的柱状图\n",
        "g.plot_marginals(sns.histplot, kde=False, element='bars', multiple='stack', alpha=0.5)\n",
        "\n",
        "# 添加拟合优度文本在右下角\n",
        "ax = g.ax_joint\n",
        "ax.text(0.95, 0.1, f'Train $R^2$ = {r2_train:.3f}', transform=ax.transAxes, fontsize=12,\n",
        "        verticalalignment='bottom', horizontalalignment='right', bbox=dict(boxstyle=\"round,pad=0.3\", edgecolor=\"black\", facecolor=\"white\"))\n",
        "ax.text(0.95, 0.05, f'Test $R^2$ = {r2_test:.3f}', transform=ax.transAxes, fontsize=12,\n",
        "        verticalalignment='bottom', horizontalalignment='right', bbox=dict(boxstyle=\"round,pad=0.3\", edgecolor=\"black\", facecolor=\"white\"))\n",
        "# 在左上角添加模型名称文本\n",
        "ax.text(0.75, 0.99, 'Model = CNN', transform=ax.transAxes, fontsize=12,\n",
        "        verticalalignment='top', horizontalalignment='left', bbox=dict(boxstyle=\"round,pad=0.3\", edgecolor=\"black\", facecolor=\"white\"))\n",
        "\n",
        "# 添加中心线\n",
        "ax.plot([data['True'].min(), data['True'].max()], [data['True'].min(), data['True'].max()], c=\"black\", alpha=0.5, linestyle='--', label='x=y')\n",
        "ax.legend()\n",
        "plt.savefig(\"TrueFalse.pdf\", format='pdf', bbox_inches='tight')\n",
        "plt.show()"
      ],
      "metadata": {
        "id": "XleQj5mebf97",
        "colab": {
          "base_uri": "https://localhost:8080/",
          "height": 1000
        },
        "outputId": "31d20495-212c-48ee-ede9-d3725f46e7a4"
      },
      "execution_count": 40,
      "outputs": [
        {
          "metadata": {
            "tags": null
          },
          "name": "stderr",
          "output_type": "stream",
          "text": [
            "WARNING:matplotlib.font_manager:findfont: Generic family 'sans-serif' not found because none of the following families were found: SimHei\n",
            "WARNING:matplotlib.font_manager:findfont: Generic family 'sans-serif' not found because none of the following families were found: SimHei\n",
            "WARNING:matplotlib.font_manager:findfont: Generic family 'sans-serif' not found because none of the following families were found: SimHei\n",
            "WARNING:matplotlib.font_manager:findfont: Generic family 'sans-serif' not found because none of the following families were found: SimHei\n",
            "WARNING:matplotlib.font_manager:findfont: Generic family 'sans-serif' not found because none of the following families were found: SimHei\n",
            "WARNING:matplotlib.font_manager:findfont: Generic family 'sans-serif' not found because none of the following families were found: SimHei\n",
            "WARNING:matplotlib.font_manager:findfont: Generic family 'sans-serif' not found because none of the following families were found: SimHei\n",
            "WARNING:matplotlib.font_manager:findfont: Generic family 'sans-serif' not found because none of the following families were found: SimHei\n",
            "WARNING:matplotlib.font_manager:findfont: Generic family 'sans-serif' not found because none of the following families were found: SimHei\n",
            "WARNING:matplotlib.font_manager:findfont: Generic family 'sans-serif' not found because none of the following families were found: SimHei\n",
            "WARNING:matplotlib.font_manager:findfont: Generic family 'sans-serif' not found because none of the following families were found: SimHei\n",
            "WARNING:matplotlib.font_manager:findfont: Generic family 'sans-serif' not found because none of the following families were found: SimHei\n",
            "WARNING:matplotlib.font_manager:findfont: Generic family 'sans-serif' not found because none of the following families were found: SimHei\n",
            "WARNING:matplotlib.font_manager:findfont: Generic family 'sans-serif' not found because none of the following families were found: SimHei\n",
            "WARNING:matplotlib.font_manager:findfont: Generic family 'sans-serif' not found because none of the following families were found: SimHei\n",
            "WARNING:matplotlib.font_manager:findfont: Generic family 'sans-serif' not found because none of the following families were found: SimHei\n",
            "WARNING:matplotlib.font_manager:findfont: Generic family 'sans-serif' not found because none of the following families were found: SimHei\n",
            "WARNING:matplotlib.font_manager:findfont: Generic family 'sans-serif' not found because none of the following families were found: SimHei\n",
            "WARNING:matplotlib.font_manager:findfont: Generic family 'sans-serif' not found because none of the following families were found: SimHei\n",
            "WARNING:matplotlib.font_manager:findfont: Generic family 'sans-serif' not found because none of the following families were found: SimHei\n",
            "WARNING:matplotlib.font_manager:findfont: Generic family 'sans-serif' not found because none of the following families were found: SimHei\n",
            "WARNING:matplotlib.font_manager:findfont: Font family ['sans-serif'] not found. Falling back to DejaVu Sans.\n",
            "WARNING:matplotlib.font_manager:findfont: Generic family 'sans-serif' not found because none of the following families were found: SimHei\n",
            "WARNING:matplotlib.font_manager:findfont: Generic family 'sans-serif' not found because none of the following families were found: SimHei\n",
            "WARNING:matplotlib.font_manager:findfont: Generic family 'sans-serif' not found because none of the following families were found: SimHei\n",
            "WARNING:matplotlib.font_manager:findfont: Generic family 'sans-serif' not found because none of the following families were found: SimHei\n",
            "WARNING:matplotlib.font_manager:findfont: Generic family 'sans-serif' not found because none of the following families were found: SimHei\n",
            "WARNING:matplotlib.font_manager:findfont: Generic family 'sans-serif' not found because none of the following families were found: SimHei\n",
            "WARNING:matplotlib.font_manager:findfont: Generic family 'sans-serif' not found because none of the following families were found: SimHei\n",
            "WARNING:matplotlib.font_manager:findfont: Generic family 'sans-serif' not found because none of the following families were found: SimHei\n",
            "WARNING:matplotlib.font_manager:findfont: Generic family 'sans-serif' not found because none of the following families were found: SimHei\n",
            "WARNING:matplotlib.font_manager:findfont: Generic family 'sans-serif' not found because none of the following families were found: SimHei\n",
            "WARNING:matplotlib.font_manager:findfont: Generic family 'sans-serif' not found because none of the following families were found: SimHei\n",
            "WARNING:matplotlib.font_manager:findfont: Generic family 'sans-serif' not found because none of the following families were found: SimHei\n",
            "WARNING:matplotlib.font_manager:findfont: Generic family 'sans-serif' not found because none of the following families were found: SimHei\n",
            "WARNING:matplotlib.font_manager:findfont: Generic family 'sans-serif' not found because none of the following families were found: SimHei\n",
            "WARNING:matplotlib.font_manager:findfont: Generic family 'sans-serif' not found because none of the following families were found: SimHei\n",
            "WARNING:matplotlib.font_manager:findfont: Generic family 'sans-serif' not found because none of the following families were found: SimHei\n",
            "WARNING:matplotlib.font_manager:findfont: Generic family 'sans-serif' not found because none of the following families were found: SimHei\n",
            "WARNING:matplotlib.font_manager:findfont: Generic family 'sans-serif' not found because none of the following families were found: SimHei\n",
            "WARNING:matplotlib.font_manager:findfont: Generic family 'sans-serif' not found because none of the following families were found: SimHei\n",
            "WARNING:matplotlib.font_manager:findfont: Generic family 'sans-serif' not found because none of the following families were found: SimHei\n",
            "WARNING:matplotlib.font_manager:findfont: Generic family 'sans-serif' not found because none of the following families were found: SimHei\n",
            "WARNING:matplotlib.font_manager:findfont: Generic family 'sans-serif' not found because none of the following families were found: SimHei\n",
            "WARNING:matplotlib.font_manager:findfont: Generic family 'sans-serif' not found because none of the following families were found: SimHei\n",
            "WARNING:matplotlib.font_manager:findfont: Generic family 'sans-serif' not found because none of the following families were found: SimHei\n",
            "WARNING:matplotlib.font_manager:findfont: Generic family 'sans-serif' not found because none of the following families were found: SimHei\n",
            "WARNING:matplotlib.font_manager:findfont: Generic family 'sans-serif' not found because none of the following families were found: SimHei\n",
            "WARNING:matplotlib.font_manager:findfont: Generic family 'sans-serif' not found because none of the following families were found: SimHei\n",
            "WARNING:matplotlib.font_manager:findfont: Generic family 'sans-serif' not found because none of the following families were found: SimHei\n",
            "WARNING:matplotlib.font_manager:findfont: Generic family 'sans-serif' not found because none of the following families were found: SimHei\n",
            "WARNING:matplotlib.font_manager:findfont: Generic family 'sans-serif' not found because none of the following families were found: SimHei\n",
            "WARNING:matplotlib.font_manager:findfont: Generic family 'sans-serif' not found because none of the following families were found: SimHei\n",
            "WARNING:matplotlib.font_manager:findfont: Generic family 'sans-serif' not found because none of the following families were found: SimHei\n",
            "WARNING:matplotlib.font_manager:findfont: Generic family 'sans-serif' not found because none of the following families were found: SimHei\n",
            "WARNING:matplotlib.font_manager:findfont: Generic family 'sans-serif' not found because none of the following families were found: SimHei\n",
            "WARNING:matplotlib.font_manager:findfont: Generic family 'sans-serif' not found because none of the following families were found: SimHei\n",
            "WARNING:matplotlib.font_manager:findfont: Generic family 'sans-serif' not found because none of the following families were found: SimHei\n",
            "WARNING:matplotlib.font_manager:findfont: Generic family 'sans-serif' not found because none of the following families were found: SimHei\n",
            "WARNING:matplotlib.font_manager:findfont: Generic family 'sans-serif' not found because none of the following families were found: SimHei\n",
            "WARNING:matplotlib.font_manager:findfont: Generic family 'sans-serif' not found because none of the following families were found: SimHei\n",
            "WARNING:matplotlib.font_manager:findfont: Generic family 'sans-serif' not found because none of the following families were found: SimHei\n",
            "WARNING:matplotlib.font_manager:findfont: Generic family 'sans-serif' not found because none of the following families were found: SimHei\n",
            "WARNING:matplotlib.font_manager:findfont: Generic family 'sans-serif' not found because none of the following families were found: SimHei\n",
            "WARNING:matplotlib.font_manager:findfont: Generic family 'sans-serif' not found because none of the following families were found: SimHei\n",
            "WARNING:matplotlib.font_manager:findfont: Generic family 'sans-serif' not found because none of the following families were found: SimHei\n",
            "WARNING:matplotlib.font_manager:findfont: Generic family 'sans-serif' not found because none of the following families were found: SimHei\n",
            "WARNING:matplotlib.font_manager:findfont: Generic family 'sans-serif' not found because none of the following families were found: SimHei\n",
            "WARNING:matplotlib.font_manager:findfont: Generic family 'sans-serif' not found because none of the following families were found: SimHei\n",
            "WARNING:matplotlib.font_manager:findfont: Generic family 'sans-serif' not found because none of the following families were found: SimHei\n",
            "WARNING:matplotlib.font_manager:findfont: Generic family 'sans-serif' not found because none of the following families were found: SimHei\n",
            "WARNING:matplotlib.font_manager:findfont: Generic family 'sans-serif' not found because none of the following families were found: SimHei\n",
            "WARNING:matplotlib.font_manager:findfont: Generic family 'sans-serif' not found because none of the following families were found: SimHei\n",
            "WARNING:matplotlib.font_manager:findfont: Generic family 'sans-serif' not found because none of the following families were found: SimHei\n",
            "WARNING:matplotlib.font_manager:findfont: Generic family 'sans-serif' not found because none of the following families were found: SimHei\n",
            "WARNING:matplotlib.font_manager:findfont: Generic family 'sans-serif' not found because none of the following families were found: SimHei\n",
            "WARNING:matplotlib.font_manager:findfont: Generic family 'sans-serif' not found because none of the following families were found: SimHei\n",
            "WARNING:matplotlib.font_manager:findfont: Generic family 'sans-serif' not found because none of the following families were found: SimHei\n",
            "WARNING:matplotlib.font_manager:findfont: Generic family 'sans-serif' not found because none of the following families were found: SimHei\n",
            "WARNING:matplotlib.font_manager:findfont: Generic family 'sans-serif' not found because none of the following families were found: SimHei\n",
            "WARNING:matplotlib.font_manager:findfont: Generic family 'sans-serif' not found because none of the following families were found: SimHei\n",
            "WARNING:matplotlib.font_manager:findfont: Generic family 'sans-serif' not found because none of the following families were found: SimHei\n",
            "WARNING:matplotlib.font_manager:findfont: Generic family 'sans-serif' not found because none of the following families were found: SimHei\n",
            "WARNING:matplotlib.font_manager:findfont: Generic family 'sans-serif' not found because none of the following families were found: SimHei\n",
            "WARNING:matplotlib.font_manager:findfont: Generic family 'sans-serif' not found because none of the following families were found: SimHei\n",
            "WARNING:matplotlib.font_manager:findfont: Generic family 'sans-serif' not found because none of the following families were found: SimHei\n",
            "WARNING:matplotlib.font_manager:findfont: Generic family 'sans-serif' not found because none of the following families were found: SimHei\n",
            "WARNING:matplotlib.font_manager:findfont: Generic family 'sans-serif' not found because none of the following families were found: SimHei\n",
            "WARNING:matplotlib.font_manager:findfont: Generic family 'sans-serif' not found because none of the following families were found: SimHei\n",
            "WARNING:matplotlib.font_manager:findfont: Generic family 'sans-serif' not found because none of the following families were found: SimHei\n",
            "WARNING:matplotlib.font_manager:findfont: Generic family 'sans-serif' not found because none of the following families were found: SimHei\n",
            "WARNING:matplotlib.font_manager:findfont: Generic family 'sans-serif' not found because none of the following families were found: SimHei\n",
            "WARNING:matplotlib.font_manager:findfont: Generic family 'sans-serif' not found because none of the following families were found: SimHei\n",
            "WARNING:matplotlib.font_manager:findfont: Generic family 'sans-serif' not found because none of the following families were found: SimHei\n",
            "WARNING:matplotlib.font_manager:findfont: Generic family 'sans-serif' not found because none of the following families were found: SimHei\n",
            "WARNING:matplotlib.font_manager:findfont: Generic family 'sans-serif' not found because none of the following families were found: SimHei\n",
            "WARNING:matplotlib.font_manager:findfont: Generic family 'sans-serif' not found because none of the following families were found: SimHei\n",
            "WARNING:matplotlib.font_manager:findfont: Generic family 'sans-serif' not found because none of the following families were found: SimHei\n",
            "WARNING:matplotlib.font_manager:findfont: Generic family 'sans-serif' not found because none of the following families were found: SimHei\n",
            "WARNING:matplotlib.font_manager:findfont: Generic family 'sans-serif' not found because none of the following families were found: SimHei\n",
            "WARNING:matplotlib.font_manager:findfont: Generic family 'sans-serif' not found because none of the following families were found: SimHei\n",
            "WARNING:matplotlib.font_manager:findfont: Generic family 'sans-serif' not found because none of the following families were found: SimHei\n",
            "WARNING:matplotlib.font_manager:findfont: Generic family 'sans-serif' not found because none of the following families were found: SimHei\n",
            "WARNING:matplotlib.font_manager:findfont: Generic family 'sans-serif' not found because none of the following families were found: SimHei\n",
            "WARNING:matplotlib.font_manager:findfont: Generic family 'sans-serif' not found because none of the following families were found: SimHei\n",
            "WARNING:matplotlib.font_manager:findfont: Generic family 'sans-serif' not found because none of the following families were found: SimHei\n",
            "WARNING:matplotlib.font_manager:findfont: Generic family 'sans-serif' not found because none of the following families were found: SimHei\n",
            "WARNING:matplotlib.font_manager:findfont: Generic family 'sans-serif' not found because none of the following families were found: SimHei\n",
            "WARNING:matplotlib.font_manager:findfont: Generic family 'sans-serif' not found because none of the following families were found: SimHei\n",
            "WARNING:matplotlib.font_manager:findfont: Generic family 'sans-serif' not found because none of the following families were found: SimHei\n",
            "WARNING:matplotlib.font_manager:findfont: Generic family 'sans-serif' not found because none of the following families were found: SimHei\n",
            "WARNING:matplotlib.font_manager:findfont: Generic family 'sans-serif' not found because none of the following families were found: SimHei\n",
            "WARNING:matplotlib.font_manager:findfont: Generic family 'sans-serif' not found because none of the following families were found: SimHei\n",
            "WARNING:matplotlib.font_manager:findfont: Generic family 'sans-serif' not found because none of the following families were found: SimHei\n",
            "WARNING:matplotlib.font_manager:findfont: Generic family 'sans-serif' not found because none of the following families were found: SimHei\n",
            "WARNING:matplotlib.font_manager:findfont: Generic family 'sans-serif' not found because none of the following families were found: SimHei\n",
            "WARNING:matplotlib.font_manager:findfont: Generic family 'sans-serif' not found because none of the following families were found: SimHei\n",
            "WARNING:matplotlib.font_manager:findfont: Generic family 'sans-serif' not found because none of the following families were found: SimHei\n",
            "WARNING:matplotlib.font_manager:findfont: Generic family 'sans-serif' not found because none of the following families were found: SimHei\n",
            "WARNING:matplotlib.font_manager:findfont: Generic family 'sans-serif' not found because none of the following families were found: SimHei\n",
            "WARNING:matplotlib.font_manager:findfont: Generic family 'sans-serif' not found because none of the following families were found: SimHei\n",
            "WARNING:matplotlib.font_manager:findfont: Generic family 'sans-serif' not found because none of the following families were found: SimHei\n",
            "WARNING:matplotlib.font_manager:findfont: Generic family 'sans-serif' not found because none of the following families were found: SimHei\n",
            "WARNING:matplotlib.font_manager:findfont: Generic family 'sans-serif' not found because none of the following families were found: SimHei\n",
            "WARNING:matplotlib.font_manager:findfont: Generic family 'sans-serif' not found because none of the following families were found: SimHei\n",
            "WARNING:matplotlib.font_manager:findfont: Generic family 'sans-serif' not found because none of the following families were found: SimHei\n",
            "WARNING:matplotlib.font_manager:findfont: Generic family 'sans-serif' not found because none of the following families were found: SimHei\n",
            "WARNING:matplotlib.font_manager:findfont: Generic family 'sans-serif' not found because none of the following families were found: SimHei\n",
            "WARNING:matplotlib.font_manager:findfont: Generic family 'sans-serif' not found because none of the following families were found: SimHei\n",
            "WARNING:matplotlib.font_manager:findfont: Generic family 'sans-serif' not found because none of the following families were found: SimHei\n",
            "WARNING:matplotlib.font_manager:findfont: Generic family 'sans-serif' not found because none of the following families were found: SimHei\n",
            "WARNING:matplotlib.font_manager:findfont: Generic family 'sans-serif' not found because none of the following families were found: SimHei\n",
            "WARNING:matplotlib.font_manager:findfont: Generic family 'sans-serif' not found because none of the following families were found: SimHei\n",
            "WARNING:matplotlib.font_manager:findfont: Generic family 'sans-serif' not found because none of the following families were found: SimHei\n",
            "WARNING:matplotlib.font_manager:findfont: Generic family 'sans-serif' not found because none of the following families were found: SimHei\n",
            "WARNING:matplotlib.font_manager:findfont: Generic family 'sans-serif' not found because none of the following families were found: SimHei\n",
            "WARNING:matplotlib.font_manager:findfont: Generic family 'sans-serif' not found because none of the following families were found: SimHei\n",
            "WARNING:matplotlib.font_manager:findfont: Generic family 'sans-serif' not found because none of the following families were found: SimHei\n",
            "WARNING:matplotlib.font_manager:findfont: Generic family 'sans-serif' not found because none of the following families were found: SimHei\n",
            "WARNING:matplotlib.font_manager:findfont: Generic family 'sans-serif' not found because none of the following families were found: SimHei\n",
            "WARNING:matplotlib.font_manager:findfont: Generic family 'sans-serif' not found because none of the following families were found: SimHei\n",
            "WARNING:matplotlib.font_manager:findfont: Generic family 'sans-serif' not found because none of the following families were found: SimHei\n",
            "WARNING:matplotlib.font_manager:findfont: Generic family 'sans-serif' not found because none of the following families were found: SimHei\n",
            "WARNING:matplotlib.font_manager:findfont: Generic family 'sans-serif' not found because none of the following families were found: SimHei\n",
            "WARNING:matplotlib.font_manager:findfont: Generic family 'sans-serif' not found because none of the following families were found: SimHei\n",
            "WARNING:matplotlib.font_manager:findfont: Generic family 'sans-serif' not found because none of the following families were found: SimHei\n",
            "WARNING:matplotlib.font_manager:findfont: Generic family 'sans-serif' not found because none of the following families were found: SimHei\n",
            "WARNING:matplotlib.font_manager:findfont: Generic family 'sans-serif' not found because none of the following families were found: SimHei\n",
            "WARNING:matplotlib.font_manager:findfont: Generic family 'sans-serif' not found because none of the following families were found: SimHei\n",
            "WARNING:matplotlib.font_manager:findfont: Generic family 'sans-serif' not found because none of the following families were found: SimHei\n",
            "WARNING:matplotlib.font_manager:findfont: Generic family 'sans-serif' not found because none of the following families were found: SimHei\n",
            "WARNING:matplotlib.font_manager:findfont: Generic family 'sans-serif' not found because none of the following families were found: SimHei\n",
            "WARNING:matplotlib.font_manager:findfont: Generic family 'sans-serif' not found because none of the following families were found: SimHei\n",
            "WARNING:matplotlib.font_manager:findfont: Generic family 'sans-serif' not found because none of the following families were found: SimHei\n",
            "WARNING:matplotlib.font_manager:findfont: Generic family 'sans-serif' not found because none of the following families were found: SimHei\n",
            "WARNING:matplotlib.font_manager:findfont: Generic family 'sans-serif' not found because none of the following families were found: SimHei\n",
            "WARNING:matplotlib.font_manager:findfont: Generic family 'sans-serif' not found because none of the following families were found: SimHei\n",
            "WARNING:matplotlib.font_manager:findfont: Generic family 'sans-serif' not found because none of the following families were found: SimHei\n",
            "WARNING:matplotlib.font_manager:findfont: Generic family 'sans-serif' not found because none of the following families were found: SimHei\n",
            "WARNING:matplotlib.font_manager:findfont: Generic family 'sans-serif' not found because none of the following families were found: SimHei\n",
            "WARNING:matplotlib.font_manager:findfont: Generic family 'sans-serif' not found because none of the following families were found: SimHei\n",
            "WARNING:matplotlib.font_manager:findfont: Generic family 'sans-serif' not found because none of the following families were found: SimHei\n",
            "WARNING:matplotlib.font_manager:findfont: Generic family 'sans-serif' not found because none of the following families were found: SimHei\n",
            "WARNING:matplotlib.font_manager:findfont: Generic family 'sans-serif' not found because none of the following families were found: SimHei\n",
            "WARNING:matplotlib.font_manager:findfont: Generic family 'sans-serif' not found because none of the following families were found: SimHei\n",
            "WARNING:matplotlib.font_manager:findfont: Generic family 'sans-serif' not found because none of the following families were found: SimHei\n",
            "WARNING:matplotlib.font_manager:findfont: Generic family 'sans-serif' not found because none of the following families were found: SimHei\n",
            "WARNING:matplotlib.font_manager:findfont: Generic family 'sans-serif' not found because none of the following families were found: SimHei\n",
            "WARNING:matplotlib.font_manager:findfont: Generic family 'sans-serif' not found because none of the following families were found: SimHei\n",
            "WARNING:matplotlib.font_manager:findfont: Generic family 'sans-serif' not found because none of the following families were found: SimHei\n",
            "WARNING:matplotlib.font_manager:findfont: Generic family 'sans-serif' not found because none of the following families were found: SimHei\n",
            "WARNING:matplotlib.font_manager:findfont: Generic family 'sans-serif' not found because none of the following families were found: SimHei\n",
            "WARNING:matplotlib.font_manager:findfont: Generic family 'sans-serif' not found because none of the following families were found: SimHei\n",
            "WARNING:matplotlib.font_manager:findfont: Generic family 'sans-serif' not found because none of the following families were found: SimHei\n",
            "WARNING:matplotlib.font_manager:findfont: Generic family 'sans-serif' not found because none of the following families were found: SimHei\n",
            "WARNING:matplotlib.font_manager:findfont: Generic family 'sans-serif' not found because none of the following families were found: SimHei\n",
            "WARNING:matplotlib.font_manager:findfont: Generic family 'sans-serif' not found because none of the following families were found: SimHei\n",
            "WARNING:matplotlib.font_manager:findfont: Generic family 'sans-serif' not found because none of the following families were found: SimHei\n",
            "WARNING:matplotlib.font_manager:findfont: Generic family 'sans-serif' not found because none of the following families were found: SimHei\n",
            "WARNING:matplotlib.font_manager:findfont: Generic family 'sans-serif' not found because none of the following families were found: SimHei\n",
            "WARNING:matplotlib.font_manager:findfont: Generic family 'sans-serif' not found because none of the following families were found: SimHei\n",
            "WARNING:matplotlib.font_manager:findfont: Generic family 'sans-serif' not found because none of the following families were found: SimHei\n",
            "WARNING:matplotlib.font_manager:findfont: Generic family 'sans-serif' not found because none of the following families were found: SimHei\n",
            "WARNING:matplotlib.font_manager:findfont: Generic family 'sans-serif' not found because none of the following families were found: SimHei\n",
            "WARNING:matplotlib.font_manager:findfont: Generic family 'sans-serif' not found because none of the following families were found: SimHei\n",
            "WARNING:matplotlib.font_manager:findfont: Generic family 'sans-serif' not found because none of the following families were found: SimHei\n",
            "WARNING:matplotlib.font_manager:findfont: Generic family 'sans-serif' not found because none of the following families were found: SimHei\n",
            "WARNING:matplotlib.font_manager:findfont: Generic family 'sans-serif' not found because none of the following families were found: SimHei\n"
          ]
        },
        {
          "data": {
            "text/plain": [
              "<Figure size 9600x7200 with 0 Axes>"
            ]
          },
          "metadata": {},
          "output_type": "display_data"
        },
        {
          "metadata": {
            "tags": null
          },
          "name": "stderr",
          "output_type": "stream",
          "text": [
            "WARNING:matplotlib.font_manager:findfont: Generic family 'sans-serif' not found because none of the following families were found: SimHei\n",
            "WARNING:matplotlib.font_manager:findfont: Generic family 'sans-serif' not found because none of the following families were found: SimHei\n",
            "WARNING:matplotlib.font_manager:findfont: Generic family 'sans-serif' not found because none of the following families were found: SimHei\n",
            "WARNING:matplotlib.font_manager:findfont: Generic family 'sans-serif' not found because none of the following families were found: SimHei\n",
            "WARNING:matplotlib.font_manager:findfont: Generic family 'sans-serif' not found because none of the following families were found: SimHei\n",
            "WARNING:matplotlib.font_manager:findfont: Generic family 'sans-serif' not found because none of the following families were found: SimHei\n",
            "WARNING:matplotlib.font_manager:findfont: Generic family 'sans-serif' not found because none of the following families were found: SimHei\n",
            "WARNING:matplotlib.font_manager:findfont: Generic family 'sans-serif' not found because none of the following families were found: SimHei\n",
            "WARNING:matplotlib.font_manager:findfont: Generic family 'sans-serif' not found because none of the following families were found: SimHei\n",
            "WARNING:matplotlib.font_manager:findfont: Generic family 'sans-serif' not found because none of the following families were found: SimHei\n",
            "WARNING:matplotlib.font_manager:findfont: Generic family 'sans-serif' not found because none of the following families were found: SimHei\n",
            "WARNING:matplotlib.font_manager:findfont: Generic family 'sans-serif' not found because none of the following families were found: SimHei\n",
            "WARNING:matplotlib.font_manager:findfont: Generic family 'sans-serif' not found because none of the following families were found: SimHei\n",
            "WARNING:matplotlib.font_manager:findfont: Generic family 'sans-serif' not found because none of the following families were found: SimHei\n",
            "WARNING:matplotlib.font_manager:findfont: Generic family 'sans-serif' not found because none of the following families were found: SimHei\n",
            "WARNING:matplotlib.font_manager:findfont: Generic family 'sans-serif' not found because none of the following families were found: SimHei\n",
            "WARNING:matplotlib.font_manager:findfont: Generic family 'sans-serif' not found because none of the following families were found: SimHei\n",
            "WARNING:matplotlib.font_manager:findfont: Generic family 'sans-serif' not found because none of the following families were found: SimHei\n",
            "WARNING:matplotlib.font_manager:findfont: Generic family 'sans-serif' not found because none of the following families were found: SimHei\n",
            "WARNING:matplotlib.font_manager:findfont: Generic family 'sans-serif' not found because none of the following families were found: SimHei\n",
            "WARNING:matplotlib.font_manager:findfont: Generic family 'sans-serif' not found because none of the following families were found: SimHei\n",
            "WARNING:matplotlib.font_manager:findfont: Generic family 'sans-serif' not found because none of the following families were found: SimHei\n",
            "WARNING:matplotlib.font_manager:findfont: Generic family 'sans-serif' not found because none of the following families were found: SimHei\n",
            "WARNING:matplotlib.font_manager:findfont: Generic family 'sans-serif' not found because none of the following families were found: SimHei\n",
            "WARNING:matplotlib.font_manager:findfont: Generic family 'sans-serif' not found because none of the following families were found: SimHei\n",
            "WARNING:matplotlib.font_manager:findfont: Generic family 'sans-serif' not found because none of the following families were found: SimHei\n",
            "WARNING:matplotlib.font_manager:findfont: Generic family 'sans-serif' not found because none of the following families were found: SimHei\n",
            "WARNING:matplotlib.font_manager:findfont: Generic family 'sans-serif' not found because none of the following families were found: SimHei\n",
            "WARNING:matplotlib.font_manager:findfont: Generic family 'sans-serif' not found because none of the following families were found: SimHei\n",
            "WARNING:matplotlib.font_manager:findfont: Generic family 'sans-serif' not found because none of the following families were found: SimHei\n",
            "WARNING:matplotlib.font_manager:findfont: Generic family 'sans-serif' not found because none of the following families were found: SimHei\n",
            "WARNING:matplotlib.font_manager:findfont: Generic family 'sans-serif' not found because none of the following families were found: SimHei\n",
            "WARNING:matplotlib.font_manager:findfont: Generic family 'sans-serif' not found because none of the following families were found: SimHei\n",
            "WARNING:matplotlib.font_manager:findfont: Generic family 'sans-serif' not found because none of the following families were found: SimHei\n",
            "WARNING:matplotlib.font_manager:findfont: Generic family 'sans-serif' not found because none of the following families were found: SimHei\n",
            "WARNING:matplotlib.font_manager:findfont: Generic family 'sans-serif' not found because none of the following families were found: SimHei\n",
            "WARNING:matplotlib.font_manager:findfont: Generic family 'sans-serif' not found because none of the following families were found: SimHei\n",
            "WARNING:matplotlib.font_manager:findfont: Generic family 'sans-serif' not found because none of the following families were found: SimHei\n",
            "WARNING:matplotlib.font_manager:findfont: Generic family 'sans-serif' not found because none of the following families were found: SimHei\n",
            "WARNING:matplotlib.font_manager:findfont: Generic family 'sans-serif' not found because none of the following families were found: SimHei\n",
            "WARNING:matplotlib.font_manager:findfont: Generic family 'sans-serif' not found because none of the following families were found: SimHei\n",
            "WARNING:matplotlib.font_manager:findfont: Generic family 'sans-serif' not found because none of the following families were found: SimHei\n",
            "WARNING:matplotlib.font_manager:findfont: Generic family 'sans-serif' not found because none of the following families were found: SimHei\n",
            "WARNING:matplotlib.font_manager:findfont: Generic family 'sans-serif' not found because none of the following families were found: SimHei\n",
            "WARNING:matplotlib.font_manager:findfont: Generic family 'sans-serif' not found because none of the following families were found: SimHei\n",
            "WARNING:matplotlib.font_manager:findfont: Generic family 'sans-serif' not found because none of the following families were found: SimHei\n",
            "WARNING:matplotlib.font_manager:findfont: Generic family 'sans-serif' not found because none of the following families were found: SimHei\n",
            "WARNING:matplotlib.font_manager:findfont: Generic family 'sans-serif' not found because none of the following families were found: SimHei\n",
            "WARNING:matplotlib.font_manager:findfont: Generic family 'sans-serif' not found because none of the following families were found: SimHei\n",
            "WARNING:matplotlib.font_manager:findfont: Generic family 'sans-serif' not found because none of the following families were found: SimHei\n",
            "WARNING:matplotlib.font_manager:findfont: Generic family 'sans-serif' not found because none of the following families were found: SimHei\n",
            "WARNING:matplotlib.font_manager:findfont: Generic family 'sans-serif' not found because none of the following families were found: SimHei\n",
            "WARNING:matplotlib.font_manager:findfont: Generic family 'sans-serif' not found because none of the following families were found: SimHei\n",
            "WARNING:matplotlib.font_manager:findfont: Generic family 'sans-serif' not found because none of the following families were found: SimHei\n",
            "WARNING:matplotlib.font_manager:findfont: Generic family 'sans-serif' not found because none of the following families were found: SimHei\n",
            "WARNING:matplotlib.font_manager:findfont: Generic family 'sans-serif' not found because none of the following families were found: SimHei\n",
            "WARNING:matplotlib.font_manager:findfont: Generic family 'sans-serif' not found because none of the following families were found: SimHei\n",
            "WARNING:matplotlib.font_manager:findfont: Generic family 'sans-serif' not found because none of the following families were found: SimHei\n",
            "WARNING:matplotlib.font_manager:findfont: Generic family 'sans-serif' not found because none of the following families were found: SimHei\n",
            "WARNING:matplotlib.font_manager:findfont: Generic family 'sans-serif' not found because none of the following families were found: SimHei\n",
            "WARNING:matplotlib.font_manager:findfont: Generic family 'sans-serif' not found because none of the following families were found: SimHei\n",
            "WARNING:matplotlib.font_manager:findfont: Generic family 'sans-serif' not found because none of the following families were found: SimHei\n",
            "WARNING:matplotlib.font_manager:findfont: Generic family 'sans-serif' not found because none of the following families were found: SimHei\n",
            "WARNING:matplotlib.font_manager:findfont: Generic family 'sans-serif' not found because none of the following families were found: SimHei\n",
            "WARNING:matplotlib.font_manager:findfont: Generic family 'sans-serif' not found because none of the following families were found: SimHei\n",
            "WARNING:matplotlib.font_manager:findfont: Generic family 'sans-serif' not found because none of the following families were found: SimHei\n",
            "WARNING:matplotlib.font_manager:findfont: Generic family 'sans-serif' not found because none of the following families were found: SimHei\n",
            "WARNING:matplotlib.font_manager:findfont: Generic family 'sans-serif' not found because none of the following families were found: SimHei\n",
            "WARNING:matplotlib.font_manager:findfont: Generic family 'sans-serif' not found because none of the following families were found: SimHei\n",
            "WARNING:matplotlib.font_manager:findfont: Generic family 'sans-serif' not found because none of the following families were found: SimHei\n",
            "WARNING:matplotlib.font_manager:findfont: Generic family 'sans-serif' not found because none of the following families were found: SimHei\n",
            "WARNING:matplotlib.font_manager:findfont: Generic family 'sans-serif' not found because none of the following families were found: SimHei\n",
            "WARNING:matplotlib.font_manager:findfont: Generic family 'sans-serif' not found because none of the following families were found: SimHei\n",
            "WARNING:matplotlib.font_manager:findfont: Generic family 'sans-serif' not found because none of the following families were found: SimHei\n",
            "WARNING:matplotlib.font_manager:findfont: Generic family 'sans-serif' not found because none of the following families were found: SimHei\n",
            "WARNING:matplotlib.font_manager:findfont: Generic family 'sans-serif' not found because none of the following families were found: SimHei\n",
            "WARNING:matplotlib.font_manager:findfont: Generic family 'sans-serif' not found because none of the following families were found: SimHei\n",
            "WARNING:matplotlib.font_manager:findfont: Generic family 'sans-serif' not found because none of the following families were found: SimHei\n",
            "WARNING:matplotlib.font_manager:findfont: Generic family 'sans-serif' not found because none of the following families were found: SimHei\n",
            "WARNING:matplotlib.font_manager:findfont: Generic family 'sans-serif' not found because none of the following families were found: SimHei\n",
            "WARNING:matplotlib.font_manager:findfont: Generic family 'sans-serif' not found because none of the following families were found: SimHei\n",
            "WARNING:matplotlib.font_manager:findfont: Generic family 'sans-serif' not found because none of the following families were found: SimHei\n",
            "WARNING:matplotlib.font_manager:findfont: Generic family 'sans-serif' not found because none of the following families were found: SimHei\n",
            "WARNING:matplotlib.font_manager:findfont: Generic family 'sans-serif' not found because none of the following families were found: SimHei\n",
            "WARNING:matplotlib.font_manager:findfont: Generic family 'sans-serif' not found because none of the following families were found: SimHei\n",
            "WARNING:matplotlib.font_manager:findfont: Generic family 'sans-serif' not found because none of the following families were found: SimHei\n",
            "WARNING:matplotlib.font_manager:findfont: Generic family 'sans-serif' not found because none of the following families were found: SimHei\n",
            "WARNING:matplotlib.font_manager:findfont: Generic family 'sans-serif' not found because none of the following families were found: SimHei\n",
            "WARNING:matplotlib.font_manager:findfont: Generic family 'sans-serif' not found because none of the following families were found: SimHei\n",
            "WARNING:matplotlib.font_manager:findfont: Generic family 'sans-serif' not found because none of the following families were found: SimHei\n",
            "WARNING:matplotlib.font_manager:findfont: Generic family 'sans-serif' not found because none of the following families were found: SimHei\n",
            "WARNING:matplotlib.font_manager:findfont: Generic family 'sans-serif' not found because none of the following families were found: SimHei\n",
            "WARNING:matplotlib.font_manager:findfont: Generic family 'sans-serif' not found because none of the following families were found: SimHei\n",
            "WARNING:matplotlib.font_manager:findfont: Generic family 'sans-serif' not found because none of the following families were found: SimHei\n",
            "WARNING:matplotlib.font_manager:findfont: Generic family 'sans-serif' not found because none of the following families were found: SimHei\n",
            "WARNING:matplotlib.font_manager:findfont: Generic family 'sans-serif' not found because none of the following families were found: SimHei\n"
          ]
        },
        {
          "data": {
            "image/png": "[encoded data removed]",
            "text/plain": [
              "<Figure size 1000x1000 with 3 Axes>"
            ]
          },
          "metadata": {},
          "output_type": "display_data"
        }
      ]
    },
    {
      "cell_type": "markdown",
      "source": [
        "### 环形图和条形图组合绘图"
      ],
      "metadata": {
        "id": "OI1pSLlJbxnV"
      }
    },
    {
      "cell_type": "markdown",
      "source": [
        "通过组合柱状图和同心饼图的方式，直观展示各个特征在模型中的贡献度，以及各个类别对模型的整体贡献。柱状图显示特征的详细贡献，饼图则提供了类别层面的总体贡献展示，使得用户能够从全局和细节两方面理解特征的重要性，**这里读者其实是不需要单独去绘制环形图和条形图的，**作者只是为了让读者更方便理解，其次这里的环形图和文献的环形图刚好是相反的，作者这里外圈是特征类别总贡献度，内圈是各个特征具体的贡献度映射，对于模型解读并没有区别\n",
        "\n",
        "可视化解读：年龄（age）作为“基本信息”类别的特征贡献度最高，DFA作为“非线性”特征也具有显著贡献，外圈饼图显示“基本信息”类别占总贡献的 71.5%，而“非线性”特征占 20%，其余类别如“噪声”、“抖动”和“振幅”特征的贡献较小，内圈的特征贡献进一步细分了各类别中具体特征的贡献度，帮助直观理解特征对模型预测的重要性。需要注意的是，这个结果基于演示用的复现数据，对于实际生活中的情况并不一定具有直接的参考价值"
      ],
      "metadata": {
        "id": "DvIMiI3rb6_e"
      }
    },
    {
      "cell_type": "code",
      "source": [
        "# shap原始特征贡献可视化\n",
        "\n",
        "import shap\n",
        "# 构建 shap解释器\n",
        "# shap.DeepExplainer 专门用于深度学习模型，如神经网络。它基于 SHAP 和 DeepLIFT 算法，能够有效地计算深度学习模型的 SHAP 值。 DeepExplainer 会自动处理模型的内部结构，计算每个特征对预测结果的影响。\n",
        "# 在使用 DeepExplainer 时，通常只需要提供两个参数，分别是：模型对象和训练数据集。其中，model 是训练好的深度学习模型，X_train 是训练数据集。\n",
        "explainer = shap.DeepExplainer(bmodel, X_train)\n",
        "\n",
        "# 计算测试集的shap值\n",
        "# 对于回归问题，shap_values是一个形状为(num_samples, num_features)的数组。\n",
        "# 检查shap_values的维度，并确保shap_values是一个二维数组，包含了每个样本和每个特征的贡献值。\n",
        "shap_values = explainer.shap_values(X_test)\n",
        "\n",
        "# # 特征标签\n",
        "# 假设有6个特征\n",
        "labels_columns = ['Height', 'Mean_HH_DirMean', 'Mean_HV_DirMean', 'RLD_20', 'sigmadB_HV', 'SinAspect']\n",
        "\n",
        "# # 绘制SHAP值总结图（Summary Plot）\n",
        "# plt.figure(figsize=(15, 5))\n",
        "# shap.summary_plot(shap_values, X_test, plot_type=\"bar\", show=False)\n",
        "# plt.title(\"SHAP_Feature_Importance_Raw_Output\")\n",
        "# plt.savefig(\"SHAP_Feature_Importance_Raw_Output.pdf\", format='pdf',bbox_inches='tight')\n",
        "# plt.show()\n",
        "\n",
        "\n",
        "# 打印 SHAP 值的形状，检查它的维度\n",
        "print(shap_values.shape)  # 输出形状 (11722, 6, 1)\n",
        "# 这种情况下就转变为了\"如何正确计算每个特征的平均 SHAP 值\"\n",
        "\n",
        "# 如果 SHAP 值是三维数组，选择第一维来计算贡献度\n",
        "# 对每个特征的贡献度求绝对值的平均\n",
        "# feature_contributions = np.abs(shap_values).mean(axis=0)\n",
        "# 计算每个特征的平均贡献度，取绝对值并在样本维度（axis=0）求平均\n",
        "feature_contributions = np.abs(shap_values).mean(axis=0).flatten()\n",
        "\n",
        "# 确保feature_contributions是一个一维数组，这样在创建DataFrame时，数据的维度是匹配的。\n",
        "# 创建一个DataFrame，其中一列是特征名，另一列是特征贡献度\n",
        "contribution_df = pd.DataFrame({\n",
        "    'Feature': labels_columns,\n",
        "    'Contribution': feature_contributions\n",
        "})\n",
        "\n",
        "# 创建类别规则\n",
        "Category = ['Terrain', 'texture', 'Backscattering']\n",
        "\n",
        "# 特征对应的类别\n",
        "category_map = {\n",
        "    'Height': 'Terrain',\n",
        "    'Mean_HH_DirMean': 'texture',\n",
        "    'Mean_HV_DirMean': 'texture',\n",
        "    'RLD_20': 'Terrain',\n",
        "    'sigmadB_HV': 'Backscattering',\n",
        "    'SinAspect': 'Terrain'\n",
        "}\n",
        "\n",
        "# 将类别映射到DataFrame\n",
        "contribution_df['Category'] = contribution_df['Feature'].map(category_map)\n",
        "\n",
        "# 打印 DataFrame\n",
        "print(contribution_df)\n",
        "# contribution_df\n"
      ],
      "metadata": {
        "id": "2SaUcN674FQ8",
        "colab": {
          "base_uri": "https://localhost:8080/"
        },
        "outputId": "c413c639-6262-43fb-c156-542c175c30e4"
      },
      "execution_count": null,
      "outputs": [
        {
          "metadata": {
            "tags": null
          },
          "name": "stderr",
          "output_type": "stream",
          "text": [
            "/usr/local/lib/python3.11/dist-packages/shap/explainers/_deep/deep_tf.py:99: UserWarning: Your TensorFlow version is newer than 2.4.0 and so graph support has been removed in eager mode and some static graphs may not be supported. See PR #1483 for discussion.\n",
            "  warnings.warn(\"Your TensorFlow version is newer than 2.4.0 and so graph support has been removed in eager mode and some static graphs may not be supported. See PR #1483 for discussion.\")\n",
            "/usr/local/lib/python3.11/dist-packages/shap/explainers/_deep/deep_tf.py:155: UserWarning: You have provided over 5k background samples! For better performance consider using smaller random sample.\n",
            "  warnings.warn(\"You have provided over 5k background samples! For better performance consider using smaller random sample.\")\n",
            "/usr/local/lib/python3.11/dist-packages/keras/src/models/functional.py:237: UserWarning: The structure of `inputs` doesn't match the expected structure.\n",
            "Expected: input_layer_2\n",
            "Received: inputs=['Tensor(shape=(18036, 5, 5, 6))']\n",
            "  warnings.warn(msg)\n",
            "/usr/local/lib/python3.11/dist-packages/keras/src/models/functional.py:237: UserWarning: The structure of `inputs` doesn't match the expected structure.\n",
            "Expected: input_layer_2\n",
            "Received: inputs=['Tensor(shape=(36072, 5, 5, 6))']\n",
            "  warnings.warn(msg)\n"
          ]
        }
      ]
    },
    {
      "cell_type": "code",
      "source": [
        "\n",
        "from mpl_toolkits.axes_grid1.inset_locator import inset_axes\n",
        "\n",
        "# 环形图和条形图组合绘图\n",
        "# 按类别和贡献度对数据进行排序，确保同一类别的特征在一起，贡献度从高到低排列\n",
        "contribution_df_sorted = contribution_df.sort_values(by=['Category', 'Contribution'], ascending=[True, False])\n",
        "\n",
        "# 创建一个用于生成颜色渐变的函数\n",
        "def get_color_gradient(base_color, num_shades):\n",
        "    # 生成从浅到深的颜色渐变\n",
        "    gradient = np.linspace(0.4, 1, num_shades)  # 生成从较浅（0.4）到原色（1）的渐变\n",
        "    return [(base_color[0], base_color[1], base_color[2], shade) for shade in gradient]\n",
        "\n",
        "# 为三个类别定义颜色\n",
        "category_colors = {\n",
        "    'Terrain': (0.9, 0.7, 0.2, 1),  # 黄色\n",
        "    # 'texture': (0.6, 0.3, 0.9, 1),     # 紫色\n",
        "    'texture': (0.7, 0.3, 0.3, 1),      # 暗红\n",
        "    # 'Non-linear': (0.2, 0.9, 0.9, 1), # 青色\n",
        "    'Backscattering': (0.3, 0.6, 0.9, 1),    # 浅蓝\n",
        "}\n",
        "\n",
        "# 默认颜色，如果类别未定义时使用\n",
        "default_color = (0.8, 0.8, 0.8, 1)  # 灰色\n",
        "\n",
        "# 获取内圈和外圈的贡献度数据\n",
        "inner_contribution = contribution_df_sorted.groupby('Category')['Contribution'].sum()\n",
        "outer_contribution = contribution_df_sorted.set_index('Feature')['Contribution']\n",
        "\n",
        "# 检查是否有未定义的类别\n",
        "undefined_categories = set(inner_contribution.index) - set(category_colors.keys())\n",
        "if undefined_categories:\n",
        "    print(f\"Warning: 以下类别没有定义颜色，将使用默认颜色: {undefined_categories}\")\n",
        "\n",
        "# 为每个类别在外圈创建颜色渐变\n",
        "outer_colors = []\n",
        "for category in inner_contribution.index:\n",
        "    # 选取当前类别的数据\n",
        "    category_df = contribution_df_sorted[contribution_df_sorted['Category'] == category]\n",
        "    # 获取类别的基础颜色，如果没有定义则使用默认颜色\n",
        "    base_color = category_colors.get(category, default_color)\n",
        "    # 为当前类别生成颜色渐变\n",
        "    gradient_colors = get_color_gradient(base_color, len(category_df))\n",
        "    outer_colors.extend(gradient_colors)\n",
        "\n",
        "# 内外圈的标签准备\n",
        "inner_labels = inner_contribution.index\n",
        "outer_labels = outer_contribution.index\n",
        "\n",
        "# 创建图形和子图\n",
        "# fig, ax = plt.subplots(figsize=(10, 8), dpi=1200)\n",
        "fig, ax = plt.subplots(figsize=(12, 10), dpi=1200)\n",
        "\n",
        "# 设置背景颜色为淡灰色\n",
        "ax.set_facecolor('#f0f0f0')\n",
        "\n",
        "# 添加网格线，设置网格线样式\n",
        "ax.grid(True, which='both', linestyle='--', linewidth=0.7, color='gray', alpha=0.7)\n",
        "\n",
        "\n",
        "# ---- 绘制柱状图 ----\n",
        "# 按贡献度从高到低排序\n",
        "contribution_df_sorted = contribution_df.sort_values(by='Contribution', ascending=False)\n",
        "\n",
        "# 准备颜色列表\n",
        "bar_colors = [category_colors.get(cat, (0.8, 0.8, 0.8, 1)) for cat in contribution_df_sorted['Category']]\n",
        "\n",
        "\n",
        "# 绘制条形图\n",
        "# 调整条形图的宽度，height=0.3 可以让条形图更窄\n",
        "ax.barh(contribution_df_sorted['Feature'], contribution_df_sorted['Contribution'], color=bar_colors, height=0.6)\n",
        "\n",
        "# 添加图例\n",
        "handles = [plt.Rectangle((0, 0), 1, 1, color=category_colors[cat]) for cat in category_colors]\n",
        "labels_columns = list(category_colors.keys())\n",
        "ax.legend(handles, labels_columns, loc='lower right')\n",
        "\n",
        "# 设置标签和标题\n",
        "ax.set_xlabel('Contribution')\n",
        "ax.set_ylabel('Feature')\n",
        "ax.set_title('Feature Contributions by Category')\n",
        "\n",
        "# 反转y轴，以便贡献度最大的特征在顶部\n",
        "ax.invert_yaxis()\n",
        "\n",
        "\n",
        "# ---- 在柱状图中嵌入同心饼图 ----\n",
        "\n",
        "# 为环形图创建嵌入坐标轴\n",
        "# width=2, height=2: 这定义了插图的宽度和高度为 2（单位是 inch，英寸）。因此，插图较小。\n",
        "# bbox_to_anchor 控制插图的位置和大小。\n",
        "# 0.8 和 0.35 指定插图的 左下角 在主图坐标系中的位置（相对于 ax 的坐标轴），表示插图将从主图的右侧偏移 80% 和从上面偏移 35%。\n",
        "# 0.2 和 0.2 是插图的宽度和高度比例，表示插图的大小是主图宽度和高度的 20%。\n",
        "inset_ax = inset_axes(ax, width=3, height=3, loc='upper right', bbox_to_anchor=(0.8, 0.35, 0.2, 0.2), bbox_transform=ax.transAxes)\n",
        "\n",
        "# 绘制内圈饼图（类别级别的饼图），显示百分比，不显示标签\n",
        "inset_ax.pie(inner_contribution, labels_columns=['']*len(inner_contribution), autopct='%1.1f%%', radius=1,\n",
        "       colors=[category_colors.get(cat, default_color) for cat in inner_labels],\n",
        "       wedgeprops=dict(width=0.3, edgecolor='w'),\n",
        "       pctdistance=0.85)  # 增加pctdistance来防止数字重叠\n",
        "\n",
        "# 绘制外圈饼图（特征级别的饼图），显示百分比，不显示标签\n",
        "inset_ax.pie(outer_contribution, labels_columns=['']*len(outer_contribution), autopct='%1.1f%%', radius=0.7,\n",
        "       colors=outer_colors,\n",
        "       wedgeprops=dict(width=0.3, edgecolor='w'),\n",
        "       pctdistance=0.75)  # 增加pctdistance来防止数字重叠\n",
        "\n",
        "\n",
        "# 添加白色中心圆，形成环形图\n",
        "inset_ax.add_artist(plt.Circle((0, 0), 0.4, color='white'))\n",
        "\n",
        "plt.savefig(\"CNN_Combined_Feature_Contributions_and_Circular_Chart.pdf\", format='pdf',bbox_inches='tight')\n",
        "\n",
        "# 显示图表\n",
        "plt.show()\n",
        "\n"
      ],
      "metadata": {
        "id": "ZBw_GVxzbx7U"
      },
      "execution_count": null,
      "outputs": []
    },
    {
      "cell_type": "code",
      "source": [
        "# 启动 TensorBoard 可视化工具，查看训练过程中的详细信息，如损失曲线、准确率曲线、权重分布等。\n",
        "%tensorboard --logdir logs"
      ],
      "metadata": {
        "id": "pdRlGEdT-YKy"
      },
      "execution_count": null,
      "outputs": []
    },
    {
      "cell_type": "code",
      "source": [
        "# ypred_cnn[:] 和 labels[:] 都是对数组的切片操作，表示返回数组中的所有元素，分别是预测值和真实标签值。\n",
        "# 无论数组的维度是多少，使用 [:] 都是返回数组中的所有元素。这是 NumPy 中的一个常见用法，它用于获取数组的完整内容，不论数组是多维的。(保持其原有的形状。)\n",
        "\n",
        "# 计算预测结果的均值\n",
        "# ypred_cnn 的形状应为 (n, 1)，即一个列向量，每一行代表一个样本的预测结果。如果你打印 ypred_cnn[:]，你将得到模型对所有测试样本的预测结果。\n",
        "mean_cnn = np.mean(y_pred_cnn[:]) #calculate mean\n",
        "# 计算预测结果的分位数\n",
        "quantiles_cnn = np.percentile(y_pred_cnn[:], [1, 25, 50, 75, 99]) #calculate quantiles 0.01, 0.25, 0.5, 0.75, 0.99\n",
        "\n",
        "# 计算标签的均值\n",
        "# labels 是一个形状为 (n,) 的一维数组，存储了对应测试样本的实际标签（真实的森林高度）。\n",
        "# labels[:] 会返回所有的标签值。\n",
        "mean_labels = np.mean(labels[:])\n",
        "# 计算标签的分位数\n",
        "quantiles_labels = np.percentile(labels[:], [1, 25, 50, 75, 99])\n",
        "\n",
        "print(mean_cnn)\n",
        "print(quantiles_cnn)\n",
        "# 打印预测值中最小的 10 个和最大的 10 个。\n",
        "print(np.sort(y_pred_cnn.flatten())[:10]) #print the 10 lowest predictions\n",
        "print(np.sort(y_pred_cnn.flatten())[-10:][::-1]) #print the 10 highest predictions\n",
        "\n",
        "print(mean_labels)\n",
        "print(quantiles_labels)\n",
        "# 打印标签中最小的 10 个和最大的 10 个。\n",
        "print(np.sort(labels.flatten())[:10])\n",
        "print(np.sort(labels.flatten())[-10:][::-1])"
      ],
      "metadata": {
        "id": "8UxLzttK-YW7"
      },
      "execution_count": null,
      "outputs": []
    },
    {
      "cell_type": "markdown",
      "source": [
        "# Prediction of test image convolutional neural network"
      ],
      "metadata": {
        "id": "p6KsTP1zOBQQ"
      }
    },
    {
      "cell_type": "markdown",
      "source": [
        "这里使用的直接是前面NN模型中为了对测试图像进行预测从而对测试图像进行分割所得的测试图像块，测试图像的大小为1024*1024，通道数为11，即形状为（11，1024，1024）。\n",
        "\n",
        "所以下面的代码中 X 的形状才为（11，1024，1024）。"
      ],
      "metadata": {
        "id": "mmw_FGAvOJDe"
      }
    },
    {
      "cell_type": "markdown",
      "source": [
        "### 加载训练好的模型并预测"
      ],
      "metadata": {
        "id": "AsZa9PKUN6g-"
      }
    },
    {
      "cell_type": "code",
      "source": [
        "# # 加载测试数据并切分为图像块（patches）\n",
        "\n",
        "# # 设置存储图像块的文件夹路径\n",
        "# folder_path = '/content/drive/My Drive/data/images/'  # 文件夹路径，存放测试图像块\n",
        "# # 加载训练好的模型\n",
        "# cnnmodel = load_model('/content/drive/My Drive/forest_height/models/CNNmodels/best_CNNmodel_Std.keras')  # 加载已经训练好的CNN模型\n",
        "# # 初始化索引变量，用于保存预测结果\n",
        "# ind = 0\n",
        "\n",
        "# # Iterate over the files in the folder\n",
        "# for filename in os.listdir(folder_path):\n",
        "#     file_path = os.path.join(folder_path, filename)\n",
        "#     if os.path.isfile(file_path):\n",
        "#       X = np.load(file_path)\n",
        "\n",
        "#       #  不需要额外进行标准化这一步，因为在CNN模型中内置了标准化层\n",
        "\n",
        "#       # 零填充\n",
        "#       # 因为卷积神经网络通常需要固定大小的输入，为了符合网络输入要求，这里对图像块 X 零填充\n",
        "#       # 这里的 pad_width 是一个 元组，它描述了三个维度的填充方式。即在通道维度上不进行填充，图像的通道数不改变，维度保持不变。在第二和第三个轴上(即 高度维度 和 宽度维度)进行宽度为 2 的填充, 填充的大小为 (2, 2)，意味着在每个图像高度的上方和下方和宽度的左侧和右侧各添加 2 行/列的零。因此，图像的高度会增加 4 个像素, 图像的宽度会增加 4 个像素。这样做的目的是为了保证卷积操作的窗口大小不变。\n",
        "#       # Pad width of 2 on the second and third axes to (6, 1028, 1028) to get output of shape (6, 1024, 1024) with a window of size 5\n",
        "#       pad_width = ((0, 0), (2, 2), (2, 2))  # Pad width of 2 on the second and third axes to (6, 1028, 1028) to get output of shape (9, 1024, 1024) with a window of size 5\n",
        "#       # mode='constant' 表示使用常数值填充。constant_values=0 指定填充的常数值为 0。\n",
        "#       # 经过填充后的图像形状将变为 (6, 1028, 1028)。\n",
        "#       X = np.pad(X, pad_width, mode='constant', constant_values=0)\n",
        "\n",
        "#       # 获取图像的高度和宽度, 也就可以看出这个 X 的形状为(channels, height, width)\n",
        "#       height, width = X.shape[1], X.shape[2] #get height an width of the image\n",
        "\n",
        "#       from skimage.util import view_as_windows\n",
        "#       # 下面这段通过双重循环切割窗口的方法可以使用更简洁的滑动窗口生成方法，利用skimage.util.view_as_windows 生成滑动窗口。\n",
        "#       # 使用滑动窗口生成图像块（更高效的方式）\n",
        "#       # 输入形状为 (channels, height, width) = (6, 1028, 1028)\n",
        "#       datat = view_as_windows(X, (6, 5, 5), step=1)\n",
        "#       datat = datat.reshape(-1, 5, 5, 6)  # 转换为 NHWC 格式\n",
        "#       # 预测\n",
        "#       pred = cnnmodel.predict(datat)\n",
        "\n",
        "#       # 重塑为原始图像大小 (1024, 1024)\n",
        "#       img = pred.reshape(1024, 1024)\n",
        "\n",
        "#       # 保存预测结果\n",
        "#       np.save(f'/content/drive/My Drive/forest_height/MaskCNN/mask_{ind}.npy', img)\n",
        "#       ind += 1\n",
        "\n",
        "#       # 打印预测图像的形状\n",
        "#       print(f\"预测图像形状: {img.shape}\")"
      ],
      "metadata": {
        "id": "g-BA-AS627eN"
      },
      "execution_count": null,
      "outputs": []
    },
    {
      "cell_type": "code",
      "source": [
        "# # 加载测试数据并切分为图像块（patches）\n",
        "\n",
        "# # 设置存储图像块的文件夹路径\n",
        "# folder_path = '/content/drive/My Drive/data/images/'  # 文件夹路径，存放测试图像块\n",
        "# # 加载训练好的模型\n",
        "# cnnmodel = load_model('/content/drive/My Drive/forest_height/models/CNNmodels/best_CNNmodel_Std.keras')  # 加载已经训练好的CNN模型\n",
        "# # 初始化索引变量，用于保存预测结果\n",
        "# ind = 0\n",
        "\n",
        "# # Iterate over the files in the folder\n",
        "# for filename in os.listdir(folder_path):\n",
        "#     file_path = os.path.join(folder_path, filename)\n",
        "#     if os.path.isfile(file_path):\n",
        "#       X = np.load(file_path)\n",
        "\n",
        "#       #  不需要额外进行标准化这一步，因为在CNN模型中内置了标准化层\n",
        "\n",
        "#       # 零填充\n",
        "#       # 因为卷积神经网络通常需要固定大小的输入，为了符合网络输入要求，这里对图像块 X 零填充\n",
        "#       # 这里的 pad_width 是一个 元组，它描述了三个维度的填充方式。即在通道维度上不进行填充，图像的通道数不改变，维度保持不变。在第二和第三个轴上(即 高度维度 和 宽度维度)进行宽度为 2 的填充, 填充的大小为 (2, 2)，意味着在每个图像高度的上方和下方和宽度的左侧和右侧各添加 2 行/列的零。因此，图像的高度会增加 4 个像素, 图像的宽度会增加 4 个像素。这样做的目的是为了保证卷积操作的窗口大小不变。\n",
        "#       # Pad width of 2 on the second and third axes to (6, 1028, 1028) to get output of shape (6, 1024, 1024) with a window of size 5\n",
        "#       pad_width = ((0, 0), (2, 2), (2, 2))  # Pad width of 2 on the second and third axes to (6, 1028, 1028) to get output of shape (6, 1024, 1024) with a window of size 5\n",
        "#       # mode='constant' 表示使用常数值填充。constant_values=0 指定填充的常数值为 0。\n",
        "#       # 经过填充后的图像形状将变为 (6, 1028, 1028)。\n",
        "#       X = np.pad(X, pad_width, mode='constant', constant_values=0)\n",
        "\n",
        "#       # 获取图像的高度和宽度, 也就可以看出这个 X 的形状为(channels, height, width)\n",
        "#       height, width = X.shape[1], X.shape[2] #get height an width of the image\n",
        "\n",
        "#       # 提取图像块的窗口\n",
        "#       # 定义窗口大小为 5x5\n",
        "#       window_size = 5\n",
        "#       # 定义窗口形状，6个通道（假设输入是6个通道），5x5窗口\n",
        "#       shape = (6, window_size, window_size)\n",
        "#       # 创建一个形状为 (6, 5, 5) 的数组，填充为1\n",
        "#       datat = np.ones(shape) #array for features\n",
        "#       # 扩展维度，使其成为 (1, 6, 5, 5)\n",
        "#       datat = np.expand_dims(datat, axis=0)\n",
        "\n",
        "#       # 对图像进行切割，提取滑动窗口\n",
        "\n",
        "#       # 选择第一行（6, 5, 5）的窗口（这里的第一行指的是将所有的图像块提取出来拼接后，这部分代码提取出来的就是该拼接图像的第一行图像）\n",
        "#       for w in range(width - window_size + 1): # select the first row (6, 5, 5) patches\n",
        "#         # 从图像中提取一个5x5的窗口\n",
        "#         # w 就是滑动窗口的左端点（注意是左端点，所以没问题），每次 w 增加 1，表示窗口向右滑动 1 个像素。\n",
        "#         sample = X[:, 0:window_size, w:w+window_size]\n",
        "#         sample2 = np.expand_dims(sample, axis=0)\n",
        "#         datat = np.concatenate((datat, sample2), axis=0)\n",
        "\n",
        "#       datat = datat[1:,:,:,:] #remove the first artificial patch\n",
        "\n",
        "#       # 遍历每一行\n",
        "#       # 对图像的每一行进行处理，提取窗口（注意：这里的每一行指的就不是刚才那个拼接窗口的图像了，而是指输入进行窗口切割的图像）\n",
        "#       # 这里height - window_size而不是height - window_size + 1 是因为上一段代码已经提取出来了第一行（6, 5, 5）的窗口，所以循环次数少1\n",
        "#       for h in range(height - window_size): # iterate over the rows\n",
        "#         # 创建一个形状为 (6, 1, 5) 的空数组\n",
        "#         shape = (6, 1, window_size)\n",
        "#         datat2 = np.ones(shape) #array for the values of one row\n",
        "#         # 扩展维度，使其成为 (1, 6, 1, 5)\n",
        "#         datat2 = np.expand_dims(datat2, axis=0)\n",
        "#         # 遍历每一列\n",
        "#         for w in range(width - window_size  + 1): # iterate over the columns\n",
        "#           # 提取窗口\n",
        "#           # sample 的形状是 (6, window_size)\n",
        "#           # 由于你只选择了一个高度索引（h+window_size），所以返回的是一个 (6, window_size) 的数组。6 是通道数，window_size 是窗口大小（即列数）\n",
        "#           # Python 和 NumPy 通常会“自动去掉”维度为 1 的通道（即，当某个维度的大小为 1 时，这个维度可能被省略）。\n",
        "#           sample = X[:, h+window_size, w:w+window_size]\n",
        "#           # 扩展维度，变为 (6, 1, window_size)\n",
        "#           sample = np.expand_dims(sample, axis=1)\n",
        "#           # 扩展维度，变为 (1, 6, 1, window_size)\n",
        "#           # 第一维度 1 代表了“批量大小”（batch size），意味着这个样本是一个单独的样本，且是批处理的一部分。\n",
        "#           # 第三维度 1 代表了窗口的高度（即对单行窗口的处理）。\n",
        "#           sample = np.expand_dims(sample, axis=0)\n",
        "#           # 将窗口添加到 datat2 数组中\n",
        "#           datat2 = np.concatenate((datat2, sample), axis=0) #collect values from one row\n",
        "\n",
        "#         # 拼接前一行的处理结果（即 datat）和当前行的窗口数据（即 datat2）。\n",
        "#         # 这个操作与处理行 h 相关，确保从前一行的结果中正确地选择出窗口数据。这里的 h 是当前行的索引。\n",
        "#         # 这部分代码确实没错，因为 datat 是最终存储拼接图像块的数组（注意这个拼接图像块是一行一行拼接的，不是一个一个拼接的），而这里构建每一行的图像块是采取的保留前一行图像块的后 size -1 行高度，然后再拼接新的当前高度的图像块。\n",
        "#         # 而保留前一行图像块，则需要将前面剩余行的图像块删去即使用 datat的(width-window_size+1)*h: 来实现。而保留前一块图像块中的后 size - 1 行高度，则使用 datat 的1: 来实现。\n",
        "#         datat4 = np.concatenate((datat[(width-window_size+1)*h:,:,1:,:], datat2[1:,:,:,:]), axis=2) #remove the first column from the previous row patches and add a new row below\n",
        "#         datat = np.concatenate((datat, datat4), axis=0) #stack the patches\n",
        "\n",
        "\n",
        "#       # 我前面定义的 CNN 模型输入形状为 (5, 5, 6)（NHWC 格式），但测试代码中的图像块 datat 形状为 (n, 6, 5, 5)（NCHW 格式）。需转换为 NHWC 格式。\n",
        "#       # 将通道维度移到最后一维，转换为 (n, 5, 5, 6)\n",
        "#       datat = datat.transpose(0, 2, 3, 1)\n",
        "\n",
        "#       # 使用CNN模型进行预测\n",
        "#       # 如果您传入的 datat 形状是 (n, 6, 5, 5)，则经过卷积层和池化层后，最终输出的形状为 (n, 1)，其中 n 是样本的数量（即输入数据的批大小）。\n",
        "#       # 返回的预测结果是一个形状为 (num_samples, 1) 的数组，其中每一行是一个预测的标量值。\n",
        "#       pred = cnnmodel.predict(datat) #predict labels\n",
        "#       # 重塑预测结果为原始图像大小\n",
        "#       img = pred.transpose().reshape(1,1024,1024) #reshape image to original size\n",
        "\n",
        "#       # 保存预测结果\n",
        "#       np.save('/content/drive/My Drive/forest_height/MaskCNN/mask_'+ str(ind) + '.npy', img)\n",
        "#       # 更新索引\n",
        "#       ind = ind + 1\n",
        "#       # 打印预测图像的形状\n",
        "#       print(img.shape) #metrics to control the prediction process for every patch image\n",
        "#       # 输出预测值的分位数\n",
        "#       print(np.percentile(pred[:], [1, 25, 50, 75, 99]))\n",
        "#        # 输出最小的10个预测值\n",
        "#       print(np.sort(pred.flatten())[:10])\n",
        "#       # 输出最大的10个预测值\n",
        "#       print(np.sort(pred.flatten())[-10:][::-1])\n",
        "\n"
      ],
      "metadata": {
        "id": "CZgOUaviN7IY"
      },
      "execution_count": null,
      "outputs": []
    },
    {
      "cell_type": "markdown",
      "source": [
        "### 重建预测图像并保存"
      ],
      "metadata": {
        "id": "yUmYpppjObu_"
      }
    },
    {
      "cell_type": "code",
      "source": [
        "# folder_path = '/content/drive/My Drive/forest_height/MaskCNN/'  #folder path\n",
        "# img_list = []\n",
        "\n",
        "# # Iterate over the files in the folder\n",
        "# for filename in os.listdir(folder_path):\n",
        "#     file_path = os.path.join(folder_path, filename)\n",
        "#     if os.path.isfile(file_path):\n",
        "#         # Load the data from the file\n",
        "#         data = np.load(file_path)\n",
        "#         # Append the data to the list\n",
        "#         img_list.append(data)  #将预测结果添加到列表中\n",
        "\n",
        "# # 我有 143 个切片（按 13 x 11 进行排列），可以利用这些切片的索引按列和按行拼接来恢复完整的图像。\n",
        "# # 假设img_list包含所有的切片，已经按正确顺序加载\n",
        "# m = 11  # 高度方向的切片数量\n",
        "# n = 13  # 宽度方向的切片数量\n",
        "\n",
        "# # 将每13个图像块按列(宽度方向)拼接\n",
        "# # Concatenate the patches along the columns (horizontal axis)\n",
        "# # 按列拼接每行的切片\n",
        "# rows = []\n",
        "# for i in range(m):\n",
        "#     row = np.concatenate(img_list[i*n:(i+1)*n], axis=2)  # 按列拼接\n",
        "#     rows.append(row)\n",
        "\n",
        "# # 按行拼接\n",
        "# original_image = np.concatenate(rows, axis=1)  # 按行拼接\n",
        "\n",
        "# # # Concatenate the patches along the columns (horizontal axis)\n",
        "# # im1 = np.concatenate((img_list[0], img_list[1], img_list[2], img_list[3]), axis=2)\n",
        "# # im2 = np.concatenate((img_list[4], img_list[5], img_list[6], img_list[7]), axis=2)\n",
        "# # im3= np.concatenate((img_list[8], img_list[9], img_list[10], img_list[11]), axis=2)\n",
        "# # im4 = np.concatenate((img_list[12], img_list[13], img_list[14], img_list[15]), axis=2)\n",
        "\n",
        "# # # Concatenate the rows along the vertical axis to rebuild the original image\n",
        "# # original_image = np.concatenate((im1, im2, im3, im4), axis=1)\n",
        "\n",
        "# np.save('/content/drive/My Drive/forest_height/MaskCNN/FinalPredictions/mask_private_cnn.npy', original_image)\n"
      ],
      "metadata": {
        "id": "MKFOntX-Oc46"
      },
      "execution_count": null,
      "outputs": []
    },
    {
      "cell_type": "markdown",
      "source": [
        "### 可视化预测结果"
      ],
      "metadata": {
        "id": "BfrKMA2JOdXJ"
      }
    },
    {
      "cell_type": "code",
      "source": [
        "# plot_rebuild_image = np.load('/content/drive/My Drive/forest_height/MaskCNN/FinalPredictions/mask_private_cnn.npy')\n",
        "# # 将重建的预测图像由 (1, height, width) 转换为 (height, width)\n",
        "# tree_height_2d = plot_rebuild_image[0]\n",
        "\n",
        "# # Plot the tree height data\n",
        "# plt.imshow(tree_height_2d, cmap='viridis')\n",
        "\n",
        "# # Add colorbar for reference\n",
        "# plt.colorbar() # 添加颜色条\n",
        "\n",
        "# # Display the plot\n",
        "# plt.show()"
      ],
      "metadata": {
        "id": "iyABn8QEOqBL"
      },
      "execution_count": null,
      "outputs": []
    },
    {
      "cell_type": "markdown",
      "source": [
        "### 输出预测结果的分位数和极值"
      ],
      "metadata": {
        "id": "UwNO5iPMOqu-"
      }
    },
    {
      "cell_type": "code",
      "source": [
        "# print(np.percentile(plot_rebuild_image[:], [1, 25, 50, 75, 99])) #calculate quantiles 0.01, 0.25, 0.5, 0.75, 0.99\n",
        "\n",
        "# print(np.sort(plot_rebuild_image.flatten())[:10]) #print the 10 lowest predictions\n",
        "# print(np.sort(plot_rebuild_image.flatten())[-10:][::-1]) #print the 10 highest predictions"
      ],
      "metadata": {
        "id": "kllUjn7UOyhi"
      },
      "execution_count": null,
      "outputs": []
    },
    {
      "cell_type": "code",
      "source": [
        "\n",
        "# 保存带有输出的 notebook 文件到 Google Drive\n",
        "!jupyter nbconvert --to pdf \"/content/drive/My Drive/Colab Notebooks/NNandCNN_FeatureNormalization.ipynb\"\n"
      ],
      "metadata": {
        "id": "LDhRE8D43uM7"
      },
      "execution_count": null,
      "outputs": []
    }
  ]
}